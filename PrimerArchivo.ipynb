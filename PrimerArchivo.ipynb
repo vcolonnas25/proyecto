{
 "cells": [
  {
   "cell_type": "code",
   "execution_count": 1,
   "metadata": {
    "ExecuteTime": {
     "end_time": "2020-10-27T01:15:31.547158Z",
     "start_time": "2020-10-27T01:15:31.541207Z"
    }
   },
   "outputs": [
    {
     "name": "stdout",
     "output_type": "stream",
     "text": [
      "Hola\n"
     ]
    }
   ],
   "source": [
    "print(\"Hola\")"
   ]
  },
  {
   "cell_type": "code",
   "execution_count": 2,
   "metadata": {
    "ExecuteTime": {
     "end_time": "2020-10-27T01:17:00.075300Z",
     "start_time": "2020-10-27T01:17:00.070341Z"
    }
   },
   "outputs": [
    {
     "name": "stdout",
     "output_type": "stream",
     "text": [
      "Hola Alejo, ¿te gustaría aprender algo de Python hoy?\n"
     ]
    }
   ],
   "source": [
    "a=\"Alejo\"\n",
    "print(\"Hola \" + a +\", ¿te gustaría aprender algo de Python hoy?\")"
   ]
  },
  {
   "cell_type": "code",
   "execution_count": 5,
   "metadata": {
    "ExecuteTime": {
     "end_time": "2020-10-27T01:18:30.688789Z",
     "start_time": "2020-10-27T01:18:30.682341Z"
    }
   },
   "outputs": [
    {
     "name": "stdout",
     "output_type": "stream",
     "text": [
      "ALEJO\n",
      "alejo\n",
      "Alejo\n"
     ]
    }
   ],
   "source": [
    "print(a.upper())\n",
    "print(a.lower())\n",
    "print(a.title())"
   ]
  },
  {
   "cell_type": "code",
   "execution_count": 4,
   "metadata": {
    "ExecuteTime": {
     "end_time": "2020-10-27T01:17:59.278960Z",
     "start_time": "2020-10-27T01:17:59.274497Z"
    }
   },
   "outputs": [
    {
     "name": "stdout",
     "output_type": "stream",
     "text": [
      "alejo\n"
     ]
    }
   ],
   "source": [
    "print(a.lower())"
   ]
  },
  {
   "cell_type": "code",
   "execution_count": 7,
   "metadata": {
    "ExecuteTime": {
     "end_time": "2020-10-27T01:22:43.800450Z",
     "start_time": "2020-10-27T01:22:43.794500Z"
    }
   },
   "outputs": [
    {
     "name": "stdout",
     "output_type": "stream",
     "text": [
      "Walt Disney dijo una vez: Si puedes soñarlo, puedes lograrlo\n"
     ]
    }
   ],
   "source": [
    "persona_famosa=\"Walt Disney\"\n",
    "mensaje= \"Si puedes soñarlo, puedes lograrlo.\"\n",
    "print(persona_famosa + \" dijo una vez: \" + mensaje)"
   ]
  },
  {
   "cell_type": "code",
   "execution_count": 18,
   "metadata": {
    "ExecuteTime": {
     "end_time": "2020-10-27T01:30:10.141303Z",
     "start_time": "2020-10-27T01:30:10.134357Z"
    }
   },
   "outputs": [
    {
     "name": "stdout",
     "output_type": "stream",
     "text": [
      "Nadia\n",
      "Cami\n",
      "Fausto\n"
     ]
    }
   ],
   "source": [
    "hermano=\"    Cami\"\n",
    "mama=\"Nadia   \"\n",
    "papa=\"   Fausto   \"\n",
    "print(mama.rstrip())\n",
    "print(hermano.lstrip())\n",
    "print(papa.strip())"
   ]
  },
  {
   "cell_type": "code",
   "execution_count": 27,
   "metadata": {
    "ExecuteTime": {
     "end_time": "2020-10-27T01:48:08.558839Z",
     "start_time": "2020-10-27T01:48:05.122456Z"
    }
   },
   "outputs": [
    {
     "name": "stdout",
     "output_type": "stream",
     "text": [
      "Introduzca el primer numero: 5\n",
      "Introduzca el segundo numero: 6\n",
      "Introduzca el tercer numero: 8\n",
      "El promedio es: 6.333333333333333\n"
     ]
    }
   ],
   "source": [
    "var1=float(input(\"Introduzca el primer numero: \"))\n",
    "var2=float(input(\"Introduzca el segundo numero: \"))\n",
    "var3=float(input(\"Introduzca el tercer numero: \"))\n",
    "suma=var1+var2+var3\n",
    "promedio=suma/3\n",
    "total=str(promedio)\n",
    "print(\"El promedio es: \" + total) "
   ]
  },
  {
   "cell_type": "markdown",
   "metadata": {},
   "source": [
    "Mini-desafio\n",
    "Realizar un programa al cual se ingresa el día del año mediante un número de 0 a 364, y que muestra en pantalla a qué día de la semana corresponde mediante un número de 0 (Lunes) a 6 (Domingo).\n",
    "\n",
    "Suponemos que el Lunes (día 0 de la semana) es el día 0 del año"
   ]
  },
  {
   "cell_type": "code",
   "execution_count": 28,
   "metadata": {
    "ExecuteTime": {
     "end_time": "2020-10-27T02:12:36.215890Z",
     "start_time": "2020-10-27T02:12:36.184287Z"
    }
   },
   "outputs": [
    {
     "ename": "SyntaxError",
     "evalue": "can't use starred expression here (<ipython-input-28-91361e1d9606>, line 1)",
     "output_type": "error",
     "traceback": [
      "\u001b[1;36m  File \u001b[1;32m\"<ipython-input-28-91361e1d9606>\"\u001b[1;36m, line \u001b[1;32m1\u001b[0m\n\u001b[1;33m    x=*7\u001b[0m\n\u001b[1;37m      ^\u001b[0m\n\u001b[1;31mSyntaxError\u001b[0m\u001b[1;31m:\u001b[0m can't use starred expression here\n"
     ]
    }
   ],
   "source": [
    "x=*7\n",
    "print(x)"
   ]
  },
  {
   "cell_type": "code",
   "execution_count": 64,
   "metadata": {
    "ExecuteTime": {
     "end_time": "2020-10-27T02:49:17.897229Z",
     "start_time": "2020-10-27T02:49:10.818861Z"
    }
   },
   "outputs": [
    {
     "name": "stdout",
     "output_type": "stream",
     "text": [
      "Introduzca un numero: 110\n",
      "Sabado\n"
     ]
    }
   ],
   "source": [
    "y=int(input(\"Introduzca un numero: \"))\n",
    "x=y%7\n",
    "\n",
    "if x==0:\n",
    "    print(\"Lunes\")\n",
    "if x==1:\n",
    "    print(\"Martes\")\n",
    "if x==2:\n",
    "    print(\"Miercoles\")\n",
    "if x==3:\n",
    "    print(\"Jueves\")\n",
    "if x==4:\n",
    "    print(\"Viernes\")\n",
    "if x==5:\n",
    "    print(\"Sabado\")\n",
    "if x==6:\n",
    "    print(\"Domingo\")"
   ]
  },
  {
   "cell_type": "code",
   "execution_count": 55,
   "metadata": {
    "ExecuteTime": {
     "end_time": "2020-10-27T02:47:13.065681Z",
     "start_time": "2020-10-27T02:47:13.060225Z"
    }
   },
   "outputs": [
    {
     "name": "stdout",
     "output_type": "stream",
     "text": [
      "2\n"
     ]
    }
   ],
   "source": [
    "y=30%7\n",
    "print(y)"
   ]
  },
  {
   "cell_type": "code",
   "execution_count": null,
   "metadata": {},
   "outputs": [],
   "source": []
  }
 ],
 "metadata": {
  "kernelspec": {
   "display_name": "Python 3",
   "language": "python",
   "name": "python3"
  },
  "language_info": {
   "codemirror_mode": {
    "name": "ipython",
    "version": 3
   },
   "file_extension": ".py",
   "mimetype": "text/x-python",
   "name": "python",
   "nbconvert_exporter": "python",
   "pygments_lexer": "ipython3",
   "version": "3.8.3"
  },
  "toc": {
   "base_numbering": 1,
   "nav_menu": {},
   "number_sections": true,
   "sideBar": true,
   "skip_h1_title": false,
   "title_cell": "Table of Contents",
   "title_sidebar": "Contents",
   "toc_cell": false,
   "toc_position": {},
   "toc_section_display": true,
   "toc_window_display": false
  },
  "varInspector": {
   "cols": {
    "lenName": 16,
    "lenType": 16,
    "lenVar": 40
   },
   "kernels_config": {
    "python": {
     "delete_cmd_postfix": "",
     "delete_cmd_prefix": "del ",
     "library": "var_list.py",
     "varRefreshCmd": "print(var_dic_list())"
    },
    "r": {
     "delete_cmd_postfix": ") ",
     "delete_cmd_prefix": "rm(",
     "library": "var_list.r",
     "varRefreshCmd": "cat(var_dic_list()) "
    }
   },
   "types_to_exclude": [
    "module",
    "function",
    "builtin_function_or_method",
    "instance",
    "_Feature"
   ],
   "window_display": true
  }
 },
 "nbformat": 4,
 "nbformat_minor": 4
}
