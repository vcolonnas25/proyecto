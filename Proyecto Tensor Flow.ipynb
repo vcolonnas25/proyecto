{
 "cells": [
  {
   "cell_type": "markdown",
   "metadata": {},
   "source": [
    "# Paralelizacion de entrenamiento de redes neuronales con TensorFlow\n",
    "\n",
    "En esta seccion dejaremos atras los rudimentos de las matematicas y nos centraremos en utilizar TensorFlow, la cual es una de las librerias mas populares de arpendizaje profundo y que realiza una implementacion mas eficaz de las redes neuronales que cualquier otra implementacion de Numpy.\n",
    "\n",
    "TensorFlow es una interfaz de programacion multiplataforma y escalable para implementar y ejecutar algortimos de aprendizaje automatico de una manera mas eficaz ya que permite usar tanto la CPU como la GPU, la cual suele tener muchos mas procesadores que la CPU, los cuales, combinando sus frecuencias, presentan un rendimiento mas potente. La API mas desarrollada de esta herramienta se presenta para Python, por lo cual muchos desarrolladores se ven atraidos a este lenguaje.\n",
    "\n",
    "## Primeros pasos con TensorFlow\n",
    "\n",
    "https://jakevdp.github.io/PythonDataScienceHandbook/02.01-understanding-data-types.html\n"
   ]
  },
  {
   "cell_type": "code",
   "execution_count": 1,
   "metadata": {
    "ExecuteTime": {
     "end_time": "2021-03-16T00:26:01.224211Z",
     "start_time": "2021-03-16T00:25:55.961246Z"
    }
   },
   "outputs": [
    {
     "name": "stdout",
     "output_type": "stream",
     "text": [
      "tf.Tensor([1 2 3], shape=(3,), dtype=int32)\n",
      "tf.Tensor([4 5 6], shape=(3,), dtype=int32)\n"
     ]
    }
   ],
   "source": [
    "# Creando tensores\n",
    "# =============================================\n",
    "import tensorflow as tf\n",
    "import numpy as np\n",
    "np.set_printoptions(precision=3)\n",
    "\n",
    "a = np.array([1, 2, 3], dtype=np.int32)\n",
    "b = [4, 5, 6]\n",
    "\n",
    "t_a = tf.convert_to_tensor(a)\n",
    "t_b = tf.convert_to_tensor(b)\n",
    "\n",
    "print(t_a)\n",
    "print(t_b)"
   ]
  },
  {
   "cell_type": "code",
   "execution_count": 2,
   "metadata": {
    "ExecuteTime": {
     "end_time": "2021-03-16T00:26:07.308700Z",
     "start_time": "2021-03-16T00:26:07.267041Z"
    }
   },
   "outputs": [
    {
     "name": "stdout",
     "output_type": "stream",
     "text": [
      "tf.Tensor(\n",
      "[[1. 1. 1.]\n",
      " [1. 1. 1.]], shape=(2, 3), dtype=float32)\n"
     ]
    },
    {
     "data": {
      "text/plain": [
       "TensorShape([2, 3])"
      ]
     },
     "execution_count": 2,
     "metadata": {},
     "output_type": "execute_result"
    }
   ],
   "source": [
    "# Obteniendo las dimensiones de un tensor\n",
    "# ===============================================\n",
    "t_ones = tf.ones((2, 3))\n",
    "print(t_ones)\n",
    "t_ones.shape"
   ]
  },
  {
   "cell_type": "code",
   "execution_count": 3,
   "metadata": {
    "ExecuteTime": {
     "end_time": "2021-03-16T00:26:10.098621Z",
     "start_time": "2021-03-16T00:26:10.092666Z"
    }
   },
   "outputs": [
    {
     "data": {
      "text/plain": [
       "array([[1., 1., 1.],\n",
       "       [1., 1., 1.]], dtype=float32)"
      ]
     },
     "execution_count": 3,
     "metadata": {},
     "output_type": "execute_result"
    }
   ],
   "source": [
    "# Obteniendo los valores del tensor como array\n",
    "# ===============================================\n",
    "t_ones.numpy()"
   ]
  },
  {
   "cell_type": "code",
   "execution_count": 4,
   "metadata": {
    "ExecuteTime": {
     "end_time": "2021-03-16T00:26:16.054549Z",
     "start_time": "2021-03-16T00:26:16.045622Z"
    }
   },
   "outputs": [
    {
     "name": "stdout",
     "output_type": "stream",
     "text": [
      "tf.Tensor([1.2   5.    3.142], shape=(3,), dtype=float32)\n"
     ]
    }
   ],
   "source": [
    "# Creando un tensor de valores constantes\n",
    "# ================================================\n",
    "const_tensor = tf.constant([1.2, 5, np.pi], dtype=tf.float32)\n",
    "print(const_tensor)"
   ]
  },
  {
   "cell_type": "code",
   "execution_count": 5,
   "metadata": {
    "ExecuteTime": {
     "end_time": "2021-03-16T00:26:16.920068Z",
     "start_time": "2021-03-16T00:26:16.911634Z"
    }
   },
   "outputs": [
    {
     "data": {
      "text/plain": [
       "array([[2, 3, 4, 5],\n",
       "       [6, 7, 8, 8]])"
      ]
     },
     "execution_count": 5,
     "metadata": {},
     "output_type": "execute_result"
    }
   ],
   "source": [
    "matriz = np.array([[2, 3, 4, 5], [6, 7, 8, 8]], dtype = np.int32)\n",
    "matriz"
   ]
  },
  {
   "cell_type": "code",
   "execution_count": 6,
   "metadata": {
    "ExecuteTime": {
     "end_time": "2021-03-16T00:26:17.764622Z",
     "start_time": "2021-03-16T00:26:17.757678Z"
    }
   },
   "outputs": [
    {
     "name": "stdout",
     "output_type": "stream",
     "text": [
      "tf.Tensor(\n",
      "[[2 3 4 5]\n",
      " [6 7 8 8]], shape=(2, 4), dtype=int32)\n",
      "\n",
      "[[2 3 4 5]\n",
      " [6 7 8 8]]\n",
      "\n",
      "(2, 4)\n"
     ]
    }
   ],
   "source": [
    "matriz_tf = tf.convert_to_tensor(matriz)\n",
    "print(matriz_tf, end = '\\n'*2)\n",
    "print(matriz_tf.numpy(), end = '\\n'*2)\n",
    "print(matriz_tf.shape)"
   ]
  },
  {
   "cell_type": "markdown",
   "metadata": {},
   "source": [
    "## Manipulando los tipos de datos y forma de un tensor"
   ]
  },
  {
   "cell_type": "code",
   "execution_count": 7,
   "metadata": {
    "ExecuteTime": {
     "end_time": "2021-03-16T00:26:21.682168Z",
     "start_time": "2021-03-16T00:26:21.669770Z"
    }
   },
   "outputs": [
    {
     "name": "stdout",
     "output_type": "stream",
     "text": [
      "<dtype: 'int32'>\n",
      "<dtype: 'int64'>\n"
     ]
    }
   ],
   "source": [
    "# Cambiando el tipo de datos del tensor\n",
    "# ==============================================\n",
    "print(matriz_tf.dtype)\n",
    "\n",
    "matriz_tf_n = tf.cast(matriz_tf, tf.int64)\n",
    "\n",
    "print(matriz_tf_n.dtype)"
   ]
  },
  {
   "cell_type": "code",
   "execution_count": 8,
   "metadata": {
    "ExecuteTime": {
     "end_time": "2021-03-15T23:45:57.113934Z",
     "start_time": "2021-03-15T23:45:57.074047Z"
    }
   },
   "outputs": [
    {
     "name": "stdout",
     "output_type": "stream",
     "text": [
      "tf.Tensor(\n",
      "[[0.558 0.107 0.675 0.764 0.455]\n",
      " [0.933 0.114 0.308 0.046 0.523]\n",
      " [0.577 0.128 0.518 0.53  0.791]], shape=(3, 5), dtype=float32)\n",
      "\n",
      "tf.Tensor(\n",
      "[[0.558 0.933 0.577]\n",
      " [0.107 0.114 0.128]\n",
      " [0.675 0.308 0.518]\n",
      " [0.764 0.046 0.53 ]\n",
      " [0.455 0.523 0.791]], shape=(5, 3), dtype=float32)\n",
      "\n"
     ]
    }
   ],
   "source": [
    "# Transponiendo un tensor\n",
    "# =================================================\n",
    "t = tf.random.uniform(shape=(3, 5))\n",
    "print(t, end = '\\n'*2)\n",
    "\n",
    "t_tr = tf.transpose(t)\n",
    "print(t_tr, end = '\\n'*2)"
   ]
  },
  {
   "cell_type": "code",
   "execution_count": 8,
   "metadata": {
    "ExecuteTime": {
     "end_time": "2021-03-16T00:26:24.308569Z",
     "start_time": "2021-03-16T00:26:24.291209Z"
    }
   },
   "outputs": [
    {
     "name": "stdout",
     "output_type": "stream",
     "text": [
      "tf.Tensor(\n",
      "[0. 0. 0. 0. 0. 0. 0. 0. 0. 0. 0. 0. 0. 0. 0. 0. 0. 0. 0. 0. 0. 0. 0. 0.\n",
      " 0. 0. 0. 0. 0. 0.], shape=(30,), dtype=float32)\n",
      "\n",
      "(30,)\n",
      "\n",
      "\n",
      "tf.Tensor(\n",
      "[[0. 0. 0. 0. 0. 0.]\n",
      " [0. 0. 0. 0. 0. 0.]\n",
      " [0. 0. 0. 0. 0. 0.]\n",
      " [0. 0. 0. 0. 0. 0.]\n",
      " [0. 0. 0. 0. 0. 0.]], shape=(5, 6), dtype=float32)\n",
      "\n",
      "(5, 6)\n"
     ]
    }
   ],
   "source": [
    "# Redimensionando un vector\n",
    "# =====================================\n",
    "t = tf.zeros((30,))\n",
    "print(t, end = '\\n'*2)\n",
    "print(t.shape, end = '\\n'*3)\n",
    "\n",
    "t_reshape = tf.reshape(t, shape=(5, 6))\n",
    "print(t_reshape, end = '\\n'*2)\n",
    "print(t_reshape.shape)"
   ]
  },
  {
   "cell_type": "code",
   "execution_count": 9,
   "metadata": {
    "ExecuteTime": {
     "end_time": "2021-03-16T00:26:24.893737Z",
     "start_time": "2021-03-16T00:26:24.872903Z"
    }
   },
   "outputs": [
    {
     "name": "stdout",
     "output_type": "stream",
     "text": [
      "tf.Tensor(\n",
      "[[[[[0.]\n",
      "    [0.]\n",
      "    [0.]\n",
      "    [0.]]]\n",
      "\n",
      "\n",
      "  [[[0.]\n",
      "    [0.]\n",
      "    [0.]\n",
      "    [0.]]]]], shape=(1, 2, 1, 4, 1), dtype=float32)\n",
      "\n",
      "(1, 2, 1, 4, 1)\n",
      "\n",
      "\n",
      "tf.Tensor(\n",
      "[[[0. 0. 0. 0.]\n",
      "  [0. 0. 0. 0.]]], shape=(1, 2, 4), dtype=float32)\n",
      "\n",
      "(1, 2, 4)\n",
      "\n",
      "\n",
      "(1, 2, 1, 4, 1)  -->  (1, 2, 4)\n"
     ]
    }
   ],
   "source": [
    "# Removiendo las dimensiones innecesarias\n",
    "# =====================================================\n",
    "t = tf.zeros((1, 2, 1, 4, 1))\n",
    "print(t, end = '\\n'*2)\n",
    "print(t.shape, end = '\\n'*3)\n",
    "\n",
    "t_sqz = tf.squeeze(t, axis=(2, 4))\n",
    "print(t_sqz, end = '\\n'*2)\n",
    "print(t_sqz.shape, end = '\\n'*3)\n",
    "print(t.shape, ' --> ', t_sqz.shape)"
   ]
  },
  {
   "cell_type": "markdown",
   "metadata": {},
   "source": [
    "## Operaciones matematicas sobre tensores"
   ]
  },
  {
   "cell_type": "code",
   "execution_count": 10,
   "metadata": {
    "ExecuteTime": {
     "end_time": "2021-03-16T00:26:26.094966Z",
     "start_time": "2021-03-16T00:26:26.049830Z"
    }
   },
   "outputs": [
    {
     "name": "stdout",
     "output_type": "stream",
     "text": [
      "tf.Tensor(\n",
      "[[-0.67   0.803]\n",
      " [ 0.262 -0.131]\n",
      " [-0.416  0.285]\n",
      " [ 0.952 -0.13 ]\n",
      " [ 0.32   0.21 ]], shape=(5, 2), dtype=float32) \n",
      "\n",
      " tf.Tensor(\n",
      "[[ 0.403 -1.088]\n",
      " [-0.063  1.337]\n",
      " [ 0.712 -0.489]\n",
      " [-0.764 -1.037]\n",
      " [-1.252  0.021]], shape=(5, 2), dtype=float32)\n"
     ]
    }
   ],
   "source": [
    "# Inicializando dos tensores con numeros aleatorios\n",
    "# =============================================================\n",
    "tf.random.set_seed(1)\n",
    "t1 = tf.random.uniform(shape=(5, 2), minval=-1.0, maxval=1.0)\n",
    "t2 = tf.random.normal(shape=(5, 2), mean=0.0, stddev=1.0)\n",
    "\n",
    "print(t1, '\\n'*2, t2)"
   ]
  },
  {
   "cell_type": "code",
   "execution_count": 11,
   "metadata": {
    "ExecuteTime": {
     "end_time": "2021-03-16T00:26:26.585739Z",
     "start_time": "2021-03-16T00:26:26.576810Z"
    }
   },
   "outputs": [
    {
     "name": "stdout",
     "output_type": "stream",
     "text": [
      "[[-0.27  -0.874]\n",
      " [-0.017 -0.175]\n",
      " [-0.296 -0.139]\n",
      " [-0.727  0.135]\n",
      " [-0.401  0.004]]\n"
     ]
    }
   ],
   "source": [
    "# Producto tipo element-wise: elemento a elemento\n",
    "# =================================================\n",
    "t3 = tf.multiply(t1, t2).numpy()\n",
    "print(t3)"
   ]
  },
  {
   "cell_type": "code",
   "execution_count": 12,
   "metadata": {
    "ExecuteTime": {
     "end_time": "2021-03-16T00:26:27.394975Z",
     "start_time": "2021-03-16T00:26:27.370671Z"
    },
    "run_control": {
     "marked": false
    }
   },
   "outputs": [
    {
     "name": "stdout",
     "output_type": "stream",
     "text": [
      "tf.Tensor(0.14849123, shape=(), dtype=float32)\n",
      "\n",
      "\n",
      "tf.Tensor([0.09  0.207], shape=(2,), dtype=float32)\n",
      "\n",
      "\n",
      "tf.Tensor([ 0.067  0.066 -0.066  0.411  0.265], shape=(5,), dtype=float32)\n",
      "\n",
      "\n"
     ]
    }
   ],
   "source": [
    "# Promedio segun el eje\n",
    "# ================================================\n",
    "t4 = tf.math.reduce_mean(t1, axis=None)\n",
    "print(t4, end = '\\n'*3)\n",
    "\n",
    "t4 = tf.math.reduce_mean(t1, axis=0)\n",
    "print(t4, end = '\\n'*3)\n",
    "\n",
    "t4 = tf.math.reduce_mean(t1, axis=1)\n",
    "print(t4, end = '\\n'*3)"
   ]
  },
  {
   "cell_type": "code",
   "execution_count": 13,
   "metadata": {
    "ExecuteTime": {
     "end_time": "2021-03-16T00:26:28.042751Z",
     "start_time": "2021-03-16T00:26:28.027874Z"
    }
   },
   "outputs": [
    {
     "name": "stdout",
     "output_type": "stream",
     "text": [
      "Suma de todos los elementos: tf.Tensor(1.4849124, shape=(), dtype=float32)\n",
      "\n",
      "\n",
      "Suma de los elementos por columnas: tf.Tensor([0.448 1.037], shape=(2,), dtype=float32)\n",
      "\n",
      "\n",
      "Suma de los elementos por filas: tf.Tensor([ 0.133  0.131 -0.131  0.822  0.53 ], shape=(5,), dtype=float32)\n",
      "\n",
      "\n"
     ]
    }
   ],
   "source": [
    "# suma segun el eje\n",
    "# =================================================\n",
    "t4 = tf.math.reduce_sum(t1, axis=None)\n",
    "print('Suma de todos los elementos:', t4, end = '\\n'*3)\n",
    "\n",
    "t4 = tf.math.reduce_sum(t1, axis=0)\n",
    "print('Suma de los elementos por columnas:', t4, end = '\\n'*3)\n",
    "\n",
    "t4 = tf.math.reduce_sum(t1, axis=1)\n",
    "print('Suma de los elementos por filas:', t4, end = '\\n'*3)"
   ]
  },
  {
   "cell_type": "code",
   "execution_count": 14,
   "metadata": {
    "ExecuteTime": {
     "end_time": "2021-03-16T00:26:28.969502Z",
     "start_time": "2021-03-16T00:26:28.949165Z"
    }
   },
   "outputs": [
    {
     "name": "stdout",
     "output_type": "stream",
     "text": [
      "Suma de todos los elementos: tf.Tensor(0.4776839, shape=(), dtype=float32)\n",
      "\n",
      "\n",
      "Suma de los elementos por columnas: tf.Tensor([0.576 0.343], shape=(2,), dtype=float32)\n",
      "\n",
      "\n",
      "Suma de los elementos por filas: tf.Tensor([0.736 0.196 0.351 0.541 0.055], shape=(5,), dtype=float32)\n",
      "\n",
      "\n"
     ]
    }
   ],
   "source": [
    "# Desviacion estandar segun el eje\n",
    "# =================================================\n",
    "t4 = tf.math.reduce_std(t1, axis=None)\n",
    "print('Suma de todos los elementos:', t4, end = '\\n'*3)\n",
    "\n",
    "t4 = tf.math.reduce_std(t1, axis=0)\n",
    "print('Suma de los elementos por columnas:', t4, end = '\\n'*3)\n",
    "\n",
    "t4 = tf.math.reduce_std(t1, axis=1)\n",
    "print('Suma de los elementos por filas:', t4, end = '\\n'*3)"
   ]
  },
  {
   "cell_type": "code",
   "execution_count": 15,
   "metadata": {
    "ExecuteTime": {
     "end_time": "2021-03-16T00:26:29.698435Z",
     "start_time": "2021-03-16T00:26:29.641363Z"
    }
   },
   "outputs": [
    {
     "name": "stdout",
     "output_type": "stream",
     "text": [
      "[[-1.144  1.115 -0.87  -0.321  0.856]\n",
      " [ 0.248 -0.191  0.25  -0.064 -0.331]\n",
      " [-0.478  0.407 -0.436  0.022  0.527]\n",
      " [ 0.525 -0.234  0.741 -0.593 -1.194]\n",
      " [-0.099  0.26   0.125 -0.462 -0.396]]\n",
      "\n"
     ]
    }
   ],
   "source": [
    "# Producto entre matrices\n",
    "# ===========================================\n",
    "t5 = tf.linalg.matmul(t1, t2, transpose_b=True)\n",
    "print(t5.numpy(), end = '\\n'*2)"
   ]
  },
  {
   "cell_type": "code",
   "execution_count": 16,
   "metadata": {
    "ExecuteTime": {
     "end_time": "2021-03-16T00:26:30.349080Z",
     "start_time": "2021-03-16T00:26:30.340650Z"
    }
   },
   "outputs": [
    {
     "name": "stdout",
     "output_type": "stream",
     "text": [
      "[[-1.711  0.302]\n",
      " [ 0.371 -1.049]]\n"
     ]
    }
   ],
   "source": [
    "# Producto entre matrices\n",
    "# ===========================================\n",
    "t6 = tf.linalg.matmul(t1, t2, transpose_a=True)\n",
    "print(t6.numpy())"
   ]
  },
  {
   "cell_type": "code",
   "execution_count": 17,
   "metadata": {
    "ExecuteTime": {
     "end_time": "2021-03-16T00:26:31.324995Z",
     "start_time": "2021-03-16T00:26:31.310613Z"
    }
   },
   "outputs": [
    {
     "name": "stdout",
     "output_type": "stream",
     "text": [
      "1.5818709\n",
      "\n",
      "[1.303 0.897]\n",
      "\n",
      "[1.046 0.293 0.504 0.96  0.383]\n",
      "\n"
     ]
    }
   ],
   "source": [
    "# Calculando la norma de un vector\n",
    "# ==========================================\n",
    "norm_t1 = tf.norm(t1, ord=2, axis=None).numpy()\n",
    "print(norm_t1, end='\\n'*2)\n",
    "\n",
    "norm_t1 = tf.norm(t1, ord=2, axis=0).numpy()\n",
    "print(norm_t1, end='\\n'*2)\n",
    "\n",
    "norm_t1 = tf.norm(t1, ord=2, axis=1).numpy()\n",
    "print(norm_t1, end='\\n'*2)"
   ]
  },
  {
   "cell_type": "markdown",
   "metadata": {},
   "source": [
    "## Partir, apilar y concatenar tensores\n",
    "\n"
   ]
  },
  {
   "cell_type": "code",
   "execution_count": 18,
   "metadata": {
    "ExecuteTime": {
     "end_time": "2021-03-16T00:26:32.612824Z",
     "start_time": "2021-03-16T00:26:32.604888Z"
    }
   },
   "outputs": [
    {
     "name": "stdout",
     "output_type": "stream",
     "text": [
      "[0.165 0.901 0.631 0.435 0.292 0.643]\n"
     ]
    }
   ],
   "source": [
    "# Datos a trabajar\n",
    "# =======================================\n",
    "tf.random.set_seed(1)\n",
    "t = tf.random.uniform((6,))\n",
    "print(t.numpy())"
   ]
  },
  {
   "cell_type": "code",
   "execution_count": 19,
   "metadata": {
    "ExecuteTime": {
     "end_time": "2021-03-16T00:26:33.072798Z",
     "start_time": "2021-03-16T00:26:33.056429Z"
    }
   },
   "outputs": [
    {
     "data": {
      "text/plain": [
       "[array([0.165, 0.901], dtype=float32),\n",
       " array([0.631, 0.435], dtype=float32),\n",
       " array([0.292, 0.643], dtype=float32)]"
      ]
     },
     "execution_count": 19,
     "metadata": {},
     "output_type": "execute_result"
    }
   ],
   "source": [
    "# Partiendo el tensor en un numero determinado de piezas\n",
    "# ======================================================\n",
    "t_splits = tf.split(t, num_or_size_splits = 3)\n",
    "[item.numpy() for item in t_splits]"
   ]
  },
  {
   "cell_type": "code",
   "execution_count": 20,
   "metadata": {
    "ExecuteTime": {
     "end_time": "2021-03-16T00:26:33.666993Z",
     "start_time": "2021-03-16T00:26:33.652608Z"
    }
   },
   "outputs": [
    {
     "name": "stdout",
     "output_type": "stream",
     "text": [
      "[0.165 0.901 0.631 0.435 0.292 0.643]\n"
     ]
    },
    {
     "data": {
      "text/plain": [
       "[array([0.165, 0.901, 0.631], dtype=float32),\n",
       " array([0.435, 0.292, 0.643], dtype=float32)]"
      ]
     },
     "execution_count": 20,
     "metadata": {},
     "output_type": "execute_result"
    }
   ],
   "source": [
    "# Partiendo el tensor segun los tamaños definidos\n",
    "# ======================================================\n",
    "tf.random.set_seed(1)\n",
    "t = tf.random.uniform((6,))\n",
    "print(t.numpy())\n",
    "t_splits = tf.split(t, num_or_size_splits=[3, 3])\n",
    "[item.numpy() for item in t_splits]"
   ]
  },
  {
   "cell_type": "code",
   "execution_count": 21,
   "metadata": {
    "ExecuteTime": {
     "end_time": "2021-03-16T00:26:34.260770Z",
     "start_time": "2021-03-16T00:26:34.248371Z"
    }
   },
   "outputs": [
    {
     "name": "stdout",
     "output_type": "stream",
     "text": [
      "[[2 3 4 5]\n",
      " [6 7 8 8]]\n",
      "[2 3 4 5 6 7 8 8]\n"
     ]
    },
    {
     "data": {
      "text/plain": [
       "[array([2, 3, 4, 5]), array([6, 7, 8, 8])]"
      ]
     },
     "execution_count": 21,
     "metadata": {},
     "output_type": "execute_result"
    }
   ],
   "source": [
    "print(matriz_tf.numpy())\n",
    "# m_splits = tf.split(t, num_or_size_splits = 0, axis = 1)\n",
    "matriz_n = tf.reshape(matriz_tf, shape = (8,))\n",
    "print(matriz_n.numpy())\n",
    "m_splits = tf.split(matriz_n, num_or_size_splits = 2)\n",
    "[item.numpy() for item in m_splits]"
   ]
  },
  {
   "cell_type": "code",
   "execution_count": 22,
   "metadata": {
    "ExecuteTime": {
     "end_time": "2021-03-16T00:26:35.073941Z",
     "start_time": "2021-03-16T00:26:35.060054Z"
    }
   },
   "outputs": [
    {
     "name": "stdout",
     "output_type": "stream",
     "text": [
      "tf.Tensor([1. 1. 1.], shape=(3,), dtype=float32)\n",
      "\n",
      "tf.Tensor([0. 0.], shape=(2,), dtype=float32)\n",
      "\n",
      "[1. 1. 1. 0. 0.]\n"
     ]
    }
   ],
   "source": [
    "# Concatenando tensores\n",
    "# =========================================\n",
    "A = tf.ones((3,))\n",
    "print(A, end ='\\n'*2)\n",
    "\n",
    "B = tf.zeros((2,))\n",
    "print(B, end ='\\n'*2)\n",
    "\n",
    "C = tf.concat([A, B], axis=0)\n",
    "print(C.numpy())"
   ]
  },
  {
   "cell_type": "code",
   "execution_count": 23,
   "metadata": {
    "ExecuteTime": {
     "end_time": "2021-03-16T00:26:35.709916Z",
     "start_time": "2021-03-16T00:26:35.698012Z"
    }
   },
   "outputs": [
    {
     "name": "stdout",
     "output_type": "stream",
     "text": [
      "tf.Tensor([1. 1. 1.], shape=(3,), dtype=float32)\n",
      "\n",
      "tf.Tensor([0. 0. 0.], shape=(3,), dtype=float32)\n",
      "\n",
      "[[1. 0.]\n",
      " [1. 0.]\n",
      " [1. 0.]]\n"
     ]
    }
   ],
   "source": [
    "# Apilando tensores\n",
    "# =========================================\n",
    "A = tf.ones((3,))\n",
    "print(A, end ='\\n'*2)\n",
    "B = tf.zeros((3,))\n",
    "print(B, end ='\\n'*2)\n",
    "S = tf.stack([A, B], axis=1)\n",
    "print(S.numpy())"
   ]
  },
  {
   "cell_type": "markdown",
   "metadata": {},
   "source": [
    "Mas funciones y herramientas en:\n",
    "\n",
    "https://www.tensorflow.org/versions/r2.0/api_docs/python/tf."
   ]
  },
  {
   "cell_type": "markdown",
   "metadata": {},
   "source": [
    "<div class=\"burk\">\n",
    "EJERCICIOS</div><i class=\"fa fa-lightbulb-o \"></i>\n",
    "\n",
    "1. Cree dos tensores de dimensiones (4, 6), de numeros aleatorios provenientes de una distribucion normal estandar con promedio 0.0 y dsv 1.0. Imprimalos.\n",
    "2. Multiplique los anteriores tensores de las dos formas vistas, element-wise y producto matricial, realizando las dos transposiciones vistas. \n",
    "3. Calcule los promedios, desviaciones estandar y suma de sus elementos para los dos tensores.\n",
    "4. Redimensione los tensores para que sean ahora de rango 1.\n",
    "5. Calcule el coseno de los elementos de  los tensores (revise la documentacion).\n",
    "6. Cree un tensor de rango 1 con 1001 elementos, empezando con el 0 y hasta el 30.\n",
    "7. Realice un for sobre los elementos del tensor e imprimalos.\n",
    "8. Realice el calculo de los factoriales de los numero del 1 al 30 usando el tensor del punto 6. Imprima el resultado como un DataFrame"
   ]
  },
  {
   "cell_type": "code",
   "execution_count": 25,
   "metadata": {
    "ExecuteTime": {
     "end_time": "2021-03-16T00:42:29.158936Z",
     "start_time": "2021-03-16T00:42:29.148519Z"
    }
   },
   "outputs": [
    {
     "name": "stdout",
     "output_type": "stream",
     "text": [
      "tf.Tensor(\n",
      "[[ 0.403 -1.088 -0.063  1.337  0.712 -0.489]\n",
      " [-0.764 -1.037 -1.252  0.021 -0.551 -1.743]\n",
      " [-0.335 -1.043  1.009  1.236 -0.684  0.674]\n",
      " [-0.421 -1.041 -0.68   1.41  -0.477  2.047]], shape=(4, 6), dtype=float32) \n",
      "\n",
      " tf.Tensor(\n",
      "[[-0.457 -0.407  0.729 -0.893  0.313  0.994]\n",
      " [-1.784 -0.522  0.981 -0.676  1.146  0.206]\n",
      " [-0.197  0.538  0.764 -0.836  0.336  1.56 ]\n",
      " [ 0.723  1.075 -0.266  0.012 -0.188 -0.87 ]], shape=(4, 6), dtype=float32)\n"
     ]
    }
   ],
   "source": [
    "#Cree dos tensores (4,6)\n",
    "t1 = tf.random.normal(shape=(4, 6), mean=0.0, stddev=1.0)\n",
    "t2 = tf.random.normal(shape=(4, 6), mean=0.0, stddev=1.0)\n",
    "print(t1, '\\n'*2, t2)"
   ]
  },
  {
   "cell_type": "code",
   "execution_count": 26,
   "metadata": {
    "ExecuteTime": {
     "end_time": "2021-03-16T00:43:28.491034Z",
     "start_time": "2021-03-16T00:43:28.485579Z"
    }
   },
   "outputs": [
    {
     "name": "stdout",
     "output_type": "stream",
     "text": [
      "[[-0.184  0.443 -0.046 -1.194  0.223 -0.486]\n",
      " [ 1.364  0.541 -1.228 -0.014 -0.632 -0.359]\n",
      " [ 0.066 -0.561  0.771 -1.034 -0.23   1.051]\n",
      " [-0.304 -1.12   0.181  0.016  0.09  -1.782]]\n"
     ]
    }
   ],
   "source": [
    "#multiplique los tensores\n",
    "# Producto tipo element-wise: elemento a elemento\n",
    "# =================================================\n",
    "t3 = tf.multiply(t1, t2).numpy()\n",
    "print(t3)"
   ]
  },
  {
   "cell_type": "code",
   "execution_count": 27,
   "metadata": {
    "ExecuteTime": {
     "end_time": "2021-03-16T00:44:08.607782Z",
     "start_time": "2021-03-16T00:44:08.599351Z"
    }
   },
   "outputs": [
    {
     "name": "stdout",
     "output_type": "stream",
     "text": [
      "[[-1.245 -0.402 -2.355 -0.555]\n",
      " [-2.065 -0.328 -4.287  0.286]\n",
      " [ 0.665  0.652  0.064 -2.075]\n",
      " [ 0.748 -0.45   0.858 -2.918]]\n",
      "\n"
     ]
    }
   ],
   "source": [
    "# Producto entre matrices\n",
    "# ===========================================\n",
    "t5 = tf.linalg.matmul(t1, t2, transpose_b=True)\n",
    "print(t5.numpy(), end = '\\n'*2)"
   ]
  },
  {
   "cell_type": "code",
   "execution_count": 28,
   "metadata": {
    "ExecuteTime": {
     "end_time": "2021-03-16T00:45:22.391857Z",
     "start_time": "2021-03-16T00:45:22.379456Z"
    }
   },
   "outputs": [
    {
     "name": "stdout",
     "output_type": "stream",
     "text": [
      "tf.Tensor(-0.11752671, shape=(), dtype=float32)\n",
      "\n",
      "\n",
      "tf.Tensor([-0.279 -1.052 -0.246  1.001 -0.25   0.122], shape=(6,), dtype=float32)\n",
      "\n",
      "\n",
      "tf.Tensor([ 0.135 -0.888  0.143  0.14 ], shape=(4,), dtype=float32)\n",
      "\n",
      "\n"
     ]
    }
   ],
   "source": [
    "#Calcule los promedios, desviaciones estandar y suma de sus elementos para los dos tensores.\n",
    "# Promedio segun el eje\n",
    "# ================================================\n",
    "t4 = tf.math.reduce_mean(t1, axis=None)\n",
    "print(t4, end = '\\n'*3)\n",
    "\n",
    "t4 = tf.math.reduce_mean(t1, axis=0)\n",
    "print(t4, end = '\\n'*3)\n",
    "\n",
    "t4 = tf.math.reduce_mean(t1, axis=1)\n",
    "print(t4, end = '\\n'*3)"
   ]
  },
  {
   "cell_type": "code",
   "execution_count": 29,
   "metadata": {
    "ExecuteTime": {
     "end_time": "2021-03-16T00:45:50.239187Z",
     "start_time": "2021-03-16T00:45:50.225298Z"
    }
   },
   "outputs": [
    {
     "name": "stdout",
     "output_type": "stream",
     "text": [
      "Suma de todos los elementos: tf.Tensor(-2.820641, shape=(), dtype=float32)\n",
      "\n",
      "\n",
      "Suma de los elementos por columnas: tf.Tensor([-1.117 -4.209 -0.986  4.004 -1.001  0.488], shape=(6,), dtype=float32)\n",
      "\n",
      "\n",
      "Suma de los elementos por filas: tf.Tensor([ 0.811 -5.327  0.857  0.838], shape=(4,), dtype=float32)\n",
      "\n",
      "\n"
     ]
    }
   ],
   "source": [
    "# suma segun el eje\n",
    "# =================================================\n",
    "t4 = tf.math.reduce_sum(t1, axis=None)\n",
    "print('Suma de todos los elementos:', t4, end = '\\n'*3)\n",
    "\n",
    "t4 = tf.math.reduce_sum(t1, axis=0)\n",
    "print('Suma de los elementos por columnas:', t4, end = '\\n'*3)\n",
    "\n",
    "t4 = tf.math.reduce_sum(t1, axis=1)\n",
    "print('Suma de los elementos por filas:', t4, end = '\\n'*3)"
   ]
  },
  {
   "cell_type": "code",
   "execution_count": 30,
   "metadata": {
    "ExecuteTime": {
     "end_time": "2021-03-16T00:46:09.925199Z",
     "start_time": "2021-03-16T00:46:09.908830Z"
    }
   },
   "outputs": [
    {
     "name": "stdout",
     "output_type": "stream",
     "text": [
      "Suma de todos los elementos: tf.Tensor(0.97720635, shape=(), dtype=float32)\n",
      "\n",
      "\n",
      "Suma de los elementos por columnas: tf.Tensor([0.425 0.021 0.838 0.569 0.56  1.402], shape=(6,), dtype=float32)\n",
      "\n",
      "\n",
      "Suma de los elementos por filas: tf.Tensor([0.793 0.554 0.87  1.156], shape=(4,), dtype=float32)\n",
      "\n",
      "\n"
     ]
    }
   ],
   "source": [
    "# Desviacion estandar segun el eje\n",
    "# =================================================\n",
    "t4 = tf.math.reduce_std(t1, axis=None)\n",
    "print('Suma de todos los elementos:', t4, end = '\\n'*3)\n",
    "\n",
    "t4 = tf.math.reduce_std(t1, axis=0)\n",
    "print('Suma de los elementos por columnas:', t4, end = '\\n'*3)\n",
    "\n",
    "t4 = tf.math.reduce_std(t1, axis=1)\n",
    "print('Suma de los elementos por filas:', t4, end = '\\n'*3)"
   ]
  },
  {
   "cell_type": "code",
   "execution_count": 40,
   "metadata": {
    "ExecuteTime": {
     "end_time": "2021-03-16T01:01:16.905248Z",
     "start_time": "2021-03-16T01:01:16.896319Z"
    }
   },
   "outputs": [
    {
     "name": "stdout",
     "output_type": "stream",
     "text": [
      "tf.Tensor(\n",
      "[ 0.403 -1.088 -0.063  1.337  0.712 -0.489 -0.764 -1.037 -1.252  0.021\n",
      " -0.551 -1.743 -0.335 -1.043  1.009  1.236 -0.684  0.674 -0.421 -1.041\n",
      " -0.68   1.41  -0.477  2.047], shape=(24,), dtype=float32)\n",
      "\n",
      "(24,)\n"
     ]
    }
   ],
   "source": [
    "#Redimensione los tensores para que sean ahora de rango 1.\n",
    "t_reshape = tf.reshape(t1, shape=(24,))\n",
    "print(t_reshape, end = '\\n'*2)\n",
    "print(t_reshape.shape)"
   ]
  },
  {
   "cell_type": "code",
   "execution_count": 41,
   "metadata": {
    "ExecuteTime": {
     "end_time": "2021-03-16T01:04:19.892112Z",
     "start_time": "2021-03-16T01:04:19.874258Z"
    }
   },
   "outputs": [
    {
     "name": "stdout",
     "output_type": "stream",
     "text": [
      "tf.Tensor(\n",
      "[[ 0.92   0.464  0.998  0.232  0.757  0.883]\n",
      " [ 0.722  0.509  0.313  1.     0.852 -0.172]\n",
      " [ 0.944  0.504  0.533  0.328  0.775  0.782]\n",
      " [ 0.913  0.505  0.778  0.161  0.888 -0.459]], shape=(4, 6), dtype=float32)\n",
      "tf.Tensor(\n",
      "[[ 0.897  0.918  0.746  0.627  0.952  0.545]\n",
      " [-0.212  0.867  0.556  0.78   0.412  0.979]\n",
      " [ 0.981  0.859  0.722  0.67   0.944  0.011]\n",
      " [ 0.75   0.475  0.965  1.     0.982  0.645]], shape=(4, 6), dtype=float32)\n"
     ]
    }
   ],
   "source": [
    "#Calcule el coseno de los elementos de los tensores (revise la documentacion).\n",
    "tf1cos=tf.math.cos(t1, name=None)\n",
    "tf2cos=tf.math.cos(t2, name=None)\n",
    "print(tf1cos)\n",
    "print(tf2cos)"
   ]
  },
  {
   "cell_type": "code",
   "execution_count": 49,
   "metadata": {
    "ExecuteTime": {
     "end_time": "2021-03-16T01:15:38.573941Z",
     "start_time": "2021-03-16T01:15:38.548601Z"
    }
   },
   "outputs": [
    {
     "data": {
      "text/plain": [
       "<tf.Tensor: shape=(1000,), dtype=float32, numpy=\n",
       "array([ 0.  ,  0.03,  0.06,  0.09,  0.12,  0.15,  0.18,  0.21,  0.24,\n",
       "        0.27,  0.3 ,  0.33,  0.36,  0.39,  0.42,  0.45,  0.48,  0.51,\n",
       "        0.54,  0.57,  0.6 ,  0.63,  0.66,  0.69,  0.72,  0.75,  0.78,\n",
       "        0.81,  0.84,  0.87,  0.9 ,  0.93,  0.96,  0.99,  1.02,  1.05,\n",
       "        1.08,  1.11,  1.14,  1.17,  1.2 ,  1.23,  1.26,  1.29,  1.32,\n",
       "        1.35,  1.38,  1.41,  1.44,  1.47,  1.5 ,  1.53,  1.56,  1.59,\n",
       "        1.62,  1.65,  1.68,  1.71,  1.74,  1.77,  1.8 ,  1.83,  1.86,\n",
       "        1.89,  1.92,  1.95,  1.98,  2.01,  2.04,  2.07,  2.1 ,  2.13,\n",
       "        2.16,  2.19,  2.22,  2.25,  2.28,  2.31,  2.34,  2.37,  2.4 ,\n",
       "        2.43,  2.46,  2.49,  2.52,  2.55,  2.58,  2.61,  2.64,  2.67,\n",
       "        2.7 ,  2.73,  2.76,  2.79,  2.82,  2.85,  2.88,  2.91,  2.94,\n",
       "        2.97,  3.  ,  3.03,  3.06,  3.09,  3.12,  3.15,  3.18,  3.21,\n",
       "        3.24,  3.27,  3.3 ,  3.33,  3.36,  3.39,  3.42,  3.45,  3.48,\n",
       "        3.51,  3.54,  3.57,  3.6 ,  3.63,  3.66,  3.69,  3.72,  3.75,\n",
       "        3.78,  3.81,  3.84,  3.87,  3.9 ,  3.93,  3.96,  3.99,  4.02,\n",
       "        4.05,  4.08,  4.11,  4.14,  4.17,  4.2 ,  4.23,  4.26,  4.29,\n",
       "        4.32,  4.35,  4.38,  4.41,  4.44,  4.47,  4.5 ,  4.53,  4.56,\n",
       "        4.59,  4.62,  4.65,  4.68,  4.71,  4.74,  4.77,  4.8 ,  4.83,\n",
       "        4.86,  4.89,  4.92,  4.95,  4.98,  5.01,  5.04,  5.07,  5.1 ,\n",
       "        5.13,  5.16,  5.19,  5.22,  5.25,  5.28,  5.31,  5.34,  5.37,\n",
       "        5.4 ,  5.43,  5.46,  5.49,  5.52,  5.55,  5.58,  5.61,  5.64,\n",
       "        5.67,  5.7 ,  5.73,  5.76,  5.79,  5.82,  5.85,  5.88,  5.91,\n",
       "        5.94,  5.97,  6.  ,  6.03,  6.06,  6.09,  6.12,  6.15,  6.18,\n",
       "        6.21,  6.24,  6.27,  6.3 ,  6.33,  6.36,  6.39,  6.42,  6.45,\n",
       "        6.48,  6.51,  6.54,  6.57,  6.6 ,  6.63,  6.66,  6.69,  6.72,\n",
       "        6.75,  6.78,  6.81,  6.84,  6.87,  6.9 ,  6.93,  6.96,  6.99,\n",
       "        7.02,  7.05,  7.08,  7.11,  7.14,  7.17,  7.2 ,  7.23,  7.26,\n",
       "        7.29,  7.32,  7.35,  7.38,  7.41,  7.44,  7.47,  7.5 ,  7.53,\n",
       "        7.56,  7.59,  7.62,  7.65,  7.68,  7.71,  7.74,  7.77,  7.8 ,\n",
       "        7.83,  7.86,  7.89,  7.92,  7.95,  7.98,  8.01,  8.04,  8.07,\n",
       "        8.1 ,  8.13,  8.16,  8.19,  8.22,  8.25,  8.28,  8.31,  8.34,\n",
       "        8.37,  8.4 ,  8.43,  8.46,  8.49,  8.52,  8.55,  8.58,  8.61,\n",
       "        8.64,  8.67,  8.7 ,  8.73,  8.76,  8.79,  8.82,  8.85,  8.88,\n",
       "        8.91,  8.94,  8.97,  9.  ,  9.03,  9.06,  9.09,  9.12,  9.15,\n",
       "        9.18,  9.21,  9.24,  9.27,  9.3 ,  9.33,  9.36,  9.39,  9.42,\n",
       "        9.45,  9.48,  9.51,  9.54,  9.57,  9.6 ,  9.63,  9.66,  9.69,\n",
       "        9.72,  9.75,  9.78,  9.81,  9.84,  9.87,  9.9 ,  9.93,  9.96,\n",
       "        9.99, 10.02, 10.05, 10.08, 10.11, 10.14, 10.17, 10.2 , 10.23,\n",
       "       10.26, 10.29, 10.32, 10.35, 10.38, 10.41, 10.44, 10.47, 10.5 ,\n",
       "       10.53, 10.56, 10.59, 10.62, 10.65, 10.68, 10.71, 10.74, 10.77,\n",
       "       10.8 , 10.83, 10.86, 10.89, 10.92, 10.95, 10.98, 11.01, 11.04,\n",
       "       11.07, 11.1 , 11.13, 11.16, 11.19, 11.22, 11.25, 11.28, 11.31,\n",
       "       11.34, 11.37, 11.4 , 11.43, 11.46, 11.49, 11.52, 11.55, 11.58,\n",
       "       11.61, 11.64, 11.67, 11.7 , 11.73, 11.76, 11.79, 11.82, 11.85,\n",
       "       11.88, 11.91, 11.94, 11.97, 12.  , 12.03, 12.06, 12.09, 12.12,\n",
       "       12.15, 12.18, 12.21, 12.24, 12.27, 12.3 , 12.33, 12.36, 12.39,\n",
       "       12.42, 12.45, 12.48, 12.51, 12.54, 12.57, 12.6 , 12.63, 12.66,\n",
       "       12.69, 12.72, 12.75, 12.78, 12.81, 12.84, 12.87, 12.9 , 12.93,\n",
       "       12.96, 12.99, 13.02, 13.05, 13.08, 13.11, 13.14, 13.17, 13.2 ,\n",
       "       13.23, 13.26, 13.29, 13.32, 13.35, 13.38, 13.41, 13.44, 13.47,\n",
       "       13.5 , 13.53, 13.56, 13.59, 13.62, 13.65, 13.68, 13.71, 13.74,\n",
       "       13.77, 13.8 , 13.83, 13.86, 13.89, 13.92, 13.95, 13.98, 14.01,\n",
       "       14.04, 14.07, 14.1 , 14.13, 14.16, 14.19, 14.22, 14.25, 14.28,\n",
       "       14.31, 14.34, 14.37, 14.4 , 14.43, 14.46, 14.49, 14.52, 14.55,\n",
       "       14.58, 14.61, 14.64, 14.67, 14.7 , 14.73, 14.76, 14.79, 14.82,\n",
       "       14.85, 14.88, 14.91, 14.94, 14.97, 15.  , 15.03, 15.06, 15.09,\n",
       "       15.12, 15.15, 15.18, 15.21, 15.24, 15.27, 15.3 , 15.33, 15.36,\n",
       "       15.39, 15.42, 15.45, 15.48, 15.51, 15.54, 15.57, 15.6 , 15.63,\n",
       "       15.66, 15.69, 15.72, 15.75, 15.78, 15.81, 15.84, 15.87, 15.9 ,\n",
       "       15.93, 15.96, 15.99, 16.02, 16.05, 16.08, 16.11, 16.14, 16.17,\n",
       "       16.2 , 16.23, 16.26, 16.29, 16.32, 16.35, 16.38, 16.41, 16.44,\n",
       "       16.47, 16.5 , 16.53, 16.56, 16.59, 16.62, 16.65, 16.68, 16.71,\n",
       "       16.74, 16.77, 16.8 , 16.83, 16.86, 16.89, 16.92, 16.95, 16.98,\n",
       "       17.01, 17.04, 17.07, 17.1 , 17.13, 17.16, 17.19, 17.22, 17.25,\n",
       "       17.28, 17.31, 17.34, 17.37, 17.4 , 17.43, 17.46, 17.49, 17.52,\n",
       "       17.55, 17.58, 17.61, 17.64, 17.67, 17.7 , 17.73, 17.76, 17.79,\n",
       "       17.82, 17.85, 17.88, 17.91, 17.94, 17.97, 18.  , 18.03, 18.06,\n",
       "       18.09, 18.12, 18.15, 18.18, 18.21, 18.24, 18.27, 18.3 , 18.33,\n",
       "       18.36, 18.39, 18.42, 18.45, 18.48, 18.51, 18.54, 18.57, 18.6 ,\n",
       "       18.63, 18.66, 18.69, 18.72, 18.75, 18.78, 18.81, 18.84, 18.87,\n",
       "       18.9 , 18.93, 18.96, 18.99, 19.02, 19.05, 19.08, 19.11, 19.14,\n",
       "       19.17, 19.2 , 19.23, 19.26, 19.29, 19.32, 19.35, 19.38, 19.41,\n",
       "       19.44, 19.47, 19.5 , 19.53, 19.56, 19.59, 19.62, 19.65, 19.68,\n",
       "       19.71, 19.74, 19.77, 19.8 , 19.83, 19.86, 19.89, 19.92, 19.95,\n",
       "       19.98, 20.01, 20.04, 20.07, 20.1 , 20.13, 20.16, 20.19, 20.22,\n",
       "       20.25, 20.28, 20.31, 20.34, 20.37, 20.4 , 20.43, 20.46, 20.49,\n",
       "       20.52, 20.55, 20.58, 20.61, 20.64, 20.67, 20.7 , 20.73, 20.76,\n",
       "       20.79, 20.82, 20.85, 20.88, 20.91, 20.94, 20.97, 21.  , 21.03,\n",
       "       21.06, 21.09, 21.12, 21.15, 21.18, 21.21, 21.24, 21.27, 21.3 ,\n",
       "       21.33, 21.36, 21.39, 21.42, 21.45, 21.48, 21.51, 21.54, 21.57,\n",
       "       21.6 , 21.63, 21.66, 21.69, 21.72, 21.75, 21.78, 21.81, 21.84,\n",
       "       21.87, 21.9 , 21.93, 21.96, 21.99, 22.02, 22.05, 22.08, 22.11,\n",
       "       22.14, 22.17, 22.2 , 22.23, 22.26, 22.29, 22.32, 22.35, 22.38,\n",
       "       22.41, 22.44, 22.47, 22.5 , 22.53, 22.56, 22.59, 22.62, 22.65,\n",
       "       22.68, 22.71, 22.74, 22.77, 22.8 , 22.83, 22.86, 22.89, 22.92,\n",
       "       22.95, 22.98, 23.01, 23.04, 23.07, 23.1 , 23.13, 23.16, 23.19,\n",
       "       23.22, 23.25, 23.28, 23.31, 23.34, 23.37, 23.4 , 23.43, 23.46,\n",
       "       23.49, 23.52, 23.55, 23.58, 23.61, 23.64, 23.67, 23.7 , 23.73,\n",
       "       23.76, 23.79, 23.82, 23.85, 23.88, 23.91, 23.94, 23.97, 24.  ,\n",
       "       24.03, 24.06, 24.09, 24.12, 24.15, 24.18, 24.21, 24.24, 24.27,\n",
       "       24.3 , 24.33, 24.36, 24.39, 24.42, 24.45, 24.48, 24.51, 24.54,\n",
       "       24.57, 24.6 , 24.63, 24.66, 24.69, 24.72, 24.75, 24.78, 24.81,\n",
       "       24.84, 24.87, 24.9 , 24.93, 24.96, 24.99, 25.02, 25.05, 25.08,\n",
       "       25.11, 25.14, 25.17, 25.2 , 25.23, 25.26, 25.29, 25.32, 25.35,\n",
       "       25.38, 25.41, 25.44, 25.47, 25.5 , 25.53, 25.56, 25.59, 25.62,\n",
       "       25.65, 25.68, 25.71, 25.74, 25.77, 25.8 , 25.83, 25.86, 25.89,\n",
       "       25.92, 25.95, 25.98, 26.01, 26.04, 26.07, 26.1 , 26.13, 26.16,\n",
       "       26.19, 26.22, 26.25, 26.28, 26.31, 26.34, 26.37, 26.4 , 26.43,\n",
       "       26.46, 26.49, 26.52, 26.55, 26.58, 26.61, 26.64, 26.67, 26.7 ,\n",
       "       26.73, 26.76, 26.79, 26.82, 26.85, 26.88, 26.91, 26.94, 26.97,\n",
       "       27.  , 27.03, 27.06, 27.09, 27.12, 27.15, 27.18, 27.21, 27.24,\n",
       "       27.27, 27.3 , 27.33, 27.36, 27.39, 27.42, 27.45, 27.48, 27.51,\n",
       "       27.54, 27.57, 27.6 , 27.63, 27.66, 27.69, 27.72, 27.75, 27.78,\n",
       "       27.81, 27.84, 27.87, 27.9 , 27.93, 27.96, 27.99, 28.02, 28.05,\n",
       "       28.08, 28.11, 28.14, 28.17, 28.2 , 28.23, 28.26, 28.29, 28.32,\n",
       "       28.35, 28.38, 28.41, 28.44, 28.47, 28.5 , 28.53, 28.56, 28.59,\n",
       "       28.62, 28.65, 28.68, 28.71, 28.74, 28.77, 28.8 , 28.83, 28.86,\n",
       "       28.89, 28.92, 28.95, 28.98, 29.01, 29.04, 29.07, 29.1 , 29.13,\n",
       "       29.16, 29.19, 29.22, 29.25, 29.28, 29.31, 29.34, 29.37, 29.4 ,\n",
       "       29.43, 29.46, 29.49, 29.52, 29.55, 29.58, 29.61, 29.64, 29.67,\n",
       "       29.7 , 29.73, 29.76, 29.79, 29.82, 29.85, 29.88, 29.91, 29.94,\n",
       "       29.97], dtype=float32)>"
      ]
     },
     "execution_count": 49,
     "metadata": {},
     "output_type": "execute_result"
    }
   ],
   "source": [
    "#Cree un tensor de rango 1 con 1001 elementos, empezando con el 0 y hasta el 30.\n",
    "tfrand=tf.range(0, 30, 0.03)\n",
    "tfrand"
   ]
  },
  {
   "cell_type": "code",
   "execution_count": 50,
   "metadata": {
    "ExecuteTime": {
     "end_time": "2021-03-16T01:19:14.093926Z",
     "start_time": "2021-03-16T01:19:13.311238Z"
    }
   },
   "outputs": [
    {
     "name": "stdout",
     "output_type": "stream",
     "text": [
      "tf.Tensor(0.0, shape=(), dtype=float32)\n",
      "tf.Tensor(0.03, shape=(), dtype=float32)\n",
      "tf.Tensor(0.06, shape=(), dtype=float32)\n",
      "tf.Tensor(0.089999996, shape=(), dtype=float32)\n",
      "tf.Tensor(0.12, shape=(), dtype=float32)\n",
      "tf.Tensor(0.14999999, shape=(), dtype=float32)\n",
      "tf.Tensor(0.17999999, shape=(), dtype=float32)\n",
      "tf.Tensor(0.21, shape=(), dtype=float32)\n",
      "tf.Tensor(0.24, shape=(), dtype=float32)\n",
      "tf.Tensor(0.26999998, shape=(), dtype=float32)\n",
      "tf.Tensor(0.29999998, shape=(), dtype=float32)\n",
      "tf.Tensor(0.32999998, shape=(), dtype=float32)\n",
      "tf.Tensor(0.35999998, shape=(), dtype=float32)\n",
      "tf.Tensor(0.39, shape=(), dtype=float32)\n",
      "tf.Tensor(0.42, shape=(), dtype=float32)\n",
      "tf.Tensor(0.45, shape=(), dtype=float32)\n",
      "tf.Tensor(0.48, shape=(), dtype=float32)\n",
      "tf.Tensor(0.51, shape=(), dtype=float32)\n",
      "tf.Tensor(0.53999996, shape=(), dtype=float32)\n",
      "tf.Tensor(0.56999993, shape=(), dtype=float32)\n",
      "tf.Tensor(0.5999999, shape=(), dtype=float32)\n",
      "tf.Tensor(0.6299999, shape=(), dtype=float32)\n",
      "tf.Tensor(0.65999985, shape=(), dtype=float32)\n",
      "tf.Tensor(0.6899998, shape=(), dtype=float32)\n",
      "tf.Tensor(0.7199998, shape=(), dtype=float32)\n",
      "tf.Tensor(0.74999976, shape=(), dtype=float32)\n",
      "tf.Tensor(0.77999973, shape=(), dtype=float32)\n",
      "tf.Tensor(0.8099997, shape=(), dtype=float32)\n",
      "tf.Tensor(0.8399997, shape=(), dtype=float32)\n",
      "tf.Tensor(0.86999965, shape=(), dtype=float32)\n",
      "tf.Tensor(0.8999996, shape=(), dtype=float32)\n",
      "tf.Tensor(0.9299996, shape=(), dtype=float32)\n",
      "tf.Tensor(0.95999956, shape=(), dtype=float32)\n",
      "tf.Tensor(0.98999953, shape=(), dtype=float32)\n",
      "tf.Tensor(1.0199995, shape=(), dtype=float32)\n",
      "tf.Tensor(1.0499995, shape=(), dtype=float32)\n",
      "tf.Tensor(1.0799994, shape=(), dtype=float32)\n",
      "tf.Tensor(1.1099994, shape=(), dtype=float32)\n",
      "tf.Tensor(1.1399994, shape=(), dtype=float32)\n",
      "tf.Tensor(1.1699994, shape=(), dtype=float32)\n",
      "tf.Tensor(1.1999993, shape=(), dtype=float32)\n",
      "tf.Tensor(1.2299993, shape=(), dtype=float32)\n",
      "tf.Tensor(1.2599993, shape=(), dtype=float32)\n",
      "tf.Tensor(1.2899992, shape=(), dtype=float32)\n",
      "tf.Tensor(1.3199992, shape=(), dtype=float32)\n",
      "tf.Tensor(1.3499992, shape=(), dtype=float32)\n",
      "tf.Tensor(1.3799992, shape=(), dtype=float32)\n",
      "tf.Tensor(1.4099991, shape=(), dtype=float32)\n",
      "tf.Tensor(1.4399991, shape=(), dtype=float32)\n",
      "tf.Tensor(1.4699991, shape=(), dtype=float32)\n",
      "tf.Tensor(1.499999, shape=(), dtype=float32)\n",
      "tf.Tensor(1.529999, shape=(), dtype=float32)\n",
      "tf.Tensor(1.559999, shape=(), dtype=float32)\n",
      "tf.Tensor(1.589999, shape=(), dtype=float32)\n",
      "tf.Tensor(1.6199989, shape=(), dtype=float32)\n",
      "tf.Tensor(1.6499989, shape=(), dtype=float32)\n",
      "tf.Tensor(1.6799989, shape=(), dtype=float32)\n",
      "tf.Tensor(1.7099988, shape=(), dtype=float32)\n",
      "tf.Tensor(1.7399988, shape=(), dtype=float32)\n",
      "tf.Tensor(1.7699988, shape=(), dtype=float32)\n",
      "tf.Tensor(1.7999988, shape=(), dtype=float32)\n",
      "tf.Tensor(1.8299987, shape=(), dtype=float32)\n",
      "tf.Tensor(1.8599987, shape=(), dtype=float32)\n",
      "tf.Tensor(1.8899987, shape=(), dtype=float32)\n",
      "tf.Tensor(1.9199986, shape=(), dtype=float32)\n",
      "tf.Tensor(1.9499986, shape=(), dtype=float32)\n",
      "tf.Tensor(1.9799986, shape=(), dtype=float32)\n",
      "tf.Tensor(2.0099986, shape=(), dtype=float32)\n",
      "tf.Tensor(2.0399985, shape=(), dtype=float32)\n",
      "tf.Tensor(2.0699985, shape=(), dtype=float32)\n",
      "tf.Tensor(2.0999985, shape=(), dtype=float32)\n",
      "tf.Tensor(2.1299984, shape=(), dtype=float32)\n",
      "tf.Tensor(2.1599984, shape=(), dtype=float32)\n",
      "tf.Tensor(2.1899984, shape=(), dtype=float32)\n",
      "tf.Tensor(2.2199984, shape=(), dtype=float32)\n",
      "tf.Tensor(2.2499983, shape=(), dtype=float32)\n",
      "tf.Tensor(2.2799983, shape=(), dtype=float32)\n",
      "tf.Tensor(2.3099983, shape=(), dtype=float32)\n",
      "tf.Tensor(2.3399982, shape=(), dtype=float32)\n",
      "tf.Tensor(2.3699982, shape=(), dtype=float32)\n",
      "tf.Tensor(2.3999982, shape=(), dtype=float32)\n",
      "tf.Tensor(2.4299982, shape=(), dtype=float32)\n",
      "tf.Tensor(2.4599981, shape=(), dtype=float32)\n",
      "tf.Tensor(2.489998, shape=(), dtype=float32)\n",
      "tf.Tensor(2.519998, shape=(), dtype=float32)\n",
      "tf.Tensor(2.549998, shape=(), dtype=float32)\n",
      "tf.Tensor(2.579998, shape=(), dtype=float32)\n",
      "tf.Tensor(2.609998, shape=(), dtype=float32)\n",
      "tf.Tensor(2.639998, shape=(), dtype=float32)\n",
      "tf.Tensor(2.669998, shape=(), dtype=float32)\n",
      "tf.Tensor(2.699998, shape=(), dtype=float32)\n",
      "tf.Tensor(2.7299979, shape=(), dtype=float32)\n",
      "tf.Tensor(2.7599978, shape=(), dtype=float32)\n",
      "tf.Tensor(2.7899978, shape=(), dtype=float32)\n",
      "tf.Tensor(2.8199978, shape=(), dtype=float32)\n",
      "tf.Tensor(2.8499978, shape=(), dtype=float32)\n",
      "tf.Tensor(2.8799977, shape=(), dtype=float32)\n",
      "tf.Tensor(2.9099977, shape=(), dtype=float32)\n",
      "tf.Tensor(2.9399977, shape=(), dtype=float32)\n",
      "tf.Tensor(2.9699976, shape=(), dtype=float32)\n",
      "tf.Tensor(2.9999976, shape=(), dtype=float32)\n",
      "tf.Tensor(3.0299976, shape=(), dtype=float32)\n",
      "tf.Tensor(3.0599976, shape=(), dtype=float32)\n",
      "tf.Tensor(3.0899975, shape=(), dtype=float32)\n",
      "tf.Tensor(3.1199975, shape=(), dtype=float32)\n",
      "tf.Tensor(3.1499975, shape=(), dtype=float32)\n",
      "tf.Tensor(3.1799974, shape=(), dtype=float32)\n",
      "tf.Tensor(3.2099974, shape=(), dtype=float32)\n",
      "tf.Tensor(3.2399974, shape=(), dtype=float32)\n",
      "tf.Tensor(3.2699974, shape=(), dtype=float32)\n",
      "tf.Tensor(3.2999973, shape=(), dtype=float32)\n",
      "tf.Tensor(3.3299973, shape=(), dtype=float32)\n",
      "tf.Tensor(3.3599973, shape=(), dtype=float32)\n",
      "tf.Tensor(3.3899972, shape=(), dtype=float32)\n",
      "tf.Tensor(3.4199972, shape=(), dtype=float32)\n",
      "tf.Tensor(3.4499972, shape=(), dtype=float32)\n",
      "tf.Tensor(3.4799972, shape=(), dtype=float32)\n",
      "tf.Tensor(3.5099971, shape=(), dtype=float32)\n",
      "tf.Tensor(3.539997, shape=(), dtype=float32)\n",
      "tf.Tensor(3.569997, shape=(), dtype=float32)\n",
      "tf.Tensor(3.599997, shape=(), dtype=float32)\n",
      "tf.Tensor(3.629997, shape=(), dtype=float32)\n",
      "tf.Tensor(3.659997, shape=(), dtype=float32)\n",
      "tf.Tensor(3.689997, shape=(), dtype=float32)\n",
      "tf.Tensor(3.719997, shape=(), dtype=float32)\n",
      "tf.Tensor(3.749997, shape=(), dtype=float32)\n",
      "tf.Tensor(3.7799969, shape=(), dtype=float32)\n",
      "tf.Tensor(3.8099968, shape=(), dtype=float32)\n",
      "tf.Tensor(3.8399968, shape=(), dtype=float32)\n",
      "tf.Tensor(3.8699968, shape=(), dtype=float32)\n",
      "tf.Tensor(3.8999968, shape=(), dtype=float32)\n",
      "tf.Tensor(3.9299967, shape=(), dtype=float32)\n",
      "tf.Tensor(3.9599967, shape=(), dtype=float32)\n",
      "tf.Tensor(3.9899967, shape=(), dtype=float32)\n",
      "tf.Tensor(4.0199966, shape=(), dtype=float32)\n",
      "tf.Tensor(4.049997, shape=(), dtype=float32)\n",
      "tf.Tensor(4.079997, shape=(), dtype=float32)\n",
      "tf.Tensor(4.1099973, shape=(), dtype=float32)\n",
      "tf.Tensor(4.1399975, shape=(), dtype=float32)\n",
      "tf.Tensor(4.1699977, shape=(), dtype=float32)\n",
      "tf.Tensor(4.199998, shape=(), dtype=float32)\n",
      "tf.Tensor(4.229998, shape=(), dtype=float32)\n",
      "tf.Tensor(4.2599983, shape=(), dtype=float32)\n",
      "tf.Tensor(4.2899985, shape=(), dtype=float32)\n",
      "tf.Tensor(4.3199987, shape=(), dtype=float32)\n",
      "tf.Tensor(4.349999, shape=(), dtype=float32)\n",
      "tf.Tensor(4.379999, shape=(), dtype=float32)\n",
      "tf.Tensor(4.4099994, shape=(), dtype=float32)\n",
      "tf.Tensor(4.4399996, shape=(), dtype=float32)\n",
      "tf.Tensor(4.47, shape=(), dtype=float32)\n",
      "tf.Tensor(4.5, shape=(), dtype=float32)\n",
      "tf.Tensor(4.53, shape=(), dtype=float32)\n",
      "tf.Tensor(4.5600004, shape=(), dtype=float32)\n",
      "tf.Tensor(4.5900006, shape=(), dtype=float32)\n",
      "tf.Tensor(4.620001, shape=(), dtype=float32)\n",
      "tf.Tensor(4.650001, shape=(), dtype=float32)\n",
      "tf.Tensor(4.6800013, shape=(), dtype=float32)\n",
      "tf.Tensor(4.7100015, shape=(), dtype=float32)\n",
      "tf.Tensor(4.7400017, shape=(), dtype=float32)\n",
      "tf.Tensor(4.770002, shape=(), dtype=float32)\n",
      "tf.Tensor(4.800002, shape=(), dtype=float32)\n",
      "tf.Tensor(4.8300023, shape=(), dtype=float32)\n",
      "tf.Tensor(4.8600025, shape=(), dtype=float32)\n",
      "tf.Tensor(4.8900027, shape=(), dtype=float32)\n",
      "tf.Tensor(4.920003, shape=(), dtype=float32)\n",
      "tf.Tensor(4.950003, shape=(), dtype=float32)\n",
      "tf.Tensor(4.9800034, shape=(), dtype=float32)\n",
      "tf.Tensor(5.0100036, shape=(), dtype=float32)\n",
      "tf.Tensor(5.040004, shape=(), dtype=float32)\n",
      "tf.Tensor(5.070004, shape=(), dtype=float32)\n",
      "tf.Tensor(5.100004, shape=(), dtype=float32)\n",
      "tf.Tensor(5.1300044, shape=(), dtype=float32)\n",
      "tf.Tensor(5.1600046, shape=(), dtype=float32)\n",
      "tf.Tensor(5.190005, shape=(), dtype=float32)\n",
      "tf.Tensor(5.220005, shape=(), dtype=float32)\n",
      "tf.Tensor(5.2500052, shape=(), dtype=float32)\n",
      "tf.Tensor(5.2800055, shape=(), dtype=float32)\n",
      "tf.Tensor(5.3100057, shape=(), dtype=float32)\n",
      "tf.Tensor(5.340006, shape=(), dtype=float32)\n",
      "tf.Tensor(5.370006, shape=(), dtype=float32)\n",
      "tf.Tensor(5.4000063, shape=(), dtype=float32)\n",
      "tf.Tensor(5.4300065, shape=(), dtype=float32)\n",
      "tf.Tensor(5.4600067, shape=(), dtype=float32)\n",
      "tf.Tensor(5.490007, shape=(), dtype=float32)\n",
      "tf.Tensor(5.520007, shape=(), dtype=float32)\n",
      "tf.Tensor(5.5500073, shape=(), dtype=float32)\n",
      "tf.Tensor(5.5800076, shape=(), dtype=float32)\n",
      "tf.Tensor(5.610008, shape=(), dtype=float32)\n",
      "tf.Tensor(5.640008, shape=(), dtype=float32)\n",
      "tf.Tensor(5.670008, shape=(), dtype=float32)\n",
      "tf.Tensor(5.7000084, shape=(), dtype=float32)\n",
      "tf.Tensor(5.7300086, shape=(), dtype=float32)\n",
      "tf.Tensor(5.760009, shape=(), dtype=float32)\n",
      "tf.Tensor(5.790009, shape=(), dtype=float32)\n",
      "tf.Tensor(5.820009, shape=(), dtype=float32)\n",
      "tf.Tensor(5.8500094, shape=(), dtype=float32)\n",
      "tf.Tensor(5.8800097, shape=(), dtype=float32)\n",
      "tf.Tensor(5.91001, shape=(), dtype=float32)\n",
      "tf.Tensor(5.94001, shape=(), dtype=float32)\n",
      "tf.Tensor(5.9700103, shape=(), dtype=float32)\n",
      "tf.Tensor(6.0000105, shape=(), dtype=float32)\n",
      "tf.Tensor(6.0300107, shape=(), dtype=float32)\n",
      "tf.Tensor(6.060011, shape=(), dtype=float32)\n",
      "tf.Tensor(6.090011, shape=(), dtype=float32)\n",
      "tf.Tensor(6.1200113, shape=(), dtype=float32)\n",
      "tf.Tensor(6.1500115, shape=(), dtype=float32)\n",
      "tf.Tensor(6.1800117, shape=(), dtype=float32)\n",
      "tf.Tensor(6.210012, shape=(), dtype=float32)\n",
      "tf.Tensor(6.240012, shape=(), dtype=float32)\n",
      "tf.Tensor(6.2700124, shape=(), dtype=float32)\n",
      "tf.Tensor(6.3000126, shape=(), dtype=float32)\n",
      "tf.Tensor(6.330013, shape=(), dtype=float32)\n",
      "tf.Tensor(6.360013, shape=(), dtype=float32)\n",
      "tf.Tensor(6.390013, shape=(), dtype=float32)\n",
      "tf.Tensor(6.4200134, shape=(), dtype=float32)\n",
      "tf.Tensor(6.4500136, shape=(), dtype=float32)\n",
      "tf.Tensor(6.480014, shape=(), dtype=float32)\n",
      "tf.Tensor(6.510014, shape=(), dtype=float32)\n",
      "tf.Tensor(6.5400143, shape=(), dtype=float32)\n",
      "tf.Tensor(6.5700145, shape=(), dtype=float32)\n",
      "tf.Tensor(6.6000147, shape=(), dtype=float32)\n",
      "tf.Tensor(6.630015, shape=(), dtype=float32)\n",
      "tf.Tensor(6.660015, shape=(), dtype=float32)\n",
      "tf.Tensor(6.6900153, shape=(), dtype=float32)\n",
      "tf.Tensor(6.7200155, shape=(), dtype=float32)\n",
      "tf.Tensor(6.7500157, shape=(), dtype=float32)\n",
      "tf.Tensor(6.780016, shape=(), dtype=float32)\n",
      "tf.Tensor(6.810016, shape=(), dtype=float32)\n",
      "tf.Tensor(6.8400164, shape=(), dtype=float32)\n",
      "tf.Tensor(6.8700166, shape=(), dtype=float32)\n",
      "tf.Tensor(6.900017, shape=(), dtype=float32)\n",
      "tf.Tensor(6.930017, shape=(), dtype=float32)\n",
      "tf.Tensor(6.960017, shape=(), dtype=float32)\n",
      "tf.Tensor(6.9900174, shape=(), dtype=float32)\n",
      "tf.Tensor(7.0200176, shape=(), dtype=float32)\n",
      "tf.Tensor(7.050018, shape=(), dtype=float32)\n",
      "tf.Tensor(7.080018, shape=(), dtype=float32)\n",
      "tf.Tensor(7.1100183, shape=(), dtype=float32)\n",
      "tf.Tensor(7.1400185, shape=(), dtype=float32)\n",
      "tf.Tensor(7.1700187, shape=(), dtype=float32)\n",
      "tf.Tensor(7.200019, shape=(), dtype=float32)\n",
      "tf.Tensor(7.230019, shape=(), dtype=float32)\n",
      "tf.Tensor(7.2600193, shape=(), dtype=float32)\n",
      "tf.Tensor(7.2900195, shape=(), dtype=float32)\n",
      "tf.Tensor(7.3200197, shape=(), dtype=float32)\n",
      "tf.Tensor(7.35002, shape=(), dtype=float32)\n",
      "tf.Tensor(7.38002, shape=(), dtype=float32)\n",
      "tf.Tensor(7.4100204, shape=(), dtype=float32)\n",
      "tf.Tensor(7.4400206, shape=(), dtype=float32)\n",
      "tf.Tensor(7.470021, shape=(), dtype=float32)\n",
      "tf.Tensor(7.500021, shape=(), dtype=float32)\n",
      "tf.Tensor(7.530021, shape=(), dtype=float32)\n",
      "tf.Tensor(7.5600214, shape=(), dtype=float32)\n",
      "tf.Tensor(7.5900216, shape=(), dtype=float32)\n",
      "tf.Tensor(7.620022, shape=(), dtype=float32)\n",
      "tf.Tensor(7.650022, shape=(), dtype=float32)\n",
      "tf.Tensor(7.6800222, shape=(), dtype=float32)\n",
      "tf.Tensor(7.7100224, shape=(), dtype=float32)\n",
      "tf.Tensor(7.7400227, shape=(), dtype=float32)\n",
      "tf.Tensor(7.770023, shape=(), dtype=float32)\n",
      "tf.Tensor(7.800023, shape=(), dtype=float32)\n",
      "tf.Tensor(7.8300233, shape=(), dtype=float32)\n",
      "tf.Tensor(7.8600235, shape=(), dtype=float32)\n",
      "tf.Tensor(7.8900237, shape=(), dtype=float32)\n",
      "tf.Tensor(7.920024, shape=(), dtype=float32)\n",
      "tf.Tensor(7.950024, shape=(), dtype=float32)\n",
      "tf.Tensor(7.9800243, shape=(), dtype=float32)\n",
      "tf.Tensor(8.010024, shape=(), dtype=float32)\n",
      "tf.Tensor(8.040024, shape=(), dtype=float32)\n",
      "tf.Tensor(8.070024, shape=(), dtype=float32)\n",
      "tf.Tensor(8.100023, shape=(), dtype=float32)\n",
      "tf.Tensor(8.130023, shape=(), dtype=float32)\n",
      "tf.Tensor(8.160023, shape=(), dtype=float32)\n",
      "tf.Tensor(8.190022, shape=(), dtype=float32)\n",
      "tf.Tensor(8.220022, shape=(), dtype=float32)\n",
      "tf.Tensor(8.250022, shape=(), dtype=float32)\n",
      "tf.Tensor(8.280022, shape=(), dtype=float32)\n"
     ]
    },
    {
     "name": "stdout",
     "output_type": "stream",
     "text": [
      "tf.Tensor(8.310021, shape=(), dtype=float32)\n",
      "tf.Tensor(8.340021, shape=(), dtype=float32)\n",
      "tf.Tensor(8.370021, shape=(), dtype=float32)\n",
      "tf.Tensor(8.400021, shape=(), dtype=float32)\n",
      "tf.Tensor(8.43002, shape=(), dtype=float32)\n",
      "tf.Tensor(8.46002, shape=(), dtype=float32)\n",
      "tf.Tensor(8.49002, shape=(), dtype=float32)\n",
      "tf.Tensor(8.52002, shape=(), dtype=float32)\n",
      "tf.Tensor(8.550019, shape=(), dtype=float32)\n",
      "tf.Tensor(8.580019, shape=(), dtype=float32)\n",
      "tf.Tensor(8.610019, shape=(), dtype=float32)\n",
      "tf.Tensor(8.640018, shape=(), dtype=float32)\n",
      "tf.Tensor(8.670018, shape=(), dtype=float32)\n",
      "tf.Tensor(8.700018, shape=(), dtype=float32)\n",
      "tf.Tensor(8.730018, shape=(), dtype=float32)\n",
      "tf.Tensor(8.760017, shape=(), dtype=float32)\n",
      "tf.Tensor(8.790017, shape=(), dtype=float32)\n",
      "tf.Tensor(8.820017, shape=(), dtype=float32)\n",
      "tf.Tensor(8.850017, shape=(), dtype=float32)\n",
      "tf.Tensor(8.880016, shape=(), dtype=float32)\n",
      "tf.Tensor(8.910016, shape=(), dtype=float32)\n",
      "tf.Tensor(8.940016, shape=(), dtype=float32)\n",
      "tf.Tensor(8.970016, shape=(), dtype=float32)\n",
      "tf.Tensor(9.000015, shape=(), dtype=float32)\n",
      "tf.Tensor(9.030015, shape=(), dtype=float32)\n",
      "tf.Tensor(9.060015, shape=(), dtype=float32)\n",
      "tf.Tensor(9.090014, shape=(), dtype=float32)\n",
      "tf.Tensor(9.120014, shape=(), dtype=float32)\n",
      "tf.Tensor(9.150014, shape=(), dtype=float32)\n",
      "tf.Tensor(9.180014, shape=(), dtype=float32)\n",
      "tf.Tensor(9.210013, shape=(), dtype=float32)\n",
      "tf.Tensor(9.240013, shape=(), dtype=float32)\n",
      "tf.Tensor(9.270013, shape=(), dtype=float32)\n",
      "tf.Tensor(9.300013, shape=(), dtype=float32)\n",
      "tf.Tensor(9.330012, shape=(), dtype=float32)\n",
      "tf.Tensor(9.360012, shape=(), dtype=float32)\n",
      "tf.Tensor(9.390012, shape=(), dtype=float32)\n",
      "tf.Tensor(9.4200115, shape=(), dtype=float32)\n",
      "tf.Tensor(9.450011, shape=(), dtype=float32)\n",
      "tf.Tensor(9.480011, shape=(), dtype=float32)\n",
      "tf.Tensor(9.510011, shape=(), dtype=float32)\n",
      "tf.Tensor(9.54001, shape=(), dtype=float32)\n",
      "tf.Tensor(9.57001, shape=(), dtype=float32)\n",
      "tf.Tensor(9.60001, shape=(), dtype=float32)\n",
      "tf.Tensor(9.63001, shape=(), dtype=float32)\n",
      "tf.Tensor(9.660009, shape=(), dtype=float32)\n",
      "tf.Tensor(9.690009, shape=(), dtype=float32)\n",
      "tf.Tensor(9.720009, shape=(), dtype=float32)\n",
      "tf.Tensor(9.750009, shape=(), dtype=float32)\n",
      "tf.Tensor(9.780008, shape=(), dtype=float32)\n",
      "tf.Tensor(9.810008, shape=(), dtype=float32)\n",
      "tf.Tensor(9.840008, shape=(), dtype=float32)\n",
      "tf.Tensor(9.8700075, shape=(), dtype=float32)\n",
      "tf.Tensor(9.900007, shape=(), dtype=float32)\n",
      "tf.Tensor(9.930007, shape=(), dtype=float32)\n",
      "tf.Tensor(9.960007, shape=(), dtype=float32)\n",
      "tf.Tensor(9.990006, shape=(), dtype=float32)\n",
      "tf.Tensor(10.020006, shape=(), dtype=float32)\n",
      "tf.Tensor(10.050006, shape=(), dtype=float32)\n",
      "tf.Tensor(10.080006, shape=(), dtype=float32)\n",
      "tf.Tensor(10.110005, shape=(), dtype=float32)\n",
      "tf.Tensor(10.140005, shape=(), dtype=float32)\n",
      "tf.Tensor(10.170005, shape=(), dtype=float32)\n",
      "tf.Tensor(10.200005, shape=(), dtype=float32)\n",
      "tf.Tensor(10.230004, shape=(), dtype=float32)\n",
      "tf.Tensor(10.260004, shape=(), dtype=float32)\n",
      "tf.Tensor(10.290004, shape=(), dtype=float32)\n",
      "tf.Tensor(10.3200035, shape=(), dtype=float32)\n",
      "tf.Tensor(10.350003, shape=(), dtype=float32)\n",
      "tf.Tensor(10.380003, shape=(), dtype=float32)\n",
      "tf.Tensor(10.410003, shape=(), dtype=float32)\n",
      "tf.Tensor(10.440002, shape=(), dtype=float32)\n",
      "tf.Tensor(10.470002, shape=(), dtype=float32)\n",
      "tf.Tensor(10.500002, shape=(), dtype=float32)\n",
      "tf.Tensor(10.530002, shape=(), dtype=float32)\n",
      "tf.Tensor(10.560001, shape=(), dtype=float32)\n",
      "tf.Tensor(10.590001, shape=(), dtype=float32)\n",
      "tf.Tensor(10.620001, shape=(), dtype=float32)\n",
      "tf.Tensor(10.650001, shape=(), dtype=float32)\n",
      "tf.Tensor(10.68, shape=(), dtype=float32)\n",
      "tf.Tensor(10.71, shape=(), dtype=float32)\n",
      "tf.Tensor(10.74, shape=(), dtype=float32)\n",
      "tf.Tensor(10.7699995, shape=(), dtype=float32)\n",
      "tf.Tensor(10.799999, shape=(), dtype=float32)\n",
      "tf.Tensor(10.829999, shape=(), dtype=float32)\n",
      "tf.Tensor(10.859999, shape=(), dtype=float32)\n",
      "tf.Tensor(10.889998, shape=(), dtype=float32)\n",
      "tf.Tensor(10.919998, shape=(), dtype=float32)\n",
      "tf.Tensor(10.949998, shape=(), dtype=float32)\n",
      "tf.Tensor(10.979998, shape=(), dtype=float32)\n",
      "tf.Tensor(11.009997, shape=(), dtype=float32)\n",
      "tf.Tensor(11.039997, shape=(), dtype=float32)\n",
      "tf.Tensor(11.069997, shape=(), dtype=float32)\n",
      "tf.Tensor(11.099997, shape=(), dtype=float32)\n",
      "tf.Tensor(11.129996, shape=(), dtype=float32)\n",
      "tf.Tensor(11.159996, shape=(), dtype=float32)\n",
      "tf.Tensor(11.189996, shape=(), dtype=float32)\n",
      "tf.Tensor(11.2199955, shape=(), dtype=float32)\n",
      "tf.Tensor(11.249995, shape=(), dtype=float32)\n",
      "tf.Tensor(11.279995, shape=(), dtype=float32)\n",
      "tf.Tensor(11.309995, shape=(), dtype=float32)\n",
      "tf.Tensor(11.339994, shape=(), dtype=float32)\n",
      "tf.Tensor(11.369994, shape=(), dtype=float32)\n",
      "tf.Tensor(11.399994, shape=(), dtype=float32)\n",
      "tf.Tensor(11.429994, shape=(), dtype=float32)\n",
      "tf.Tensor(11.459993, shape=(), dtype=float32)\n",
      "tf.Tensor(11.489993, shape=(), dtype=float32)\n",
      "tf.Tensor(11.519993, shape=(), dtype=float32)\n",
      "tf.Tensor(11.549993, shape=(), dtype=float32)\n",
      "tf.Tensor(11.579992, shape=(), dtype=float32)\n",
      "tf.Tensor(11.609992, shape=(), dtype=float32)\n",
      "tf.Tensor(11.639992, shape=(), dtype=float32)\n",
      "tf.Tensor(11.6699915, shape=(), dtype=float32)\n",
      "tf.Tensor(11.699991, shape=(), dtype=float32)\n",
      "tf.Tensor(11.729991, shape=(), dtype=float32)\n",
      "tf.Tensor(11.759991, shape=(), dtype=float32)\n",
      "tf.Tensor(11.78999, shape=(), dtype=float32)\n",
      "tf.Tensor(11.81999, shape=(), dtype=float32)\n",
      "tf.Tensor(11.84999, shape=(), dtype=float32)\n",
      "tf.Tensor(11.87999, shape=(), dtype=float32)\n",
      "tf.Tensor(11.909989, shape=(), dtype=float32)\n",
      "tf.Tensor(11.939989, shape=(), dtype=float32)\n",
      "tf.Tensor(11.969989, shape=(), dtype=float32)\n",
      "tf.Tensor(11.999989, shape=(), dtype=float32)\n",
      "tf.Tensor(12.029988, shape=(), dtype=float32)\n",
      "tf.Tensor(12.059988, shape=(), dtype=float32)\n",
      "tf.Tensor(12.089988, shape=(), dtype=float32)\n",
      "tf.Tensor(12.1199875, shape=(), dtype=float32)\n",
      "tf.Tensor(12.149987, shape=(), dtype=float32)\n",
      "tf.Tensor(12.179987, shape=(), dtype=float32)\n",
      "tf.Tensor(12.209987, shape=(), dtype=float32)\n",
      "tf.Tensor(12.239986, shape=(), dtype=float32)\n",
      "tf.Tensor(12.269986, shape=(), dtype=float32)\n",
      "tf.Tensor(12.299986, shape=(), dtype=float32)\n",
      "tf.Tensor(12.329986, shape=(), dtype=float32)\n",
      "tf.Tensor(12.359985, shape=(), dtype=float32)\n",
      "tf.Tensor(12.389985, shape=(), dtype=float32)\n",
      "tf.Tensor(12.419985, shape=(), dtype=float32)\n",
      "tf.Tensor(12.449985, shape=(), dtype=float32)\n",
      "tf.Tensor(12.479984, shape=(), dtype=float32)\n",
      "tf.Tensor(12.509984, shape=(), dtype=float32)\n",
      "tf.Tensor(12.539984, shape=(), dtype=float32)\n",
      "tf.Tensor(12.5699835, shape=(), dtype=float32)\n",
      "tf.Tensor(12.599983, shape=(), dtype=float32)\n",
      "tf.Tensor(12.629983, shape=(), dtype=float32)\n",
      "tf.Tensor(12.659983, shape=(), dtype=float32)\n",
      "tf.Tensor(12.689982, shape=(), dtype=float32)\n",
      "tf.Tensor(12.719982, shape=(), dtype=float32)\n",
      "tf.Tensor(12.749982, shape=(), dtype=float32)\n",
      "tf.Tensor(12.779982, shape=(), dtype=float32)\n",
      "tf.Tensor(12.809981, shape=(), dtype=float32)\n",
      "tf.Tensor(12.839981, shape=(), dtype=float32)\n",
      "tf.Tensor(12.869981, shape=(), dtype=float32)\n",
      "tf.Tensor(12.899981, shape=(), dtype=float32)\n",
      "tf.Tensor(12.92998, shape=(), dtype=float32)\n",
      "tf.Tensor(12.95998, shape=(), dtype=float32)\n",
      "tf.Tensor(12.98998, shape=(), dtype=float32)\n",
      "tf.Tensor(13.0199795, shape=(), dtype=float32)\n",
      "tf.Tensor(13.049979, shape=(), dtype=float32)\n",
      "tf.Tensor(13.079979, shape=(), dtype=float32)\n",
      "tf.Tensor(13.109979, shape=(), dtype=float32)\n",
      "tf.Tensor(13.139978, shape=(), dtype=float32)\n",
      "tf.Tensor(13.169978, shape=(), dtype=float32)\n",
      "tf.Tensor(13.199978, shape=(), dtype=float32)\n",
      "tf.Tensor(13.229978, shape=(), dtype=float32)\n",
      "tf.Tensor(13.259977, shape=(), dtype=float32)\n",
      "tf.Tensor(13.289977, shape=(), dtype=float32)\n",
      "tf.Tensor(13.319977, shape=(), dtype=float32)\n",
      "tf.Tensor(13.349977, shape=(), dtype=float32)\n",
      "tf.Tensor(13.379976, shape=(), dtype=float32)\n",
      "tf.Tensor(13.409976, shape=(), dtype=float32)\n",
      "tf.Tensor(13.439976, shape=(), dtype=float32)\n",
      "tf.Tensor(13.469975, shape=(), dtype=float32)\n",
      "tf.Tensor(13.499975, shape=(), dtype=float32)\n",
      "tf.Tensor(13.529975, shape=(), dtype=float32)\n",
      "tf.Tensor(13.559975, shape=(), dtype=float32)\n",
      "tf.Tensor(13.589974, shape=(), dtype=float32)\n",
      "tf.Tensor(13.619974, shape=(), dtype=float32)\n",
      "tf.Tensor(13.649974, shape=(), dtype=float32)\n",
      "tf.Tensor(13.679974, shape=(), dtype=float32)\n",
      "tf.Tensor(13.709973, shape=(), dtype=float32)\n",
      "tf.Tensor(13.739973, shape=(), dtype=float32)\n",
      "tf.Tensor(13.769973, shape=(), dtype=float32)\n",
      "tf.Tensor(13.799973, shape=(), dtype=float32)\n",
      "tf.Tensor(13.829972, shape=(), dtype=float32)\n",
      "tf.Tensor(13.859972, shape=(), dtype=float32)\n",
      "tf.Tensor(13.889972, shape=(), dtype=float32)\n",
      "tf.Tensor(13.919971, shape=(), dtype=float32)\n",
      "tf.Tensor(13.949971, shape=(), dtype=float32)\n",
      "tf.Tensor(13.979971, shape=(), dtype=float32)\n",
      "tf.Tensor(14.009971, shape=(), dtype=float32)\n",
      "tf.Tensor(14.03997, shape=(), dtype=float32)\n",
      "tf.Tensor(14.06997, shape=(), dtype=float32)\n",
      "tf.Tensor(14.09997, shape=(), dtype=float32)\n",
      "tf.Tensor(14.12997, shape=(), dtype=float32)\n",
      "tf.Tensor(14.159969, shape=(), dtype=float32)\n",
      "tf.Tensor(14.189969, shape=(), dtype=float32)\n",
      "tf.Tensor(14.219969, shape=(), dtype=float32)\n",
      "tf.Tensor(14.249969, shape=(), dtype=float32)\n",
      "tf.Tensor(14.279968, shape=(), dtype=float32)\n",
      "tf.Tensor(14.309968, shape=(), dtype=float32)\n",
      "tf.Tensor(14.339968, shape=(), dtype=float32)\n",
      "tf.Tensor(14.369967, shape=(), dtype=float32)\n",
      "tf.Tensor(14.399967, shape=(), dtype=float32)\n",
      "tf.Tensor(14.429967, shape=(), dtype=float32)\n",
      "tf.Tensor(14.459967, shape=(), dtype=float32)\n",
      "tf.Tensor(14.489966, shape=(), dtype=float32)\n",
      "tf.Tensor(14.519966, shape=(), dtype=float32)\n",
      "tf.Tensor(14.549966, shape=(), dtype=float32)\n",
      "tf.Tensor(14.579966, shape=(), dtype=float32)\n",
      "tf.Tensor(14.609965, shape=(), dtype=float32)\n",
      "tf.Tensor(14.639965, shape=(), dtype=float32)\n",
      "tf.Tensor(14.669965, shape=(), dtype=float32)\n",
      "tf.Tensor(14.699965, shape=(), dtype=float32)\n",
      "tf.Tensor(14.729964, shape=(), dtype=float32)\n",
      "tf.Tensor(14.759964, shape=(), dtype=float32)\n",
      "tf.Tensor(14.789964, shape=(), dtype=float32)\n",
      "tf.Tensor(14.819963, shape=(), dtype=float32)\n",
      "tf.Tensor(14.849963, shape=(), dtype=float32)\n",
      "tf.Tensor(14.879963, shape=(), dtype=float32)\n",
      "tf.Tensor(14.909963, shape=(), dtype=float32)\n",
      "tf.Tensor(14.939962, shape=(), dtype=float32)\n",
      "tf.Tensor(14.969962, shape=(), dtype=float32)\n",
      "tf.Tensor(14.999962, shape=(), dtype=float32)\n",
      "tf.Tensor(15.029962, shape=(), dtype=float32)\n",
      "tf.Tensor(15.059961, shape=(), dtype=float32)\n",
      "tf.Tensor(15.089961, shape=(), dtype=float32)\n",
      "tf.Tensor(15.119961, shape=(), dtype=float32)\n",
      "tf.Tensor(15.1499605, shape=(), dtype=float32)\n",
      "tf.Tensor(15.17996, shape=(), dtype=float32)\n",
      "tf.Tensor(15.20996, shape=(), dtype=float32)\n",
      "tf.Tensor(15.23996, shape=(), dtype=float32)\n",
      "tf.Tensor(15.269959, shape=(), dtype=float32)\n",
      "tf.Tensor(15.299959, shape=(), dtype=float32)\n",
      "tf.Tensor(15.329959, shape=(), dtype=float32)\n",
      "tf.Tensor(15.359959, shape=(), dtype=float32)\n",
      "tf.Tensor(15.389958, shape=(), dtype=float32)\n",
      "tf.Tensor(15.419958, shape=(), dtype=float32)\n",
      "tf.Tensor(15.449958, shape=(), dtype=float32)\n",
      "tf.Tensor(15.479958, shape=(), dtype=float32)\n",
      "tf.Tensor(15.509957, shape=(), dtype=float32)\n",
      "tf.Tensor(15.539957, shape=(), dtype=float32)\n",
      "tf.Tensor(15.569957, shape=(), dtype=float32)\n",
      "tf.Tensor(15.5999565, shape=(), dtype=float32)\n",
      "tf.Tensor(15.629956, shape=(), dtype=float32)\n",
      "tf.Tensor(15.659956, shape=(), dtype=float32)\n",
      "tf.Tensor(15.689956, shape=(), dtype=float32)\n",
      "tf.Tensor(15.719955, shape=(), dtype=float32)\n",
      "tf.Tensor(15.749955, shape=(), dtype=float32)\n",
      "tf.Tensor(15.779955, shape=(), dtype=float32)\n",
      "tf.Tensor(15.809955, shape=(), dtype=float32)\n",
      "tf.Tensor(15.839954, shape=(), dtype=float32)\n",
      "tf.Tensor(15.869954, shape=(), dtype=float32)\n",
      "tf.Tensor(15.899954, shape=(), dtype=float32)\n",
      "tf.Tensor(15.929954, shape=(), dtype=float32)\n"
     ]
    },
    {
     "name": "stdout",
     "output_type": "stream",
     "text": [
      "tf.Tensor(15.959953, shape=(), dtype=float32)\n",
      "tf.Tensor(15.989953, shape=(), dtype=float32)\n",
      "tf.Tensor(16.019953, shape=(), dtype=float32)\n",
      "tf.Tensor(16.049953, shape=(), dtype=float32)\n",
      "tf.Tensor(16.079954, shape=(), dtype=float32)\n",
      "tf.Tensor(16.109955, shape=(), dtype=float32)\n",
      "tf.Tensor(16.139956, shape=(), dtype=float32)\n",
      "tf.Tensor(16.169956, shape=(), dtype=float32)\n",
      "tf.Tensor(16.199957, shape=(), dtype=float32)\n",
      "tf.Tensor(16.229958, shape=(), dtype=float32)\n",
      "tf.Tensor(16.259958, shape=(), dtype=float32)\n",
      "tf.Tensor(16.289959, shape=(), dtype=float32)\n",
      "tf.Tensor(16.31996, shape=(), dtype=float32)\n",
      "tf.Tensor(16.34996, shape=(), dtype=float32)\n",
      "tf.Tensor(16.379961, shape=(), dtype=float32)\n",
      "tf.Tensor(16.409962, shape=(), dtype=float32)\n",
      "tf.Tensor(16.439962, shape=(), dtype=float32)\n",
      "tf.Tensor(16.469963, shape=(), dtype=float32)\n",
      "tf.Tensor(16.499964, shape=(), dtype=float32)\n",
      "tf.Tensor(16.529964, shape=(), dtype=float32)\n",
      "tf.Tensor(16.559965, shape=(), dtype=float32)\n",
      "tf.Tensor(16.589966, shape=(), dtype=float32)\n",
      "tf.Tensor(16.619967, shape=(), dtype=float32)\n",
      "tf.Tensor(16.649967, shape=(), dtype=float32)\n",
      "tf.Tensor(16.679968, shape=(), dtype=float32)\n",
      "tf.Tensor(16.709969, shape=(), dtype=float32)\n",
      "tf.Tensor(16.73997, shape=(), dtype=float32)\n",
      "tf.Tensor(16.76997, shape=(), dtype=float32)\n",
      "tf.Tensor(16.79997, shape=(), dtype=float32)\n",
      "tf.Tensor(16.829971, shape=(), dtype=float32)\n",
      "tf.Tensor(16.859972, shape=(), dtype=float32)\n",
      "tf.Tensor(16.889973, shape=(), dtype=float32)\n",
      "tf.Tensor(16.919973, shape=(), dtype=float32)\n",
      "tf.Tensor(16.949974, shape=(), dtype=float32)\n",
      "tf.Tensor(16.979975, shape=(), dtype=float32)\n",
      "tf.Tensor(17.009975, shape=(), dtype=float32)\n",
      "tf.Tensor(17.039976, shape=(), dtype=float32)\n",
      "tf.Tensor(17.069977, shape=(), dtype=float32)\n",
      "tf.Tensor(17.099977, shape=(), dtype=float32)\n",
      "tf.Tensor(17.129978, shape=(), dtype=float32)\n",
      "tf.Tensor(17.159979, shape=(), dtype=float32)\n",
      "tf.Tensor(17.18998, shape=(), dtype=float32)\n",
      "tf.Tensor(17.21998, shape=(), dtype=float32)\n",
      "tf.Tensor(17.24998, shape=(), dtype=float32)\n",
      "tf.Tensor(17.279982, shape=(), dtype=float32)\n",
      "tf.Tensor(17.309982, shape=(), dtype=float32)\n",
      "tf.Tensor(17.339983, shape=(), dtype=float32)\n",
      "tf.Tensor(17.369984, shape=(), dtype=float32)\n",
      "tf.Tensor(17.399984, shape=(), dtype=float32)\n",
      "tf.Tensor(17.429985, shape=(), dtype=float32)\n",
      "tf.Tensor(17.459986, shape=(), dtype=float32)\n",
      "tf.Tensor(17.489986, shape=(), dtype=float32)\n",
      "tf.Tensor(17.519987, shape=(), dtype=float32)\n",
      "tf.Tensor(17.549988, shape=(), dtype=float32)\n",
      "tf.Tensor(17.579988, shape=(), dtype=float32)\n",
      "tf.Tensor(17.60999, shape=(), dtype=float32)\n",
      "tf.Tensor(17.63999, shape=(), dtype=float32)\n",
      "tf.Tensor(17.66999, shape=(), dtype=float32)\n",
      "tf.Tensor(17.699991, shape=(), dtype=float32)\n",
      "tf.Tensor(17.729992, shape=(), dtype=float32)\n",
      "tf.Tensor(17.759993, shape=(), dtype=float32)\n",
      "tf.Tensor(17.789993, shape=(), dtype=float32)\n",
      "tf.Tensor(17.819994, shape=(), dtype=float32)\n",
      "tf.Tensor(17.849995, shape=(), dtype=float32)\n",
      "tf.Tensor(17.879995, shape=(), dtype=float32)\n",
      "tf.Tensor(17.909996, shape=(), dtype=float32)\n",
      "tf.Tensor(17.939997, shape=(), dtype=float32)\n",
      "tf.Tensor(17.969997, shape=(), dtype=float32)\n",
      "tf.Tensor(17.999998, shape=(), dtype=float32)\n",
      "tf.Tensor(18.029999, shape=(), dtype=float32)\n",
      "tf.Tensor(18.06, shape=(), dtype=float32)\n",
      "tf.Tensor(18.09, shape=(), dtype=float32)\n",
      "tf.Tensor(18.12, shape=(), dtype=float32)\n",
      "tf.Tensor(18.150002, shape=(), dtype=float32)\n",
      "tf.Tensor(18.180002, shape=(), dtype=float32)\n",
      "tf.Tensor(18.210003, shape=(), dtype=float32)\n",
      "tf.Tensor(18.240004, shape=(), dtype=float32)\n",
      "tf.Tensor(18.270004, shape=(), dtype=float32)\n",
      "tf.Tensor(18.300005, shape=(), dtype=float32)\n",
      "tf.Tensor(18.330006, shape=(), dtype=float32)\n",
      "tf.Tensor(18.360006, shape=(), dtype=float32)\n",
      "tf.Tensor(18.390007, shape=(), dtype=float32)\n",
      "tf.Tensor(18.420008, shape=(), dtype=float32)\n",
      "tf.Tensor(18.450008, shape=(), dtype=float32)\n",
      "tf.Tensor(18.48001, shape=(), dtype=float32)\n",
      "tf.Tensor(18.51001, shape=(), dtype=float32)\n",
      "tf.Tensor(18.54001, shape=(), dtype=float32)\n",
      "tf.Tensor(18.570011, shape=(), dtype=float32)\n",
      "tf.Tensor(18.600012, shape=(), dtype=float32)\n",
      "tf.Tensor(18.630013, shape=(), dtype=float32)\n",
      "tf.Tensor(18.660013, shape=(), dtype=float32)\n",
      "tf.Tensor(18.690014, shape=(), dtype=float32)\n",
      "tf.Tensor(18.720015, shape=(), dtype=float32)\n",
      "tf.Tensor(18.750015, shape=(), dtype=float32)\n",
      "tf.Tensor(18.780016, shape=(), dtype=float32)\n",
      "tf.Tensor(18.810017, shape=(), dtype=float32)\n",
      "tf.Tensor(18.840017, shape=(), dtype=float32)\n",
      "tf.Tensor(18.870018, shape=(), dtype=float32)\n",
      "tf.Tensor(18.900019, shape=(), dtype=float32)\n",
      "tf.Tensor(18.93002, shape=(), dtype=float32)\n",
      "tf.Tensor(18.96002, shape=(), dtype=float32)\n",
      "tf.Tensor(18.99002, shape=(), dtype=float32)\n",
      "tf.Tensor(19.020021, shape=(), dtype=float32)\n",
      "tf.Tensor(19.050022, shape=(), dtype=float32)\n",
      "tf.Tensor(19.080023, shape=(), dtype=float32)\n",
      "tf.Tensor(19.110023, shape=(), dtype=float32)\n",
      "tf.Tensor(19.140024, shape=(), dtype=float32)\n",
      "tf.Tensor(19.170025, shape=(), dtype=float32)\n",
      "tf.Tensor(19.200026, shape=(), dtype=float32)\n",
      "tf.Tensor(19.230026, shape=(), dtype=float32)\n",
      "tf.Tensor(19.260027, shape=(), dtype=float32)\n",
      "tf.Tensor(19.290028, shape=(), dtype=float32)\n",
      "tf.Tensor(19.320028, shape=(), dtype=float32)\n",
      "tf.Tensor(19.350029, shape=(), dtype=float32)\n",
      "tf.Tensor(19.38003, shape=(), dtype=float32)\n",
      "tf.Tensor(19.41003, shape=(), dtype=float32)\n",
      "tf.Tensor(19.440031, shape=(), dtype=float32)\n",
      "tf.Tensor(19.470032, shape=(), dtype=float32)\n",
      "tf.Tensor(19.500032, shape=(), dtype=float32)\n",
      "tf.Tensor(19.530033, shape=(), dtype=float32)\n",
      "tf.Tensor(19.560034, shape=(), dtype=float32)\n",
      "tf.Tensor(19.590034, shape=(), dtype=float32)\n",
      "tf.Tensor(19.620035, shape=(), dtype=float32)\n",
      "tf.Tensor(19.650036, shape=(), dtype=float32)\n",
      "tf.Tensor(19.680037, shape=(), dtype=float32)\n",
      "tf.Tensor(19.710037, shape=(), dtype=float32)\n",
      "tf.Tensor(19.740038, shape=(), dtype=float32)\n",
      "tf.Tensor(19.770039, shape=(), dtype=float32)\n",
      "tf.Tensor(19.80004, shape=(), dtype=float32)\n",
      "tf.Tensor(19.83004, shape=(), dtype=float32)\n",
      "tf.Tensor(19.86004, shape=(), dtype=float32)\n",
      "tf.Tensor(19.890041, shape=(), dtype=float32)\n",
      "tf.Tensor(19.920042, shape=(), dtype=float32)\n",
      "tf.Tensor(19.950043, shape=(), dtype=float32)\n",
      "tf.Tensor(19.980043, shape=(), dtype=float32)\n",
      "tf.Tensor(20.010044, shape=(), dtype=float32)\n",
      "tf.Tensor(20.040045, shape=(), dtype=float32)\n",
      "tf.Tensor(20.070045, shape=(), dtype=float32)\n",
      "tf.Tensor(20.100046, shape=(), dtype=float32)\n",
      "tf.Tensor(20.130047, shape=(), dtype=float32)\n",
      "tf.Tensor(20.160048, shape=(), dtype=float32)\n",
      "tf.Tensor(20.190048, shape=(), dtype=float32)\n",
      "tf.Tensor(20.220049, shape=(), dtype=float32)\n",
      "tf.Tensor(20.25005, shape=(), dtype=float32)\n",
      "tf.Tensor(20.28005, shape=(), dtype=float32)\n",
      "tf.Tensor(20.310051, shape=(), dtype=float32)\n",
      "tf.Tensor(20.340052, shape=(), dtype=float32)\n",
      "tf.Tensor(20.370052, shape=(), dtype=float32)\n",
      "tf.Tensor(20.400053, shape=(), dtype=float32)\n",
      "tf.Tensor(20.430054, shape=(), dtype=float32)\n",
      "tf.Tensor(20.460054, shape=(), dtype=float32)\n",
      "tf.Tensor(20.490055, shape=(), dtype=float32)\n",
      "tf.Tensor(20.520056, shape=(), dtype=float32)\n",
      "tf.Tensor(20.550056, shape=(), dtype=float32)\n",
      "tf.Tensor(20.580057, shape=(), dtype=float32)\n",
      "tf.Tensor(20.610058, shape=(), dtype=float32)\n",
      "tf.Tensor(20.640059, shape=(), dtype=float32)\n",
      "tf.Tensor(20.67006, shape=(), dtype=float32)\n",
      "tf.Tensor(20.70006, shape=(), dtype=float32)\n",
      "tf.Tensor(20.73006, shape=(), dtype=float32)\n",
      "tf.Tensor(20.760061, shape=(), dtype=float32)\n",
      "tf.Tensor(20.790062, shape=(), dtype=float32)\n",
      "tf.Tensor(20.820063, shape=(), dtype=float32)\n",
      "tf.Tensor(20.850063, shape=(), dtype=float32)\n",
      "tf.Tensor(20.880064, shape=(), dtype=float32)\n",
      "tf.Tensor(20.910065, shape=(), dtype=float32)\n",
      "tf.Tensor(20.940065, shape=(), dtype=float32)\n",
      "tf.Tensor(20.970066, shape=(), dtype=float32)\n",
      "tf.Tensor(21.000067, shape=(), dtype=float32)\n",
      "tf.Tensor(21.030067, shape=(), dtype=float32)\n",
      "tf.Tensor(21.060068, shape=(), dtype=float32)\n",
      "tf.Tensor(21.090069, shape=(), dtype=float32)\n",
      "tf.Tensor(21.12007, shape=(), dtype=float32)\n",
      "tf.Tensor(21.15007, shape=(), dtype=float32)\n",
      "tf.Tensor(21.18007, shape=(), dtype=float32)\n",
      "tf.Tensor(21.210072, shape=(), dtype=float32)\n",
      "tf.Tensor(21.240072, shape=(), dtype=float32)\n",
      "tf.Tensor(21.270073, shape=(), dtype=float32)\n",
      "tf.Tensor(21.300074, shape=(), dtype=float32)\n",
      "tf.Tensor(21.330074, shape=(), dtype=float32)\n",
      "tf.Tensor(21.360075, shape=(), dtype=float32)\n",
      "tf.Tensor(21.390076, shape=(), dtype=float32)\n",
      "tf.Tensor(21.420076, shape=(), dtype=float32)\n",
      "tf.Tensor(21.450077, shape=(), dtype=float32)\n",
      "tf.Tensor(21.480078, shape=(), dtype=float32)\n",
      "tf.Tensor(21.510078, shape=(), dtype=float32)\n",
      "tf.Tensor(21.54008, shape=(), dtype=float32)\n",
      "tf.Tensor(21.57008, shape=(), dtype=float32)\n",
      "tf.Tensor(21.60008, shape=(), dtype=float32)\n",
      "tf.Tensor(21.630081, shape=(), dtype=float32)\n",
      "tf.Tensor(21.660082, shape=(), dtype=float32)\n",
      "tf.Tensor(21.690083, shape=(), dtype=float32)\n",
      "tf.Tensor(21.720083, shape=(), dtype=float32)\n",
      "tf.Tensor(21.750084, shape=(), dtype=float32)\n",
      "tf.Tensor(21.780085, shape=(), dtype=float32)\n",
      "tf.Tensor(21.810085, shape=(), dtype=float32)\n",
      "tf.Tensor(21.840086, shape=(), dtype=float32)\n",
      "tf.Tensor(21.870087, shape=(), dtype=float32)\n",
      "tf.Tensor(21.900087, shape=(), dtype=float32)\n",
      "tf.Tensor(21.930088, shape=(), dtype=float32)\n",
      "tf.Tensor(21.960089, shape=(), dtype=float32)\n",
      "tf.Tensor(21.99009, shape=(), dtype=float32)\n",
      "tf.Tensor(22.02009, shape=(), dtype=float32)\n",
      "tf.Tensor(22.05009, shape=(), dtype=float32)\n",
      "tf.Tensor(22.080091, shape=(), dtype=float32)\n",
      "tf.Tensor(22.110092, shape=(), dtype=float32)\n",
      "tf.Tensor(22.140093, shape=(), dtype=float32)\n",
      "tf.Tensor(22.170094, shape=(), dtype=float32)\n",
      "tf.Tensor(22.200094, shape=(), dtype=float32)\n",
      "tf.Tensor(22.230095, shape=(), dtype=float32)\n",
      "tf.Tensor(22.260096, shape=(), dtype=float32)\n",
      "tf.Tensor(22.290096, shape=(), dtype=float32)\n",
      "tf.Tensor(22.320097, shape=(), dtype=float32)\n",
      "tf.Tensor(22.350098, shape=(), dtype=float32)\n",
      "tf.Tensor(22.380098, shape=(), dtype=float32)\n",
      "tf.Tensor(22.410099, shape=(), dtype=float32)\n",
      "tf.Tensor(22.4401, shape=(), dtype=float32)\n",
      "tf.Tensor(22.4701, shape=(), dtype=float32)\n",
      "tf.Tensor(22.500101, shape=(), dtype=float32)\n",
      "tf.Tensor(22.530102, shape=(), dtype=float32)\n",
      "tf.Tensor(22.560102, shape=(), dtype=float32)\n",
      "tf.Tensor(22.590103, shape=(), dtype=float32)\n",
      "tf.Tensor(22.620104, shape=(), dtype=float32)\n",
      "tf.Tensor(22.650105, shape=(), dtype=float32)\n",
      "tf.Tensor(22.680105, shape=(), dtype=float32)\n",
      "tf.Tensor(22.710106, shape=(), dtype=float32)\n",
      "tf.Tensor(22.740107, shape=(), dtype=float32)\n",
      "tf.Tensor(22.770107, shape=(), dtype=float32)\n",
      "tf.Tensor(22.800108, shape=(), dtype=float32)\n",
      "tf.Tensor(22.830109, shape=(), dtype=float32)\n",
      "tf.Tensor(22.86011, shape=(), dtype=float32)\n",
      "tf.Tensor(22.89011, shape=(), dtype=float32)\n",
      "tf.Tensor(22.92011, shape=(), dtype=float32)\n",
      "tf.Tensor(22.950111, shape=(), dtype=float32)\n",
      "tf.Tensor(22.980112, shape=(), dtype=float32)\n",
      "tf.Tensor(23.010113, shape=(), dtype=float32)\n",
      "tf.Tensor(23.040113, shape=(), dtype=float32)\n",
      "tf.Tensor(23.070114, shape=(), dtype=float32)\n",
      "tf.Tensor(23.100115, shape=(), dtype=float32)\n",
      "tf.Tensor(23.130116, shape=(), dtype=float32)\n",
      "tf.Tensor(23.160116, shape=(), dtype=float32)\n",
      "tf.Tensor(23.190117, shape=(), dtype=float32)\n",
      "tf.Tensor(23.220118, shape=(), dtype=float32)\n",
      "tf.Tensor(23.250118, shape=(), dtype=float32)\n",
      "tf.Tensor(23.280119, shape=(), dtype=float32)\n",
      "tf.Tensor(23.31012, shape=(), dtype=float32)\n",
      "tf.Tensor(23.34012, shape=(), dtype=float32)\n",
      "tf.Tensor(23.370121, shape=(), dtype=float32)\n",
      "tf.Tensor(23.400122, shape=(), dtype=float32)\n",
      "tf.Tensor(23.430122, shape=(), dtype=float32)\n",
      "tf.Tensor(23.460123, shape=(), dtype=float32)\n",
      "tf.Tensor(23.490124, shape=(), dtype=float32)\n",
      "tf.Tensor(23.520124, shape=(), dtype=float32)\n",
      "tf.Tensor(23.550125, shape=(), dtype=float32)\n",
      "tf.Tensor(23.580126, shape=(), dtype=float32)\n",
      "tf.Tensor(23.610126, shape=(), dtype=float32)\n",
      "tf.Tensor(23.640127, shape=(), dtype=float32)\n",
      "tf.Tensor(23.670128, shape=(), dtype=float32)\n",
      "tf.Tensor(23.700129, shape=(), dtype=float32)\n",
      "tf.Tensor(23.73013, shape=(), dtype=float32)\n",
      "tf.Tensor(23.76013, shape=(), dtype=float32)\n",
      "tf.Tensor(23.79013, shape=(), dtype=float32)\n",
      "tf.Tensor(23.820131, shape=(), dtype=float32)\n",
      "tf.Tensor(23.850132, shape=(), dtype=float32)\n",
      "tf.Tensor(23.880133, shape=(), dtype=float32)\n",
      "tf.Tensor(23.910133, shape=(), dtype=float32)\n",
      "tf.Tensor(23.940134, shape=(), dtype=float32)\n",
      "tf.Tensor(23.970135, shape=(), dtype=float32)\n",
      "tf.Tensor(24.000135, shape=(), dtype=float32)\n",
      "tf.Tensor(24.030136, shape=(), dtype=float32)\n",
      "tf.Tensor(24.060137, shape=(), dtype=float32)\n",
      "tf.Tensor(24.090137, shape=(), dtype=float32)\n",
      "tf.Tensor(24.120138, shape=(), dtype=float32)\n",
      "tf.Tensor(24.150139, shape=(), dtype=float32)\n",
      "tf.Tensor(24.18014, shape=(), dtype=float32)\n",
      "tf.Tensor(24.21014, shape=(), dtype=float32)\n",
      "tf.Tensor(24.24014, shape=(), dtype=float32)\n",
      "tf.Tensor(24.270142, shape=(), dtype=float32)\n",
      "tf.Tensor(24.300142, shape=(), dtype=float32)\n",
      "tf.Tensor(24.330143, shape=(), dtype=float32)\n",
      "tf.Tensor(24.360144, shape=(), dtype=float32)\n",
      "tf.Tensor(24.390144, shape=(), dtype=float32)\n"
     ]
    },
    {
     "name": "stdout",
     "output_type": "stream",
     "text": [
      "tf.Tensor(24.420145, shape=(), dtype=float32)\n",
      "tf.Tensor(24.450146, shape=(), dtype=float32)\n",
      "tf.Tensor(24.480146, shape=(), dtype=float32)\n",
      "tf.Tensor(24.510147, shape=(), dtype=float32)\n",
      "tf.Tensor(24.540148, shape=(), dtype=float32)\n",
      "tf.Tensor(24.570148, shape=(), dtype=float32)\n",
      "tf.Tensor(24.60015, shape=(), dtype=float32)\n",
      "tf.Tensor(24.63015, shape=(), dtype=float32)\n",
      "tf.Tensor(24.66015, shape=(), dtype=float32)\n",
      "tf.Tensor(24.690151, shape=(), dtype=float32)\n",
      "tf.Tensor(24.720152, shape=(), dtype=float32)\n",
      "tf.Tensor(24.750153, shape=(), dtype=float32)\n",
      "tf.Tensor(24.780153, shape=(), dtype=float32)\n",
      "tf.Tensor(24.810154, shape=(), dtype=float32)\n",
      "tf.Tensor(24.840155, shape=(), dtype=float32)\n",
      "tf.Tensor(24.870155, shape=(), dtype=float32)\n",
      "tf.Tensor(24.900156, shape=(), dtype=float32)\n",
      "tf.Tensor(24.930157, shape=(), dtype=float32)\n",
      "tf.Tensor(24.960157, shape=(), dtype=float32)\n",
      "tf.Tensor(24.990158, shape=(), dtype=float32)\n",
      "tf.Tensor(25.020159, shape=(), dtype=float32)\n",
      "tf.Tensor(25.05016, shape=(), dtype=float32)\n",
      "tf.Tensor(25.08016, shape=(), dtype=float32)\n",
      "tf.Tensor(25.11016, shape=(), dtype=float32)\n",
      "tf.Tensor(25.140162, shape=(), dtype=float32)\n",
      "tf.Tensor(25.170162, shape=(), dtype=float32)\n",
      "tf.Tensor(25.200163, shape=(), dtype=float32)\n",
      "tf.Tensor(25.230164, shape=(), dtype=float32)\n",
      "tf.Tensor(25.260164, shape=(), dtype=float32)\n",
      "tf.Tensor(25.290165, shape=(), dtype=float32)\n",
      "tf.Tensor(25.320166, shape=(), dtype=float32)\n",
      "tf.Tensor(25.350166, shape=(), dtype=float32)\n",
      "tf.Tensor(25.380167, shape=(), dtype=float32)\n",
      "tf.Tensor(25.410168, shape=(), dtype=float32)\n",
      "tf.Tensor(25.440168, shape=(), dtype=float32)\n",
      "tf.Tensor(25.47017, shape=(), dtype=float32)\n",
      "tf.Tensor(25.50017, shape=(), dtype=float32)\n",
      "tf.Tensor(25.53017, shape=(), dtype=float32)\n",
      "tf.Tensor(25.560171, shape=(), dtype=float32)\n",
      "tf.Tensor(25.590172, shape=(), dtype=float32)\n",
      "tf.Tensor(25.620173, shape=(), dtype=float32)\n",
      "tf.Tensor(25.650173, shape=(), dtype=float32)\n",
      "tf.Tensor(25.680174, shape=(), dtype=float32)\n",
      "tf.Tensor(25.710175, shape=(), dtype=float32)\n",
      "tf.Tensor(25.740175, shape=(), dtype=float32)\n",
      "tf.Tensor(25.770176, shape=(), dtype=float32)\n",
      "tf.Tensor(25.800177, shape=(), dtype=float32)\n",
      "tf.Tensor(25.830177, shape=(), dtype=float32)\n",
      "tf.Tensor(25.860178, shape=(), dtype=float32)\n",
      "tf.Tensor(25.890179, shape=(), dtype=float32)\n",
      "tf.Tensor(25.92018, shape=(), dtype=float32)\n",
      "tf.Tensor(25.95018, shape=(), dtype=float32)\n",
      "tf.Tensor(25.98018, shape=(), dtype=float32)\n",
      "tf.Tensor(26.010181, shape=(), dtype=float32)\n",
      "tf.Tensor(26.040182, shape=(), dtype=float32)\n",
      "tf.Tensor(26.070183, shape=(), dtype=float32)\n",
      "tf.Tensor(26.100183, shape=(), dtype=float32)\n",
      "tf.Tensor(26.130184, shape=(), dtype=float32)\n",
      "tf.Tensor(26.160185, shape=(), dtype=float32)\n",
      "tf.Tensor(26.190186, shape=(), dtype=float32)\n",
      "tf.Tensor(26.220186, shape=(), dtype=float32)\n",
      "tf.Tensor(26.250187, shape=(), dtype=float32)\n",
      "tf.Tensor(26.280188, shape=(), dtype=float32)\n",
      "tf.Tensor(26.310188, shape=(), dtype=float32)\n",
      "tf.Tensor(26.340189, shape=(), dtype=float32)\n",
      "tf.Tensor(26.37019, shape=(), dtype=float32)\n",
      "tf.Tensor(26.40019, shape=(), dtype=float32)\n",
      "tf.Tensor(26.430191, shape=(), dtype=float32)\n",
      "tf.Tensor(26.460192, shape=(), dtype=float32)\n",
      "tf.Tensor(26.490192, shape=(), dtype=float32)\n",
      "tf.Tensor(26.520193, shape=(), dtype=float32)\n",
      "tf.Tensor(26.550194, shape=(), dtype=float32)\n",
      "tf.Tensor(26.580194, shape=(), dtype=float32)\n",
      "tf.Tensor(26.610195, shape=(), dtype=float32)\n",
      "tf.Tensor(26.640196, shape=(), dtype=float32)\n",
      "tf.Tensor(26.670197, shape=(), dtype=float32)\n",
      "tf.Tensor(26.700197, shape=(), dtype=float32)\n",
      "tf.Tensor(26.730198, shape=(), dtype=float32)\n",
      "tf.Tensor(26.760199, shape=(), dtype=float32)\n",
      "tf.Tensor(26.7902, shape=(), dtype=float32)\n",
      "tf.Tensor(26.8202, shape=(), dtype=float32)\n",
      "tf.Tensor(26.8502, shape=(), dtype=float32)\n",
      "tf.Tensor(26.880201, shape=(), dtype=float32)\n",
      "tf.Tensor(26.910202, shape=(), dtype=float32)\n",
      "tf.Tensor(26.940203, shape=(), dtype=float32)\n",
      "tf.Tensor(26.970203, shape=(), dtype=float32)\n",
      "tf.Tensor(27.000204, shape=(), dtype=float32)\n",
      "tf.Tensor(27.030205, shape=(), dtype=float32)\n",
      "tf.Tensor(27.060205, shape=(), dtype=float32)\n",
      "tf.Tensor(27.090206, shape=(), dtype=float32)\n",
      "tf.Tensor(27.120207, shape=(), dtype=float32)\n",
      "tf.Tensor(27.150208, shape=(), dtype=float32)\n",
      "tf.Tensor(27.180208, shape=(), dtype=float32)\n",
      "tf.Tensor(27.210209, shape=(), dtype=float32)\n",
      "tf.Tensor(27.24021, shape=(), dtype=float32)\n",
      "tf.Tensor(27.27021, shape=(), dtype=float32)\n",
      "tf.Tensor(27.30021, shape=(), dtype=float32)\n",
      "tf.Tensor(27.330212, shape=(), dtype=float32)\n",
      "tf.Tensor(27.360212, shape=(), dtype=float32)\n",
      "tf.Tensor(27.390213, shape=(), dtype=float32)\n",
      "tf.Tensor(27.420214, shape=(), dtype=float32)\n",
      "tf.Tensor(27.450214, shape=(), dtype=float32)\n",
      "tf.Tensor(27.480215, shape=(), dtype=float32)\n",
      "tf.Tensor(27.510216, shape=(), dtype=float32)\n",
      "tf.Tensor(27.540216, shape=(), dtype=float32)\n",
      "tf.Tensor(27.570217, shape=(), dtype=float32)\n",
      "tf.Tensor(27.600218, shape=(), dtype=float32)\n",
      "tf.Tensor(27.630219, shape=(), dtype=float32)\n",
      "tf.Tensor(27.66022, shape=(), dtype=float32)\n",
      "tf.Tensor(27.69022, shape=(), dtype=float32)\n",
      "tf.Tensor(27.72022, shape=(), dtype=float32)\n",
      "tf.Tensor(27.750221, shape=(), dtype=float32)\n",
      "tf.Tensor(27.780222, shape=(), dtype=float32)\n",
      "tf.Tensor(27.810223, shape=(), dtype=float32)\n",
      "tf.Tensor(27.840223, shape=(), dtype=float32)\n",
      "tf.Tensor(27.870224, shape=(), dtype=float32)\n",
      "tf.Tensor(27.900225, shape=(), dtype=float32)\n",
      "tf.Tensor(27.930225, shape=(), dtype=float32)\n",
      "tf.Tensor(27.960226, shape=(), dtype=float32)\n",
      "tf.Tensor(27.990227, shape=(), dtype=float32)\n",
      "tf.Tensor(28.020227, shape=(), dtype=float32)\n",
      "tf.Tensor(28.050228, shape=(), dtype=float32)\n",
      "tf.Tensor(28.080229, shape=(), dtype=float32)\n",
      "tf.Tensor(28.11023, shape=(), dtype=float32)\n",
      "tf.Tensor(28.14023, shape=(), dtype=float32)\n",
      "tf.Tensor(28.17023, shape=(), dtype=float32)\n",
      "tf.Tensor(28.200232, shape=(), dtype=float32)\n",
      "tf.Tensor(28.230232, shape=(), dtype=float32)\n",
      "tf.Tensor(28.260233, shape=(), dtype=float32)\n",
      "tf.Tensor(28.290234, shape=(), dtype=float32)\n",
      "tf.Tensor(28.320234, shape=(), dtype=float32)\n",
      "tf.Tensor(28.350235, shape=(), dtype=float32)\n",
      "tf.Tensor(28.380236, shape=(), dtype=float32)\n",
      "tf.Tensor(28.410236, shape=(), dtype=float32)\n",
      "tf.Tensor(28.440237, shape=(), dtype=float32)\n",
      "tf.Tensor(28.470238, shape=(), dtype=float32)\n",
      "tf.Tensor(28.500238, shape=(), dtype=float32)\n",
      "tf.Tensor(28.53024, shape=(), dtype=float32)\n",
      "tf.Tensor(28.56024, shape=(), dtype=float32)\n",
      "tf.Tensor(28.59024, shape=(), dtype=float32)\n",
      "tf.Tensor(28.620241, shape=(), dtype=float32)\n",
      "tf.Tensor(28.650242, shape=(), dtype=float32)\n",
      "tf.Tensor(28.680243, shape=(), dtype=float32)\n",
      "tf.Tensor(28.710243, shape=(), dtype=float32)\n",
      "tf.Tensor(28.740244, shape=(), dtype=float32)\n",
      "tf.Tensor(28.770245, shape=(), dtype=float32)\n",
      "tf.Tensor(28.800245, shape=(), dtype=float32)\n",
      "tf.Tensor(28.830246, shape=(), dtype=float32)\n",
      "tf.Tensor(28.860247, shape=(), dtype=float32)\n",
      "tf.Tensor(28.890247, shape=(), dtype=float32)\n",
      "tf.Tensor(28.920248, shape=(), dtype=float32)\n",
      "tf.Tensor(28.950249, shape=(), dtype=float32)\n",
      "tf.Tensor(28.98025, shape=(), dtype=float32)\n",
      "tf.Tensor(29.01025, shape=(), dtype=float32)\n",
      "tf.Tensor(29.04025, shape=(), dtype=float32)\n",
      "tf.Tensor(29.070251, shape=(), dtype=float32)\n",
      "tf.Tensor(29.100252, shape=(), dtype=float32)\n",
      "tf.Tensor(29.130253, shape=(), dtype=float32)\n",
      "tf.Tensor(29.160254, shape=(), dtype=float32)\n",
      "tf.Tensor(29.190254, shape=(), dtype=float32)\n",
      "tf.Tensor(29.220255, shape=(), dtype=float32)\n",
      "tf.Tensor(29.250256, shape=(), dtype=float32)\n",
      "tf.Tensor(29.280256, shape=(), dtype=float32)\n",
      "tf.Tensor(29.310257, shape=(), dtype=float32)\n",
      "tf.Tensor(29.340258, shape=(), dtype=float32)\n",
      "tf.Tensor(29.370258, shape=(), dtype=float32)\n",
      "tf.Tensor(29.400259, shape=(), dtype=float32)\n",
      "tf.Tensor(29.43026, shape=(), dtype=float32)\n",
      "tf.Tensor(29.46026, shape=(), dtype=float32)\n",
      "tf.Tensor(29.490261, shape=(), dtype=float32)\n",
      "tf.Tensor(29.520262, shape=(), dtype=float32)\n",
      "tf.Tensor(29.550262, shape=(), dtype=float32)\n",
      "tf.Tensor(29.580263, shape=(), dtype=float32)\n",
      "tf.Tensor(29.610264, shape=(), dtype=float32)\n",
      "tf.Tensor(29.640265, shape=(), dtype=float32)\n",
      "tf.Tensor(29.670265, shape=(), dtype=float32)\n",
      "tf.Tensor(29.700266, shape=(), dtype=float32)\n",
      "tf.Tensor(29.730267, shape=(), dtype=float32)\n",
      "tf.Tensor(29.760267, shape=(), dtype=float32)\n",
      "tf.Tensor(29.790268, shape=(), dtype=float32)\n",
      "tf.Tensor(29.820269, shape=(), dtype=float32)\n",
      "tf.Tensor(29.85027, shape=(), dtype=float32)\n",
      "tf.Tensor(29.88027, shape=(), dtype=float32)\n",
      "tf.Tensor(29.91027, shape=(), dtype=float32)\n",
      "tf.Tensor(29.940271, shape=(), dtype=float32)\n",
      "tf.Tensor(29.970272, shape=(), dtype=float32)\n"
     ]
    }
   ],
   "source": [
    "#Realice un for sobre los elementos del tensor e imprimalos.\n",
    "for n in tfrand:\n",
    "    print(n)"
   ]
  },
  {
   "cell_type": "code",
   "execution_count": 57,
   "metadata": {
    "ExecuteTime": {
     "end_time": "2021-03-16T01:27:59.117729Z",
     "start_time": "2021-03-16T01:27:58.958696Z"
    }
   },
   "outputs": [
    {
     "data": {
      "text/html": [
       "<div>\n",
       "<style scoped>\n",
       "    .dataframe tbody tr th:only-of-type {\n",
       "        vertical-align: middle;\n",
       "    }\n",
       "\n",
       "    .dataframe tbody tr th {\n",
       "        vertical-align: top;\n",
       "    }\n",
       "\n",
       "    .dataframe thead th {\n",
       "        text-align: right;\n",
       "    }\n",
       "</style>\n",
       "<table border=\"1\" class=\"dataframe\">\n",
       "  <thead>\n",
       "    <tr style=\"text-align: right;\">\n",
       "      <th></th>\n",
       "      <th>0</th>\n",
       "    </tr>\n",
       "  </thead>\n",
       "  <tbody>\n",
       "    <tr>\n",
       "      <th>0</th>\n",
       "      <td>1.000000e+00</td>\n",
       "    </tr>\n",
       "    <tr>\n",
       "      <th>1</th>\n",
       "      <td>9.835500e-01</td>\n",
       "    </tr>\n",
       "    <tr>\n",
       "      <th>2</th>\n",
       "      <td>9.687436e-01</td>\n",
       "    </tr>\n",
       "    <tr>\n",
       "      <th>3</th>\n",
       "      <td>9.554595e-01</td>\n",
       "    </tr>\n",
       "    <tr>\n",
       "      <th>4</th>\n",
       "      <td>9.435902e-01</td>\n",
       "    </tr>\n",
       "    <tr>\n",
       "      <th>...</th>\n",
       "      <td>...</td>\n",
       "    </tr>\n",
       "    <tr>\n",
       "      <th>995</th>\n",
       "      <td>1.590640e+32</td>\n",
       "    </tr>\n",
       "    <tr>\n",
       "      <th>996</th>\n",
       "      <td>1.762158e+32</td>\n",
       "    </tr>\n",
       "    <tr>\n",
       "      <th>997</th>\n",
       "      <td>1.952228e+32</td>\n",
       "    </tr>\n",
       "    <tr>\n",
       "      <th>998</th>\n",
       "      <td>2.162864e+32</td>\n",
       "    </tr>\n",
       "    <tr>\n",
       "      <th>999</th>\n",
       "      <td>2.396297e+32</td>\n",
       "    </tr>\n",
       "  </tbody>\n",
       "</table>\n",
       "<p>1000 rows × 1 columns</p>\n",
       "</div>"
      ],
      "text/plain": [
       "                0\n",
       "0    1.000000e+00\n",
       "1    9.835500e-01\n",
       "2    9.687436e-01\n",
       "3    9.554595e-01\n",
       "4    9.435902e-01\n",
       "..            ...\n",
       "995  1.590640e+32\n",
       "996  1.762158e+32\n",
       "997  1.952228e+32\n",
       "998  2.162864e+32\n",
       "999  2.396297e+32\n",
       "\n",
       "[1000 rows x 1 columns]"
      ]
     },
     "execution_count": 57,
     "metadata": {},
     "output_type": "execute_result"
    }
   ],
   "source": [
    "#Realice el calculo de los factoriales de los numero del 1 al 30 usando el tensor del punto 6. Imprima el resultado como un DataFrame\n",
    "import pandas as pd    \n",
    "import numpy as np  \n",
    "from math import factorial\n",
    "from scipy.special import factorial\n",
    "t=tfrand.numpy()\n",
    "fact=factorial(t, exact=False)\n",
    "data=pd.DataFrame(fact)\n",
    "data"
   ]
  },
  {
   "cell_type": "markdown",
   "metadata": {
    "ExecuteTime": {
     "end_time": "2021-03-14T23:08:27.899080Z",
     "start_time": "2021-03-14T23:08:27.880131Z"
    }
   },
   "source": [
    "# Creación de *pipelines* de entrada con tf.data: la API de conjunto de datos de TensorFlow\n",
    "\n",
    "Cuando entrenamos un modelo NN profundo, generalmente entrenamos el modelo de forma incremental utilizando un algoritmo de optimización iterativo como el descenso de gradiente estocástico, como hemos visto en clases anteriores.\n",
    "\n",
    "La API de Keras es un contenedor de TensorFlow para crear modelos NN. La API de Keras proporciona un método, `.fit ()`, para entrenar los modelos. En los casos en que el conjunto de datos de entrenamiento es bastante pequeño y se puede cargar como un tensor en la memoria, los modelos de TensorFlow (que se compilan con la API de Keras) pueden usar este tensor directamente a través de su método .fit () para el entrenamiento. Sin embargo, en casos de uso típicos, cuando el conjunto de datos es demasiado grande para caber en la memoria de la computadora, necesitaremos cargar los datos del dispositivo de almacenamiento principal (por ejemplo, el disco duro o la unidad de estado sólido) en trozos, es decir, lote por lote. \n",
    "\n",
    "Además, es posible que necesitemos construir un *pipeline* de procesamiento de datos para aplicar ciertas transformaciones y pasos de preprocesamiento a nuestros datos, como el centrado medio, el escalado o la adición de ruido para aumentar el procedimiento de entrenamiento y evitar el sobreajuste.\n",
    "\n",
    "Aplicar las funciones de preprocesamiento manualmente cada vez puede resultar bastante engorroso. Afortunadamente, TensorFlow proporciona una clase especial para construir *pipelines* de preprocesamiento eficientes y convenientes. En esta parte, veremos una descripción general de los diferentes métodos para construir un conjunto de datos de TensorFlow, incluidas las transformaciones del conjunto de datos y los pasos de preprocesamiento comunes.\n",
    "\n",
    "## Creando un Dataset de TensorFlow desde tensores existentes\n",
    "\n",
    "Si los datos ya existen en forma de un objeto tensor, una lista de Python o una matriz NumPy, podemos crear fácilmente un conjunto de datos usando la función `tf.data.Dataset.from_tensor_ slices()`. Esta función devuelve un objeto de la clase Dataset, que podemos usar para iterar a través de los elementos individuales en el conjunto de datos de entrada:\n"
   ]
  },
  {
   "cell_type": "code",
   "execution_count": null,
   "metadata": {
    "ExecuteTime": {
     "end_time": "2021-03-15T22:13:16.870380Z",
     "start_time": "2021-03-15T22:13:16.835474Z"
    }
   },
   "outputs": [],
   "source": [
    "# Ejemplo con listas\n",
    "# ======================================================\n",
    "a = [1.2, 3.4, 7.5, 4.1, 5.0, 1.0]\n",
    "ds = tf.data.Dataset.from_tensor_slices(a)\n",
    "print(ds)"
   ]
  },
  {
   "cell_type": "code",
   "execution_count": null,
   "metadata": {
    "ExecuteTime": {
     "end_time": "2021-03-15T22:13:26.092955Z",
     "start_time": "2021-03-15T22:13:25.964626Z"
    }
   },
   "outputs": [],
   "source": [
    "for item in ds:\n",
    "    print(item)"
   ]
  },
  {
   "cell_type": "markdown",
   "metadata": {},
   "source": [
    "Si queremos crear lotes a partir de este conjunto de datos, con un tamaño de lote deseado de 3, podemos hacerlo de la siguiente manera:"
   ]
  },
  {
   "cell_type": "code",
   "execution_count": null,
   "metadata": {
    "ExecuteTime": {
     "end_time": "2021-03-15T22:15:02.763470Z",
     "start_time": "2021-03-15T22:15:02.734549Z"
    }
   },
   "outputs": [],
   "source": [
    "# Creando lotes de 3 elementos cada uno\n",
    "# ===================================================\n",
    "ds_batch = ds.batch(3)\n",
    "for i, elem in enumerate(ds_batch, 1):\n",
    "    print(f'batch {i}:', elem.numpy())"
   ]
  },
  {
   "cell_type": "markdown",
   "metadata": {},
   "source": [
    "Esto creará dos lotes a partir de este conjunto de datos, donde los primeros tres elementos van al lote n° 1 y los elementos restantes al lote n° 2. El método `.batch()` tiene un argumento opcional, `drop_remainder`, que es útil para los casos en los que el número de elementos en el tensor no es divisible por el tamaño de lote deseado. El valor predeterminado de `drop_remainder` es `False`.\n",
    "\n",
    "## Combinar dos tensores en un Dataset\n",
    "\n",
    "A menudo, podemos tener los datos en dos (o posiblemente más) tensores. Por ejemplo, podríamos tener un tensor para características y un tensor para etiquetas. En tales casos, necesitamos construir un conjunto de datos que combine estos tensores juntos, lo que nos permitirá recuperar los elementos de estos tensores en tuplas.\n",
    "\n",
    "Suponga que tenemos dos tensores, t_x y t_y. El tensor t_x contiene nuestros valores de características, cada uno de tamaño 3, y t_y almacena las etiquetas de clase. Para este ejemplo, primero creamos estos dos tensores de la siguiente manera:"
   ]
  },
  {
   "cell_type": "code",
   "execution_count": null,
   "metadata": {
    "ExecuteTime": {
     "end_time": "2021-03-15T22:17:44.891030Z",
     "start_time": "2021-03-15T22:17:44.880059Z"
    }
   },
   "outputs": [],
   "source": [
    "# Datos de ejemplo\n",
    "# ============================================\n",
    "tf.random.set_seed(1)\n",
    "t_x = tf.random.uniform([4, 3], dtype=tf.float32)\n",
    "t_y = tf.range(4)\n",
    "print(t_x)\n",
    "print(t_y)"
   ]
  },
  {
   "cell_type": "code",
   "execution_count": null,
   "metadata": {
    "ExecuteTime": {
     "end_time": "2021-03-15T22:17:47.301733Z",
     "start_time": "2021-03-15T22:17:47.267830Z"
    }
   },
   "outputs": [],
   "source": [
    "# Uniendo los dos tensores en un Dataset\n",
    "# ============================================\n",
    "ds_x = tf.data.Dataset.from_tensor_slices(t_x)\n",
    "ds_y = tf.data.Dataset.from_tensor_slices(t_y)\n",
    "\n",
    "ds_joint = tf.data.Dataset.zip((ds_x, ds_y))\n",
    "\n",
    "for example in ds_joint:\n",
    "    print('x:', example[0].numpy(),' y:', example[1].numpy())"
   ]
  },
  {
   "cell_type": "code",
   "execution_count": null,
   "metadata": {
    "ExecuteTime": {
     "end_time": "2021-03-15T22:18:51.213779Z",
     "start_time": "2021-03-15T22:18:51.184867Z"
    }
   },
   "outputs": [],
   "source": [
    "ds_joint = tf.data.Dataset.from_tensor_slices((t_x, t_y))\n",
    "for example in ds_joint:\n",
    "    #print(example)\n",
    "    print('x:', example[0].numpy(), ' y:', example[1].numpy())\n"
   ]
  },
  {
   "cell_type": "code",
   "execution_count": null,
   "metadata": {
    "ExecuteTime": {
     "end_time": "2021-03-15T22:19:26.314247Z",
     "start_time": "2021-03-15T22:19:26.128425Z"
    }
   },
   "outputs": [],
   "source": [
    "# Operacion sobre el dataset generado\n",
    "# ====================================================\n",
    "ds_trans = ds_joint.map(lambda x, y: (x*2-1.0, y))\n",
    "for example in ds_trans: \n",
    "    print(' x:', example[0].numpy(), ' y:', example[1].numpy())"
   ]
  },
  {
   "cell_type": "markdown",
   "metadata": {},
   "source": [
    "## Mezclar, agrupar y repetir\n",
    "\n",
    "Para entrenar un modelo NN usando la optimización de descenso de gradiente estocástico, es importante alimentar los datos de entrenamiento como lotes mezclados aleatoriamente. Ya hemos visto arriba como crear lotes llamando al método `.batch()` de un objeto de conjunto de datos. Ahora, además de crear lotes, vamos a mezclar y reiterar sobre los conjuntos de datos:"
   ]
  },
  {
   "cell_type": "code",
   "execution_count": null,
   "metadata": {
    "ExecuteTime": {
     "end_time": "2021-03-15T22:23:25.068977Z",
     "start_time": "2021-03-15T22:23:25.035124Z"
    }
   },
   "outputs": [],
   "source": [
    "# Mezclando los elementos de un tensor\n",
    "# ===================================================\n",
    "tf.random.set_seed(1)\n",
    "ds = ds_joint.shuffle(buffer_size = len(t_x))\n",
    "for example in ds:\n",
    "    print(' x:', example[0].numpy(), ' y:', example[1].numpy())"
   ]
  },
  {
   "cell_type": "markdown",
   "metadata": {
    "ExecuteTime": {
     "end_time": "2021-03-15T22:21:23.036313Z",
     "start_time": "2021-03-15T22:21:23.025308Z"
    }
   },
   "source": [
    "donde las filas se barajan sin perder la correspondencia uno a uno entre las entradas en x e y. El método `.shuffle()` requiere un argumento llamado `buffer_size`, que determina cuántos elementos del conjunto de datos se agrupan antes de barajar. Los elementos del búfer se recuperan aleatoriamente y su lugar en el búfer se asigna a los siguientes elementos del conjunto de datos original (sin mezclar). Por lo tanto, si elegimos un tamaño de búfer pequeño, es posible que no mezclemos perfectamente el conjunto de datos.\n",
    "\n",
    "Si el conjunto de datos es pequeño, la elección de un tamaño de búfer relativamente pequeño puede afectar negativamente el rendimiento predictivo del NN, ya que es posible que el conjunto de datos no esté completamente aleatorizado. En la práctica, sin embargo, por lo general no tiene un efecto notable cuando se trabaja con conjuntos de datos relativamente grandes, lo cual es común en el aprendizaje profundo.\n",
    "\n",
    "Alternativamente, para asegurar una aleatorización completa durante cada época, simplemente podemos elegir un tamaño de búfer que sea igual al número de ejemplos de entrenamiento, como en el código anterior (`buffer_size = len(t_x)`).\n",
    "\n",
    " Ahora, creemos lotes a partir del conjunto de datos ds_joint:"
   ]
  },
  {
   "cell_type": "code",
   "execution_count": null,
   "metadata": {
    "ExecuteTime": {
     "end_time": "2021-03-15T22:33:34.017208Z",
     "start_time": "2021-03-15T22:33:33.991324Z"
    }
   },
   "outputs": [],
   "source": [
    "ds = ds_joint.batch(batch_size = 3, drop_remainder = False)\n",
    "print(ds)\n",
    "batch_x, batch_y = next(iter(ds))\n",
    "print('Batch-x:\\n', batch_x.numpy())"
   ]
  },
  {
   "cell_type": "code",
   "execution_count": null,
   "metadata": {
    "ExecuteTime": {
     "end_time": "2021-03-15T22:33:28.867985Z",
     "start_time": "2021-03-15T22:33:28.863996Z"
    }
   },
   "outputs": [],
   "source": [
    "print('Batch-y: ', batch_y.numpy())"
   ]
  },
  {
   "cell_type": "markdown",
   "metadata": {},
   "source": [
    "Además, al entrenar un modelo para múltiples épocas, necesitamos mezclar e iterar sobre el conjunto de datos por el número deseado de épocas. Entonces, repitamos el conjunto de datos por lotes dos veces:"
   ]
  },
  {
   "cell_type": "code",
   "execution_count": null,
   "metadata": {
    "ExecuteTime": {
     "end_time": "2021-03-15T22:40:59.474952Z",
     "start_time": "2021-03-15T22:40:59.448031Z"
    }
   },
   "outputs": [],
   "source": [
    "ds = ds_joint.batch(3).repeat(count = 2)\n",
    "for i,(batch_x, batch_y) in enumerate(ds):\n",
    "    print(i, batch_x.numpy(), batch_y.numpy(), end = '\\n'*2)"
   ]
  },
  {
   "cell_type": "markdown",
   "metadata": {},
   "source": [
    "Esto da como resultado dos copias de cada lote. Si cambiamos el orden de estas dos operaciones, es decir, primero lote y luego repetimos, los resultados serán diferentes:"
   ]
  },
  {
   "cell_type": "code",
   "execution_count": null,
   "metadata": {
    "ExecuteTime": {
     "end_time": "2021-03-15T22:40:57.685204Z",
     "start_time": "2021-03-15T22:40:57.670245Z"
    }
   },
   "outputs": [],
   "source": [
    "ds = ds_joint.repeat(count=2).batch(3)\n",
    "for i,(batch_x, batch_y) in enumerate(ds):\n",
    "    print(i, batch_x.numpy(), batch_y.numpy(), end = '\\n'*2)"
   ]
  }
 ],
 "metadata": {
  "kernelspec": {
   "display_name": "Python 3",
   "language": "python",
   "name": "python3"
  },
  "language_info": {
   "codemirror_mode": {
    "name": "ipython",
    "version": 3
   },
   "file_extension": ".py",
   "mimetype": "text/x-python",
   "name": "python",
   "nbconvert_exporter": "python",
   "pygments_lexer": "ipython3",
   "version": "3.8.3"
  },
  "toc": {
   "base_numbering": 1,
   "nav_menu": {},
   "number_sections": true,
   "sideBar": true,
   "skip_h1_title": false,
   "title_cell": "Table of Contents",
   "title_sidebar": "Contents",
   "toc_cell": false,
   "toc_position": {},
   "toc_section_display": true,
   "toc_window_display": false
  },
  "varInspector": {
   "cols": {
    "lenName": 16,
    "lenType": 16,
    "lenVar": 40
   },
   "kernels_config": {
    "python": {
     "delete_cmd_postfix": "",
     "delete_cmd_prefix": "del ",
     "library": "var_list.py",
     "varRefreshCmd": "print(var_dic_list())"
    },
    "r": {
     "delete_cmd_postfix": ") ",
     "delete_cmd_prefix": "rm(",
     "library": "var_list.r",
     "varRefreshCmd": "cat(var_dic_list()) "
    }
   },
   "types_to_exclude": [
    "module",
    "function",
    "builtin_function_or_method",
    "instance",
    "_Feature"
   ],
   "window_display": false
  }
 },
 "nbformat": 4,
 "nbformat_minor": 4
}
