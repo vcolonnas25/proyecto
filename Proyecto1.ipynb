{
 "cells": [
  {
   "cell_type": "code",
   "execution_count": 1,
   "metadata": {
    "ExecuteTime": {
     "end_time": "2020-11-07T18:39:40.892739Z",
     "start_time": "2020-11-07T18:39:40.833064Z"
    }
   },
   "outputs": [
    {
     "name": "stdout",
     "output_type": "stream",
     "text": [
      " El volumen de la unidad C es Acer\n",
      " El número de serie del volumen es: DEAB-1B2E\n",
      "\n",
      " Directorio de C:\\Users\\ccolo\\Desktop\n",
      "\n",
      "07/11/2020  01:39 p. m.    <DIR>          .\n",
      "07/11/2020  01:39 p. m.    <DIR>          ..\n",
      "07/11/2020  01:39 p. m.    <DIR>          .ipynb_checkpoints\n",
      "02/08/2020  11:27 p. m.               900 µTorrent.lnk\n",
      "01/08/2020  02:49 a. m.               442 4.86.1_LITE_Link (1).zip\n",
      "01/08/2020  02:45 a. m.    <DIR>          Console Backup\n",
      "05/08/2020  05:13 p. m.    <DIR>          CONTRUIN COVID-19\n",
      "06/11/2020  07:57 p. m.    <DIR>          Curso-ciencia-de-datos-main\n",
      "19/05/2020  11:57 a. m.             1.303 Dropbox.lnk\n",
      "14/07/2020  07:14 p. m.         2.290.940 Electroencefalografia.pdf\n",
      "05/10/2020  01:19 p. m.            27.956 Encuesta Vulnerabilidad.xlsx\n",
      "18/09/2020  03:32 p. m.               307 Football Manager 2020.url\n",
      "23/10/2020  06:42 p. m.    <DIR>          Formulario\n",
      "01/11/2020  05:08 p. m.             9.192 Funciones.ipynb\n",
      "06/11/2020  07:19 p. m.                 9 guest.txt\n",
      "19/10/2020  03:41 p. m.               764 index.css\n",
      "09/07/2020  02:45 p. m.            62.976 LISTADODEPERSONAL03-07-2020 PARA NADIA.xls\n",
      "16/10/2020  07:45 p. m.    <DIR>          ninos\n",
      "19/10/2020  03:41 p. m.    <DIR>          ni-os-main\n",
      "31/07/2020  09:44 p. m.    <DIR>          NPS\n",
      "01/08/2020  04:43 p. m.    <DIR>          PKG Games\n",
      "14/10/2020  08:48 p. m.    <DIR>          Portafolio\n",
      "27/10/2020  07:26 p. m.             7.431 PrimerArchivo.ipynb\n",
      "07/11/2020  01:39 p. m.                72 Proyecto1.ipynb\n",
      "06/11/2020  06:46 p. m.               108 queaprendi.txt\n",
      "30/10/2020  08:40 p. m.    <DIR>          Semana-1\n",
      "23/10/2020  07:19 p. m.    <DIR>          startbootstrap-resume-gh-pages\n",
      "14/07/2020  07:07 p. m.           274.035 TAC Craneo Simple.pdf\n",
      "03/11/2020  08:48 p. m.             9.011 Untitled.ipynb\n",
      "30/10/2020  08:12 p. m.                 0 untitled.txt\n",
      "30/10/2020  08:06 p. m.             1.728 Untitled1.ipynb\n",
      "31/10/2020  12:04 p. m.             6.591 Variables y tipos de datos 3.ipynb\n",
      "01/11/2020  03:09 p. m.            49.896 Variables y tipos de datos.ipynb\n",
      "22/10/2020  06:51 p. m.    <DIR>          vcolonnas25.github.io\n",
      "19/10/2020  03:41 p. m.             1.011 vcs.html\n",
      "07/11/2020  01:36 p. m.                45 vectores.txt\n",
      "              21 archivos      2.744.717 bytes\n",
      "              15 dirs   7.875.063.808 bytes libres\n"
     ]
    }
   ],
   "source": [
    "ls\n"
   ]
  },
  {
   "cell_type": "code",
   "execution_count": 79,
   "metadata": {
    "ExecuteTime": {
     "end_time": "2020-11-11T02:25:45.833184Z",
     "start_time": "2020-11-11T02:25:45.789040Z"
    }
   },
   "outputs": [
    {
     "name": "stdout",
     "output_type": "stream",
     "text": [
      "['3 2 1 -1', '4 3 2 0 1 3', '1 0 1 2 4 8', '1 2 6 7']\n",
      "[3, 2][1, -1][4, 3, 2][0, 1, 3][1, 0, 1][2, 4, 8][1, 2][6, 7]"
     ]
    }
   ],
   "source": [
    "with open('vectores.txt') as archivo:\n",
    "    lineas = list(map(str.rstrip, archivo))\n",
    "    print(lineas)\n",
    "    \n",
    "    v1=lineas[0]\n",
    "    vector1=v1.split(\" \")\n",
    "    final=vector1[0:2]\n",
    "    for i in range(0, len(final)): \n",
    "        final[i] = int(final[i]) \n",
    "    final2=vector1[2:4]\n",
    "    for i in range(0, len(final2)): \n",
    "        final2[i] = int(final2[i])\n",
    "    print(final,end=\"\")\n",
    "    print(final2,end=\"\")\n",
    "    \n",
    "    v2=lineas[1]\n",
    "    vector2=v2.split(\" \")\n",
    "    final3=vector2[0:3]\n",
    "    for i in range(0, len(final3)): \n",
    "        final3[i] = int(final3[i]) \n",
    "    final4=vector2[3:6]\n",
    "    for i in range(0, len(final4)): \n",
    "        final4[i] = int(final4[i])\n",
    "    print(final3,end=\"\")\n",
    "    print(final4,end=\"\")\n",
    "    \n",
    "    v3=lineas[2]\n",
    "    vector3=v3.split(\" \")\n",
    "    final5=vector3[0:3]\n",
    "    for i in range(0, len(final5)): \n",
    "        final5[i] = int(final5[i]) \n",
    "    final6=vector3[3:6]\n",
    "    for i in range(0, len(final6)): \n",
    "        final6[i] = int(final6[i])\n",
    "    print(final5,end=\"\")\n",
    "    print(final6,end=\"\")\n",
    "    \n",
    "    v4=lineas[3]\n",
    "    vector4=v4.split(\" \")\n",
    "    final7=vector4[0:2]\n",
    "    for i in range(0, len(final7)): \n",
    "        final7[i] = int(final7[i]) \n",
    "    final8=vector4[2:4]\n",
    "    for i in range(0, len(final8)): \n",
    "        final8[i] = int(final8[i])\n",
    "    print(final7,end=\"\")\n",
    "    print(final8,end=\"\")\n"
   ]
  },
  {
   "cell_type": "code",
   "execution_count": 88,
   "metadata": {
    "ExecuteTime": {
     "end_time": "2020-11-11T02:33:19.894951Z",
     "start_time": "2020-11-11T02:33:19.877094Z"
    }
   },
   "outputs": [],
   "source": [
    "\n",
    "class Vectores:\n",
    "    vect1=[]\n",
    "    vect2=[]\n",
    "    def __init__(self,*args):\n",
    "        self.vector=args\n",
    "    def suma(self, vect1,vect2):\n",
    "        self.resultado = list(map(lambda x,y: x+y, vect1, vect2))\n",
    "        print(\"La suma de: \" + str(vect1) + \" y \"+ str(vect2) + \" es \" + str(self.resultado))\n",
    "    def resta(self, vect1,vect2):\n",
    "        self.resultado = list(map(lambda x,y: x-y, vect1, vect2))\n",
    "        print(\"La resta de: \" + str(vect1) + \" y \"+ str(vect2) + \" es \" + str(self.resultado))\n",
    "    def multiplicar(self, vect1,vect2):\n",
    "        self.resultado = list(map(lambda x,y: x*y, vect1, vect2))\n",
    "        print(\"La multiplicación de: \" + str(vect1) + \" y \"+ str(vect2) + \" es \" + str(self.resultado))\n",
    "    def productopunto(self, vect1,vect2):\n",
    "        self.resultado = list(map(lambda x,y: x*y, vect1, vect2))\n",
    "        print(\"El producto punto es: \" + str(sum(self.resultado)))\n",
    "    def productocruz(self, vect1,vect2):\n",
    "        if len(vect1)==3 and len(vect2)==3:\n",
    "            print([vect1[1]*vect2[2]-vect2[1]*vect1[2],vect2[0]*vect1[2]-vect1[1]*vect2[2],vect1[0]*vect2[1]-vect1[1]*vect2[0]])"
   ]
  },
  {
   "cell_type": "code",
   "execution_count": 90,
   "metadata": {
    "ExecuteTime": {
     "end_time": "2020-11-11T02:35:09.480152Z",
     "start_time": "2020-11-11T02:35:09.462449Z"
    },
    "run_control": {
     "marked": false
    },
    "scrolled": true
   },
   "outputs": [
    {
     "name": "stdout",
     "output_type": "stream",
     "text": [
      "La suma de: [3, 2] y [1, -1] es [4, 1]\n",
      "La resta de: [3, 2] y [1, -1] es [2, 3]\n",
      "La multiplicación de: [3, 2] y [1, -1] es [3, -2]\n",
      "El producto punto es: 1\n",
      "La suma de: [4, 3, 2] y [0, 1, 3] es [4, 4, 5]\n",
      "La resta de: [4, 3, 2] y [0, 1, 3] es [4, 2, -1]\n",
      "La multiplicación de: [4, 3, 2] y [0, 1, 3] es [0, 3, 6]\n",
      "El producto punto es: 9\n",
      "La suma de: [1, 0, 1] y [2, 4, 8] es [3, 4, 9]\n",
      "La resta de: [1, 0, 1] y [2, 4, 8] es [-1, -4, -7]\n",
      "La multiplicación de: [1, 0, 1] y [2, 4, 8] es [2, 0, 8]\n",
      "El producto punto es: 10\n",
      "La suma de: [1, 2] y [6, 7] es [7, 9]\n",
      "La resta de: [1, 2] y [6, 7] es [-5, -5]\n",
      "La multiplicación de: [1, 2] y [6, 7] es [6, 14]\n",
      "El producto punto es: 20\n"
     ]
    }
   ],
   "source": [
    "prueba1=Vectores(final,final2)\n",
    "prueba1.suma(final,final2)\n",
    "prueba1.resta(final,final2)\n",
    "prueba1.multiplicar(final,final2)\n",
    "prueba1.productopunto(final,final2)\n",
    "\n",
    "prueba2=Vectores(final3,final4)\n",
    "prueba2.suma(final3,final4)\n",
    "prueba2.resta(final3,final4)\n",
    "prueba2.multiplicar(final3,final4)\n",
    "prueba2.productopunto(final3,final4)\n",
    "\n",
    "prueba3=Vectores(final5,final6)\n",
    "prueba3.suma(final5,final6)\n",
    "prueba3.resta(final5,final6)\n",
    "prueba3.multiplicar(final5,final6)\n",
    "prueba3.productopunto(final5,final6)\n",
    "\n",
    "prueba4=Vectores(final7,final8)\n",
    "prueba4.suma(final7,final8)\n",
    "prueba4.resta(final7,final8)\n",
    "prueba4.multiplicar(final7,final8)\n",
    "prueba4.productopunto(final7,final8)\n"
   ]
  },
  {
   "cell_type": "code",
   "execution_count": 91,
   "metadata": {
    "ExecuteTime": {
     "end_time": "2020-11-11T02:36:01.894961Z",
     "start_time": "2020-11-11T02:36:01.884551Z"
    }
   },
   "outputs": [
    {
     "name": "stdout",
     "output_type": "stream",
     "text": [
      "[7, -9, 4]\n",
      "[-4, 2, 4]\n"
     ]
    }
   ],
   "source": [
    "#Producto cruz\n",
    "def productocruz(vect1,vect2):\n",
    "    if len(vect1)==3 and len(vect2)==3:\n",
    "        print([vect1[1]*vect2[2]-vect2[1]*vect1[2],vect2[0]*vect1[2]-vect1[1]*vect2[2],vect1[0]*vect2[1]-vect1[1]*vect2[0]])\n",
    "        \n",
    "productocruz(final3,final4)\n",
    "productocruz(final5,final6)"
   ]
  }
 ],
 "metadata": {
  "kernelspec": {
   "display_name": "Python 3",
   "language": "python",
   "name": "python3"
  },
  "language_info": {
   "codemirror_mode": {
    "name": "ipython",
    "version": 3
   },
   "file_extension": ".py",
   "mimetype": "text/x-python",
   "name": "python",
   "nbconvert_exporter": "python",
   "pygments_lexer": "ipython3",
   "version": "3.8.3"
  },
  "toc": {
   "base_numbering": 1,
   "nav_menu": {},
   "number_sections": true,
   "sideBar": true,
   "skip_h1_title": false,
   "title_cell": "Table of Contents",
   "title_sidebar": "Contents",
   "toc_cell": false,
   "toc_position": {},
   "toc_section_display": true,
   "toc_window_display": false
  },
  "varInspector": {
   "cols": {
    "lenName": 16,
    "lenType": 16,
    "lenVar": 40
   },
   "kernels_config": {
    "python": {
     "delete_cmd_postfix": "",
     "delete_cmd_prefix": "del ",
     "library": "var_list.py",
     "varRefreshCmd": "print(var_dic_list())"
    },
    "r": {
     "delete_cmd_postfix": ") ",
     "delete_cmd_prefix": "rm(",
     "library": "var_list.r",
     "varRefreshCmd": "cat(var_dic_list()) "
    }
   },
   "types_to_exclude": [
    "module",
    "function",
    "builtin_function_or_method",
    "instance",
    "_Feature"
   ],
   "window_display": false
  }
 },
 "nbformat": 4,
 "nbformat_minor": 4
}
