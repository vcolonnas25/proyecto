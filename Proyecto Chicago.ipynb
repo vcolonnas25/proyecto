{
 "cells": [
  {
   "cell_type": "markdown",
   "metadata": {},
   "source": [
    "## Indicadores Socieconomicos de chicago\n",
    "\n",
    "Se trabajara con una base de datos obtenida a partir de un archivo .csv que contiene algunos indicadores socioeconomicos de Chicago. Para mas informacion de esta base de datos, puede consultar  [the city of Chicago's website](https://data.cityofchicago.org/Health-Human-Services/Census-Data-Selected-socioeconomic-indicators-in-C/kn9c-c2s2?cm_mmc=Email_Newsletter-_-Developer_Ed%2BTech-_-WW_WW-_-SkillsNetwork-Courses-IBMDeveloperSkillsNetwork-DB0201EN-SkillsNetwork-20127838&cm_mmca1=000026UJ&cm_mmca2=10006555&cm_mmca3=M12345678&cvosrc=email.Newsletter.M12345678&cvo_campaign=000026UJ&cm_mmc=Email_Newsletter-_-Developer_Ed%2BTech-_-WW_WW-_-SkillsNetwork-Courses-IBMDeveloperSkillsNetwork-DB0201EN-SkillsNetwork-20127838&cm_mmca1=000026UJ&cm_mmca2=10006555&cm_mmca3=M12345678&cvosrc=email.Newsletter.M12345678&cvo_campaign=000026UJ), \n",
    "\n",
    "Las variables de dicho dataset son las siguientes:\n",
    "\n",
    "-   **Número de área comunitaria** (`ca`): Usado para identificar de manera unica cada fila\n",
    "\n",
    "-   **Nombre del área comunitaria** (`community_area_name`): El nombre de la region en la ciudad de Chicago \n",
    "\n",
    "-   **Porcentaje de viviendas abarrotadas** (`percent_of_housing_crowded`): Porcentaje de unidades de vivienda ocupadas con mas de una persona por habitacion\n",
    "\n",
    "-   **Porcentaje de hogares por debajo de la pobreza** (`percent_households_below_poverty`): Porcentejae de hogares que viven por debajo de la linea de pobreza federal\n",
    "\n",
    "-   **Porcentaje de desempleados mayores de 16 años** (`percent_aged_16_unemployed`): Porcentaje de personas mayores a 16 que estan desempleados\n",
    "\n",
    "-   **Porcentaje de mayores de 25 años sin diploma de escuela secundaria** (`percent_aged_25_without_high_school_diploma`): Porcentaje de personas mayores a 25 sin educacion secundaria\n",
    "\n",
    "-   **Porcentaje de menores de edad** 18 o más de 64: porcentaje de la población menor de 18 o mayor de 64 años (`percent_aged_under_18_or_over_64`): (ej. dependents)\n",
    "\n",
    "-   **Ingreso Per capita** (`per_capita_income_`): El ingreso per cápita del área comunitaria se estima como la suma de los ingresos agregados a nivel de zona dividida por la población total\n",
    "\n",
    "-   **Indice de dificultad** (`hardship_index`): Puntaje que incorpora cada uno de los seis indicadores socioeconómicos seleccionados\n"
   ]
  },
  {
   "cell_type": "markdown",
   "metadata": {},
   "source": [
    "## Problemas\n",
    "\n",
    "### Problema 1\n",
    "\n",
    "##### Cuantas filas hay en la tabla?\n"
   ]
  },
  {
   "cell_type": "code",
   "execution_count": 1,
   "metadata": {
    "ExecuteTime": {
     "end_time": "2021-05-16T19:03:05.724446Z",
     "start_time": "2021-05-16T19:02:58.602957Z"
    }
   },
   "outputs": [],
   "source": [
    "import os\n",
    "import sqlite3\n",
    "import pandas as pd\n",
    "import numpy as np\n",
    "import matplotlib.pyplot as plt"
   ]
  },
  {
   "cell_type": "code",
   "execution_count": 2,
   "metadata": {
    "ExecuteTime": {
     "end_time": "2021-05-16T19:03:07.880065Z",
     "start_time": "2021-05-16T19:03:07.751811Z"
    }
   },
   "outputs": [],
   "source": [
    "directorio = os.getcwd()\n",
    "con = sqlite3.connect(directorio + '//bases de datos//chicago.db')\n",
    "cursorObj = con.cursor()"
   ]
  },
  {
   "cell_type": "code",
   "execution_count": 3,
   "metadata": {
    "ExecuteTime": {
     "end_time": "2021-05-16T19:03:11.249915Z",
     "start_time": "2021-05-16T19:03:11.240489Z"
    }
   },
   "outputs": [
    {
     "name": "stdout",
     "output_type": "stream",
     "text": [
      "Hay  78  filas en la tabla\n"
     ]
    }
   ],
   "source": [
    "cursorObj.execute(\"SELECT * FROM jcxqk9xf\")\n",
    "filas = cursorObj.fetchall()\n",
    "print (\"Hay \",len(filas),\" filas en la tabla\")"
   ]
  },
  {
   "cell_type": "markdown",
   "metadata": {},
   "source": [
    "### Problema 2\n",
    "\n",
    "##### ¿Cuántas áreas comunitarias en Chicago tienen un índice de dificultad mayor a 50.0?\n"
   ]
  },
  {
   "cell_type": "code",
   "execution_count": 6,
   "metadata": {
    "ExecuteTime": {
     "end_time": "2021-05-16T19:04:51.997856Z",
     "start_time": "2021-05-16T19:04:51.980992Z"
    }
   },
   "outputs": [
    {
     "name": "stdout",
     "output_type": "stream",
     "text": [
      "La cantidad de áreas comunitarias con un indice de dificultad mayor a 50.0 son 38\n"
     ]
    }
   ],
   "source": [
    "cursorObj.execute(\"SELECT hardship_index FROM jcxqk9xf WHERE hardship_index > 50\")\n",
    "filas = cursorObj.fetchall()\n",
    "print(\"La cantidad de áreas comunitarias con un indice de dificultad mayor a 50.0 son\", len(filas))"
   ]
  },
  {
   "cell_type": "markdown",
   "metadata": {},
   "source": [
    "### Problema 3\n",
    "\n",
    "##### ¿Cuál es el valor máximo del índice de dificultades en este conjunto de datos?"
   ]
  },
  {
   "cell_type": "code",
   "execution_count": 7,
   "metadata": {
    "ExecuteTime": {
     "end_time": "2021-05-16T19:05:23.652745Z",
     "start_time": "2021-05-16T19:05:23.630893Z"
    }
   },
   "outputs": [
    {
     "name": "stdout",
     "output_type": "stream",
     "text": [
      "El valor maximo del indice de dificultades es [(98,)]\n"
     ]
    }
   ],
   "source": [
    "cursorObj.execute(\"SELECT MAX(hardship_index) FROM jcxqk9xf\")\n",
    "maximo = cursorObj.fetchall()\n",
    "print (\"El valor maximo del indice de dificultades es\", maximo)"
   ]
  },
  {
   "cell_type": "markdown",
   "metadata": {},
   "source": [
    "### Problema 4\n",
    "\n",
    "##### ¿Qué área de la comunidad tiene el índice de dificultades más alto?\n"
   ]
  },
  {
   "cell_type": "code",
   "execution_count": 8,
   "metadata": {
    "ExecuteTime": {
     "end_time": "2021-05-16T19:06:27.891618Z",
     "start_time": "2021-05-16T19:06:27.878226Z"
    }
   },
   "outputs": [
    {
     "name": "stdout",
     "output_type": "stream",
     "text": [
      "El área de la comunidad con el indice de dificultad más alto es  [('Riverdale', 98)]\n"
     ]
    }
   ],
   "source": [
    "cursorObj.execute(\"SELECT community_area_name, MAX(hardship_index) FROM jcxqk9xf\")\n",
    "indice = cursorObj.fetchall()\n",
    "print (\"El área de la comunidad con el indice de dificultad más alto es \",indice)"
   ]
  },
  {
   "cell_type": "markdown",
   "metadata": {},
   "source": [
    "### Problema 5\n",
    "\n",
    "##### ¿Qué áreas de la comunidad de Chicago tienen ingresos per cápita superiores a $ 60,000?\n"
   ]
  },
  {
   "cell_type": "code",
   "execution_count": 9,
   "metadata": {
    "ExecuteTime": {
     "end_time": "2021-05-16T19:20:29.698464Z",
     "start_time": "2021-05-16T19:20:29.682440Z"
    }
   },
   "outputs": [
    {
     "name": "stdout",
     "output_type": "stream",
     "text": [
      "Las comunidades con ingresos superiores a $60.000 son:  [('Lake View', 60058), ('Lincoln Park', 71551), ('Near North Side', 88669), ('Loop', 65526)]\n"
     ]
    }
   ],
   "source": [
    "cursorObj.execute(\"SELECT community_area_name, per_capita_income_ FROM jcxqk9xf WHERE per_capita_income_ > 60000\")\n",
    "ingresos = cursorObj.fetchall()\n",
    "print(\"Las comunidades con ingresos superiores a $60.000 son: \", ingresos)"
   ]
  },
  {
   "cell_type": "markdown",
   "metadata": {},
   "source": [
    "### Problema 6\n",
    "\n",
    "##### Cree un diagrama de dispersión usando las variables `per_capita_income_` y ` hardship_index`. Explique la correlación entre las dos variables. \n"
   ]
  },
  {
   "cell_type": "code",
   "execution_count": 10,
   "metadata": {
    "ExecuteTime": {
     "end_time": "2021-05-16T19:20:39.809766Z",
     "start_time": "2021-05-16T19:20:39.794420Z"
    }
   },
   "outputs": [],
   "source": [
    "cursorObj.execute(\"SELECT per_capita_income_ FROM jcxqk9xf\")\n",
    "x = cursorObj.fetchall()"
   ]
  },
  {
   "cell_type": "code",
   "execution_count": 11,
   "metadata": {
    "ExecuteTime": {
     "end_time": "2021-05-16T19:20:42.554576Z",
     "start_time": "2021-05-16T19:20:42.534034Z"
    }
   },
   "outputs": [],
   "source": [
    "cursorObj.execute(\"SELECT hardship_index FROM jcxqk9xf\")\n",
    "y = cursorObj.fetchall()"
   ]
  },
  {
   "cell_type": "code",
   "execution_count": 12,
   "metadata": {
    "ExecuteTime": {
     "end_time": "2021-05-16T19:21:14.433436Z",
     "start_time": "2021-05-16T19:21:13.971802Z"
    },
    "scrolled": true
   },
   "outputs": [
    {
     "data": {
      "text/plain": [
       "Text(0.5, 1.0, 'Indice de dificultad vs Ingreso per capita')"
      ]
     },
     "execution_count": 12,
     "metadata": {},
     "output_type": "execute_result"
    },
    {
     "data": {
      "image/png": "[encoded data removed]",
      "text/plain": [
       "<Figure size 720x720 with 1 Axes>"
      ]
     },
     "metadata": {
      "needs_background": "light"
     },
     "output_type": "display_data"
    }
   ],
   "source": [
    "fig, ax = plt.subplots(figsize = (10,10))\n",
    "ax.scatter(y,x)\n",
    "ax.set_xlabel(\"Indice de Dificultad\")\n",
    "ax.set_ylabel(\"Ingreso per Capita\")\n",
    "ax.set_title(\"Indice de dificultad vs Ingreso per capita\")\n"
   ]
  },
  {
   "cell_type": "markdown",
   "metadata": {},
   "source": [
    "\n",
    "Conclusión\n",
    "\n",
    "Las conclusiones con respecto a la grafica son las siguientes:\n",
    "\n",
    "-   **Correlación**: Es inversamente proporcional\n",
    "\n",
    "-   Cuando el indice de dificultad aumenta el ingreso per capita disminuye\n",
    "\n",
    "-   Cuando el indice de dificultad disminuye el ingreso per capita aumenta\n",
    "\n"
   ]
  }
 ],
 "metadata": {
  "kernelspec": {
   "display_name": "Python 3",
   "language": "python",
   "name": "python3"
  },
  "language_info": {
   "codemirror_mode": {
    "name": "ipython",
    "version": 3
   },
   "file_extension": ".py",
   "mimetype": "text/x-python",
   "name": "python",
   "nbconvert_exporter": "python",
   "pygments_lexer": "ipython3",
   "version": "3.8.3"
  },
  "toc": {
   "base_numbering": 1,
   "nav_menu": {},
   "number_sections": true,
   "sideBar": true,
   "skip_h1_title": false,
   "title_cell": "Table of Contents",
   "title_sidebar": "Contents",
   "toc_cell": false,
   "toc_position": {},
   "toc_section_display": true,
   "toc_window_display": false
  },
  "varInspector": {
   "cols": {
    "lenName": 16,
    "lenType": 16,
    "lenVar": 40
   },
   "kernels_config": {
    "python": {
     "delete_cmd_postfix": "",
     "delete_cmd_prefix": "del ",
     "library": "var_list.py",
     "varRefreshCmd": "print(var_dic_list())"
    },
    "r": {
     "delete_cmd_postfix": ") ",
     "delete_cmd_prefix": "rm(",
     "library": "var_list.r",
     "varRefreshCmd": "cat(var_dic_list()) "
    }
   },
   "types_to_exclude": [
    "module",
    "function",
    "builtin_function_or_method",
    "instance",
    "_Feature"
   ],
   "window_display": false
  },
  "widgets": {
   "state": {},
   "version": "1.1.2"
  }
 },
 "nbformat": 4,
 "nbformat_minor": 2
}
