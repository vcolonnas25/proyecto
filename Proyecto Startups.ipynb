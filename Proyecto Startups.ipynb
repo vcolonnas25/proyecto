{
 "cells": [
  {
   "cell_type": "markdown",
   "metadata": {},
   "source": [
    "<div class=\"burk\">\n",
    "EJERCICIO</div><i class=\"fa fa-lightbulb-o \"></i>\n",
    "\n",
    "1. Implemente el algoritmo de eliminacion hacia atras sin tener que hacerlo manualmente, es decir, que el programa sea capaza de eliminar la variable que corresponde al pvalor que supere el 5%. Para esto necesitara usar la siguiente instruccion, la cual otorga los p valores que se obtienen de la instruccion summary:\n",
    "\n",
    "         modelo.pvalues\n",
    "         \n",
    "Pista: Use funciones, esto le facilitara la vida; el encabezado de la funcion podria ser:\n",
    "\n",
    "        def backwards(X, sl)\n",
    "        \n",
    "Siendo X la matriz de datos de entrenamiento, y sl el nivel de significancia: 0.05"
   ]
  },
  {
   "cell_type": "code",
   "execution_count": 63,
   "metadata": {
    "ExecuteTime": {
     "end_time": "2021-01-27T02:29:30.993272Z",
     "start_time": "2021-01-27T02:29:30.983352Z"
    }
   },
   "outputs": [],
   "source": [
    "# Tratamiento de datos\n",
    "# ==============================================================================\n",
    "import pandas as pd\n",
    "import numpy as np\n",
    "\n",
    "# Gráficos\n",
    "# ==============================================================================\n",
    "import matplotlib.pyplot as plt\n",
    "import seaborn as sns\n",
    "\n",
    "# Preprocesado y modelado\n",
    "# ==============================================================================\n",
    "from scipy.stats import pearsonr\n",
    "from sklearn.model_selection import train_test_split\n",
    "from sklearn.metrics import r2_score\n",
    "from sklearn.metrics import mean_squared_error\n",
    "import statsmodels.api as sm\n",
    "import statsmodels.formula.api as smf\n",
    "from scipy import stats\n",
    "\n",
    "# Configuración matplotlib\n",
    "# ==============================================================================\n",
    "plt.style.use('seaborn') \n",
    "\n",
    "# Configuración warnings\n",
    "# ==============================================================================\n",
    "import warnings\n",
    "warnings.filterwarnings('ignore')"
   ]
  },
  {
   "cell_type": "code",
   "execution_count": 64,
   "metadata": {
    "ExecuteTime": {
     "end_time": "2021-01-27T02:29:31.193161Z",
     "start_time": "2021-01-27T02:29:31.170343Z"
    }
   },
   "outputs": [
    {
     "data": {
      "text/html": [
       "<div>\n",
       "<style scoped>\n",
       "    .dataframe tbody tr th:only-of-type {\n",
       "        vertical-align: middle;\n",
       "    }\n",
       "\n",
       "    .dataframe tbody tr th {\n",
       "        vertical-align: top;\n",
       "    }\n",
       "\n",
       "    .dataframe thead th {\n",
       "        text-align: right;\n",
       "    }\n",
       "</style>\n",
       "<table border=\"1\" class=\"dataframe\">\n",
       "  <thead>\n",
       "    <tr style=\"text-align: right;\">\n",
       "      <th></th>\n",
       "      <th>R&amp;D Spend</th>\n",
       "      <th>Administration</th>\n",
       "      <th>Marketing Spend</th>\n",
       "      <th>State</th>\n",
       "      <th>Profit</th>\n",
       "    </tr>\n",
       "  </thead>\n",
       "  <tbody>\n",
       "    <tr>\n",
       "      <th>0</th>\n",
       "      <td>165349.20</td>\n",
       "      <td>136897.80</td>\n",
       "      <td>471784.10</td>\n",
       "      <td>New York</td>\n",
       "      <td>192261.83</td>\n",
       "    </tr>\n",
       "    <tr>\n",
       "      <th>1</th>\n",
       "      <td>162597.70</td>\n",
       "      <td>151377.59</td>\n",
       "      <td>443898.53</td>\n",
       "      <td>California</td>\n",
       "      <td>191792.06</td>\n",
       "    </tr>\n",
       "    <tr>\n",
       "      <th>2</th>\n",
       "      <td>153441.51</td>\n",
       "      <td>101145.55</td>\n",
       "      <td>407934.54</td>\n",
       "      <td>Florida</td>\n",
       "      <td>191050.39</td>\n",
       "    </tr>\n",
       "    <tr>\n",
       "      <th>3</th>\n",
       "      <td>144372.41</td>\n",
       "      <td>118671.85</td>\n",
       "      <td>383199.62</td>\n",
       "      <td>New York</td>\n",
       "      <td>182901.99</td>\n",
       "    </tr>\n",
       "    <tr>\n",
       "      <th>4</th>\n",
       "      <td>142107.34</td>\n",
       "      <td>91391.77</td>\n",
       "      <td>366168.42</td>\n",
       "      <td>Florida</td>\n",
       "      <td>166187.94</td>\n",
       "    </tr>\n",
       "  </tbody>\n",
       "</table>\n",
       "</div>"
      ],
      "text/plain": [
       "   R&D Spend  Administration  Marketing Spend       State     Profit\n",
       "0  165349.20       136897.80        471784.10    New York  192261.83\n",
       "1  162597.70       151377.59        443898.53  California  191792.06\n",
       "2  153441.51       101145.55        407934.54     Florida  191050.39\n",
       "3  144372.41       118671.85        383199.62    New York  182901.99\n",
       "4  142107.34        91391.77        366168.42     Florida  166187.94"
      ]
     },
     "execution_count": 64,
     "metadata": {},
     "output_type": "execute_result"
    }
   ],
   "source": [
    "datos = pd.read_csv('50_Startups.csv', sep = ',')\n",
    "datos.head()"
   ]
  },
  {
   "cell_type": "code",
   "execution_count": 65,
   "metadata": {
    "ExecuteTime": {
     "end_time": "2021-01-27T02:29:31.368247Z",
     "start_time": "2021-01-27T02:29:31.350888Z"
    }
   },
   "outputs": [
    {
     "data": {
      "text/html": [
       "<div>\n",
       "<style scoped>\n",
       "    .dataframe tbody tr th:only-of-type {\n",
       "        vertical-align: middle;\n",
       "    }\n",
       "\n",
       "    .dataframe tbody tr th {\n",
       "        vertical-align: top;\n",
       "    }\n",
       "\n",
       "    .dataframe thead th {\n",
       "        text-align: right;\n",
       "    }\n",
       "</style>\n",
       "<table border=\"1\" class=\"dataframe\">\n",
       "  <thead>\n",
       "    <tr style=\"text-align: right;\">\n",
       "      <th></th>\n",
       "      <th>R&amp;D Spend</th>\n",
       "      <th>Administration</th>\n",
       "      <th>Marketing Spend</th>\n",
       "      <th>Profit</th>\n",
       "    </tr>\n",
       "  </thead>\n",
       "  <tbody>\n",
       "    <tr>\n",
       "      <th>0</th>\n",
       "      <td>165349.20</td>\n",
       "      <td>136897.80</td>\n",
       "      <td>471784.10</td>\n",
       "      <td>192261.83</td>\n",
       "    </tr>\n",
       "    <tr>\n",
       "      <th>1</th>\n",
       "      <td>162597.70</td>\n",
       "      <td>151377.59</td>\n",
       "      <td>443898.53</td>\n",
       "      <td>191792.06</td>\n",
       "    </tr>\n",
       "    <tr>\n",
       "      <th>2</th>\n",
       "      <td>153441.51</td>\n",
       "      <td>101145.55</td>\n",
       "      <td>407934.54</td>\n",
       "      <td>191050.39</td>\n",
       "    </tr>\n",
       "  </tbody>\n",
       "</table>\n",
       "</div>"
      ],
      "text/plain": [
       "   R&D Spend  Administration  Marketing Spend     Profit\n",
       "0  165349.20       136897.80        471784.10  192261.83\n",
       "1  162597.70       151377.59        443898.53  191792.06\n",
       "2  153441.51       101145.55        407934.54  191050.39"
      ]
     },
     "execution_count": 65,
     "metadata": {},
     "output_type": "execute_result"
    }
   ],
   "source": [
    "datos.drop(columns = 'State', inplace = True)\n",
    "datos.head(3)"
   ]
  },
  {
   "cell_type": "code",
   "execution_count": 66,
   "metadata": {
    "ExecuteTime": {
     "end_time": "2021-01-27T02:29:31.535896Z",
     "start_time": "2021-01-27T02:29:31.497703Z"
    }
   },
   "outputs": [
    {
     "name": "stdout",
     "output_type": "stream",
     "text": [
      "                            OLS Regression Results                            \n",
      "==============================================================================\n",
      "Dep. Variable:                      y   R-squared:                       0.957\n",
      "Model:                            OLS   Adj. R-squared:                  0.953\n",
      "Method:                 Least Squares   F-statistic:                     266.8\n",
      "Date:                Tue, 26 Jan 2021   Prob (F-statistic):           1.23e-24\n",
      "Time:                        21:29:31   Log-Likelihood:                -419.63\n",
      "No. Observations:                  40   AIC:                             847.3\n",
      "Df Residuals:                      36   BIC:                             854.0\n",
      "Df Model:                           3                                         \n",
      "Covariance Type:            nonrobust                                         \n",
      "===================================================================================\n",
      "                      coef    std err          t      P>|t|      [0.025      0.975]\n",
      "-----------------------------------------------------------------------------------\n",
      "const            4.776e+04   6916.986      6.905      0.000    3.37e+04    6.18e+04\n",
      "R&D Spend           0.7444      0.059     12.700      0.000       0.626       0.863\n",
      "Administration     -0.0120      0.054     -0.224      0.824      -0.121       0.097\n",
      "Marketing Spend     0.0519      0.022      2.402      0.022       0.008       0.096\n",
      "==============================================================================\n",
      "Omnibus:                       20.210   Durbin-Watson:                   2.647\n",
      "Prob(Omnibus):                  0.000   Jarque-Bera (JB):               37.868\n",
      "Skew:                          -1.275   Prob(JB):                     5.98e-09\n",
      "Kurtosis:                       7.028   Cond. No.                     1.36e+06\n",
      "==============================================================================\n",
      "\n",
      "Warnings:\n",
      "[1] Standard Errors assume that the covariance matrix of the errors is correctly specified.\n",
      "[2] The condition number is large, 1.36e+06. This might indicate that there are\n",
      "strong multicollinearity or other numerical problems.\n"
     ]
    }
   ],
   "source": [
    "# Dividir el dataset en entrenamiento y test\n",
    "# ==============================================================\n",
    "X = datos[['R&D Spend', 'Administration', 'Marketing Spend']]\n",
    "y = datos['Profit']\n",
    "\n",
    "X_train, X_test, y_train, y_test = train_test_split(X, y.values, test_size = 0.2, shuffle = True)\n",
    "\n",
    "# Crear el modelo\n",
    "# ==============================================================================\n",
    "# A la matriz de predictores se le tiene que añadir una columna de 1s para el intercepto del modelo\n",
    "X_train = sm.add_constant(X_train, prepend=True)\n",
    "modelo = sm.OLS(endog=y_train, exog=X_train,)\n",
    "modelo = modelo.fit()\n",
    "print(modelo.summary())"
   ]
  },
  {
   "cell_type": "code",
   "execution_count": 67,
   "metadata": {
    "ExecuteTime": {
     "end_time": "2021-01-27T02:29:31.681224Z",
     "start_time": "2021-01-27T02:29:31.665352Z"
    }
   },
   "outputs": [
    {
     "data": {
      "text/plain": [
       "const              4.381637e-08\n",
       "R&D Spend          7.296728e-15\n",
       "Administration     8.244044e-01\n",
       "Marketing Spend    2.158241e-02\n",
       "dtype: float64"
      ]
     },
     "execution_count": 67,
     "metadata": {},
     "output_type": "execute_result"
    }
   ],
   "source": [
    "modelo.pvalues"
   ]
  },
  {
   "cell_type": "code",
   "execution_count": 68,
   "metadata": {
    "ExecuteTime": {
     "end_time": "2021-01-27T02:29:31.871688Z",
     "start_time": "2021-01-27T02:29:31.864743Z"
    }
   },
   "outputs": [
    {
     "data": {
      "text/plain": [
       "array([ 65200.33, 134307.35, 118474.03, 156122.51,  89949.14, 126992.93,\n",
       "        90708.19,  96778.92,  78239.91,  97483.56,  97427.84, 144259.4 ,\n",
       "        99937.59,  96712.8 , 191792.06, 110352.25, 132602.65,  81229.06,\n",
       "       192261.83,  42559.73, 103282.38, 156991.12,  64926.08,  14681.4 ,\n",
       "        96479.51, 101004.64, 191050.39, 155752.6 , 166187.94, 108733.99,\n",
       "        77798.83, 125370.37, 149759.96,  69758.98,  35673.41, 182901.99,\n",
       "       152211.77, 108552.04, 111313.02, 124266.9 ])"
      ]
     },
     "execution_count": 68,
     "metadata": {},
     "output_type": "execute_result"
    }
   ],
   "source": [
    "y_train\n"
   ]
  },
  {
   "cell_type": "code",
   "execution_count": 69,
   "metadata": {
    "ExecuteTime": {
     "end_time": "2021-01-27T02:29:32.070584Z",
     "start_time": "2021-01-27T02:29:32.060663Z"
    }
   },
   "outputs": [],
   "source": [
    "def backwards(X,sl):\n",
    "    for x in X:\n",
    "        X = sm.add_constant(X, prepend=True)\n",
    "        modelo = sm.OLS(endog=y_train, exog=X,)\n",
    "        modelo = modelo.fit()\n",
    "        print(modelo.summary())\n",
    "        \n",
    "        for i in range (1,len(modelo.pvalues)):\n",
    "                if modelo.pvalues[i]>sl and modelo.pvalues[i]==np.max(modelo.pvalues):\n",
    "                    X.drop(columns=X.columns[i],inplace=True)\n",
    "\n",
    "                    "
   ]
  },
  {
   "cell_type": "code",
   "execution_count": 70,
   "metadata": {
    "ExecuteTime": {
     "end_time": "2021-01-27T02:29:32.456474Z",
     "start_time": "2021-01-27T02:29:32.350328Z"
    },
    "scrolled": false
   },
   "outputs": [
    {
     "name": "stdout",
     "output_type": "stream",
     "text": [
      "                            OLS Regression Results                            \n",
      "==============================================================================\n",
      "Dep. Variable:                      y   R-squared:                       0.957\n",
      "Model:                            OLS   Adj. R-squared:                  0.953\n",
      "Method:                 Least Squares   F-statistic:                     266.8\n",
      "Date:                Tue, 26 Jan 2021   Prob (F-statistic):           1.23e-24\n",
      "Time:                        21:29:32   Log-Likelihood:                -419.63\n",
      "No. Observations:                  40   AIC:                             847.3\n",
      "Df Residuals:                      36   BIC:                             854.0\n",
      "Df Model:                           3                                         \n",
      "Covariance Type:            nonrobust                                         \n",
      "===================================================================================\n",
      "                      coef    std err          t      P>|t|      [0.025      0.975]\n",
      "-----------------------------------------------------------------------------------\n",
      "const            4.776e+04   6916.986      6.905      0.000    3.37e+04    6.18e+04\n",
      "R&D Spend           0.7444      0.059     12.700      0.000       0.626       0.863\n",
      "Administration     -0.0120      0.054     -0.224      0.824      -0.121       0.097\n",
      "Marketing Spend     0.0519      0.022      2.402      0.022       0.008       0.096\n",
      "==============================================================================\n",
      "Omnibus:                       20.210   Durbin-Watson:                   2.647\n",
      "Prob(Omnibus):                  0.000   Jarque-Bera (JB):               37.868\n",
      "Skew:                          -1.275   Prob(JB):                     5.98e-09\n",
      "Kurtosis:                       7.028   Cond. No.                     1.36e+06\n",
      "==============================================================================\n",
      "\n",
      "Warnings:\n",
      "[1] Standard Errors assume that the covariance matrix of the errors is correctly specified.\n",
      "[2] The condition number is large, 1.36e+06. This might indicate that there are\n",
      "strong multicollinearity or other numerical problems.\n",
      "                            OLS Regression Results                            \n",
      "==============================================================================\n",
      "Dep. Variable:                      y   R-squared:                       0.957\n",
      "Model:                            OLS   Adj. R-squared:                  0.955\n",
      "Method:                 Least Squares   F-statistic:                     410.7\n",
      "Date:                Tue, 26 Jan 2021   Prob (F-statistic):           5.48e-26\n",
      "Time:                        21:29:32   Log-Likelihood:                -419.65\n",
      "No. Observations:                  40   AIC:                             845.3\n",
      "Df Residuals:                      37   BIC:                             850.4\n",
      "Df Model:                           2                                         \n",
      "Covariance Type:            nonrobust                                         \n",
      "===================================================================================\n",
      "                      coef    std err          t      P>|t|      [0.025      0.975]\n",
      "-----------------------------------------------------------------------------------\n",
      "const            4.635e+04   2852.786     16.249      0.000    4.06e+04    5.21e+04\n",
      "R&D Spend           0.7395      0.054     13.802      0.000       0.631       0.848\n",
      "Marketing Spend     0.0534      0.020      2.641      0.012       0.012       0.094\n",
      "==============================================================================\n",
      "Omnibus:                       20.301   Durbin-Watson:                   2.641\n",
      "Prob(Omnibus):                  0.000   Jarque-Bera (JB):               38.285\n",
      "Skew:                          -1.277   Prob(JB):                     4.86e-09\n",
      "Kurtosis:                       7.055   Cond. No.                     5.24e+05\n",
      "==============================================================================\n",
      "\n",
      "Warnings:\n",
      "[1] Standard Errors assume that the covariance matrix of the errors is correctly specified.\n",
      "[2] The condition number is large, 5.24e+05. This might indicate that there are\n",
      "strong multicollinearity or other numerical problems.\n",
      "                            OLS Regression Results                            \n",
      "==============================================================================\n",
      "Dep. Variable:                      y   R-squared:                       0.957\n",
      "Model:                            OLS   Adj. R-squared:                  0.955\n",
      "Method:                 Least Squares   F-statistic:                     410.7\n",
      "Date:                Tue, 26 Jan 2021   Prob (F-statistic):           5.48e-26\n",
      "Time:                        21:29:32   Log-Likelihood:                -419.65\n",
      "No. Observations:                  40   AIC:                             845.3\n",
      "Df Residuals:                      37   BIC:                             850.4\n",
      "Df Model:                           2                                         \n",
      "Covariance Type:            nonrobust                                         \n",
      "===================================================================================\n",
      "                      coef    std err          t      P>|t|      [0.025      0.975]\n",
      "-----------------------------------------------------------------------------------\n",
      "const            4.635e+04   2852.786     16.249      0.000    4.06e+04    5.21e+04\n",
      "R&D Spend           0.7395      0.054     13.802      0.000       0.631       0.848\n",
      "Marketing Spend     0.0534      0.020      2.641      0.012       0.012       0.094\n",
      "==============================================================================\n",
      "Omnibus:                       20.301   Durbin-Watson:                   2.641\n",
      "Prob(Omnibus):                  0.000   Jarque-Bera (JB):               38.285\n",
      "Skew:                          -1.277   Prob(JB):                     4.86e-09\n",
      "Kurtosis:                       7.055   Cond. No.                     5.24e+05\n",
      "==============================================================================\n",
      "\n",
      "Warnings:\n",
      "[1] Standard Errors assume that the covariance matrix of the errors is correctly specified.\n",
      "[2] The condition number is large, 5.24e+05. This might indicate that there are\n",
      "strong multicollinearity or other numerical problems.\n",
      "                            OLS Regression Results                            \n",
      "==============================================================================\n",
      "Dep. Variable:                      y   R-squared:                       0.957\n",
      "Model:                            OLS   Adj. R-squared:                  0.955\n",
      "Method:                 Least Squares   F-statistic:                     410.7\n",
      "Date:                Tue, 26 Jan 2021   Prob (F-statistic):           5.48e-26\n",
      "Time:                        21:29:32   Log-Likelihood:                -419.65\n",
      "No. Observations:                  40   AIC:                             845.3\n",
      "Df Residuals:                      37   BIC:                             850.4\n",
      "Df Model:                           2                                         \n",
      "Covariance Type:            nonrobust                                         \n",
      "===================================================================================\n",
      "                      coef    std err          t      P>|t|      [0.025      0.975]\n",
      "-----------------------------------------------------------------------------------\n",
      "const            4.635e+04   2852.786     16.249      0.000    4.06e+04    5.21e+04\n",
      "R&D Spend           0.7395      0.054     13.802      0.000       0.631       0.848\n",
      "Marketing Spend     0.0534      0.020      2.641      0.012       0.012       0.094\n",
      "==============================================================================\n",
      "Omnibus:                       20.301   Durbin-Watson:                   2.641\n",
      "Prob(Omnibus):                  0.000   Jarque-Bera (JB):               38.285\n",
      "Skew:                          -1.277   Prob(JB):                     4.86e-09\n",
      "Kurtosis:                       7.055   Cond. No.                     5.24e+05\n",
      "==============================================================================\n",
      "\n",
      "Warnings:\n",
      "[1] Standard Errors assume that the covariance matrix of the errors is correctly specified.\n",
      "[2] The condition number is large, 5.24e+05. This might indicate that there are\n",
      "strong multicollinearity or other numerical problems.\n"
     ]
    }
   ],
   "source": [
    "backwards(X_train,0.05)"
   ]
  },
  {
   "cell_type": "code",
   "execution_count": null,
   "metadata": {},
   "outputs": [],
   "source": []
  },
  {
   "cell_type": "code",
   "execution_count": null,
   "metadata": {},
   "outputs": [],
   "source": []
  }
 ],
 "metadata": {
  "kernelspec": {
   "display_name": "Python 3",
   "language": "python",
   "name": "python3"
  },
  "language_info": {
   "codemirror_mode": {
    "name": "ipython",
    "version": 3
   },
   "file_extension": ".py",
   "mimetype": "text/x-python",
   "name": "python",
   "nbconvert_exporter": "python",
   "pygments_lexer": "ipython3",
   "version": "3.8.3"
  },
  "toc": {
   "base_numbering": 1,
   "nav_menu": {},
   "number_sections": true,
   "sideBar": true,
   "skip_h1_title": false,
   "title_cell": "Table of Contents",
   "title_sidebar": "Contents",
   "toc_cell": false,
   "toc_position": {},
   "toc_section_display": true,
   "toc_window_display": false
  },
  "varInspector": {
   "cols": {
    "lenName": 16,
    "lenType": 16,
    "lenVar": 40
   },
   "kernels_config": {
    "python": {
     "delete_cmd_postfix": "",
     "delete_cmd_prefix": "del ",
     "library": "var_list.py",
     "varRefreshCmd": "print(var_dic_list())"
    },
    "r": {
     "delete_cmd_postfix": ") ",
     "delete_cmd_prefix": "rm(",
     "library": "var_list.r",
     "varRefreshCmd": "cat(var_dic_list()) "
    }
   },
   "types_to_exclude": [
    "module",
    "function",
    "builtin_function_or_method",
    "instance",
    "_Feature"
   ],
   "window_display": false
  }
 },
 "nbformat": 4,
 "nbformat_minor": 4
}
