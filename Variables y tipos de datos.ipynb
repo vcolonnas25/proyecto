{
 "cells": [
  {
   "cell_type": "markdown",
   "metadata": {},
   "source": [
    "1. <span class=\"mark\">Lista de invitados: si pudieras invitar a alguien, vivo o fallecido, a cenar, ¿a quién invitarías? Haga una lista que incluya al menos a tres personas a las que le gustaría invitar a cenar. Luego use su lista para imprimir un mensaje para cada persona, invitándolos a cenar.</span>"
   ]
  },
  {
   "cell_type": "code",
   "execution_count": 1,
   "metadata": {
    "ExecuteTime": {
     "end_time": "2020-10-28T01:09:57.675475Z",
     "start_time": "2020-10-28T01:09:57.668412Z"
    }
   },
   "outputs": [
    {
     "name": "stdout",
     "output_type": "stream",
     "text": [
      "Camilo te invito a una cena especial!\n",
      "Alejandro te invito a una cena especial!\n",
      "Nadina te invito a una cena especial!\n"
     ]
    }
   ],
   "source": [
    "invitados=['camilo','alejandro','nadina']\n",
    "for invitado in invitados:\n",
    "    print(invitado.title() + \" te invito a una cena especial!\")"
   ]
  },
  {
   "cell_type": "markdown",
   "metadata": {},
   "source": [
    "2. <span class=\"mark\">Cambio de la lista de invitados: acaba de enterarse de que uno de sus invitados no puede asistir a la cena, por lo que debe enviar un nuevo conjunto de invitaciones. Tendrá que pensar en alguien más a quien invitar.</span>\n",
    "\n",
    "• Empiece con su programa del ejercicio1. Agregue una declaración impresa al final de su programa que indique el nombre del invitado que no puede asistir.\n",
    "\n",
    "• Modifique su lista, reemplazando el nombre del invitado que no puede asistir con el nombre de la nueva persona que está invitando.\n",
    "\n",
    "• Imprima un segundo conjunto de mensajes de invitación, uno para cada persona que todavía está en su lista.\n"
   ]
  },
  {
   "cell_type": "code",
   "execution_count": 2,
   "metadata": {
    "ExecuteTime": {
     "end_time": "2020-10-28T01:10:01.264112Z",
     "start_time": "2020-10-28T01:10:01.257224Z"
    }
   },
   "outputs": [
    {
     "name": "stdout",
     "output_type": "stream",
     "text": [
      "El invitado que no puede asistir es Alejandro.\n",
      "['camilo', 'nadina']\n",
      "['camilo', 'nadina', 'fausto']\n",
      "Camilo te invito a una cena especial!\n",
      "Nadina te invito a una cena especial!\n",
      "Fausto te invito a una cena especial!\n"
     ]
    }
   ],
   "source": [
    "cancela = invitados.pop(1)\n",
    "print(\"El invitado que no puede asistir es \" + cancela.title() + \".\")\n",
    "print(invitados)\n",
    "invitados.append(\"fausto\")\n",
    "print(invitados)\n",
    "for invitado in invitados:\n",
    "    print(invitado.title() + \" te invito a una cena especial!\")"
   ]
  },
  {
   "cell_type": "markdown",
   "metadata": {},
   "source": [
    "3. <span class=\"mark\">Más invitados: acaba de encontrar una mesa de comedor más grande, por lo que ahora hay más espacio disponible. Piense en tres invitados más para invitar a cenar</span>.\n",
    "\n",
    "• Empiece con su programa del ejercicio 3-4 o del ejercicio 3-5. Agregue una declaración impresa al final de su programa para informar a las personas que encontró una mesa más grande.\n",
    "\n",
    "• Use  insert() para agregar un nuevo invitado al principio de su lista.\n",
    "\n",
    "• Use insert() para agregar un nuevo invitado a la mitad de su lista.\n",
    "\n",
    "• Use append() para agregar un nuevo invitado al final de su lista.\n",
    "\n",
    "• Imprima un nuevo conjunto de mensajes de invitación, uno para cada persona de su lista."
   ]
  },
  {
   "cell_type": "code",
   "execution_count": 3,
   "metadata": {
    "ExecuteTime": {
     "end_time": "2020-10-28T01:10:05.792851Z",
     "start_time": "2020-10-28T01:10:05.786379Z"
    }
   },
   "outputs": [
    {
     "name": "stdout",
     "output_type": "stream",
     "text": [
      "Camilo encontré una mesa más grande, para más invitados!\n",
      "Nadina encontré una mesa más grande, para más invitados!\n",
      "Fausto encontré una mesa más grande, para más invitados!\n",
      "['nadia', 'camilo', 'andrea', 'nadina', 'fausto', 'maria']\n"
     ]
    }
   ],
   "source": [
    "for invitado in invitados:\n",
    "    print(invitado.title() + \" encontré una mesa más grande, para más invitados!\")\n",
    "invitados.insert(0, \"nadia\")\n",
    "invitados.insert(2, \"andrea\")\n",
    "invitados.append(\"maria\")\n",
    "print(invitados)"
   ]
  },
  {
   "cell_type": "markdown",
   "metadata": {},
   "source": [
    "4. <span class=\"mark\">Reducción de la lista de invitados: acaba de descubrir que su nueva mesa no llegará a tiempo para la cena y que tiene espacio para solo dos invitados.\n",
    "\n",
    "• Empiece con su programa del ejercicio 3-6. Agregue una nueva línea que imprima un mensaje que diga que solo puede invitar a dos personas a cenar.\n",
    "• Utilice pop() para eliminar invitados de su lista de uno en uno hasta que solo queden dos nombres en su lista. Cada vez que saque un nombre de su lista, imprima un mensaje para esa persona haciéndole saber que lamenta no poder invitarla a cenar.\n",
    "• Imprima un mensaje para cada una de las dos personas que todavía están en su lista, haciéndoles saber que todavía están invitadas.\n",
    "• Utilice del para eliminar los dos últimos nombres de su lista, de modo que tenga una lista vacía. Imprima su lista para asegurarse de tener una lista vacía al final de su programa.</span>\n"
   ]
  },
  {
   "cell_type": "code",
   "execution_count": 4,
   "metadata": {
    "ExecuteTime": {
     "end_time": "2020-10-28T01:10:09.588063Z",
     "start_time": "2020-10-28T01:10:09.575031Z"
    },
    "run_control": {
     "marked": false
    }
   },
   "outputs": [
    {
     "name": "stdout",
     "output_type": "stream",
     "text": [
      "Solo puedo invitar a dos personas a cenar\n",
      "Lo lamento no te puedo invitar Nadia.\n",
      "Lo lamento no te puedo invitar Andrea.\n",
      "Lo lamento no te puedo invitar Maria.\n",
      "Lo lamento no te puedo invitar Fausto.\n",
      "Camilo aún estás invitado!\n",
      "Nadina aún estás invitado!\n",
      "[]\n"
     ]
    }
   ],
   "source": [
    "print(\"Solo puedo invitar a dos personas a cenar\")\n",
    "eliminar = invitados.pop(0)\n",
    "print(\"Lo lamento no te puedo invitar \" + eliminar.title() + \".\")\n",
    "eliminar1 = invitados.pop(1)\n",
    "print(\"Lo lamento no te puedo invitar \" + eliminar1.title() + \".\")\n",
    "eliminar2 = invitados.pop()\n",
    "print(\"Lo lamento no te puedo invitar \" + eliminar2.title() + \".\")\n",
    "eliminar3 = invitados.pop()\n",
    "print(\"Lo lamento no te puedo invitar \" + eliminar3.title() + \".\")\n",
    "for invitado in invitados:\n",
    "    print(invitado.title() + \" aún estás invitado!\")\n",
    "del invitados[0]\n",
    "del invitados[0]\n",
    "print(invitados)"
   ]
  },
  {
   "cell_type": "markdown",
   "metadata": {},
   "source": [
    "6. <span class=\"mark\">Invitados a cenar: Trabajando con uno de los programas de los Ejercicios 1 al 4, use len () para imprimir un mensaje que indique la cantidad de personas que está invitando a cenar.</span>"
   ]
  },
  {
   "cell_type": "code",
   "execution_count": 5,
   "metadata": {
    "ExecuteTime": {
     "end_time": "2020-10-28T01:14:10.671210Z",
     "start_time": "2020-10-28T01:14:10.665260Z"
    }
   },
   "outputs": [
    {
     "name": "stdout",
     "output_type": "stream",
     "text": [
      "0\n"
     ]
    }
   ],
   "source": [
    "print(len(invitados))"
   ]
  },
  {
   "cell_type": "markdown",
   "metadata": {},
   "source": [
    "5. <span class=\"mark\">Piensa en al menos cinco lugares del mundo en los que te gustaría visitar</span>.\n",
    "\n",
    "• Almacene las ubicaciones en una lista. Asegúrese de que la lista no esté en orden alfabético.\n",
    "• Imprima su lista en su orden original. No se preocupe por imprimir la lista de forma ordenada, simplemente imprímala como una lista de Python sin procesar.\n",
    "• Utilice sorted() para imprimir su lista en orden alfabético sin modificar la lista real.\n",
    "• Muestre que su lista todavía está en su orden original imprimiéndola.\n",
    "• Utilice sorted() para imprimir su lista en orden alfabético inverso sin cambiar el orden de la lista original.\n",
    "• Muestre que su lista todavía está en su orden original imprimiéndola nuevamente.\n",
    "• Utilice reverse() para cambiar el orden de su lista. Imprima la lista para mostrar que su orden ha cambiado.\n",
    "• Use reverse() para cambiar el orden de su lista nuevamente. Imprima la lista para mostrar que ha vuelto a su orden original.\n",
    "• Utilice sort() para cambiar su lista de modo que se almacene en orden alfabético. Imprima la lista para mostrar que se ha cambiado su orden.\n",
    "• Utilice sort() para cambiar su lista de modo que se almacene en orden alfabético inverso. Imprima la lista para mostrar que su orden ha cambiado."
   ]
  },
  {
   "cell_type": "code",
   "execution_count": 6,
   "metadata": {
    "ExecuteTime": {
     "end_time": "2020-10-28T01:23:43.880274Z",
     "start_time": "2020-10-28T01:23:43.868910Z"
    }
   },
   "outputs": [
    {
     "name": "stdout",
     "output_type": "stream",
     "text": [
      "Lista original:  ['china', 'francia', 'italia', 'rusia', 'grecia']\n",
      "Lista ordenada:  ['china', 'francia', 'grecia', 'italia', 'rusia']\n",
      "Lista original, de nuevo:  ['china', 'francia', 'italia', 'rusia', 'grecia']\n",
      "Lista ordenada:  ['rusia', 'italia', 'grecia', 'francia', 'china']\n",
      "Lista original, de nuevo:  ['china', 'francia', 'italia', 'rusia', 'grecia']\n",
      "['china', 'francia', 'italia', 'rusia', 'grecia']\n",
      "['china', 'francia', 'grecia', 'italia', 'rusia']\n",
      "['rusia', 'italia', 'grecia', 'francia', 'china']\n"
     ]
    }
   ],
   "source": [
    "lugares=['china','francia','italia','rusia','grecia']\n",
    "print(\"Lista original: \", lugares)\n",
    "print(\"Lista ordenada: \", sorted(lugares))\n",
    "print(\"Lista original, de nuevo: \", lugares)\n",
    "\n",
    "print(\"Lista ordenada: \", sorted(lugares, reverse = True))\n",
    "print(\"Lista original, de nuevo: \", lugares)\n",
    "\n",
    "print(lugares)\n",
    "lugares.sort()\n",
    "print(lugares)\n",
    "lugares.sort(reverse = True)\n",
    "print(lugares)"
   ]
  },
  {
   "cell_type": "markdown",
   "metadata": {},
   "source": [
    "8. <span class=\"mark\">Pizzas: Piense en al menos tres tipos de su pizza favorita. Guarde estos nombres de pizza en una lista y luego use un bucle for para imprimir el nombre de cada pizza.</span>\n",
    "\n",
    "• Modifica tu bucle for para imprimir una oración usando el nombre de la pizza en lugar de imprimir solo el nombre de la pizza. Para cada pizza, debe haber una línea de salida que contenga una declaración simple como me gusta la pizza de pepperoni.\n",
    "• Agregue una línea al final de su programa, fuera del ciclo for, que indique cuánto le gusta la pizza. El resultado debe constar de tres o más líneas sobre los tipos de pizza que te gustan y luego una oración adicional, como ¡Me encanta la pizza!"
   ]
  },
  {
   "cell_type": "code",
   "execution_count": 9,
   "metadata": {
    "ExecuteTime": {
     "end_time": "2020-10-28T01:37:47.141772Z",
     "start_time": "2020-10-28T01:37:44.952213Z"
    }
   },
   "outputs": [
    {
     "name": "stdout",
     "output_type": "stream",
     "text": [
      "Jamon\n",
      "Pepperoni\n",
      "Salami\n",
      "Jamon es de mis pizzas favoritas!\n",
      "Me encanta la pizza de Jamon\n",
      "\n",
      "Pepperoni es de mis pizzas favoritas!\n",
      "Me encanta la pizza de Pepperoni\n",
      "\n",
      "Salami es de mis pizzas favoritas!\n",
      "Me encanta la pizza de Salami\n",
      "\n",
      "Del 1 al 5 cuanto te gusta la pizza: 2\n",
      "Me gusta:  2\n"
     ]
    }
   ],
   "source": [
    "pizzas=['jamon','pepperoni','salami']\n",
    "for pizza in pizzas:\n",
    "    print(pizza.title())\n",
    "for pizza in pizzas:\n",
    "    print(pizza.title() + \" es de mis pizzas favoritas!\")\n",
    "    print(\"Me encanta la pizza de \" + pizza.title(), end = \"\\n\"*2)\n",
    "valor=int(input(\"Del 1 al 5 cuanto te gusta la pizza: \"))\n",
    "print(\"Me gusta: \",valor)"
   ]
  },
  {
   "cell_type": "markdown",
   "metadata": {},
   "source": [
    "9. <span class=\"mark\">Contar hasta veinte: use un bucle for para imprimir los números del 1 al 20, inclusive.</span>\n"
   ]
  },
  {
   "cell_type": "code",
   "execution_count": 11,
   "metadata": {
    "ExecuteTime": {
     "end_time": "2020-10-28T01:39:29.611618Z",
     "start_time": "2020-10-28T01:39:29.605153Z"
    }
   },
   "outputs": [
    {
     "name": "stdout",
     "output_type": "stream",
     "text": [
      "1\n",
      "2\n",
      "3\n",
      "4\n",
      "5\n",
      "6\n",
      "7\n",
      "8\n",
      "9\n",
      "10\n",
      "11\n",
      "12\n",
      "13\n",
      "14\n",
      "15\n",
      "16\n",
      "17\n",
      "18\n",
      "19\n",
      "20\n"
     ]
    }
   ],
   "source": [
    "for valor in range(1, 21):\n",
    "    print(valor)"
   ]
  },
  {
   "cell_type": "markdown",
   "metadata": {},
   "source": [
    "10. <span class=\"mark\">Un millón: haga una lista de los números del uno al millón y luego use un bucle for para imprimir los números.</span>"
   ]
  },
  {
   "cell_type": "code",
   "execution_count": 14,
   "metadata": {
    "ExecuteTime": {
     "end_time": "2020-10-28T01:43:43.635955Z",
     "start_time": "2020-10-28T01:43:43.466264Z"
    },
    "run_control": {
     "marked": false
    }
   },
   "outputs": [
    {
     "data": {
      "text/plain": [
       "[1,\n",
       " 2,\n",
       " 3,\n",
       " 4,\n",
       " 5,\n",
       " 6,\n",
       " 7,\n",
       " 8,\n",
       " 9,\n",
       " 10,\n",
       " 11,\n",
       " 12,\n",
       " 13,\n",
       " 14,\n",
       " 15,\n",
       " 16,\n",
       " 17,\n",
       " 18,\n",
       " 19,\n",
       " 20,\n",
       " 21,\n",
       " 22,\n",
       " 23,\n",
       " 24,\n",
       " 25,\n",
       " 26,\n",
       " 27,\n",
       " 28,\n",
       " 29,\n",
       " 30,\n",
       " 31,\n",
       " 32,\n",
       " 33,\n",
       " 34,\n",
       " 35,\n",
       " 36,\n",
       " 37,\n",
       " 38,\n",
       " 39,\n",
       " 40,\n",
       " 41,\n",
       " 42,\n",
       " 43,\n",
       " 44,\n",
       " 45,\n",
       " 46,\n",
       " 47,\n",
       " 48,\n",
       " 49,\n",
       " 50,\n",
       " 51,\n",
       " 52,\n",
       " 53,\n",
       " 54,\n",
       " 55,\n",
       " 56,\n",
       " 57,\n",
       " 58,\n",
       " 59,\n",
       " 60,\n",
       " 61,\n",
       " 62,\n",
       " 63,\n",
       " 64,\n",
       " 65,\n",
       " 66,\n",
       " 67,\n",
       " 68,\n",
       " 69,\n",
       " 70,\n",
       " 71,\n",
       " 72,\n",
       " 73,\n",
       " 74,\n",
       " 75,\n",
       " 76,\n",
       " 77,\n",
       " 78,\n",
       " 79,\n",
       " 80,\n",
       " 81,\n",
       " 82,\n",
       " 83,\n",
       " 84,\n",
       " 85,\n",
       " 86,\n",
       " 87,\n",
       " 88,\n",
       " 89,\n",
       " 90,\n",
       " 91,\n",
       " 92,\n",
       " 93,\n",
       " 94,\n",
       " 95,\n",
       " 96,\n",
       " 97,\n",
       " 98,\n",
       " 99,\n",
       " 100,\n",
       " 101,\n",
       " 102,\n",
       " 103,\n",
       " 104,\n",
       " 105,\n",
       " 106,\n",
       " 107,\n",
       " 108,\n",
       " 109,\n",
       " 110,\n",
       " 111,\n",
       " 112,\n",
       " 113,\n",
       " 114,\n",
       " 115,\n",
       " 116,\n",
       " 117,\n",
       " 118,\n",
       " 119,\n",
       " 120,\n",
       " 121,\n",
       " 122,\n",
       " 123,\n",
       " 124,\n",
       " 125,\n",
       " 126,\n",
       " 127,\n",
       " 128,\n",
       " 129,\n",
       " 130,\n",
       " 131,\n",
       " 132,\n",
       " 133,\n",
       " 134,\n",
       " 135,\n",
       " 136,\n",
       " 137,\n",
       " 138,\n",
       " 139,\n",
       " 140,\n",
       " 141,\n",
       " 142,\n",
       " 143,\n",
       " 144,\n",
       " 145,\n",
       " 146,\n",
       " 147,\n",
       " 148,\n",
       " 149,\n",
       " 150,\n",
       " 151,\n",
       " 152,\n",
       " 153,\n",
       " 154,\n",
       " 155,\n",
       " 156,\n",
       " 157,\n",
       " 158,\n",
       " 159,\n",
       " 160,\n",
       " 161,\n",
       " 162,\n",
       " 163,\n",
       " 164,\n",
       " 165,\n",
       " 166,\n",
       " 167,\n",
       " 168,\n",
       " 169,\n",
       " 170,\n",
       " 171,\n",
       " 172,\n",
       " 173,\n",
       " 174,\n",
       " 175,\n",
       " 176,\n",
       " 177,\n",
       " 178,\n",
       " 179,\n",
       " 180,\n",
       " 181,\n",
       " 182,\n",
       " 183,\n",
       " 184,\n",
       " 185,\n",
       " 186,\n",
       " 187,\n",
       " 188,\n",
       " 189,\n",
       " 190,\n",
       " 191,\n",
       " 192,\n",
       " 193,\n",
       " 194,\n",
       " 195,\n",
       " 196,\n",
       " 197,\n",
       " 198,\n",
       " 199,\n",
       " 200,\n",
       " 201,\n",
       " 202,\n",
       " 203,\n",
       " 204,\n",
       " 205,\n",
       " 206,\n",
       " 207,\n",
       " 208,\n",
       " 209,\n",
       " 210,\n",
       " 211,\n",
       " 212,\n",
       " 213,\n",
       " 214,\n",
       " 215,\n",
       " 216,\n",
       " 217,\n",
       " 218,\n",
       " 219,\n",
       " 220,\n",
       " 221,\n",
       " 222,\n",
       " 223,\n",
       " 224,\n",
       " 225,\n",
       " 226,\n",
       " 227,\n",
       " 228,\n",
       " 229,\n",
       " 230,\n",
       " 231,\n",
       " 232,\n",
       " 233,\n",
       " 234,\n",
       " 235,\n",
       " 236,\n",
       " 237,\n",
       " 238,\n",
       " 239,\n",
       " 240,\n",
       " 241,\n",
       " 242,\n",
       " 243,\n",
       " 244,\n",
       " 245,\n",
       " 246,\n",
       " 247,\n",
       " 248,\n",
       " 249,\n",
       " 250,\n",
       " 251,\n",
       " 252,\n",
       " 253,\n",
       " 254,\n",
       " 255,\n",
       " 256,\n",
       " 257,\n",
       " 258,\n",
       " 259,\n",
       " 260,\n",
       " 261,\n",
       " 262,\n",
       " 263,\n",
       " 264,\n",
       " 265,\n",
       " 266,\n",
       " 267,\n",
       " 268,\n",
       " 269,\n",
       " 270,\n",
       " 271,\n",
       " 272,\n",
       " 273,\n",
       " 274,\n",
       " 275,\n",
       " 276,\n",
       " 277,\n",
       " 278,\n",
       " 279,\n",
       " 280,\n",
       " 281,\n",
       " 282,\n",
       " 283,\n",
       " 284,\n",
       " 285,\n",
       " 286,\n",
       " 287,\n",
       " 288,\n",
       " 289,\n",
       " 290,\n",
       " 291,\n",
       " 292,\n",
       " 293,\n",
       " 294,\n",
       " 295,\n",
       " 296,\n",
       " 297,\n",
       " 298,\n",
       " 299,\n",
       " 300,\n",
       " 301,\n",
       " 302,\n",
       " 303,\n",
       " 304,\n",
       " 305,\n",
       " 306,\n",
       " 307,\n",
       " 308,\n",
       " 309,\n",
       " 310,\n",
       " 311,\n",
       " 312,\n",
       " 313,\n",
       " 314,\n",
       " 315,\n",
       " 316,\n",
       " 317,\n",
       " 318,\n",
       " 319,\n",
       " 320,\n",
       " 321,\n",
       " 322,\n",
       " 323,\n",
       " 324,\n",
       " 325,\n",
       " 326,\n",
       " 327,\n",
       " 328,\n",
       " 329,\n",
       " 330,\n",
       " 331,\n",
       " 332,\n",
       " 333,\n",
       " 334,\n",
       " 335,\n",
       " 336,\n",
       " 337,\n",
       " 338,\n",
       " 339,\n",
       " 340,\n",
       " 341,\n",
       " 342,\n",
       " 343,\n",
       " 344,\n",
       " 345,\n",
       " 346,\n",
       " 347,\n",
       " 348,\n",
       " 349,\n",
       " 350,\n",
       " 351,\n",
       " 352,\n",
       " 353,\n",
       " 354,\n",
       " 355,\n",
       " 356,\n",
       " 357,\n",
       " 358,\n",
       " 359,\n",
       " 360,\n",
       " 361,\n",
       " 362,\n",
       " 363,\n",
       " 364,\n",
       " 365,\n",
       " 366,\n",
       " 367,\n",
       " 368,\n",
       " 369,\n",
       " 370,\n",
       " 371,\n",
       " 372,\n",
       " 373,\n",
       " 374,\n",
       " 375,\n",
       " 376,\n",
       " 377,\n",
       " 378,\n",
       " 379,\n",
       " 380,\n",
       " 381,\n",
       " 382,\n",
       " 383,\n",
       " 384,\n",
       " 385,\n",
       " 386,\n",
       " 387,\n",
       " 388,\n",
       " 389,\n",
       " 390,\n",
       " 391,\n",
       " 392,\n",
       " 393,\n",
       " 394,\n",
       " 395,\n",
       " 396,\n",
       " 397,\n",
       " 398,\n",
       " 399,\n",
       " 400,\n",
       " 401,\n",
       " 402,\n",
       " 403,\n",
       " 404,\n",
       " 405,\n",
       " 406,\n",
       " 407,\n",
       " 408,\n",
       " 409,\n",
       " 410,\n",
       " 411,\n",
       " 412,\n",
       " 413,\n",
       " 414,\n",
       " 415,\n",
       " 416,\n",
       " 417,\n",
       " 418,\n",
       " 419,\n",
       " 420,\n",
       " 421,\n",
       " 422,\n",
       " 423,\n",
       " 424,\n",
       " 425,\n",
       " 426,\n",
       " 427,\n",
       " 428,\n",
       " 429,\n",
       " 430,\n",
       " 431,\n",
       " 432,\n",
       " 433,\n",
       " 434,\n",
       " 435,\n",
       " 436,\n",
       " 437,\n",
       " 438,\n",
       " 439,\n",
       " 440,\n",
       " 441,\n",
       " 442,\n",
       " 443,\n",
       " 444,\n",
       " 445,\n",
       " 446,\n",
       " 447,\n",
       " 448,\n",
       " 449,\n",
       " 450,\n",
       " 451,\n",
       " 452,\n",
       " 453,\n",
       " 454,\n",
       " 455,\n",
       " 456,\n",
       " 457,\n",
       " 458,\n",
       " 459,\n",
       " 460,\n",
       " 461,\n",
       " 462,\n",
       " 463,\n",
       " 464,\n",
       " 465,\n",
       " 466,\n",
       " 467,\n",
       " 468,\n",
       " 469,\n",
       " 470,\n",
       " 471,\n",
       " 472,\n",
       " 473,\n",
       " 474,\n",
       " 475,\n",
       " 476,\n",
       " 477,\n",
       " 478,\n",
       " 479,\n",
       " 480,\n",
       " 481,\n",
       " 482,\n",
       " 483,\n",
       " 484,\n",
       " 485,\n",
       " 486,\n",
       " 487,\n",
       " 488,\n",
       " 489,\n",
       " 490,\n",
       " 491,\n",
       " 492,\n",
       " 493,\n",
       " 494,\n",
       " 495,\n",
       " 496,\n",
       " 497,\n",
       " 498,\n",
       " 499,\n",
       " 500,\n",
       " 501,\n",
       " 502,\n",
       " 503,\n",
       " 504,\n",
       " 505,\n",
       " 506,\n",
       " 507,\n",
       " 508,\n",
       " 509,\n",
       " 510,\n",
       " 511,\n",
       " 512,\n",
       " 513,\n",
       " 514,\n",
       " 515,\n",
       " 516,\n",
       " 517,\n",
       " 518,\n",
       " 519,\n",
       " 520,\n",
       " 521,\n",
       " 522,\n",
       " 523,\n",
       " 524,\n",
       " 525,\n",
       " 526,\n",
       " 527,\n",
       " 528,\n",
       " 529,\n",
       " 530,\n",
       " 531,\n",
       " 532,\n",
       " 533,\n",
       " 534,\n",
       " 535,\n",
       " 536,\n",
       " 537,\n",
       " 538,\n",
       " 539,\n",
       " 540,\n",
       " 541,\n",
       " 542,\n",
       " 543,\n",
       " 544,\n",
       " 545,\n",
       " 546,\n",
       " 547,\n",
       " 548,\n",
       " 549,\n",
       " 550,\n",
       " 551,\n",
       " 552,\n",
       " 553,\n",
       " 554,\n",
       " 555,\n",
       " 556,\n",
       " 557,\n",
       " 558,\n",
       " 559,\n",
       " 560,\n",
       " 561,\n",
       " 562,\n",
       " 563,\n",
       " 564,\n",
       " 565,\n",
       " 566,\n",
       " 567,\n",
       " 568,\n",
       " 569,\n",
       " 570,\n",
       " 571,\n",
       " 572,\n",
       " 573,\n",
       " 574,\n",
       " 575,\n",
       " 576,\n",
       " 577,\n",
       " 578,\n",
       " 579,\n",
       " 580,\n",
       " 581,\n",
       " 582,\n",
       " 583,\n",
       " 584,\n",
       " 585,\n",
       " 586,\n",
       " 587,\n",
       " 588,\n",
       " 589,\n",
       " 590,\n",
       " 591,\n",
       " 592,\n",
       " 593,\n",
       " 594,\n",
       " 595,\n",
       " 596,\n",
       " 597,\n",
       " 598,\n",
       " 599,\n",
       " 600,\n",
       " 601,\n",
       " 602,\n",
       " 603,\n",
       " 604,\n",
       " 605,\n",
       " 606,\n",
       " 607,\n",
       " 608,\n",
       " 609,\n",
       " 610,\n",
       " 611,\n",
       " 612,\n",
       " 613,\n",
       " 614,\n",
       " 615,\n",
       " 616,\n",
       " 617,\n",
       " 618,\n",
       " 619,\n",
       " 620,\n",
       " 621,\n",
       " 622,\n",
       " 623,\n",
       " 624,\n",
       " 625,\n",
       " 626,\n",
       " 627,\n",
       " 628,\n",
       " 629,\n",
       " 630,\n",
       " 631,\n",
       " 632,\n",
       " 633,\n",
       " 634,\n",
       " 635,\n",
       " 636,\n",
       " 637,\n",
       " 638,\n",
       " 639,\n",
       " 640,\n",
       " 641,\n",
       " 642,\n",
       " 643,\n",
       " 644,\n",
       " 645,\n",
       " 646,\n",
       " 647,\n",
       " 648,\n",
       " 649,\n",
       " 650,\n",
       " 651,\n",
       " 652,\n",
       " 653,\n",
       " 654,\n",
       " 655,\n",
       " 656,\n",
       " 657,\n",
       " 658,\n",
       " 659,\n",
       " 660,\n",
       " 661,\n",
       " 662,\n",
       " 663,\n",
       " 664,\n",
       " 665,\n",
       " 666,\n",
       " 667,\n",
       " 668,\n",
       " 669,\n",
       " 670,\n",
       " 671,\n",
       " 672,\n",
       " 673,\n",
       " 674,\n",
       " 675,\n",
       " 676,\n",
       " 677,\n",
       " 678,\n",
       " 679,\n",
       " 680,\n",
       " 681,\n",
       " 682,\n",
       " 683,\n",
       " 684,\n",
       " 685,\n",
       " 686,\n",
       " 687,\n",
       " 688,\n",
       " 689,\n",
       " 690,\n",
       " 691,\n",
       " 692,\n",
       " 693,\n",
       " 694,\n",
       " 695,\n",
       " 696,\n",
       " 697,\n",
       " 698,\n",
       " 699,\n",
       " 700,\n",
       " 701,\n",
       " 702,\n",
       " 703,\n",
       " 704,\n",
       " 705,\n",
       " 706,\n",
       " 707,\n",
       " 708,\n",
       " 709,\n",
       " 710,\n",
       " 711,\n",
       " 712,\n",
       " 713,\n",
       " 714,\n",
       " 715,\n",
       " 716,\n",
       " 717,\n",
       " 718,\n",
       " 719,\n",
       " 720,\n",
       " 721,\n",
       " 722,\n",
       " 723,\n",
       " 724,\n",
       " 725,\n",
       " 726,\n",
       " 727,\n",
       " 728,\n",
       " 729,\n",
       " 730,\n",
       " 731,\n",
       " 732,\n",
       " 733,\n",
       " 734,\n",
       " 735,\n",
       " 736,\n",
       " 737,\n",
       " 738,\n",
       " 739,\n",
       " 740,\n",
       " 741,\n",
       " 742,\n",
       " 743,\n",
       " 744,\n",
       " 745,\n",
       " 746,\n",
       " 747,\n",
       " 748,\n",
       " 749,\n",
       " 750,\n",
       " 751,\n",
       " 752,\n",
       " 753,\n",
       " 754,\n",
       " 755,\n",
       " 756,\n",
       " 757,\n",
       " 758,\n",
       " 759,\n",
       " 760,\n",
       " 761,\n",
       " 762,\n",
       " 763,\n",
       " 764,\n",
       " 765,\n",
       " 766,\n",
       " 767,\n",
       " 768,\n",
       " 769,\n",
       " 770,\n",
       " 771,\n",
       " 772,\n",
       " 773,\n",
       " 774,\n",
       " 775,\n",
       " 776,\n",
       " 777,\n",
       " 778,\n",
       " 779,\n",
       " 780,\n",
       " 781,\n",
       " 782,\n",
       " 783,\n",
       " 784,\n",
       " 785,\n",
       " 786,\n",
       " 787,\n",
       " 788,\n",
       " 789,\n",
       " 790,\n",
       " 791,\n",
       " 792,\n",
       " 793,\n",
       " 794,\n",
       " 795,\n",
       " 796,\n",
       " 797,\n",
       " 798,\n",
       " 799,\n",
       " 800,\n",
       " 801,\n",
       " 802,\n",
       " 803,\n",
       " 804,\n",
       " 805,\n",
       " 806,\n",
       " 807,\n",
       " 808,\n",
       " 809,\n",
       " 810,\n",
       " 811,\n",
       " 812,\n",
       " 813,\n",
       " 814,\n",
       " 815,\n",
       " 816,\n",
       " 817,\n",
       " 818,\n",
       " 819,\n",
       " 820,\n",
       " 821,\n",
       " 822,\n",
       " 823,\n",
       " 824,\n",
       " 825,\n",
       " 826,\n",
       " 827,\n",
       " 828,\n",
       " 829,\n",
       " 830,\n",
       " 831,\n",
       " 832,\n",
       " 833,\n",
       " 834,\n",
       " 835,\n",
       " 836,\n",
       " 837,\n",
       " 838,\n",
       " 839,\n",
       " 840,\n",
       " 841,\n",
       " 842,\n",
       " 843,\n",
       " 844,\n",
       " 845,\n",
       " 846,\n",
       " 847,\n",
       " 848,\n",
       " 849,\n",
       " 850,\n",
       " 851,\n",
       " 852,\n",
       " 853,\n",
       " 854,\n",
       " 855,\n",
       " 856,\n",
       " 857,\n",
       " 858,\n",
       " 859,\n",
       " 860,\n",
       " 861,\n",
       " 862,\n",
       " 863,\n",
       " 864,\n",
       " 865,\n",
       " 866,\n",
       " 867,\n",
       " 868,\n",
       " 869,\n",
       " 870,\n",
       " 871,\n",
       " 872,\n",
       " 873,\n",
       " 874,\n",
       " 875,\n",
       " 876,\n",
       " 877,\n",
       " 878,\n",
       " 879,\n",
       " 880,\n",
       " 881,\n",
       " 882,\n",
       " 883,\n",
       " 884,\n",
       " 885,\n",
       " 886,\n",
       " 887,\n",
       " 888,\n",
       " 889,\n",
       " 890,\n",
       " 891,\n",
       " 892,\n",
       " 893,\n",
       " 894,\n",
       " 895,\n",
       " 896,\n",
       " 897,\n",
       " 898,\n",
       " 899,\n",
       " 900,\n",
       " 901,\n",
       " 902,\n",
       " 903,\n",
       " 904,\n",
       " 905,\n",
       " 906,\n",
       " 907,\n",
       " 908,\n",
       " 909,\n",
       " 910,\n",
       " 911,\n",
       " 912,\n",
       " 913,\n",
       " 914,\n",
       " 915,\n",
       " 916,\n",
       " 917,\n",
       " 918,\n",
       " 919,\n",
       " 920,\n",
       " 921,\n",
       " 922,\n",
       " 923,\n",
       " 924,\n",
       " 925,\n",
       " 926,\n",
       " 927,\n",
       " 928,\n",
       " 929,\n",
       " 930,\n",
       " 931,\n",
       " 932,\n",
       " 933,\n",
       " 934,\n",
       " 935,\n",
       " 936,\n",
       " 937,\n",
       " 938,\n",
       " 939,\n",
       " 940,\n",
       " 941,\n",
       " 942,\n",
       " 943,\n",
       " 944,\n",
       " 945,\n",
       " 946,\n",
       " 947,\n",
       " 948,\n",
       " 949,\n",
       " 950,\n",
       " 951,\n",
       " 952,\n",
       " 953,\n",
       " 954,\n",
       " 955,\n",
       " 956,\n",
       " 957,\n",
       " 958,\n",
       " 959,\n",
       " 960,\n",
       " 961,\n",
       " 962,\n",
       " 963,\n",
       " 964,\n",
       " 965,\n",
       " 966,\n",
       " 967,\n",
       " 968,\n",
       " 969,\n",
       " 970,\n",
       " 971,\n",
       " 972,\n",
       " 973,\n",
       " 974,\n",
       " 975,\n",
       " 976,\n",
       " 977,\n",
       " 978,\n",
       " 979,\n",
       " 980,\n",
       " 981,\n",
       " 982,\n",
       " 983,\n",
       " 984,\n",
       " 985,\n",
       " 986,\n",
       " 987,\n",
       " 988,\n",
       " 989,\n",
       " 990,\n",
       " 991,\n",
       " 992,\n",
       " 993,\n",
       " 994,\n",
       " 995,\n",
       " 996,\n",
       " 997,\n",
       " 998,\n",
       " 999,\n",
       " 1000,\n",
       " ...]"
      ]
     },
     "execution_count": 14,
     "metadata": {},
     "output_type": "execute_result"
    }
   ],
   "source": [
    "listas = [val for val in range(1, 1000001)]\n",
    "listas"
   ]
  },
  {
   "cell_type": "markdown",
   "metadata": {},
   "source": [
    "11. <span class=\"mark\">Sumando un millón: Haga una lista de los números del uno al millón, y luego use min () y max () para asegurarse de que su lista realmente comience en uno y termine en un millón. Además, use la función sum () para ver qué tan rápido Python puede agregar un millón de números.</span>"
   ]
  },
  {
   "cell_type": "code",
   "execution_count": 16,
   "metadata": {
    "ExecuteTime": {
     "end_time": "2020-10-28T01:46:06.266799Z",
     "start_time": "2020-10-28T01:46:06.036657Z"
    }
   },
   "outputs": [
    {
     "name": "stdout",
     "output_type": "stream",
     "text": [
      "Minimo:  1\n",
      "Maximo:  1000000\n",
      "Suma:  500000500000\n"
     ]
    }
   ],
   "source": [
    "listas = [val for val in range(1, 1000001)]\n",
    "listas\n",
    "print(\"Minimo: \", min(listas))\n",
    "print(\"Maximo: \", max(listas))\n",
    "print(\"Suma: \", sum(listas))"
   ]
  },
  {
   "cell_type": "markdown",
   "metadata": {},
   "source": [
    "12. <span class=\"mark\">Números impares: use el tercer argumento de la función range () para hacer una lista de los números impares del 1 al 20. Use un bucle for para imprimir cada número.</span>"
   ]
  },
  {
   "cell_type": "code",
   "execution_count": 28,
   "metadata": {
    "ExecuteTime": {
     "end_time": "2020-10-29T01:44:25.590100Z",
     "start_time": "2020-10-29T01:44:25.575853Z"
    }
   },
   "outputs": [
    {
     "name": "stdout",
     "output_type": "stream",
     "text": [
      "1\n",
      "3\n",
      "5\n",
      "7\n",
      "9\n",
      "11\n",
      "13\n",
      "15\n",
      "17\n",
      "19\n"
     ]
    }
   ],
   "source": [
    "impares=range(1, 20,2)\n",
    "for valor in impares:\n",
    "    print(valor)"
   ]
  },
  {
   "cell_type": "markdown",
   "metadata": {},
   "source": [
    "13. <span class=\"mark\">Tres: Haz una lista de los múltiplos de 3 del 3 al 30. Usa un ciclo for para imprimir los números en tu lista.</span>"
   ]
  },
  {
   "cell_type": "code",
   "execution_count": 27,
   "metadata": {
    "ExecuteTime": {
     "end_time": "2020-10-29T01:43:44.336821Z",
     "start_time": "2020-10-29T01:43:44.330869Z"
    }
   },
   "outputs": [
    {
     "name": "stdout",
     "output_type": "stream",
     "text": [
      "3\n",
      "6\n",
      "9\n",
      "12\n",
      "15\n",
      "18\n",
      "21\n",
      "24\n",
      "27\n",
      "30\n"
     ]
    }
   ],
   "source": [
    "listica=range(3,33,3)\n",
    "for valor in listica:\n",
    "    print(valor)"
   ]
  },
  {
   "cell_type": "markdown",
   "metadata": {},
   "source": [
    "14. <span class=\"mark\">Cubos: un número elevado a la tercera potencia se llama cubo. Por ejemplo, el cubo de 2 se escribe como 2 ** 3 en Python. Haga una lista de los primeros 10 cubos (es decir, el cubo de cada número entero del 1 al 10) y use un ciclo for para imprimir el valor de cada cubo.</span> "
   ]
  },
  {
   "cell_type": "code",
   "execution_count": 30,
   "metadata": {
    "ExecuteTime": {
     "end_time": "2020-10-29T01:46:55.815249Z",
     "start_time": "2020-10-29T01:46:55.807844Z"
    }
   },
   "outputs": [
    {
     "name": "stdout",
     "output_type": "stream",
     "text": [
      "[1, 4, 9, 16, 25, 36, 49, 64, 81, 100]\n"
     ]
    }
   ],
   "source": [
    "squares = []\n",
    "for value in range(1,11):\n",
    "    square = value**2\n",
    "    squares.append(square)\n",
    "\n",
    "print(squares)"
   ]
  },
  {
   "cell_type": "markdown",
   "metadata": {},
   "source": [
    "15. <span class=\"mark\">Comprensión de cubos: use una lista de comprensión para generar una lista de los primeros 10 cubos.</span>"
   ]
  },
  {
   "cell_type": "code",
   "execution_count": 32,
   "metadata": {
    "ExecuteTime": {
     "end_time": "2020-10-29T01:49:11.355792Z",
     "start_time": "2020-10-29T01:49:11.338549Z"
    }
   },
   "outputs": [
    {
     "data": {
      "text/plain": [
       "[1, 4, 9, 16, 25, 36, 49, 64, 81, 100]"
      ]
     },
     "execution_count": 32,
     "metadata": {},
     "output_type": "execute_result"
    }
   ],
   "source": [
    "lista = [valor**2 for valor in range(1, 11)]\n",
    "lista"
   ]
  },
  {
   "cell_type": "markdown",
   "metadata": {},
   "source": [
    "16. <span class=\"mark\">Slic</span><span class=\"mark\">ing: utilizando uno de los programas que escribió en este capítulo, agregue varias líneas al final del programa que hagan lo siguiente:\n",
    "\n",
    "• Imprima el mensaje. Los primeros tres elementos de la lista son :. Luego, use una porción para imprimir los primeros tres elementos de la lista de ese programa.\n",
    "• Imprima el mensaje. Tres elementos del medio de la lista son :. Utilice un sector para imprimir tres elementos del medio de la lista.\n",
    "• Imprima el mensaje. Los últimos tres elementos de la lista son :. Utilice un corte para imprimir los últimos tres elementos de la lista.</span>"
   ]
  },
  {
   "cell_type": "code",
   "execution_count": 37,
   "metadata": {
    "ExecuteTime": {
     "end_time": "2020-10-29T01:53:00.817191Z",
     "start_time": "2020-10-29T01:53:00.812497Z"
    }
   },
   "outputs": [
    {
     "name": "stdout",
     "output_type": "stream",
     "text": [
      "[1, 4, 9, 16, 25, 36, 49, 64, 81, 100]\n",
      "[1, 4, 9]\n"
     ]
    }
   ],
   "source": [
    "print(lista)\n",
    "print(lista[:3])"
   ]
  },
  {
   "cell_type": "code",
   "execution_count": 52,
   "metadata": {
    "ExecuteTime": {
     "end_time": "2020-10-29T01:59:26.243964Z",
     "start_time": "2020-10-29T01:59:26.227099Z"
    }
   },
   "outputs": [
    {
     "name": "stdout",
     "output_type": "stream",
     "text": [
      "Los tres primeros lugares son: \n",
      "['rusia', 'italia', 'grecia', 'francia', 'china']\n",
      "Rusia\n",
      "Italia\n",
      "Grecia\n",
      "Los tres lugares del medio son: \n",
      "Italia\n",
      "Grecia\n",
      "Francia\n",
      "Los tres ultimos lugares son: \n",
      "Grecia\n",
      "Francia\n",
      "China\n"
     ]
    }
   ],
   "source": [
    "print(\"Los tres primeros lugares son: \")\n",
    "print(lugares)\n",
    "for lugar in lugares[:3]:\n",
    "    print(lugar.title())\n",
    "print(\"Los tres lugares del medio son: \")\n",
    "for lugar in lugares[1:4]:\n",
    "    print(lugar.title())\n",
    "print(\"Los tres ultimos lugares son: \")\n",
    "for lugar in lugares[2:]:\n",
    "    print(lugar.title())"
   ]
  },
  {
   "cell_type": "markdown",
   "metadata": {
    "ExecuteTime": {
     "end_time": "2020-10-29T02:01:54.242885Z",
     "start_time": "2020-10-29T02:01:54.231800Z"
    }
   },
   "source": [
    "17. <span class=\"mark\">Buffet: Un restaurante estilo buffet ofrece solo cinco alimentos básicos. Piense en cinco alimentos simples \n",
    "    y guárdelos en una tupla.\n",
    "\n",
    "• <span class=\"mark\">Utilice un bucle for para imprimir cada comida que ofrece el restaurante.\n",
    "• Intente modificar uno de los elementos y asegúrese de que Python rechace el cambio.</span>\n",
    "• El restaurante cambia su menú, reemplazando dos de los elementos por alimentos diferentes. \n",
    "Agregue un bloque de código que reescribe la tupla y luego use un bucle for para imprimir cada \n",
    "uno de los elementos en el menú revisado</span>."
   ]
  },
  {
   "cell_type": "code",
   "execution_count": 54,
   "metadata": {
    "ExecuteTime": {
     "end_time": "2020-10-29T02:07:37.566717Z",
     "start_time": "2020-10-29T02:07:37.553676Z"
    }
   },
   "outputs": [
    {
     "name": "stdout",
     "output_type": "stream",
     "text": [
      "pastas\n",
      "solomito\n",
      "pollo\n",
      "arroz\n",
      "sopa\n"
     ]
    }
   ],
   "source": [
    "buffet = ('pastas', 'solomito','pollo', 'arroz', 'sopa')\n",
    "for valor in buffet:\n",
    "    print(valor)"
   ]
  },
  {
   "cell_type": "code",
   "execution_count": 56,
   "metadata": {
    "ExecuteTime": {
     "end_time": "2020-10-29T02:08:43.045465Z",
     "start_time": "2020-10-29T02:08:43.025111Z"
    },
    "run_control": {
     "marked": false
    }
   },
   "outputs": [
    {
     "ename": "TypeError",
     "evalue": "'tuple' object does not support item assignment",
     "output_type": "error",
     "traceback": [
      "\u001b[1;31m---------------------------------------------------------------------------\u001b[0m",
      "\u001b[1;31mTypeError\u001b[0m                                 Traceback (most recent call last)",
      "\u001b[1;32m<ipython-input-56-cacfa800c7cd>\u001b[0m in \u001b[0;36m<module>\u001b[1;34m\u001b[0m\n\u001b[1;32m----> 1\u001b[1;33m \u001b[0mbuffet\u001b[0m\u001b[1;33m[\u001b[0m\u001b[1;36m0\u001b[0m\u001b[1;33m]\u001b[0m \u001b[1;33m=\u001b[0m \u001b[1;36m100\u001b[0m\u001b[1;33m\u001b[0m\u001b[1;33m\u001b[0m\u001b[0m\n\u001b[0m\u001b[0;32m      2\u001b[0m \u001b[0mprint\u001b[0m\u001b[1;33m(\u001b[0m\u001b[0mbuffet\u001b[0m\u001b[1;33m)\u001b[0m\u001b[1;33m\u001b[0m\u001b[1;33m\u001b[0m\u001b[0m\n",
      "\u001b[1;31mTypeError\u001b[0m: 'tuple' object does not support item assignment"
     ]
    }
   ],
   "source": [
    "buffet[0] = 100\n",
    "print(buffet)"
   ]
  },
  {
   "cell_type": "code",
   "execution_count": 1,
   "metadata": {
    "ExecuteTime": {
     "end_time": "2020-10-31T17:15:30.174308Z",
     "start_time": "2020-10-31T17:15:30.168355Z"
    }
   },
   "outputs": [
    {
     "name": "stdout",
     "output_type": "stream",
     "text": [
      "pescado\n",
      "risotto\n",
      "pollo\n",
      "arroz\n",
      "sopa\n"
     ]
    }
   ],
   "source": [
    "buffet2 = ['pastas', 'solomito','pollo', 'arroz', 'sopa']\n",
    "buffet2[0]='pescado'\n",
    "buffet2[1]='risotto'\n",
    "for valor in buffet2:\n",
    "    print(valor)"
   ]
  },
  {
   "cell_type": "markdown",
   "metadata": {},
   "source": [
    "18. <span class=\"mark\">Pruebas condicionales: escriba una serie de pruebas condicionales. Imprima una declaración que describa cada prueba y su predicción para los resultados de cada prueba. Tu código debería verse así:\n",
    "\n",
    "<span class=\"mark\">coche = 'subaru'\n",
    "print(\"¿Es car == 'subaru'? Predigo True.\")\n",
    "print(coche == 'subaru')\n",
    "print(\"\\n¿Es auto == 'audi'? Predigo Falso.\")\n",
    "print(coche == 'audi')</span>    \n",
    "\n",
    "• <span class=\"mark\">Observe de cerca sus resultados y asegúrese de comprender por qué cada línea se evalúa como Verdadero o Falso.\n",
    "• Cree al menos 10 pruebas. Haga que al menos 5 pruebas evalúen como Verdadero y otras 5 pruebas evalúen como Falso.</span></span>"
   ]
  },
  {
   "cell_type": "code",
   "execution_count": 6,
   "metadata": {
    "ExecuteTime": {
     "end_time": "2020-10-31T17:23:02.791080Z",
     "start_time": "2020-10-31T17:23:02.783610Z"
    },
    "scrolled": false
   },
   "outputs": [
    {
     "name": "stdout",
     "output_type": "stream",
     "text": [
      "¿Es car == 'subaru'? Predigo True.\n",
      "True\n",
      "\n",
      "¿Es auto == 'audi'? Predigo Falso.\n",
      "False\n",
      "\n",
      "¿Es auto == 'bmw'? Predigo Falso.\n",
      "False\n",
      "\n",
      "¿Es auto == 'toyota'? Predigo True.\n",
      "True\n",
      "\n",
      "¿Es auto == 'renault'? Predigo Falso.\n",
      "False\n"
     ]
    }
   ],
   "source": [
    "coche = 'subaru'\n",
    "print(\"¿Es car == 'subaru'? Predigo True.\")\n",
    "print(coche == 'subaru')\n",
    "print(\"\\n¿Es auto == 'audi'? Predigo Falso.\")\n",
    "print(coche == 'audi')  \n",
    "print(\"\\n¿Es auto == 'bmw'? Predigo Falso.\")\n",
    "print(coche == 'bmw') \n",
    "coche='toyota'\n",
    "print(\"\\n¿Es auto == 'toyota'? Predigo True.\")\n",
    "print(coche == 'toyota') \n",
    "print(\"\\n¿Es auto == 'renault'? Predigo Falso.\")\n",
    "print(coche == 'renault') "
   ]
  },
  {
   "cell_type": "markdown",
   "metadata": {},
   "source": [
    "<span class=\"mark\">19 Alien Colors # 1: imagina que un alienígena acaba de ser derribado en un juego. Cree una variable llamada alien_color y asígnele un valor de 'verde', 'amarillo' o 'rojo'.</span>\n",
    "\n",
    "• Escribe una declaración if para probar si el color del extraterrestre es verde. Si es así, imprima un mensaje de que el jugador acaba de ganar 5 puntos.\n",
    "• Escriba una versión de este programa que pase la prueba if y otra que falle. (La versión que falla no tendrá salida).\n",
    "20. <span class=\"mark\">Alien Colors # 2: Elija un color para un alienígena como lo hizo en el Ejercicio 19, y escriba una cadena if-else.</span>\n",
    "\n",
    "• Si el color del alienígena es verde, imprima una declaración de que el jugador acaba de ganar 5 puntos por dispararle al alienígena.\n",
    "• Si el color del alienígena no es verde, imprima una declaración de que el jugador acaba de ganar 10 puntos.\n",
    "• Escriba una versión de este programa que ejecute el bloque if y otra que ejecute el bloque else.\n",
    "\n",
    "21. <span class=\"mark\">Alien Colors # 3: Convierta su cadena if-else del ejercicio 20 en una cadena if-elifelse.</span>\n",
    "\n",
    "• Si el alienígena es verde, imprima un mensaje que indique que el jugador ganó 5 puntos.\n",
    "• Si el alienígena es amarillo, imprima un mensaje de que el jugador ganó 10 puntos.\n",
    "• Si el alienígena es rojo, imprima un mensaje que indique que el jugador ganó 15 puntos.\n",
    "• Escriba tres versiones de este programa, asegurándose de que cada mensaje se imprima para el extraterrestre del color apropiad</div><i class=\"fa fa-lightbulb-o \"></i>"
   ]
  },
  {
   "cell_type": "code",
   "execution_count": 11,
   "metadata": {
    "ExecuteTime": {
     "end_time": "2020-11-01T19:55:12.952739Z",
     "start_time": "2020-11-01T19:55:06.395794Z"
    }
   },
   "outputs": [
    {
     "name": "stdout",
     "output_type": "stream",
     "text": [
      "Cual es el color del alien: rojo\n",
      "Acabas de ganar 15 puntos!\n"
     ]
    }
   ],
   "source": [
    "alien_color='verde'\n",
    "color = input(\"Cual es el color del alien: \")\n",
    "if color == 'verde':\n",
    "    print(\"Acabas de ganar 5 puntos!\")\n",
    "elif color =='amarillo':\n",
    "    print(\"Acabas de ganar 10 puntos!\")\n",
    "elif color =='rojo':\n",
    "    print(\"Acabas de ganar 15 puntos!\")"
   ]
  },
  {
   "cell_type": "markdown",
   "metadata": {},
   "source": [
    "22. <span class=\"mark\">Etapas de la vida: escriba una cadena if-elif-else que determine la etapa de la vida de una persona. Establezca un valor para la variable edad y luego:</span>\n",
    "\n",
    "• Si la persona tiene menos de 2 años, imprima un mensaje que indique que la persona es un bebé.\n",
    "• Si la persona tiene al menos 2 años pero menos de 4, imprima un mensaje que indique que es un niño pequeño.\n",
    "• Si la persona tiene al menos 4 años pero menos de 13, imprima un mensaje que indique que es un niño.\n",
    "• Si la persona tiene al menos 13 años pero menos de 20, imprima un mensaje que indique que la persona es un adolescente.\n",
    "• Si la persona tiene al menos 20 años pero menos de 65, imprima un mensaje que indique que la persona es un adulto.\n",
    "• Si la persona tiene 65 años o más, imprima un mensaje que indique que es un mayor."
   ]
  },
  {
   "cell_type": "code",
   "execution_count": 31,
   "metadata": {
    "ExecuteTime": {
     "end_time": "2020-11-01T20:08:29.869589Z",
     "start_time": "2020-11-01T20:08:26.330018Z"
    }
   },
   "outputs": [
    {
     "name": "stdout",
     "output_type": "stream",
     "text": [
      "Cual es su edad: 90\n",
      "Es un mayor\n"
     ]
    }
   ],
   "source": [
    "age = int(input(\"Cual es su edad: \"))\n",
    "\n",
    "if age < 2:\n",
    "    print(\"Es un bebe\")\n",
    "elif 2==age or age<4:\n",
    "    print(\"Es un niño pequeño\")\n",
    "elif 4==age or age<13:\n",
    "    print(\"Es un niño\")\n",
    "elif 13==age or age<20:\n",
    "    print(\"Es un adolescente\")\n",
    "elif 20==age or age<65:\n",
    "    print(\"Es un adulto\")\n",
    "else:\n",
    "     print(\"Es un mayor\")\n"
   ]
  },
  {
   "cell_type": "code",
   "execution_count": null,
   "metadata": {},
   "outputs": [],
   "source": []
  }
 ],
 "metadata": {
  "kernelspec": {
   "display_name": "Python 3",
   "language": "python",
   "name": "python3"
  },
  "language_info": {
   "codemirror_mode": {
    "name": "ipython",
    "version": 3
   },
   "file_extension": ".py",
   "mimetype": "text/x-python",
   "name": "python",
   "nbconvert_exporter": "python",
   "pygments_lexer": "ipython3",
   "version": "3.8.3"
  },
  "toc": {
   "base_numbering": 1,
   "nav_menu": {},
   "number_sections": true,
   "sideBar": true,
   "skip_h1_title": false,
   "title_cell": "Table of Contents",
   "title_sidebar": "Contents",
   "toc_cell": false,
   "toc_position": {},
   "toc_section_display": true,
   "toc_window_display": false
  },
  "varInspector": {
   "cols": {
    "lenName": 16,
    "lenType": 16,
    "lenVar": 40
   },
   "kernels_config": {
    "python": {
     "delete_cmd_postfix": "",
     "delete_cmd_prefix": "del ",
     "library": "var_list.py",
     "varRefreshCmd": "print(var_dic_list())"
    },
    "r": {
     "delete_cmd_postfix": ") ",
     "delete_cmd_prefix": "rm(",
     "library": "var_list.r",
     "varRefreshCmd": "cat(var_dic_list()) "
    }
   },
   "types_to_exclude": [
    "module",
    "function",
    "builtin_function_or_method",
    "instance",
    "_Feature"
   ],
   "window_display": false
  }
 },
 "nbformat": 4,
 "nbformat_minor": 4
}
