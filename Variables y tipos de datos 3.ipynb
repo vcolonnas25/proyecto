{
 "cells": [
  {
   "cell_type": "code",
   "execution_count": 3,
   "metadata": {
    "ExecuteTime": {
     "end_time": "2020-10-29T23:29:28.392199Z",
     "start_time": "2020-10-29T23:29:28.383766Z"
    }
   },
   "outputs": [
    {
     "name": "stdout",
     "output_type": "stream",
     "text": [
      "camilo\n",
      "colonna\n",
      "24\n",
      "barranquilla\n"
     ]
    }
   ],
   "source": [
    "pers_1={'nombre':'camilo','apellido':'colonna','edad':'24','ciudad':'barranquilla'}\n",
    "print(pers_1['nombre'])\n",
    "print(pers_1['apellido'])\n",
    "print(pers_1['edad'])\n",
    "print(pers_1['ciudad'])"
   ]
  },
  {
   "cell_type": "code",
   "execution_count": 6,
   "metadata": {
    "ExecuteTime": {
     "end_time": "2020-10-30T00:29:19.773371Z",
     "start_time": "2020-10-30T00:29:19.762460Z"
    }
   },
   "outputs": [
    {
     "name": "stdout",
     "output_type": "stream",
     "text": [
      "Antes de:  {}\n",
      "Despues de:  {'nilo': 'egipto', 'magdalena': 'colombia', 'paraguai': 'brasil'}\n"
     ]
    }
   ],
   "source": [
    "rios_1={}\n",
    "print(\"Antes de: \", rios_1)\n",
    "\n",
    "nombres=[\"nilo\",\"magdalena\",\"paraguai\"]\n",
    "paises=[\"egipto\",\"colombia\",\"brasil\"]\n",
    "for i in range(len(nombres)):\n",
    "    rios_1[nombres[i]]=paises[i]\n",
    "    \n",
    "print(\"Despues de: \", rios_1)\n"
   ]
  },
  {
   "cell_type": "code",
   "execution_count": 15,
   "metadata": {
    "ExecuteTime": {
     "end_time": "2020-10-30T01:22:58.510393Z",
     "start_time": "2020-10-30T01:22:58.500956Z"
    }
   },
   "outputs": [
    {
     "name": "stdout",
     "output_type": "stream",
     "text": [
      "{'alvaro': {'español': True, 'ingles': True, 'chino': True, 'frances': False, 'italiano': False}, 'andres': {'español': True, 'ingles': False, 'chino': False, 'frances': True, 'italiano': True}}\n",
      "True\n"
     ]
    }
   ],
   "source": [
    "diccionarios={\n",
    "    \"alvaro\":{\"español\":True,\"ingles\":True,\"chino\":True,\"frances\":False,\"italiano\":False},\n",
    "    \"andres\":{\"español\":True,\"ingles\":False,\"chino\":False,\"frances\":True,\"italiano\":True}\n",
    "}\n",
    "\n",
    "print(diccionarios)\n",
    "print(diccionarios[\"alvaro\"][\"español\"])"
   ]
  },
  {
   "cell_type": "code",
   "execution_count": 19,
   "metadata": {
    "ExecuteTime": {
     "end_time": "2020-10-30T01:39:01.412996Z",
     "start_time": "2020-10-30T01:39:01.405090Z"
    }
   },
   "outputs": [
    {
     "name": "stdout",
     "output_type": "stream",
     "text": [
      "[1, 1, 1, 1, 1]\n"
     ]
    }
   ],
   "source": [
    "lista=[1,2,3,4,5,6]\n",
    "deriv=[]\n",
    "for i in range(len(lista)-1):\n",
    "    deriv.append(lista[i+1]-lista[i])\n",
    "print(deriv)"
   ]
  },
  {
   "cell_type": "code",
   "execution_count": 28,
   "metadata": {
    "ExecuteTime": {
     "end_time": "2020-10-31T16:53:41.858172Z",
     "start_time": "2020-10-31T16:53:41.836136Z"
    }
   },
   "outputs": [
    {
     "name": "stdout",
     "output_type": "stream",
     "text": [
      "['B', 'B', 'B', 'B', 'B', 'N', 'N', 'N', 'N', 'N', 'N', 'N', 'N']\n",
      "['B', 'B', 'B', 'N', 'N', 'N', 'N', 'N', 'N', 'N']\n",
      "3 :bananas\n",
      "6 :naranjas\n"
     ]
    }
   ],
   "source": [
    "pedido=\"BBBBBNNNNNNNN\"\n",
    "p=list(pedido)\n",
    "print(p)\n",
    "p.remove('B')\n",
    "p.remove('B')\n",
    "p.remove('N')\n",
    "print(p)\n",
    "nrj=0\n",
    "for i in p:\n",
    "    if i == 'N':\n",
    "        nrj+=1\n",
    "if nrj>=2:\n",
    "    p.remove('N')\n",
    "print(str(p.count('B')) + \" :bananas\")\n",
    "print(str(p.count('N')) + \" :naranjas\")"
   ]
  },
  {
   "cell_type": "code",
   "execution_count": 40,
   "metadata": {
    "ExecuteTime": {
     "end_time": "2020-10-31T17:00:37.665564Z",
     "start_time": "2020-10-31T17:00:37.656638Z"
    }
   },
   "outputs": [
    {
     "name": "stdout",
     "output_type": "stream",
     "text": [
      "Michael Jackson\n"
     ]
    }
   ],
   "source": [
    "candidatos = {\n",
    "    \"Michael Jackson\": 34453000,\n",
    "    \"Oliver Kahn\": 18445,\n",
    "    \"Micky Vainilla\": 5434444,\n",
    "    \"John Lennon\": 12332,\n",
    "    \"Roque Sáenz Peña\": 5543,\n",
    "    \"Alexandria Ocasio-Cortez\": 343343,\n",
    "    \"Ludwig van Beethoven\":1232322\n",
    "}\n",
    "maxim=0\n",
    "ganador= \" \"\n",
    "for i in candidatos:\n",
    "    mayor = candidatos[i]\n",
    "    if mayor > maxim:\n",
    "        maxim = mayor\n",
    "        ganador = i\n",
    "print(ganador)"
   ]
  },
  {
   "cell_type": "code",
   "execution_count": 41,
   "metadata": {
    "ExecuteTime": {
     "end_time": "2020-10-31T17:04:20.968801Z",
     "start_time": "2020-10-31T17:04:20.951440Z"
    }
   },
   "outputs": [
    {
     "name": "stdout",
     "output_type": "stream",
     "text": [
      "it regards bom?\n"
     ]
    }
   ],
   "source": [
    "dic = {\"ve\":\"regards\",\"bien\":\"bom\",\"se\":\"it\", \".\":\" \", \",\":\" \",\" \":\" \",\"!\":\"?\"}\n",
    "frase = \"se ve bien!\"\n",
    "print(dic[\"se\"] + dic[\" \"]+dic[\"ve\"]+dic[\" \"]+dic[\"bien\"]+dic[\"!\"])"
   ]
  }
 ],
 "metadata": {
  "kernelspec": {
   "display_name": "Python 3",
   "language": "python",
   "name": "python3"
  },
  "language_info": {
   "codemirror_mode": {
    "name": "ipython",
    "version": 3
   },
   "file_extension": ".py",
   "mimetype": "text/x-python",
   "name": "python",
   "nbconvert_exporter": "python",
   "pygments_lexer": "ipython3",
   "version": "3.8.3"
  },
  "toc": {
   "base_numbering": 1,
   "nav_menu": {},
   "number_sections": true,
   "sideBar": true,
   "skip_h1_title": false,
   "title_cell": "Table of Contents",
   "title_sidebar": "Contents",
   "toc_cell": false,
   "toc_position": {},
   "toc_section_display": true,
   "toc_window_display": false
  },
  "varInspector": {
   "cols": {
    "lenName": 16,
    "lenType": 16,
    "lenVar": 40
   },
   "kernels_config": {
    "python": {
     "delete_cmd_postfix": "",
     "delete_cmd_prefix": "del ",
     "library": "var_list.py",
     "varRefreshCmd": "print(var_dic_list())"
    },
    "r": {
     "delete_cmd_postfix": ") ",
     "delete_cmd_prefix": "rm(",
     "library": "var_list.r",
     "varRefreshCmd": "cat(var_dic_list()) "
    }
   },
   "types_to_exclude": [
    "module",
    "function",
    "builtin_function_or_method",
    "instance",
    "_Feature"
   ],
   "window_display": false
  }
 },
 "nbformat": 4,
 "nbformat_minor": 4
}
