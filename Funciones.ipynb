{
 "cells": [
  {
   "cell_type": "markdown",
   "metadata": {},
   "source": [
    "1. <span class=\"mark\">Realiza una función llamada area_rectangulo(base, altura) que devuelva el área del rectangulo a partir de una base y una altura. Calcula el área de un rectángulo de 15 de base y 10 de altura</span>"
   ]
  },
  {
   "cell_type": "code",
   "execution_count": 4,
   "metadata": {
    "ExecuteTime": {
     "end_time": "2020-11-01T20:14:08.781918Z",
     "start_time": "2020-11-01T20:14:08.776463Z"
    }
   },
   "outputs": [
    {
     "name": "stdout",
     "output_type": "stream",
     "text": [
      "El area es:  6\n"
     ]
    }
   ],
   "source": [
    "def area_rectangulo(base,altura):\n",
    "    print(\"El area es: \", base*altura)\n",
    "area_rectangulo(2,3)\n"
   ]
  },
  {
   "cell_type": "markdown",
   "metadata": {},
   "source": [
    "2. <span class=\"mark\">Realiza una función llamada relacion(a, b) que a partir de dos números cumpla lo siguiente</span>:\n",
    "\n",
    "Si el primer número es mayor que el segundo, debe devolver 1. Si el primer número es menor que el segundo, debe devolver -1. Si ambos números son iguales, debe devolver un 0. Comprueba la relación entre los números: '5 y 10', '10 y 5' y '5 y 5'."
   ]
  },
  {
   "cell_type": "code",
   "execution_count": 7,
   "metadata": {
    "ExecuteTime": {
     "end_time": "2020-11-01T20:17:21.340108Z",
     "start_time": "2020-11-01T20:17:21.332671Z"
    }
   },
   "outputs": [
    {
     "name": "stdout",
     "output_type": "stream",
     "text": [
      "-1\n",
      "1\n",
      "0\n"
     ]
    }
   ],
   "source": [
    "def relaciona(a,b):\n",
    "    if a>b:\n",
    "        print(\"1\")\n",
    "    if a<b:\n",
    "        print(\"-1\")\n",
    "    if a==b:\n",
    "        print(\"0\")\n",
    "relaciona(5,10)\n",
    "relaciona(10,5)\n",
    "relaciona(5,5)"
   ]
  },
  {
   "cell_type": "markdown",
   "metadata": {},
   "source": [
    "3. <span class=\"mark\">Realiza una función llamada intermedio(a, b) que a partir de dos números, devuelva su punto intermedio. Cuando lo tengas comprueba el punto intermedio entre -12 y 24:</span>\n"
   ]
  },
  {
   "cell_type": "code",
   "execution_count": 9,
   "metadata": {
    "ExecuteTime": {
     "end_time": "2020-11-01T20:25:29.203774Z",
     "start_time": "2020-11-01T20:25:29.197824Z"
    }
   },
   "outputs": [
    {
     "name": "stdout",
     "output_type": "stream",
     "text": [
      "6.0\n"
     ]
    }
   ],
   "source": [
    "def intermedio(a,b):\n",
    "   return (a + b) / 2\n",
    "\n",
    "print(intermedio(-12, 24))"
   ]
  },
  {
   "cell_type": "markdown",
   "metadata": {},
   "source": [
    "4. <span class=\"mark\">Realiza una función separar(lista) que tome una lista de números enteros y devuelva dos listas ordenadas. La primera con los números pares y la segunda con los números impares.</span>"
   ]
  },
  {
   "cell_type": "code",
   "execution_count": 19,
   "metadata": {
    "ExecuteTime": {
     "end_time": "2020-11-01T20:39:12.256254Z",
     "start_time": "2020-11-01T20:39:12.248816Z"
    }
   },
   "outputs": [
    {
     "name": "stdout",
     "output_type": "stream",
     "text": [
      "Los pares son:  [10, 40]\n",
      "Los impares son:  [13, 15, 45]\n"
     ]
    }
   ],
   "source": [
    "def separar(lista):\n",
    "    lista.sort()\n",
    "    par = []\n",
    "    impar = []\n",
    "    for nuevonum in lista:\n",
    "        if nuevonum%2 == 0:\n",
    "            par.append(nuevonum)\n",
    "        else:\n",
    "            impar.append(nuevonum)\n",
    "    return par, impar\n",
    "num=[10,13,15,40,45]\n",
    "funcion=separar(num)\n",
    "print(\"Los pares son: \", par)\n",
    "print(\"Los impares son: \", impar)"
   ]
  },
  {
   "cell_type": "markdown",
   "metadata": {},
   "source": [
    "\n",
    "5. <span class=\"mark\">Solicitar al usuario que ingrese su dirección email. Imprimir un mensaje indicando si la dirección es válida o no, valiéndose de una función para decidirlo. Una dirección se considerará válida si contiene el símbolo \"@\".</span>"
   ]
  },
  {
   "cell_type": "code",
   "execution_count": 68,
   "metadata": {
    "ExecuteTime": {
     "end_time": "2020-11-01T21:35:16.232022Z",
     "start_time": "2020-11-01T21:35:14.212083Z"
    }
   },
   "outputs": [
    {
     "name": "stdout",
     "output_type": "stream",
     "text": [
      "Tu email: vale\n",
      "El correo no es valido, intentalo de nuevo.\n"
     ]
    }
   ],
   "source": [
    "def validar(correo):\n",
    "    for nuevoemail in correo:\n",
    "        if nuevoemail==\"@\":\n",
    "            return True\n",
    "    return False\n",
    "\n",
    "if validar(input(\"Tu email: \")):\n",
    "    print(\"El correo es valido: \" + micorreo)\n",
    "else:\n",
    "    print(\"El correo no es valido, intentalo de nuevo.\")\n"
   ]
  },
  {
   "cell_type": "markdown",
   "metadata": {},
   "source": [
    "6. <span class=\"mark\">Solicitar números al usuario hasta que ingrese el cero. Por cada uno, mostrar la suma de sus dígitos (utilizando una función que realice dicha suma).</span>"
   ]
  },
  {
   "cell_type": "code",
   "execution_count": 88,
   "metadata": {
    "ExecuteTime": {
     "end_time": "2020-11-01T22:07:57.367687Z",
     "start_time": "2020-11-01T22:07:52.626453Z"
    },
    "run_control": {
     "marked": true
    }
   },
   "outputs": [
    {
     "name": "stdout",
     "output_type": "stream",
     "text": [
      "10\n",
      "Ingresa la lista y 0 para salir\n",
      "1\n",
      "Ingresa la lista y 0 para salir\n",
      "2\n",
      "Ingresa la lista y 0 para salir\n",
      "quit\n",
      "Su lista es:  ['1', '2']\n",
      "<map object at 0x00000234CF1DBCD0>\n"
     ]
    }
   ],
   "source": [
    "def sumar(listaNumeros):\n",
    "    suma = 0\n",
    "    for i in listaNumeros:\n",
    "        suma = suma + i\n",
    "    return suma\n",
    "print(sumar([1,2,3,4]))\n",
    "lista = []\n",
    "while True:\n",
    "    print(\"Ingresa la lista y 0 para salir\")\n",
    "    respuesta = input()\n",
    "    if respuesta != \"quit\":\n",
    "        lista.append(respuesta)\n",
    "    else:\n",
    "        break\n",
    "print(\"Su lista es: \", lista)  \n",
    "lista_enteros = map(float, lista)\n",
    "print(lista_enteros)\n",
    "#no me da\n"
   ]
  },
  {
   "cell_type": "markdown",
   "metadata": {},
   "source": [
    "8. <span class=\"mark\">Escribir una función que, dado un string, retorne la longitud de la última palabra. Se considera que las palabras están separadas por uno o más espacios. También podría haber espacios al principio o al final del string pasado por parámetro. Pista: Use el metodo string.split(simbolo) para separar las palabras del string en una lista segun el simbolo:</span>\n",
    "\n",
    "string = \"Bienvenido a mi casa\"\n",
    "lista = string.split(\" \")\n",
    "print(lista)\n",
    ">> ['Bienvenido', 'a', 'mi', 'casa']"
   ]
  },
  {
   "cell_type": "code",
   "execution_count": 62,
   "metadata": {
    "ExecuteTime": {
     "end_time": "2020-11-01T21:25:57.249772Z",
     "start_time": "2020-11-01T21:25:57.234893Z"
    }
   },
   "outputs": [
    {
     "name": "stdout",
     "output_type": "stream",
     "text": [
      "['hola', 'tu', 'eres', 'grande']\n",
      "6\n"
     ]
    }
   ],
   "source": [
    "def ultimapalabra(string=''):\n",
    "    lista = string.split(\" \")\n",
    "    print(lista)\n",
    "    if lista[-1]=='':\n",
    "        print(len(lista[-2]))\n",
    "    else:\n",
    "        print(len(lista[-1]))\n",
    "    \n",
    "ultimapalabra(\"hola tu eres grande\")"
   ]
  },
  {
   "cell_type": "code",
   "execution_count": null,
   "metadata": {},
   "outputs": [],
   "source": []
  }
 ],
 "metadata": {
  "kernelspec": {
   "display_name": "Python 3",
   "language": "python",
   "name": "python3"
  },
  "language_info": {
   "codemirror_mode": {
    "name": "ipython",
    "version": 3
   },
   "file_extension": ".py",
   "mimetype": "text/x-python",
   "name": "python",
   "nbconvert_exporter": "python",
   "pygments_lexer": "ipython3",
   "version": "3.8.3"
  },
  "toc": {
   "base_numbering": 1,
   "nav_menu": {},
   "number_sections": true,
   "sideBar": true,
   "skip_h1_title": false,
   "title_cell": "Table of Contents",
   "title_sidebar": "Contents",
   "toc_cell": false,
   "toc_position": {},
   "toc_section_display": true,
   "toc_window_display": false
  },
  "varInspector": {
   "cols": {
    "lenName": 16,
    "lenType": 16,
    "lenVar": 40
   },
   "kernels_config": {
    "python": {
     "delete_cmd_postfix": "",
     "delete_cmd_prefix": "del ",
     "library": "var_list.py",
     "varRefreshCmd": "print(var_dic_list())"
    },
    "r": {
     "delete_cmd_postfix": ") ",
     "delete_cmd_prefix": "rm(",
     "library": "var_list.r",
     "varRefreshCmd": "cat(var_dic_list()) "
    }
   },
   "types_to_exclude": [
    "module",
    "function",
    "builtin_function_or_method",
    "instance",
    "_Feature"
   ],
   "window_display": false
  }
 },
 "nbformat": 4,
 "nbformat_minor": 4
}
