{
 "cells": [
  {
   "cell_type": "markdown",
   "metadata": {},
   "source": [
    "## Regresion polinomial\n",
    "\n",
    "La regresion polinomial es una alternativa a la regresion lineal en donde se consideran potencias mayores a uno de las caracteristicas; esto nos lleva a modelos mas complejos y que generan curva de aproximacion, cuyo grado de complejidad dependera del grado del polinomio aplicado o solicitado. Cabe anotar, que la regresion polinomial sigue siendo considerada una regresion lineal multiple debido a como aparecen los pesos $w$:\n",
    "\n",
    "$$y=w_0+w_1x+w_2x^2+\\dots+w_dx^d$$"
   ]
  },
  {
   "cell_type": "code",
   "execution_count": 2,
   "metadata": {
    "ExecuteTime": {
     "end_time": "2021-02-24T23:27:30.786275Z",
     "start_time": "2021-02-24T23:27:28.884188Z"
    }
   },
   "outputs": [],
   "source": [
    "import matplotlib.pyplot as plt\n",
    "import numpy as np\n",
    "import pandas as pd"
   ]
  },
  {
   "cell_type": "code",
   "execution_count": 7,
   "metadata": {
    "ExecuteTime": {
     "end_time": "2021-02-24T23:29:40.995992Z",
     "start_time": "2021-02-24T23:29:40.982032Z"
    }
   },
   "outputs": [],
   "source": [
    "# Creando datos de prueba\n",
    "# ============================================================\n",
    "X = np.array([258.0, 270.0, 294.0, 320.0, 342.0, 368.0, 396.0, 446.0, 480.0, 586.0])[:, np.newaxis]\n",
    "y = np.array([236.4, 234.4, 252.8, 298.6, 314.2, 342.2, 360.8, 368.0, 391.2, 390.8])"
   ]
  },
  {
   "cell_type": "code",
   "execution_count": 8,
   "metadata": {
    "ExecuteTime": {
     "end_time": "2021-02-24T23:29:42.678824Z",
     "start_time": "2021-02-24T23:29:42.656880Z"
    }
   },
   "outputs": [
    {
     "data": {
      "text/plain": [
       "array([[258.],\n",
       "       [270.],\n",
       "       [294.],\n",
       "       [320.],\n",
       "       [342.],\n",
       "       [368.],\n",
       "       [396.],\n",
       "       [446.],\n",
       "       [480.],\n",
       "       [586.]])"
      ]
     },
     "execution_count": 8,
     "metadata": {},
     "output_type": "execute_result"
    }
   ],
   "source": [
    "X"
   ]
  },
  {
   "cell_type": "code",
   "execution_count": 32,
   "metadata": {
    "ExecuteTime": {
     "end_time": "2021-02-24T23:36:07.774993Z",
     "start_time": "2021-02-24T23:36:07.755040Z"
    }
   },
   "outputs": [],
   "source": [
    "# Agregar lementos cuadraticos a la matriz x\n",
    "# ===========================================================\n",
    "from sklearn.preprocessing import PolynomialFeatures\n",
    "from sklearn.linear_model import LinearRegression\n",
    "lr = LinearRegression()\n",
    "pr = LinearRegression()\n",
    "\n",
    "quadratic = PolynomialFeatures(degree=2)\n",
    "X_quad = quadratic.fit_transform(X)"
   ]
  },
  {
   "cell_type": "code",
   "execution_count": 13,
   "metadata": {
    "ExecuteTime": {
     "end_time": "2021-02-24T23:31:15.217215Z",
     "start_time": "2021-02-24T23:31:15.194277Z"
    },
    "collapsed": true
   },
   "outputs": [
    {
     "data": {
      "text/plain": [
       "array([[1.00000000e+00, 2.58000000e+02, 6.65640000e+04, 1.71735120e+07,\n",
       "        4.43076610e+09, 1.14313765e+12, 2.94929514e+14, 7.60918147e+16,\n",
       "        1.96316882e+19, 5.06497555e+21],\n",
       "       [1.00000000e+00, 2.70000000e+02, 7.29000000e+04, 1.96830000e+07,\n",
       "        5.31441000e+09, 1.43489070e+12, 3.87420489e+14, 1.04603532e+17,\n",
       "        2.82429536e+19, 7.62559748e+21],\n",
       "       [1.00000000e+00, 2.94000000e+02, 8.64360000e+04, 2.54121840e+07,\n",
       "        7.47118210e+09, 2.19652754e+12, 6.45779096e+14, 1.89859054e+17,\n",
       "        5.58185619e+19, 1.64106572e+22],\n",
       "       [1.00000000e+00, 3.20000000e+02, 1.02400000e+05, 3.27680000e+07,\n",
       "        1.04857600e+10, 3.35544320e+12, 1.07374182e+15, 3.43597384e+17,\n",
       "        1.09951163e+20, 3.51843721e+22],\n",
       "       [1.00000000e+00, 3.42000000e+02, 1.16964000e+05, 4.00016880e+07,\n",
       "        1.36805773e+10, 4.67875744e+12, 1.60013504e+15, 5.47246185e+17,\n",
       "        1.87158195e+20, 6.40081027e+22],\n",
       "       [1.00000000e+00, 3.68000000e+02, 1.35424000e+05, 4.98360320e+07,\n",
       "        1.83396598e+10, 6.74899480e+12, 2.48363009e+15, 9.13975871e+17,\n",
       "        3.36343121e+20, 1.23774268e+23],\n",
       "       [1.00000000e+00, 3.96000000e+02, 1.56816000e+05, 6.20991360e+07,\n",
       "        2.45912579e+10, 9.73813811e+12, 3.85630269e+15, 1.52709587e+18,\n",
       "        6.04729963e+20, 2.39473065e+23],\n",
       "       [1.00000000e+00, 4.46000000e+02, 1.98916000e+05, 8.87165360e+07,\n",
       "        3.95675751e+10, 1.76471385e+13, 7.87062376e+15, 3.51029820e+18,\n",
       "        1.56559300e+21, 6.98254476e+23],\n",
       "       [1.00000000e+00, 4.80000000e+02, 2.30400000e+05, 1.10592000e+08,\n",
       "        5.30841600e+10, 2.54803968e+13, 1.22305905e+16, 5.87068342e+18,\n",
       "        2.81792804e+21, 1.35260546e+24],\n",
       "       [1.00000000e+00, 5.86000000e+02, 3.43396000e+05, 2.01230056e+08,\n",
       "        1.17920813e+11, 6.91015963e+13, 4.04935354e+16, 2.37292118e+19,\n",
       "        1.39053181e+22, 8.14851640e+24]])"
      ]
     },
     "execution_count": 13,
     "metadata": {},
     "output_type": "execute_result"
    }
   ],
   "source": [
    "X_quad"
   ]
  },
  {
   "cell_type": "code",
   "execution_count": 23,
   "metadata": {
    "ExecuteTime": {
     "end_time": "2021-02-24T23:34:59.507969Z",
     "start_time": "2021-02-24T23:34:59.470064Z"
    }
   },
   "outputs": [
    {
     "data": {
      "text/html": [
       "<div>\n",
       "<style scoped>\n",
       "    .dataframe tbody tr th:only-of-type {\n",
       "        vertical-align: middle;\n",
       "    }\n",
       "\n",
       "    .dataframe tbody tr th {\n",
       "        vertical-align: top;\n",
       "    }\n",
       "\n",
       "    .dataframe thead th {\n",
       "        text-align: right;\n",
       "    }\n",
       "</style>\n",
       "<table border=\"1\" class=\"dataframe\">\n",
       "  <thead>\n",
       "    <tr style=\"text-align: right;\">\n",
       "      <th></th>\n",
       "      <th>0</th>\n",
       "      <th>1</th>\n",
       "      <th>2</th>\n",
       "      <th>3</th>\n",
       "      <th>4</th>\n",
       "      <th>5</th>\n",
       "      <th>6</th>\n",
       "      <th>7</th>\n",
       "      <th>8</th>\n",
       "      <th>9</th>\n",
       "      <th>X</th>\n",
       "    </tr>\n",
       "  </thead>\n",
       "  <tbody>\n",
       "    <tr>\n",
       "      <th>0</th>\n",
       "      <td>1.0</td>\n",
       "      <td>258.0</td>\n",
       "      <td>66564.0</td>\n",
       "      <td>17173512.0</td>\n",
       "      <td>4.430766e+09</td>\n",
       "      <td>1.143138e+12</td>\n",
       "      <td>2.949295e+14</td>\n",
       "      <td>7.609181e+16</td>\n",
       "      <td>1.963169e+19</td>\n",
       "      <td>5.064976e+21</td>\n",
       "      <td>258.0</td>\n",
       "    </tr>\n",
       "    <tr>\n",
       "      <th>1</th>\n",
       "      <td>1.0</td>\n",
       "      <td>270.0</td>\n",
       "      <td>72900.0</td>\n",
       "      <td>19683000.0</td>\n",
       "      <td>5.314410e+09</td>\n",
       "      <td>1.434891e+12</td>\n",
       "      <td>3.874205e+14</td>\n",
       "      <td>1.046035e+17</td>\n",
       "      <td>2.824295e+19</td>\n",
       "      <td>7.625597e+21</td>\n",
       "      <td>270.0</td>\n",
       "    </tr>\n",
       "    <tr>\n",
       "      <th>2</th>\n",
       "      <td>1.0</td>\n",
       "      <td>294.0</td>\n",
       "      <td>86436.0</td>\n",
       "      <td>25412184.0</td>\n",
       "      <td>7.471182e+09</td>\n",
       "      <td>2.196528e+12</td>\n",
       "      <td>6.457791e+14</td>\n",
       "      <td>1.898591e+17</td>\n",
       "      <td>5.581856e+19</td>\n",
       "      <td>1.641066e+22</td>\n",
       "      <td>294.0</td>\n",
       "    </tr>\n",
       "    <tr>\n",
       "      <th>3</th>\n",
       "      <td>1.0</td>\n",
       "      <td>320.0</td>\n",
       "      <td>102400.0</td>\n",
       "      <td>32768000.0</td>\n",
       "      <td>1.048576e+10</td>\n",
       "      <td>3.355443e+12</td>\n",
       "      <td>1.073742e+15</td>\n",
       "      <td>3.435974e+17</td>\n",
       "      <td>1.099512e+20</td>\n",
       "      <td>3.518437e+22</td>\n",
       "      <td>320.0</td>\n",
       "    </tr>\n",
       "    <tr>\n",
       "      <th>4</th>\n",
       "      <td>1.0</td>\n",
       "      <td>342.0</td>\n",
       "      <td>116964.0</td>\n",
       "      <td>40001688.0</td>\n",
       "      <td>1.368058e+10</td>\n",
       "      <td>4.678757e+12</td>\n",
       "      <td>1.600135e+15</td>\n",
       "      <td>5.472462e+17</td>\n",
       "      <td>1.871582e+20</td>\n",
       "      <td>6.400810e+22</td>\n",
       "      <td>342.0</td>\n",
       "    </tr>\n",
       "    <tr>\n",
       "      <th>5</th>\n",
       "      <td>1.0</td>\n",
       "      <td>368.0</td>\n",
       "      <td>135424.0</td>\n",
       "      <td>49836032.0</td>\n",
       "      <td>1.833966e+10</td>\n",
       "      <td>6.748995e+12</td>\n",
       "      <td>2.483630e+15</td>\n",
       "      <td>9.139759e+17</td>\n",
       "      <td>3.363431e+20</td>\n",
       "      <td>1.237743e+23</td>\n",
       "      <td>368.0</td>\n",
       "    </tr>\n",
       "    <tr>\n",
       "      <th>6</th>\n",
       "      <td>1.0</td>\n",
       "      <td>396.0</td>\n",
       "      <td>156816.0</td>\n",
       "      <td>62099136.0</td>\n",
       "      <td>2.459126e+10</td>\n",
       "      <td>9.738138e+12</td>\n",
       "      <td>3.856303e+15</td>\n",
       "      <td>1.527096e+18</td>\n",
       "      <td>6.047300e+20</td>\n",
       "      <td>2.394731e+23</td>\n",
       "      <td>396.0</td>\n",
       "    </tr>\n",
       "    <tr>\n",
       "      <th>7</th>\n",
       "      <td>1.0</td>\n",
       "      <td>446.0</td>\n",
       "      <td>198916.0</td>\n",
       "      <td>88716536.0</td>\n",
       "      <td>3.956758e+10</td>\n",
       "      <td>1.764714e+13</td>\n",
       "      <td>7.870624e+15</td>\n",
       "      <td>3.510298e+18</td>\n",
       "      <td>1.565593e+21</td>\n",
       "      <td>6.982545e+23</td>\n",
       "      <td>446.0</td>\n",
       "    </tr>\n",
       "    <tr>\n",
       "      <th>8</th>\n",
       "      <td>1.0</td>\n",
       "      <td>480.0</td>\n",
       "      <td>230400.0</td>\n",
       "      <td>110592000.0</td>\n",
       "      <td>5.308416e+10</td>\n",
       "      <td>2.548040e+13</td>\n",
       "      <td>1.223059e+16</td>\n",
       "      <td>5.870683e+18</td>\n",
       "      <td>2.817928e+21</td>\n",
       "      <td>1.352605e+24</td>\n",
       "      <td>480.0</td>\n",
       "    </tr>\n",
       "    <tr>\n",
       "      <th>9</th>\n",
       "      <td>1.0</td>\n",
       "      <td>586.0</td>\n",
       "      <td>343396.0</td>\n",
       "      <td>201230056.0</td>\n",
       "      <td>1.179208e+11</td>\n",
       "      <td>6.910160e+13</td>\n",
       "      <td>4.049354e+16</td>\n",
       "      <td>2.372921e+19</td>\n",
       "      <td>1.390532e+22</td>\n",
       "      <td>8.148516e+24</td>\n",
       "      <td>586.0</td>\n",
       "    </tr>\n",
       "  </tbody>\n",
       "</table>\n",
       "</div>"
      ],
      "text/plain": [
       "     0      1         2            3             4             5  \\\n",
       "0  1.0  258.0   66564.0   17173512.0  4.430766e+09  1.143138e+12   \n",
       "1  1.0  270.0   72900.0   19683000.0  5.314410e+09  1.434891e+12   \n",
       "2  1.0  294.0   86436.0   25412184.0  7.471182e+09  2.196528e+12   \n",
       "3  1.0  320.0  102400.0   32768000.0  1.048576e+10  3.355443e+12   \n",
       "4  1.0  342.0  116964.0   40001688.0  1.368058e+10  4.678757e+12   \n",
       "5  1.0  368.0  135424.0   49836032.0  1.833966e+10  6.748995e+12   \n",
       "6  1.0  396.0  156816.0   62099136.0  2.459126e+10  9.738138e+12   \n",
       "7  1.0  446.0  198916.0   88716536.0  3.956758e+10  1.764714e+13   \n",
       "8  1.0  480.0  230400.0  110592000.0  5.308416e+10  2.548040e+13   \n",
       "9  1.0  586.0  343396.0  201230056.0  1.179208e+11  6.910160e+13   \n",
       "\n",
       "              6             7             8             9      X  \n",
       "0  2.949295e+14  7.609181e+16  1.963169e+19  5.064976e+21  258.0  \n",
       "1  3.874205e+14  1.046035e+17  2.824295e+19  7.625597e+21  270.0  \n",
       "2  6.457791e+14  1.898591e+17  5.581856e+19  1.641066e+22  294.0  \n",
       "3  1.073742e+15  3.435974e+17  1.099512e+20  3.518437e+22  320.0  \n",
       "4  1.600135e+15  5.472462e+17  1.871582e+20  6.400810e+22  342.0  \n",
       "5  2.483630e+15  9.139759e+17  3.363431e+20  1.237743e+23  368.0  \n",
       "6  3.856303e+15  1.527096e+18  6.047300e+20  2.394731e+23  396.0  \n",
       "7  7.870624e+15  3.510298e+18  1.565593e+21  6.982545e+23  446.0  \n",
       "8  1.223059e+16  5.870683e+18  2.817928e+21  1.352605e+24  480.0  \n",
       "9  4.049354e+16  2.372921e+19  1.390532e+22  8.148516e+24  586.0  "
      ]
     },
     "execution_count": 23,
     "metadata": {},
     "output_type": "execute_result"
    }
   ],
   "source": [
    "# Observando cambios es X\n",
    "# ===========================================================\n",
    "\n",
    "a = pd.DataFrame(X_quad)#, columns = ['w0', 'x', 'x^2'])\n",
    "b = pd.DataFrame(X, columns = ['X'])\n",
    "pd.concat([a, b], axis = 1)"
   ]
  },
  {
   "cell_type": "code",
   "execution_count": 33,
   "metadata": {
    "ExecuteTime": {
     "end_time": "2021-02-24T23:36:11.606675Z",
     "start_time": "2021-02-24T23:36:11.361811Z"
    }
   },
   "outputs": [
    {
     "data": {
      "text/plain": [
       "<matplotlib.legend.Legend at 0x221183069d0>"
      ]
     },
     "execution_count": 33,
     "metadata": {},
     "output_type": "execute_result"
    },
    {
     "data": {
      "image/png": "[encoded data removed]",
      "text/plain": [
       "<Figure size 576x432 with 1 Axes>"
      ]
     },
     "metadata": {
      "needs_background": "light"
     },
     "output_type": "display_data"
    }
   ],
   "source": [
    "# Ajustando regresion lineal\n",
    "lr.fit(X, y)\n",
    "X_fit = np.arange(250, 600, 10)[:, np.newaxis]\n",
    "y_lin_fit = lr.predict(X_fit)\n",
    "\n",
    "# Ajustando una regresion polinomial\n",
    "pr.fit(X_quad, y)\n",
    "y_quad_fit = pr.predict(quadratic.fit_transform(X_fit))\n",
    "\n",
    "# plot results\n",
    "fig, ax = plt.subplots(figsize = (8, 6))\n",
    "ax.scatter(X, y, label='puntos de entrenamiento')\n",
    "ax.plot(X_fit, y_lin_fit, label='Ajuste lineal', linestyle='--')\n",
    "ax.plot(X_fit, y_quad_fit, label='Ajuste cuadratico')\n",
    "ax.legend(loc='upper left')"
   ]
  },
  {
   "cell_type": "code",
   "execution_count": 34,
   "metadata": {
    "ExecuteTime": {
     "end_time": "2021-02-24T23:36:18.760532Z",
     "start_time": "2021-02-24T23:36:18.731605Z"
    }
   },
   "outputs": [
    {
     "name": "stdout",
     "output_type": "stream",
     "text": [
      "MSE entrenamiento lineal: 569.7796663183207, Cuadratico: 61.330214517447715\n",
      "R^2 entrenamiento lineal: 0.8317053837891232, cuadratico: 0.9818850241163604\n"
     ]
    }
   ],
   "source": [
    "from sklearn.metrics import mean_squared_error\n",
    "from sklearn.metrics import r2_score\n",
    "y_lin_pred = lr.predict(X)\n",
    "y_quad_pred = pr.predict(X_quad)\n",
    "print(f'MSE entrenamiento lineal: {mean_squared_error(y, y_lin_pred)}, Cuadratico: {mean_squared_error(y, y_quad_pred)}')\n",
    "print(f'R^2 entrenamiento lineal: {r2_score(y, y_lin_pred)}, cuadratico: {r2_score(y, y_quad_pred)}')"
   ]
  },
  {
   "attachments": {
    "image.png": {
     "image/png": "[encoded data removed]"
    }
   },
   "cell_type": "markdown",
   "metadata": {},
   "source": [
    "<div class=\"burk\">\n",
    "EJERCICIOS</div><i class=\"fa fa-lightbulb-o \"></i>\n",
    "\n",
    "Utilice el archivo `housing.data.txt` que utilizamos durante las clases anteriores para modelar la relacion entra las variables `LSTAT` y `MEDV`; es conveniente que divida los datos en entrenamiento y prueba. Utilice tres regresiones: lineal, cuadratica y cubica; calcule los $R^2$ y grafique las relaciones. Procure que su grafica sea como la siguiente:\n",
    "\n",
    "![image.png](attachment:image.png)"
   ]
  },
  {
   "cell_type": "code",
   "execution_count": 9,
   "metadata": {
    "ExecuteTime": {
     "end_time": "2021-03-05T01:34:50.562495Z",
     "start_time": "2021-03-05T01:34:50.515340Z"
    }
   },
   "outputs": [
    {
     "data": {
      "text/html": [
       "<div>\n",
       "<style scoped>\n",
       "    .dataframe tbody tr th:only-of-type {\n",
       "        vertical-align: middle;\n",
       "    }\n",
       "\n",
       "    .dataframe tbody tr th {\n",
       "        vertical-align: top;\n",
       "    }\n",
       "\n",
       "    .dataframe thead th {\n",
       "        text-align: right;\n",
       "    }\n",
       "</style>\n",
       "<table border=\"1\" class=\"dataframe\">\n",
       "  <thead>\n",
       "    <tr style=\"text-align: right;\">\n",
       "      <th></th>\n",
       "      <th>CRIM</th>\n",
       "      <th>ZN</th>\n",
       "      <th>INDUS</th>\n",
       "      <th>CHAS</th>\n",
       "      <th>NOX</th>\n",
       "      <th>RM</th>\n",
       "      <th>AGE</th>\n",
       "      <th>DIS</th>\n",
       "      <th>RAD</th>\n",
       "      <th>TAX</th>\n",
       "      <th>PTRATIO</th>\n",
       "      <th>B</th>\n",
       "      <th>LSTAT</th>\n",
       "      <th>MEDV</th>\n",
       "    </tr>\n",
       "  </thead>\n",
       "  <tbody>\n",
       "    <tr>\n",
       "      <th>0</th>\n",
       "      <td>0.00632</td>\n",
       "      <td>18.0</td>\n",
       "      <td>2.31</td>\n",
       "      <td>0</td>\n",
       "      <td>0.538</td>\n",
       "      <td>6.575</td>\n",
       "      <td>65.2</td>\n",
       "      <td>4.0900</td>\n",
       "      <td>1</td>\n",
       "      <td>296.0</td>\n",
       "      <td>15.3</td>\n",
       "      <td>396.90</td>\n",
       "      <td>4.98</td>\n",
       "      <td>24.0</td>\n",
       "    </tr>\n",
       "    <tr>\n",
       "      <th>1</th>\n",
       "      <td>0.02731</td>\n",
       "      <td>0.0</td>\n",
       "      <td>7.07</td>\n",
       "      <td>0</td>\n",
       "      <td>0.469</td>\n",
       "      <td>6.421</td>\n",
       "      <td>78.9</td>\n",
       "      <td>4.9671</td>\n",
       "      <td>2</td>\n",
       "      <td>242.0</td>\n",
       "      <td>17.8</td>\n",
       "      <td>396.90</td>\n",
       "      <td>9.14</td>\n",
       "      <td>21.6</td>\n",
       "    </tr>\n",
       "    <tr>\n",
       "      <th>2</th>\n",
       "      <td>0.02729</td>\n",
       "      <td>0.0</td>\n",
       "      <td>7.07</td>\n",
       "      <td>0</td>\n",
       "      <td>0.469</td>\n",
       "      <td>7.185</td>\n",
       "      <td>61.1</td>\n",
       "      <td>4.9671</td>\n",
       "      <td>2</td>\n",
       "      <td>242.0</td>\n",
       "      <td>17.8</td>\n",
       "      <td>392.83</td>\n",
       "      <td>4.03</td>\n",
       "      <td>34.7</td>\n",
       "    </tr>\n",
       "    <tr>\n",
       "      <th>3</th>\n",
       "      <td>0.03237</td>\n",
       "      <td>0.0</td>\n",
       "      <td>2.18</td>\n",
       "      <td>0</td>\n",
       "      <td>0.458</td>\n",
       "      <td>6.998</td>\n",
       "      <td>45.8</td>\n",
       "      <td>6.0622</td>\n",
       "      <td>3</td>\n",
       "      <td>222.0</td>\n",
       "      <td>18.7</td>\n",
       "      <td>394.63</td>\n",
       "      <td>2.94</td>\n",
       "      <td>33.4</td>\n",
       "    </tr>\n",
       "    <tr>\n",
       "      <th>4</th>\n",
       "      <td>0.06905</td>\n",
       "      <td>0.0</td>\n",
       "      <td>2.18</td>\n",
       "      <td>0</td>\n",
       "      <td>0.458</td>\n",
       "      <td>7.147</td>\n",
       "      <td>54.2</td>\n",
       "      <td>6.0622</td>\n",
       "      <td>3</td>\n",
       "      <td>222.0</td>\n",
       "      <td>18.7</td>\n",
       "      <td>396.90</td>\n",
       "      <td>5.33</td>\n",
       "      <td>36.2</td>\n",
       "    </tr>\n",
       "    <tr>\n",
       "      <th>...</th>\n",
       "      <td>...</td>\n",
       "      <td>...</td>\n",
       "      <td>...</td>\n",
       "      <td>...</td>\n",
       "      <td>...</td>\n",
       "      <td>...</td>\n",
       "      <td>...</td>\n",
       "      <td>...</td>\n",
       "      <td>...</td>\n",
       "      <td>...</td>\n",
       "      <td>...</td>\n",
       "      <td>...</td>\n",
       "      <td>...</td>\n",
       "      <td>...</td>\n",
       "    </tr>\n",
       "    <tr>\n",
       "      <th>501</th>\n",
       "      <td>0.06263</td>\n",
       "      <td>0.0</td>\n",
       "      <td>11.93</td>\n",
       "      <td>0</td>\n",
       "      <td>0.573</td>\n",
       "      <td>6.593</td>\n",
       "      <td>69.1</td>\n",
       "      <td>2.4786</td>\n",
       "      <td>1</td>\n",
       "      <td>273.0</td>\n",
       "      <td>21.0</td>\n",
       "      <td>391.99</td>\n",
       "      <td>9.67</td>\n",
       "      <td>22.4</td>\n",
       "    </tr>\n",
       "    <tr>\n",
       "      <th>502</th>\n",
       "      <td>0.04527</td>\n",
       "      <td>0.0</td>\n",
       "      <td>11.93</td>\n",
       "      <td>0</td>\n",
       "      <td>0.573</td>\n",
       "      <td>6.120</td>\n",
       "      <td>76.7</td>\n",
       "      <td>2.2875</td>\n",
       "      <td>1</td>\n",
       "      <td>273.0</td>\n",
       "      <td>21.0</td>\n",
       "      <td>396.90</td>\n",
       "      <td>9.08</td>\n",
       "      <td>20.6</td>\n",
       "    </tr>\n",
       "    <tr>\n",
       "      <th>503</th>\n",
       "      <td>0.06076</td>\n",
       "      <td>0.0</td>\n",
       "      <td>11.93</td>\n",
       "      <td>0</td>\n",
       "      <td>0.573</td>\n",
       "      <td>6.976</td>\n",
       "      <td>91.0</td>\n",
       "      <td>2.1675</td>\n",
       "      <td>1</td>\n",
       "      <td>273.0</td>\n",
       "      <td>21.0</td>\n",
       "      <td>396.90</td>\n",
       "      <td>5.64</td>\n",
       "      <td>23.9</td>\n",
       "    </tr>\n",
       "    <tr>\n",
       "      <th>504</th>\n",
       "      <td>0.10959</td>\n",
       "      <td>0.0</td>\n",
       "      <td>11.93</td>\n",
       "      <td>0</td>\n",
       "      <td>0.573</td>\n",
       "      <td>6.794</td>\n",
       "      <td>89.3</td>\n",
       "      <td>2.3889</td>\n",
       "      <td>1</td>\n",
       "      <td>273.0</td>\n",
       "      <td>21.0</td>\n",
       "      <td>393.45</td>\n",
       "      <td>6.48</td>\n",
       "      <td>22.0</td>\n",
       "    </tr>\n",
       "    <tr>\n",
       "      <th>505</th>\n",
       "      <td>0.04741</td>\n",
       "      <td>0.0</td>\n",
       "      <td>11.93</td>\n",
       "      <td>0</td>\n",
       "      <td>0.573</td>\n",
       "      <td>6.030</td>\n",
       "      <td>80.8</td>\n",
       "      <td>2.5050</td>\n",
       "      <td>1</td>\n",
       "      <td>273.0</td>\n",
       "      <td>21.0</td>\n",
       "      <td>396.90</td>\n",
       "      <td>7.88</td>\n",
       "      <td>11.9</td>\n",
       "    </tr>\n",
       "  </tbody>\n",
       "</table>\n",
       "<p>506 rows × 14 columns</p>\n",
       "</div>"
      ],
      "text/plain": [
       "        CRIM    ZN  INDUS  CHAS    NOX     RM   AGE     DIS  RAD    TAX  \\\n",
       "0    0.00632  18.0   2.31     0  0.538  6.575  65.2  4.0900    1  296.0   \n",
       "1    0.02731   0.0   7.07     0  0.469  6.421  78.9  4.9671    2  242.0   \n",
       "2    0.02729   0.0   7.07     0  0.469  7.185  61.1  4.9671    2  242.0   \n",
       "3    0.03237   0.0   2.18     0  0.458  6.998  45.8  6.0622    3  222.0   \n",
       "4    0.06905   0.0   2.18     0  0.458  7.147  54.2  6.0622    3  222.0   \n",
       "..       ...   ...    ...   ...    ...    ...   ...     ...  ...    ...   \n",
       "501  0.06263   0.0  11.93     0  0.573  6.593  69.1  2.4786    1  273.0   \n",
       "502  0.04527   0.0  11.93     0  0.573  6.120  76.7  2.2875    1  273.0   \n",
       "503  0.06076   0.0  11.93     0  0.573  6.976  91.0  2.1675    1  273.0   \n",
       "504  0.10959   0.0  11.93     0  0.573  6.794  89.3  2.3889    1  273.0   \n",
       "505  0.04741   0.0  11.93     0  0.573  6.030  80.8  2.5050    1  273.0   \n",
       "\n",
       "     PTRATIO       B  LSTAT  MEDV  \n",
       "0       15.3  396.90   4.98  24.0  \n",
       "1       17.8  396.90   9.14  21.6  \n",
       "2       17.8  392.83   4.03  34.7  \n",
       "3       18.7  394.63   2.94  33.4  \n",
       "4       18.7  396.90   5.33  36.2  \n",
       "..       ...     ...    ...   ...  \n",
       "501     21.0  391.99   9.67  22.4  \n",
       "502     21.0  396.90   9.08  20.6  \n",
       "503     21.0  396.90   5.64  23.9  \n",
       "504     21.0  393.45   6.48  22.0  \n",
       "505     21.0  396.90   7.88  11.9  \n",
       "\n",
       "[506 rows x 14 columns]"
      ]
     },
     "execution_count": 9,
     "metadata": {},
     "output_type": "execute_result"
    }
   ],
   "source": [
    "import matplotlib.pyplot as plt\n",
    "import numpy as np\n",
    "import pandas as pd\n",
    "df = pd.read_csv('housing.data.txt', sep = '\\s+', header = None)\n",
    "df.columns = ['CRIM', 'ZN', 'INDUS', 'CHAS', 'NOX', 'RM', 'AGE', 'DIS', 'RAD', 'TAX', 'PTRATIO', 'B', 'LSTAT', 'MEDV']\n",
    "df\n"
   ]
  },
  {
   "cell_type": "code",
   "execution_count": 11,
   "metadata": {
    "ExecuteTime": {
     "end_time": "2021-03-05T01:36:02.022529Z",
     "start_time": "2021-03-05T01:36:01.997233Z"
    }
   },
   "outputs": [
    {
     "data": {
      "text/html": [
       "<div>\n",
       "<style scoped>\n",
       "    .dataframe tbody tr th:only-of-type {\n",
       "        vertical-align: middle;\n",
       "    }\n",
       "\n",
       "    .dataframe tbody tr th {\n",
       "        vertical-align: top;\n",
       "    }\n",
       "\n",
       "    .dataframe thead th {\n",
       "        text-align: right;\n",
       "    }\n",
       "</style>\n",
       "<table border=\"1\" class=\"dataframe\">\n",
       "  <thead>\n",
       "    <tr style=\"text-align: right;\">\n",
       "      <th></th>\n",
       "      <th>LSTAT</th>\n",
       "      <th>MEDV</th>\n",
       "    </tr>\n",
       "  </thead>\n",
       "  <tbody>\n",
       "    <tr>\n",
       "      <th>0</th>\n",
       "      <td>4.98</td>\n",
       "      <td>24.0</td>\n",
       "    </tr>\n",
       "    <tr>\n",
       "      <th>1</th>\n",
       "      <td>9.14</td>\n",
       "      <td>21.6</td>\n",
       "    </tr>\n",
       "    <tr>\n",
       "      <th>2</th>\n",
       "      <td>4.03</td>\n",
       "      <td>34.7</td>\n",
       "    </tr>\n",
       "    <tr>\n",
       "      <th>3</th>\n",
       "      <td>2.94</td>\n",
       "      <td>33.4</td>\n",
       "    </tr>\n",
       "    <tr>\n",
       "      <th>4</th>\n",
       "      <td>5.33</td>\n",
       "      <td>36.2</td>\n",
       "    </tr>\n",
       "    <tr>\n",
       "      <th>...</th>\n",
       "      <td>...</td>\n",
       "      <td>...</td>\n",
       "    </tr>\n",
       "    <tr>\n",
       "      <th>501</th>\n",
       "      <td>9.67</td>\n",
       "      <td>22.4</td>\n",
       "    </tr>\n",
       "    <tr>\n",
       "      <th>502</th>\n",
       "      <td>9.08</td>\n",
       "      <td>20.6</td>\n",
       "    </tr>\n",
       "    <tr>\n",
       "      <th>503</th>\n",
       "      <td>5.64</td>\n",
       "      <td>23.9</td>\n",
       "    </tr>\n",
       "    <tr>\n",
       "      <th>504</th>\n",
       "      <td>6.48</td>\n",
       "      <td>22.0</td>\n",
       "    </tr>\n",
       "    <tr>\n",
       "      <th>505</th>\n",
       "      <td>7.88</td>\n",
       "      <td>11.9</td>\n",
       "    </tr>\n",
       "  </tbody>\n",
       "</table>\n",
       "<p>506 rows × 2 columns</p>\n",
       "</div>"
      ],
      "text/plain": [
       "     LSTAT  MEDV\n",
       "0     4.98  24.0\n",
       "1     9.14  21.6\n",
       "2     4.03  34.7\n",
       "3     2.94  33.4\n",
       "4     5.33  36.2\n",
       "..     ...   ...\n",
       "501   9.67  22.4\n",
       "502   9.08  20.6\n",
       "503   5.64  23.9\n",
       "504   6.48  22.0\n",
       "505   7.88  11.9\n",
       "\n",
       "[506 rows x 2 columns]"
      ]
     },
     "execution_count": 11,
     "metadata": {},
     "output_type": "execute_result"
    }
   ],
   "source": [
    "df1=df.drop(columns=['CRIM','ZN','INDUS','CHAS','NOX','RM','AGE','DIS',\n",
    "           'RAD','TAX','PTRATIO','B'])\n",
    "df1.sort_values('LSTAT')\n",
    "df1"
   ]
  },
  {
   "cell_type": "code",
   "execution_count": 26,
   "metadata": {
    "ExecuteTime": {
     "end_time": "2021-03-05T01:41:10.726608Z",
     "start_time": "2021-03-05T01:41:10.721646Z"
    }
   },
   "outputs": [],
   "source": [
    "X = df1.iloc[:, 0]\n",
    "y = df1.iloc[:, 1].values\n",
    "X_train, X_test, y_train, y_test = train_test_split(X, y, test_size=0.3, random_state=0)"
   ]
  },
  {
   "cell_type": "code",
   "execution_count": 61,
   "metadata": {
    "ExecuteTime": {
     "end_time": "2021-03-05T01:55:30.925172Z",
     "start_time": "2021-03-05T01:55:30.903844Z"
    }
   },
   "outputs": [
    {
     "data": {
      "text/plain": [
       "array([[ 4.98],\n",
       "       [ 9.14],\n",
       "       [ 4.03],\n",
       "       [ 2.94],\n",
       "       [ 5.33],\n",
       "       [ 5.21],\n",
       "       [12.43],\n",
       "       [19.15],\n",
       "       [29.93],\n",
       "       [17.1 ],\n",
       "       [20.45],\n",
       "       [13.27],\n",
       "       [15.71],\n",
       "       [ 8.26],\n",
       "       [10.26],\n",
       "       [ 8.47],\n",
       "       [ 6.58],\n",
       "       [14.67],\n",
       "       [11.69],\n",
       "       [11.28],\n",
       "       [21.02],\n",
       "       [13.83],\n",
       "       [18.72],\n",
       "       [19.88],\n",
       "       [16.3 ],\n",
       "       [16.51],\n",
       "       [14.81],\n",
       "       [17.28],\n",
       "       [12.8 ],\n",
       "       [11.98],\n",
       "       [22.6 ],\n",
       "       [13.04],\n",
       "       [27.71],\n",
       "       [18.35],\n",
       "       [20.34],\n",
       "       [ 9.68],\n",
       "       [11.41],\n",
       "       [ 8.77],\n",
       "       [10.13],\n",
       "       [ 4.32],\n",
       "       [ 1.98],\n",
       "       [ 4.84],\n",
       "       [ 5.81],\n",
       "       [ 7.44],\n",
       "       [ 9.55],\n",
       "       [10.21],\n",
       "       [14.15],\n",
       "       [18.8 ],\n",
       "       [30.81],\n",
       "       [16.2 ],\n",
       "       [13.45],\n",
       "       [ 9.43],\n",
       "       [ 5.28],\n",
       "       [ 8.43],\n",
       "       [14.8 ],\n",
       "       [ 4.81],\n",
       "       [ 5.77],\n",
       "       [ 3.95],\n",
       "       [ 6.86],\n",
       "       [ 9.22],\n",
       "       [13.15],\n",
       "       [14.44],\n",
       "       [ 6.73],\n",
       "       [ 9.5 ],\n",
       "       [ 8.05],\n",
       "       [ 4.67],\n",
       "       [10.24],\n",
       "       [ 8.1 ],\n",
       "       [13.09],\n",
       "       [ 8.79],\n",
       "       [ 6.72],\n",
       "       [ 9.88],\n",
       "       [ 5.52],\n",
       "       [ 7.54],\n",
       "       [ 6.78],\n",
       "       [ 8.94],\n",
       "       [11.97],\n",
       "       [10.27],\n",
       "       [12.34],\n",
       "       [ 9.1 ],\n",
       "       [ 5.29],\n",
       "       [ 7.22],\n",
       "       [ 6.72],\n",
       "       [ 7.51],\n",
       "       [ 9.62],\n",
       "       [ 6.53],\n",
       "       [12.86],\n",
       "       [ 8.44],\n",
       "       [ 5.5 ],\n",
       "       [ 5.7 ],\n",
       "       [ 8.81],\n",
       "       [ 8.2 ],\n",
       "       [ 8.16],\n",
       "       [ 6.21],\n",
       "       [10.59],\n",
       "       [ 6.65],\n",
       "       [11.34],\n",
       "       [ 4.21],\n",
       "       [ 3.57],\n",
       "       [ 6.19],\n",
       "       [ 9.42],\n",
       "       [ 7.67],\n",
       "       [10.63],\n",
       "       [13.44],\n",
       "       [12.33],\n",
       "       [16.47],\n",
       "       [18.66],\n",
       "       [14.09],\n",
       "       [12.27],\n",
       "       [15.55],\n",
       "       [13.  ],\n",
       "       [10.16],\n",
       "       [16.21],\n",
       "       [17.09],\n",
       "       [10.45],\n",
       "       [15.76],\n",
       "       [12.04],\n",
       "       [10.3 ],\n",
       "       [15.37],\n",
       "       [13.61],\n",
       "       [14.37],\n",
       "       [14.27],\n",
       "       [17.93],\n",
       "       [25.41],\n",
       "       [17.58],\n",
       "       [14.81],\n",
       "       [27.26],\n",
       "       [17.19],\n",
       "       [15.39],\n",
       "       [18.34],\n",
       "       [12.6 ],\n",
       "       [12.26],\n",
       "       [11.12],\n",
       "       [15.03],\n",
       "       [17.31],\n",
       "       [16.96],\n",
       "       [16.9 ],\n",
       "       [14.59],\n",
       "       [21.32],\n",
       "       [18.46],\n",
       "       [24.16],\n",
       "       [34.41],\n",
       "       [26.82],\n",
       "       [26.42],\n",
       "       [29.29],\n",
       "       [27.8 ],\n",
       "       [16.65],\n",
       "       [29.53],\n",
       "       [28.32],\n",
       "       [21.45],\n",
       "       [14.1 ],\n",
       "       [13.28],\n",
       "       [12.12],\n",
       "       [15.79],\n",
       "       [15.12],\n",
       "       [15.02],\n",
       "       [16.14],\n",
       "       [ 4.59],\n",
       "       [ 6.43],\n",
       "       [ 7.39],\n",
       "       [ 5.5 ],\n",
       "       [ 1.73],\n",
       "       [ 1.92],\n",
       "       [ 3.32],\n",
       "       [11.64],\n",
       "       [ 9.81],\n",
       "       [ 3.7 ],\n",
       "       [12.14],\n",
       "       [11.1 ],\n",
       "       [11.32],\n",
       "       [14.43],\n",
       "       [12.03],\n",
       "       [14.69],\n",
       "       [ 9.04],\n",
       "       [ 9.64],\n",
       "       [ 5.33],\n",
       "       [10.11],\n",
       "       [ 6.29],\n",
       "       [ 6.92],\n",
       "       [ 5.04],\n",
       "       [ 7.56],\n",
       "       [ 9.45],\n",
       "       [ 4.82],\n",
       "       [ 5.68],\n",
       "       [13.98],\n",
       "       [13.15],\n",
       "       [ 4.45],\n",
       "       [ 6.68],\n",
       "       [ 4.56],\n",
       "       [ 5.39],\n",
       "       [ 5.1 ],\n",
       "       [ 4.69],\n",
       "       [ 2.87],\n",
       "       [ 5.03],\n",
       "       [ 4.38],\n",
       "       [ 2.97],\n",
       "       [ 4.08],\n",
       "       [ 8.61],\n",
       "       [ 6.62],\n",
       "       [ 4.56],\n",
       "       [ 4.45],\n",
       "       [ 7.43],\n",
       "       [ 3.11],\n",
       "       [ 3.81],\n",
       "       [ 2.88],\n",
       "       [10.87],\n",
       "       [10.97],\n",
       "       [18.06],\n",
       "       [14.66],\n",
       "       [23.09],\n",
       "       [17.27],\n",
       "       [23.98],\n",
       "       [16.03],\n",
       "       [ 9.38],\n",
       "       [29.55],\n",
       "       [ 9.47],\n",
       "       [13.51],\n",
       "       [ 9.69],\n",
       "       [17.92],\n",
       "       [10.5 ],\n",
       "       [ 9.71],\n",
       "       [21.46],\n",
       "       [ 9.93],\n",
       "       [ 7.6 ],\n",
       "       [ 4.14],\n",
       "       [ 4.63],\n",
       "       [ 3.13],\n",
       "       [ 6.36],\n",
       "       [ 3.92],\n",
       "       [ 3.76],\n",
       "       [11.65],\n",
       "       [ 5.25],\n",
       "       [ 2.47],\n",
       "       [ 3.95],\n",
       "       [ 8.05],\n",
       "       [10.88],\n",
       "       [ 9.54],\n",
       "       [ 4.73],\n",
       "       [ 6.36],\n",
       "       [ 7.37],\n",
       "       [11.38],\n",
       "       [12.4 ],\n",
       "       [11.22],\n",
       "       [ 5.19],\n",
       "       [12.5 ],\n",
       "       [18.46],\n",
       "       [ 9.16],\n",
       "       [10.15],\n",
       "       [ 9.52],\n",
       "       [ 6.56],\n",
       "       [ 5.9 ],\n",
       "       [ 3.59],\n",
       "       [ 3.53],\n",
       "       [ 3.54],\n",
       "       [ 6.57],\n",
       "       [ 9.25],\n",
       "       [ 3.11],\n",
       "       [ 5.12],\n",
       "       [ 7.79],\n",
       "       [ 6.9 ],\n",
       "       [ 9.59],\n",
       "       [ 7.26],\n",
       "       [ 5.91],\n",
       "       [11.25],\n",
       "       [ 8.1 ],\n",
       "       [10.45],\n",
       "       [14.79],\n",
       "       [ 7.44],\n",
       "       [ 3.16],\n",
       "       [13.65],\n",
       "       [13.  ],\n",
       "       [ 6.59],\n",
       "       [ 7.73],\n",
       "       [ 6.58],\n",
       "       [ 3.53],\n",
       "       [ 2.98],\n",
       "       [ 6.05],\n",
       "       [ 4.16],\n",
       "       [ 7.19],\n",
       "       [ 4.85],\n",
       "       [ 3.76],\n",
       "       [ 4.59],\n",
       "       [ 3.01],\n",
       "       [ 3.16],\n",
       "       [ 7.85],\n",
       "       [ 8.23],\n",
       "       [12.93],\n",
       "       [ 7.14],\n",
       "       [ 7.6 ],\n",
       "       [ 9.51],\n",
       "       [ 3.33],\n",
       "       [ 3.56],\n",
       "       [ 4.7 ],\n",
       "       [ 8.58],\n",
       "       [10.4 ],\n",
       "       [ 6.27],\n",
       "       [ 7.39],\n",
       "       [15.84],\n",
       "       [ 4.97],\n",
       "       [ 4.74],\n",
       "       [ 6.07],\n",
       "       [ 9.5 ],\n",
       "       [ 8.67],\n",
       "       [ 4.86],\n",
       "       [ 6.93],\n",
       "       [ 8.93],\n",
       "       [ 6.47],\n",
       "       [ 7.53],\n",
       "       [ 4.54],\n",
       "       [ 9.97],\n",
       "       [12.64],\n",
       "       [ 5.98],\n",
       "       [11.72],\n",
       "       [ 7.9 ],\n",
       "       [ 9.28],\n",
       "       [11.5 ],\n",
       "       [18.33],\n",
       "       [15.94],\n",
       "       [10.36],\n",
       "       [12.73],\n",
       "       [ 7.2 ],\n",
       "       [ 6.87],\n",
       "       [ 7.7 ],\n",
       "       [11.74],\n",
       "       [ 6.12],\n",
       "       [ 5.08],\n",
       "       [ 6.15],\n",
       "       [12.79],\n",
       "       [ 9.97],\n",
       "       [ 7.34],\n",
       "       [ 9.09],\n",
       "       [12.43],\n",
       "       [ 7.83],\n",
       "       [ 5.68],\n",
       "       [ 6.75],\n",
       "       [ 8.01],\n",
       "       [ 9.8 ],\n",
       "       [10.56],\n",
       "       [ 8.51],\n",
       "       [ 9.74],\n",
       "       [ 9.29],\n",
       "       [ 5.49],\n",
       "       [ 8.65],\n",
       "       [ 7.18],\n",
       "       [ 4.61],\n",
       "       [10.53],\n",
       "       [12.67],\n",
       "       [ 6.36],\n",
       "       [ 5.99],\n",
       "       [ 5.89],\n",
       "       [ 5.98],\n",
       "       [ 5.49],\n",
       "       [ 7.79],\n",
       "       [ 4.5 ],\n",
       "       [ 8.05],\n",
       "       [ 5.57],\n",
       "       [17.6 ],\n",
       "       [13.27],\n",
       "       [11.48],\n",
       "       [12.67],\n",
       "       [ 7.79],\n",
       "       [14.19],\n",
       "       [10.19],\n",
       "       [14.64],\n",
       "       [ 5.29],\n",
       "       [ 7.12],\n",
       "       [14.  ],\n",
       "       [13.33],\n",
       "       [ 3.26],\n",
       "       [ 3.73],\n",
       "       [ 2.96],\n",
       "       [ 9.53],\n",
       "       [ 8.88],\n",
       "       [34.77],\n",
       "       [37.97],\n",
       "       [13.44],\n",
       "       [23.24],\n",
       "       [21.24],\n",
       "       [23.69],\n",
       "       [21.78],\n",
       "       [17.21],\n",
       "       [21.08],\n",
       "       [23.6 ],\n",
       "       [24.56],\n",
       "       [30.63],\n",
       "       [30.81],\n",
       "       [28.28],\n",
       "       [31.99],\n",
       "       [30.62],\n",
       "       [20.85],\n",
       "       [17.11],\n",
       "       [18.76],\n",
       "       [25.68],\n",
       "       [15.17],\n",
       "       [16.35],\n",
       "       [17.12],\n",
       "       [19.37],\n",
       "       [19.92],\n",
       "       [30.59],\n",
       "       [29.97],\n",
       "       [26.77],\n",
       "       [20.32],\n",
       "       [20.31],\n",
       "       [19.77],\n",
       "       [27.38],\n",
       "       [22.98],\n",
       "       [23.34],\n",
       "       [12.13],\n",
       "       [26.4 ],\n",
       "       [19.78],\n",
       "       [10.11],\n",
       "       [21.22],\n",
       "       [34.37],\n",
       "       [20.08],\n",
       "       [36.98],\n",
       "       [29.05],\n",
       "       [25.79],\n",
       "       [26.64],\n",
       "       [20.62],\n",
       "       [22.74],\n",
       "       [15.02],\n",
       "       [15.7 ],\n",
       "       [14.1 ],\n",
       "       [23.29],\n",
       "       [17.16],\n",
       "       [24.39],\n",
       "       [15.69],\n",
       "       [14.52],\n",
       "       [21.52],\n",
       "       [24.08],\n",
       "       [17.64],\n",
       "       [19.69],\n",
       "       [12.03],\n",
       "       [16.22],\n",
       "       [15.17],\n",
       "       [23.27],\n",
       "       [18.05],\n",
       "       [26.45],\n",
       "       [34.02],\n",
       "       [22.88],\n",
       "       [22.11],\n",
       "       [19.52],\n",
       "       [16.59],\n",
       "       [18.85],\n",
       "       [23.79],\n",
       "       [23.98],\n",
       "       [17.79],\n",
       "       [16.44],\n",
       "       [18.13],\n",
       "       [19.31],\n",
       "       [17.44],\n",
       "       [17.73],\n",
       "       [17.27],\n",
       "       [16.74],\n",
       "       [18.71],\n",
       "       [18.13],\n",
       "       [19.01],\n",
       "       [16.94],\n",
       "       [16.23],\n",
       "       [14.7 ],\n",
       "       [16.42],\n",
       "       [14.65],\n",
       "       [13.99],\n",
       "       [10.29],\n",
       "       [13.22],\n",
       "       [14.13],\n",
       "       [17.15],\n",
       "       [21.32],\n",
       "       [18.13],\n",
       "       [14.76],\n",
       "       [16.29],\n",
       "       [12.87],\n",
       "       [14.36],\n",
       "       [11.66],\n",
       "       [18.14],\n",
       "       [24.1 ],\n",
       "       [18.68],\n",
       "       [24.91],\n",
       "       [18.03],\n",
       "       [13.11],\n",
       "       [10.74],\n",
       "       [ 7.74],\n",
       "       [ 7.01],\n",
       "       [10.42],\n",
       "       [13.34],\n",
       "       [10.58],\n",
       "       [14.98],\n",
       "       [11.45],\n",
       "       [18.06],\n",
       "       [23.97],\n",
       "       [29.68],\n",
       "       [18.07],\n",
       "       [13.35],\n",
       "       [12.01],\n",
       "       [13.59],\n",
       "       [17.6 ],\n",
       "       [21.14],\n",
       "       [14.1 ],\n",
       "       [12.92],\n",
       "       [15.1 ],\n",
       "       [14.33],\n",
       "       [ 9.67],\n",
       "       [ 9.08],\n",
       "       [ 5.64],\n",
       "       [ 6.48],\n",
       "       [ 7.88]])"
      ]
     },
     "execution_count": 61,
     "metadata": {},
     "output_type": "execute_result"
    }
   ],
   "source": [
    "X = df1.loc[:,'LSTAT'].values[:,np.newaxis]\n",
    "y = df1.loc[:,'MEDV']\n",
    "X"
   ]
  },
  {
   "cell_type": "code",
   "execution_count": 62,
   "metadata": {
    "ExecuteTime": {
     "end_time": "2021-03-05T01:55:41.454943Z",
     "start_time": "2021-03-05T01:55:41.447998Z"
    }
   },
   "outputs": [],
   "source": [
    "from sklearn.model_selection import train_test_split\n",
    "X_train, X_test, y_train, y_test = train_test_split(X, y, test_size = 0.3)"
   ]
  },
  {
   "cell_type": "code",
   "execution_count": 63,
   "metadata": {
    "ExecuteTime": {
     "end_time": "2021-03-05T01:55:42.819198Z",
     "start_time": "2021-03-05T01:55:42.809304Z"
    },
    "run_control": {
     "marked": true
    }
   },
   "outputs": [],
   "source": [
    "# Agregar lementos cuadraticos a la matriz x\n",
    "# ===========================================================\n",
    "from sklearn.preprocessing import PolynomialFeatures\n",
    "from sklearn.linear_model import LinearRegression\n",
    "lr = LinearRegression()\n",
    "pr = LinearRegression()\n",
    "cr = LinearRegression()\n",
    "cubic = PolynomialFeatures(degree=3)\n",
    "quadratic = PolynomialFeatures(degree=2)\n",
    "X_quad = quadratic.fit_transform(X_train)\n",
    "X_cube = cubic.fit_transform(X_train)"
   ]
  },
  {
   "cell_type": "code",
   "execution_count": 64,
   "metadata": {
    "ExecuteTime": {
     "end_time": "2021-03-05T01:55:45.803589Z",
     "start_time": "2021-03-05T01:55:45.779778Z"
    }
   },
   "outputs": [
    {
     "data": {
      "text/html": [
       "<div>\n",
       "<style scoped>\n",
       "    .dataframe tbody tr th:only-of-type {\n",
       "        vertical-align: middle;\n",
       "    }\n",
       "\n",
       "    .dataframe tbody tr th {\n",
       "        vertical-align: top;\n",
       "    }\n",
       "\n",
       "    .dataframe thead th {\n",
       "        text-align: right;\n",
       "    }\n",
       "</style>\n",
       "<table border=\"1\" class=\"dataframe\">\n",
       "  <thead>\n",
       "    <tr style=\"text-align: right;\">\n",
       "      <th></th>\n",
       "      <th>0</th>\n",
       "      <th>1</th>\n",
       "      <th>2</th>\n",
       "      <th>X</th>\n",
       "    </tr>\n",
       "  </thead>\n",
       "  <tbody>\n",
       "    <tr>\n",
       "      <th>0</th>\n",
       "      <td>1.0</td>\n",
       "      <td>6.48</td>\n",
       "      <td>41.9904</td>\n",
       "      <td>4.98</td>\n",
       "    </tr>\n",
       "    <tr>\n",
       "      <th>1</th>\n",
       "      <td>1.0</td>\n",
       "      <td>4.45</td>\n",
       "      <td>19.8025</td>\n",
       "      <td>9.14</td>\n",
       "    </tr>\n",
       "    <tr>\n",
       "      <th>2</th>\n",
       "      <td>1.0</td>\n",
       "      <td>27.71</td>\n",
       "      <td>767.8441</td>\n",
       "      <td>4.03</td>\n",
       "    </tr>\n",
       "    <tr>\n",
       "      <th>3</th>\n",
       "      <td>1.0</td>\n",
       "      <td>24.91</td>\n",
       "      <td>620.5081</td>\n",
       "      <td>2.94</td>\n",
       "    </tr>\n",
       "    <tr>\n",
       "      <th>4</th>\n",
       "      <td>1.0</td>\n",
       "      <td>8.05</td>\n",
       "      <td>64.8025</td>\n",
       "      <td>5.33</td>\n",
       "    </tr>\n",
       "    <tr>\n",
       "      <th>...</th>\n",
       "      <td>...</td>\n",
       "      <td>...</td>\n",
       "      <td>...</td>\n",
       "      <td>...</td>\n",
       "    </tr>\n",
       "    <tr>\n",
       "      <th>501</th>\n",
       "      <td>NaN</td>\n",
       "      <td>NaN</td>\n",
       "      <td>NaN</td>\n",
       "      <td>9.67</td>\n",
       "    </tr>\n",
       "    <tr>\n",
       "      <th>502</th>\n",
       "      <td>NaN</td>\n",
       "      <td>NaN</td>\n",
       "      <td>NaN</td>\n",
       "      <td>9.08</td>\n",
       "    </tr>\n",
       "    <tr>\n",
       "      <th>503</th>\n",
       "      <td>NaN</td>\n",
       "      <td>NaN</td>\n",
       "      <td>NaN</td>\n",
       "      <td>5.64</td>\n",
       "    </tr>\n",
       "    <tr>\n",
       "      <th>504</th>\n",
       "      <td>NaN</td>\n",
       "      <td>NaN</td>\n",
       "      <td>NaN</td>\n",
       "      <td>6.48</td>\n",
       "    </tr>\n",
       "    <tr>\n",
       "      <th>505</th>\n",
       "      <td>NaN</td>\n",
       "      <td>NaN</td>\n",
       "      <td>NaN</td>\n",
       "      <td>7.88</td>\n",
       "    </tr>\n",
       "  </tbody>\n",
       "</table>\n",
       "<p>506 rows × 4 columns</p>\n",
       "</div>"
      ],
      "text/plain": [
       "       0      1         2     X\n",
       "0    1.0   6.48   41.9904  4.98\n",
       "1    1.0   4.45   19.8025  9.14\n",
       "2    1.0  27.71  767.8441  4.03\n",
       "3    1.0  24.91  620.5081  2.94\n",
       "4    1.0   8.05   64.8025  5.33\n",
       "..   ...    ...       ...   ...\n",
       "501  NaN    NaN       NaN  9.67\n",
       "502  NaN    NaN       NaN  9.08\n",
       "503  NaN    NaN       NaN  5.64\n",
       "504  NaN    NaN       NaN  6.48\n",
       "505  NaN    NaN       NaN  7.88\n",
       "\n",
       "[506 rows x 4 columns]"
      ]
     },
     "execution_count": 64,
     "metadata": {},
     "output_type": "execute_result"
    }
   ],
   "source": [
    "# Observando cambios es X\n",
    "# ===========================================================\n",
    "\n",
    "a = pd.DataFrame(X_quad)#, columns = ['w0', 'x', 'x^2'])\n",
    "b = pd.DataFrame(X, columns = ['X'])\n",
    "pd.concat([a, b], axis = 1)"
   ]
  },
  {
   "cell_type": "code",
   "execution_count": 65,
   "metadata": {
    "ExecuteTime": {
     "end_time": "2021-03-05T01:55:48.324255Z",
     "start_time": "2021-03-05T01:55:48.072784Z"
    }
   },
   "outputs": [
    {
     "data": {
      "text/plain": [
       "<matplotlib.legend.Legend at 0x2de0c173e50>"
      ]
     },
     "execution_count": 65,
     "metadata": {},
     "output_type": "execute_result"
    },
    {
     "data": {
      "image/png": "[encoded data removed]",
      "text/plain": [
       "<Figure size 576x432 with 1 Axes>"
      ]
     },
     "metadata": {
      "needs_background": "light"
     },
     "output_type": "display_data"
    }
   ],
   "source": [
    "# Ajustando regresion lineal\n",
    "lr.fit(X_train, y_train)\n",
    "X_fit = np.arange(0, 40)[:, np.newaxis]\n",
    "y_lin_fit = lr.predict(X_fit)\n",
    "\n",
    "# Ajustando una regresion polinomial\n",
    "pr.fit(X_quad, y_train)\n",
    "y_quad_fit = pr.predict(quadratic.fit_transform(X_fit))\n",
    "\n",
    "cr.fit(X_cube, y_train)\n",
    "y_cube_fit = cr.predict(cubic.fit_transform(X_fit))\n",
    "\n",
    "\n",
    "# plot results\n",
    "fig, ax = plt.subplots(figsize = (8, 6))\n",
    "ax.scatter(df1['LSTAT'],df1['MEDV'], label='puntos de entrenamiento')\n",
    "ax.plot(X_fit, y_lin_fit, label='Ajuste lineal', linestyle='--')\n",
    "ax.plot(X_fit, y_quad_fit, label='Ajuste cuadratico')\n",
    "ax.legend(loc='upper left')"
   ]
  },
  {
   "cell_type": "code",
   "execution_count": 66,
   "metadata": {
    "ExecuteTime": {
     "end_time": "2021-03-05T01:55:51.354131Z",
     "start_time": "2021-03-05T01:55:51.343247Z"
    }
   },
   "outputs": [
    {
     "name": "stdout",
     "output_type": "stream",
     "text": [
      "MSE entrenamiento lineal: 38.519511866376654, Cuadratico: 31.416780250722567,Cubico: 30.350107442126728\n",
      "R^2 entrenamiento lineal: 0.5426798820421261, cuadratico: 0.6270065493052539\n"
     ]
    }
   ],
   "source": [
    "from sklearn.metrics import mean_squared_error\n",
    "from sklearn.metrics import r2_score\n",
    "y_lin_pred = lr.predict(X_train)\n",
    "y_quad_pred = pr.predict(X_quad)\n",
    "y_cubic_pred = cr.predict(X_cube)\n",
    "print(f'MSE entrenamiento lineal: {mean_squared_error(y_train, y_lin_pred)}, Cuadratico: {mean_squared_error(y_train, y_quad_pred)},Cubico: {mean_squared_error(y_train, y_cubic_pred)}')\n",
    "print(f'R^2 entrenamiento lineal: {r2_score(y_train, y_lin_pred)}, cuadratico: {r2_score(y_train, y_quad_pred)}')"
   ]
  },
  {
   "cell_type": "markdown",
   "metadata": {},
   "source": [
    "## Relaciones no lineales mediante arboles de decision\n",
    "\n",
    "Este tipo de regresion se puede entender como la suma de funciones lineales por partes. Visto de otra manera, se subdivide el espacio en regiones mas manejables sobre las que se hace las regresiones.\n",
    "\n",
    "Una de sus ventajas es que no es necesario transformar las caracterisitcas de ninguna manera."
   ]
  },
  {
   "cell_type": "code",
   "execution_count": null,
   "metadata": {
    "ExecuteTime": {
     "end_time": "2021-02-24T17:07:57.870393Z",
     "start_time": "2021-02-24T17:07:57.864443Z"
    }
   },
   "outputs": [],
   "source": [
    "def lin_regplot(X, y, model):\n",
    "    plt.scatter(X, y, c='steelblue', edgecolor='white', s=70)\n",
    "    plt.plot(X, model.predict(X), color='black', lw=2)    \n",
    "    return None"
   ]
  },
  {
   "cell_type": "code",
   "execution_count": null,
   "metadata": {
    "ExecuteTime": {
     "end_time": "2021-02-24T17:22:56.863460Z",
     "start_time": "2021-02-24T17:22:56.819584Z"
    }
   },
   "outputs": [],
   "source": [
    "from sklearn.tree import DecisionTreeRegressor\n",
    "\n",
    "fig, ax = plt.subplots()\n",
    "tree = DecisionTreeRegressor(max_depth=3)\n",
    "tree.fit(X, y)\n",
    "\n",
    "sort_idx = X.flatten().argsort()\n",
    "\n",
    "lin_regplot(X[sort_idx], y[sort_idx], tree)"
   ]
  },
  {
   "cell_type": "code",
   "execution_count": null,
   "metadata": {
    "ExecuteTime": {
     "end_time": "2021-02-24T17:10:51.585897Z",
     "start_time": "2021-02-24T17:10:51.579948Z"
    }
   },
   "outputs": [],
   "source": [
    "y_pred = tree.predict(X)\n",
    "print(f'MSE entrenamiento lineal: {mean_squared_error(y, y_pred)}')\n",
    "print(f'R^2 entrenamiento lineal: {r2_score(y, y_pred)}')"
   ]
  },
  {
   "cell_type": "markdown",
   "metadata": {},
   "source": [
    "<div class=\"burk\">\n",
    "EJERCICIO</div><i class=\"fa fa-lightbulb-o \"></i>\n",
    "\n",
    "Aplique una regresion usando arboles de decision usando a las mismas caracteristicas del ejercicio anterior. Busque que no se genere sobreajuste en el conjunto de entrenamiento respecto al conjunto de test. Si no es posible evitar el sobreajuste con los hiperparametros de la regresion, considere usar extraccion de caracteristicas."
   ]
  },
  {
   "cell_type": "code",
   "execution_count": 67,
   "metadata": {
    "ExecuteTime": {
     "end_time": "2021-03-05T01:56:10.698664Z",
     "start_time": "2021-03-05T01:56:10.692710Z"
    }
   },
   "outputs": [],
   "source": [
    "def lin_regplot(X, y, model):\n",
    "    plt.scatter(X, y, c='steelblue', edgecolor='white', s=70)\n",
    "    plt.plot(X, model.predict(X), color='black', lw=2)    \n",
    "    return None"
   ]
  },
  {
   "cell_type": "code",
   "execution_count": 68,
   "metadata": {
    "ExecuteTime": {
     "end_time": "2021-03-05T01:56:26.661198Z",
     "start_time": "2021-03-05T01:56:26.483103Z"
    }
   },
   "outputs": [
    {
     "data": {
      "image/png": "[encoded data removed]",
      "text/plain": [
       "<Figure size 432x288 with 1 Axes>"
      ]
     },
     "metadata": {
      "needs_background": "light"
     },
     "output_type": "display_data"
    }
   ],
   "source": [
    "from sklearn.tree import DecisionTreeRegressor\n",
    "\n",
    "fig, ax = plt.subplots()\n",
    "tree = DecisionTreeRegressor(max_depth=3)\n",
    "tree.fit(X_train, y_train)\n",
    "\n",
    "sort_idx = X.flatten().argsort()\n",
    "\n",
    "lin_regplot(X[sort_idx], y[sort_idx], tree)"
   ]
  },
  {
   "cell_type": "code",
   "execution_count": 69,
   "metadata": {
    "ExecuteTime": {
     "end_time": "2021-03-05T01:56:33.620272Z",
     "start_time": "2021-03-05T01:56:33.611839Z"
    }
   },
   "outputs": [
    {
     "name": "stdout",
     "output_type": "stream",
     "text": [
      "MSE entrenamiento lineal: 25.945454393057275\n",
      "R^2 entrenamiento lineal: 0.6926606159233832\n"
     ]
    }
   ],
   "source": [
    "y_pred = tree.predict(X)\n",
    "print(f'MSE entrenamiento lineal: {mean_squared_error(y, y_pred)}')\n",
    "print(f'R^2 entrenamiento lineal: {r2_score(y, y_pred)}')\n"
   ]
  },
  {
   "cell_type": "markdown",
   "metadata": {},
   "source": [
    "## Regresion con bosques aleatorios\n",
    "\n",
    "Al igual que en la seccion de clasificacion, este metodo consiste en el manejo de multiples arboles de decision que crean el bosque aleatorio. Este modelo es menos propenso al sobreajuste, y es bastante util para trata problemas con los *outliers*. "
   ]
  },
  {
   "cell_type": "code",
   "execution_count": null,
   "metadata": {
    "ExecuteTime": {
     "end_time": "2021-02-24T17:22:46.399247Z",
     "start_time": "2021-02-24T17:22:42.015692Z"
    }
   },
   "outputs": [],
   "source": [
    "from sklearn.ensemble import RandomForestRegressor\n",
    "\n",
    "forest = RandomForestRegressor(n_estimators=1000, criterion='mse', random_state=1, n_jobs=-1)\n",
    "forest.fit(X, y)\n",
    "\n",
    "y_pred = forest.predict(X)\n",
    "\n",
    "print(f'MSE entrenamiento: {mean_squared_error(y, y_pred)}')\n",
    "print(f'R^2 entrenamiento: {r2_score(y, y_pred)}')\n",
    "\n",
    "fig, ax = plt.subplots()\n",
    "sort_idx = X.flatten().argsort()\n",
    "lin_regplot(X[sort_idx], y[sort_idx], forest)"
   ]
  },
  {
   "cell_type": "code",
   "execution_count": null,
   "metadata": {
    "ExecuteTime": {
     "end_time": "2021-02-24T17:27:24.330119Z",
     "start_time": "2021-02-24T17:27:24.272578Z"
    }
   },
   "outputs": [],
   "source": [
    "fig, ax = plt.subplots()\n",
    "\n",
    "ax.scatter(y_pred, y_pred - y, c='steelblue', edgecolor='white', marker='o', s=35, alpha=0.9, label='entrenamiento')\n",
    "ax.set_xlabel('Valores predichos')\n",
    "ax.set_ylabel('Residuos')\n",
    "ax.legend(loc='best')\n",
    "ax.hlines(y=0, xmin=240, xmax=400, lw=2, color='black', linestyle = '--')\n"
   ]
  },
  {
   "cell_type": "markdown",
   "metadata": {},
   "source": [
    "<div class=\"burk\">\n",
    "EJERCICIO</div><i class=\"fa fa-lightbulb-o \"></i>\n",
    "\n",
    "Aplique una regresion usando bosques aleatorios a las mismas caracteristicas del ejercicio anterior. Busque que no se genere sobreajuste en el conjunto de entrenamiento respecto al conjunto de test. Si no es posible evitar el sobreajuste con los hiperparametros de la regresion, considere usar extraccion de caracteristicas."
   ]
  },
  {
   "cell_type": "code",
   "execution_count": 70,
   "metadata": {
    "ExecuteTime": {
     "end_time": "2021-03-05T01:58:18.931722Z",
     "start_time": "2021-03-05T01:58:16.757853Z"
    }
   },
   "outputs": [
    {
     "name": "stdout",
     "output_type": "stream",
     "text": [
      "MSE entrenamiento: 8.167416525292834\n",
      "R^2 entrenamiento: 0.9030329381713073\n"
     ]
    },
    {
     "data": {
      "image/png": "[encoded data removed]",
      "text/plain": [
       "<Figure size 432x288 with 1 Axes>"
      ]
     },
     "metadata": {
      "needs_background": "light"
     },
     "output_type": "display_data"
    }
   ],
   "source": [
    "from sklearn.ensemble import RandomForestRegressor\n",
    "\n",
    "forest = RandomForestRegressor(n_estimators=1000, criterion='mse', random_state=1, n_jobs=-1)\n",
    "forest.fit(X_train, y_train)\n",
    "\n",
    "y_pred = forest.predict(X_train)\n",
    "\n",
    "print(f'MSE entrenamiento: {mean_squared_error(y_train, y_pred)}')\n",
    "print(f'R^2 entrenamiento: {r2_score(y_train, y_pred)}')\n",
    "\n",
    "fig, ax = plt.subplots()\n",
    "sort_idx = X.flatten().argsort()\n",
    "lin_regplot(X[sort_idx], y[sort_idx], forest)"
   ]
  },
  {
   "cell_type": "code",
   "execution_count": 75,
   "metadata": {
    "ExecuteTime": {
     "end_time": "2021-03-05T01:59:31.314308Z",
     "start_time": "2021-03-05T01:59:31.097455Z"
    }
   },
   "outputs": [
    {
     "data": {
      "text/plain": [
       "<matplotlib.collections.LineCollection at 0x2de0e455f40>"
      ]
     },
     "execution_count": 75,
     "metadata": {},
     "output_type": "execute_result"
    },
    {
     "data": {
      "image/png": "[encoded data removed]",
      "text/plain": [
       "<Figure size 432x288 with 1 Axes>"
      ]
     },
     "metadata": {
      "needs_background": "light"
     },
     "output_type": "display_data"
    }
   ],
   "source": [
    "fig, ax = plt.subplots()\n",
    "\n",
    "ax.scatter(y_pred, y_pred - y_train, c='steelblue', edgecolor='white', marker='o', s=35, alpha=0.9, label='entrenamiento')\n",
    "ax.set_xlabel('Valores predichos')\n",
    "ax.set_ylabel('Residuos')\n",
    "ax.legend(loc='best')\n",
    "ax.hlines(y=0, xmin=0, xmax=100, lw=2, color='black', linestyle = '--')\n"
   ]
  },
  {
   "cell_type": "markdown",
   "metadata": {},
   "source": [
    "## Maquinas de soporte vectorial para regresion\n",
    "\n",
    "Ya hemos tenido la oportunidad de trabajar con SVM para el caso de la clasificacion; ahora las usaremos para realizar regresiones en las cuales tendremos ligeros cambios, pero antes de mencionarlos, cabe anotar que las SVM son utilies para realizar regresiones lineales y no lineales.\n",
    "\n",
    "El concepto basico es el mismo, generar una banda en torno a los datos tratando de contener la mayor cantidad posible. Las matematicas envueltas en el proceso no vienen al caso, por lo tanto no las trataremos en detalle, pero cabe anotar que es similar a lo visto en clasificacion. \n",
    "\n",
    "Es importante aclarar que es buena idea realizar escalamiento antes de..."
   ]
  },
  {
   "cell_type": "code",
   "execution_count": null,
   "metadata": {
    "ExecuteTime": {
     "end_time": "2021-02-24T22:03:26.738268Z",
     "start_time": "2021-02-24T22:03:26.703362Z"
    }
   },
   "outputs": [],
   "source": [
    "from sklearn.svm import SVR\n",
    "svm = SVR(kernel = 'rbf', C=100) # regresion no lineal\n",
    "svm.fit(X, y) # No se realizo escalamiento pues es puramente ilustrativo\n",
    "y_pred = svm.predict(X)\n",
    "print(f'MSE entrenamiento: {mean_squared_error(y, y_pred)}')\n",
    "print(f'R^2 entrenamiento: {r2_score(y, y_pred)}')\n",
    "\n",
    "fig, ax = plt.subplots()\n",
    "sort_idx = X.flatten().argsort()\n",
    "lin_regplot(X[sort_idx], y[sort_idx], svm)"
   ]
  },
  {
   "cell_type": "markdown",
   "metadata": {},
   "source": [
    "<div class=\"burk\">\n",
    "EJERCICIO</div><i class=\"fa fa-lightbulb-o \"></i>\n",
    "\n",
    "Aplique una regresion usando svm a las mismas caracteristicas del ejercicio anterior. Busque que no se genere sobreajuste en el conjunto de entrenamiento respecto al conjunto de test. Si no es posible evitar el sobreajuste con los hiperparametros de la regresion, considere usar extraccion de caracteristicas."
   ]
  },
  {
   "cell_type": "code",
   "execution_count": 76,
   "metadata": {
    "ExecuteTime": {
     "end_time": "2021-03-05T02:00:19.969662Z",
     "start_time": "2021-03-05T02:00:19.770757Z"
    }
   },
   "outputs": [
    {
     "name": "stdout",
     "output_type": "stream",
     "text": [
      "MSE entrenamiento: 27.89653757999136\n",
      "R^2 entrenamiento: 0.6695488717284147\n"
     ]
    },
    {
     "data": {
      "image/png": "[encoded data removed]",
      "text/plain": [
       "<Figure size 432x288 with 1 Axes>"
      ]
     },
     "metadata": {
      "needs_background": "light"
     },
     "output_type": "display_data"
    }
   ],
   "source": [
    "from sklearn.svm import SVR\n",
    "svm = SVR(kernel = 'rbf', C=100) # regresion no lineal\n",
    "svm.fit(X, y) # No se realizo escalamiento pues es puramente ilustrativo\n",
    "y_pred = svm.predict(X)\n",
    "print(f'MSE entrenamiento: {mean_squared_error(y, y_pred)}')\n",
    "print(f'R^2 entrenamiento: {r2_score(y, y_pred)}')\n",
    "\n",
    "fig, ax = plt.subplots()\n",
    "sort_idx = X.flatten().argsort()\n",
    "lin_regplot(X[sort_idx], y[sort_idx], svm)"
   ]
  },
  {
   "cell_type": "markdown",
   "metadata": {},
   "source": [
    "<div class=\"burk\">\n",
    "EJERCICIO</div><i class=\"fa fa-lightbulb-o \"></i>\n",
    "\n",
    "Utilice el archivo `machine.data` para realizar una regresion similar a la de la clase pasada. En este caso explore diferentes posibilidades de regresion polinomica, ajuste hiperparametros e imprima los rendimientos. No se podra graficar pues no es un problema bidimensional, pero podria intentar graficar los residuos de entrenamiento y test para evaluar la homocedasticidad. Pruebe otros algoritmos e intente un GridSearch en alguno de ellos (por ejemplo svm sobre C y gamma) para encontrar la mejor combinacion de hiperparametros. Si quiere ir un poco mas lejos, profundice su dominio en el algoritmo de regresion de los bosques aleatorios realizando extraccion de caracteristicas para reducir el sobreajuste. Sobre la validacion cruzada, es libre de elegir el numero de muestras a trabajar.\n",
    "\n",
    "Sus resultados organicelos en google data studio con la intencion de exponer sus resultados, de tal forma que se observe una comparacion entre las regresiones usadas. Buena Suerte!!"
   ]
  },
  {
   "cell_type": "code",
   "execution_count": 83,
   "metadata": {
    "ExecuteTime": {
     "end_time": "2021-03-05T02:02:52.243380Z",
     "start_time": "2021-03-05T02:02:52.218086Z"
    }
   },
   "outputs": [
    {
     "data": {
      "text/html": [
       "<div>\n",
       "<style scoped>\n",
       "    .dataframe tbody tr th:only-of-type {\n",
       "        vertical-align: middle;\n",
       "    }\n",
       "\n",
       "    .dataframe tbody tr th {\n",
       "        vertical-align: top;\n",
       "    }\n",
       "\n",
       "    .dataframe thead th {\n",
       "        text-align: right;\n",
       "    }\n",
       "</style>\n",
       "<table border=\"1\" class=\"dataframe\">\n",
       "  <thead>\n",
       "    <tr style=\"text-align: right;\">\n",
       "      <th></th>\n",
       "      <th>Vendor</th>\n",
       "      <th>Model Name</th>\n",
       "      <th>MYCT</th>\n",
       "      <th>MMIN</th>\n",
       "      <th>MMAX</th>\n",
       "      <th>CACH</th>\n",
       "      <th>CHMIN</th>\n",
       "      <th>CHMAX</th>\n",
       "      <th>PRP</th>\n",
       "      <th>ERP</th>\n",
       "    </tr>\n",
       "  </thead>\n",
       "  <tbody>\n",
       "    <tr>\n",
       "      <th>0</th>\n",
       "      <td>adviser</td>\n",
       "      <td>32/60</td>\n",
       "      <td>125</td>\n",
       "      <td>256</td>\n",
       "      <td>6000</td>\n",
       "      <td>256</td>\n",
       "      <td>16</td>\n",
       "      <td>128</td>\n",
       "      <td>198</td>\n",
       "      <td>199</td>\n",
       "    </tr>\n",
       "    <tr>\n",
       "      <th>1</th>\n",
       "      <td>amdahl</td>\n",
       "      <td>470v/7</td>\n",
       "      <td>29</td>\n",
       "      <td>8000</td>\n",
       "      <td>32000</td>\n",
       "      <td>32</td>\n",
       "      <td>8</td>\n",
       "      <td>32</td>\n",
       "      <td>269</td>\n",
       "      <td>253</td>\n",
       "    </tr>\n",
       "    <tr>\n",
       "      <th>2</th>\n",
       "      <td>amdahl</td>\n",
       "      <td>470v/7a</td>\n",
       "      <td>29</td>\n",
       "      <td>8000</td>\n",
       "      <td>32000</td>\n",
       "      <td>32</td>\n",
       "      <td>8</td>\n",
       "      <td>32</td>\n",
       "      <td>220</td>\n",
       "      <td>253</td>\n",
       "    </tr>\n",
       "    <tr>\n",
       "      <th>3</th>\n",
       "      <td>amdahl</td>\n",
       "      <td>470v/7b</td>\n",
       "      <td>29</td>\n",
       "      <td>8000</td>\n",
       "      <td>32000</td>\n",
       "      <td>32</td>\n",
       "      <td>8</td>\n",
       "      <td>32</td>\n",
       "      <td>172</td>\n",
       "      <td>253</td>\n",
       "    </tr>\n",
       "    <tr>\n",
       "      <th>4</th>\n",
       "      <td>amdahl</td>\n",
       "      <td>470v/7c</td>\n",
       "      <td>29</td>\n",
       "      <td>8000</td>\n",
       "      <td>16000</td>\n",
       "      <td>32</td>\n",
       "      <td>8</td>\n",
       "      <td>16</td>\n",
       "      <td>132</td>\n",
       "      <td>132</td>\n",
       "    </tr>\n",
       "    <tr>\n",
       "      <th>...</th>\n",
       "      <td>...</td>\n",
       "      <td>...</td>\n",
       "      <td>...</td>\n",
       "      <td>...</td>\n",
       "      <td>...</td>\n",
       "      <td>...</td>\n",
       "      <td>...</td>\n",
       "      <td>...</td>\n",
       "      <td>...</td>\n",
       "      <td>...</td>\n",
       "    </tr>\n",
       "    <tr>\n",
       "      <th>204</th>\n",
       "      <td>sperry</td>\n",
       "      <td>80/8</td>\n",
       "      <td>124</td>\n",
       "      <td>1000</td>\n",
       "      <td>8000</td>\n",
       "      <td>0</td>\n",
       "      <td>1</td>\n",
       "      <td>8</td>\n",
       "      <td>42</td>\n",
       "      <td>37</td>\n",
       "    </tr>\n",
       "    <tr>\n",
       "      <th>205</th>\n",
       "      <td>sperry</td>\n",
       "      <td>90/80-model-3</td>\n",
       "      <td>98</td>\n",
       "      <td>1000</td>\n",
       "      <td>8000</td>\n",
       "      <td>32</td>\n",
       "      <td>2</td>\n",
       "      <td>8</td>\n",
       "      <td>46</td>\n",
       "      <td>50</td>\n",
       "    </tr>\n",
       "    <tr>\n",
       "      <th>206</th>\n",
       "      <td>sratus</td>\n",
       "      <td>32</td>\n",
       "      <td>125</td>\n",
       "      <td>2000</td>\n",
       "      <td>8000</td>\n",
       "      <td>0</td>\n",
       "      <td>2</td>\n",
       "      <td>14</td>\n",
       "      <td>52</td>\n",
       "      <td>41</td>\n",
       "    </tr>\n",
       "    <tr>\n",
       "      <th>207</th>\n",
       "      <td>wang</td>\n",
       "      <td>vs-100</td>\n",
       "      <td>480</td>\n",
       "      <td>512</td>\n",
       "      <td>8000</td>\n",
       "      <td>32</td>\n",
       "      <td>0</td>\n",
       "      <td>0</td>\n",
       "      <td>67</td>\n",
       "      <td>47</td>\n",
       "    </tr>\n",
       "    <tr>\n",
       "      <th>208</th>\n",
       "      <td>wang</td>\n",
       "      <td>vs-90</td>\n",
       "      <td>480</td>\n",
       "      <td>1000</td>\n",
       "      <td>4000</td>\n",
       "      <td>0</td>\n",
       "      <td>0</td>\n",
       "      <td>0</td>\n",
       "      <td>45</td>\n",
       "      <td>25</td>\n",
       "    </tr>\n",
       "  </tbody>\n",
       "</table>\n",
       "<p>209 rows × 10 columns</p>\n",
       "</div>"
      ],
      "text/plain": [
       "      Vendor     Model Name  MYCT  MMIN   MMAX  CACH  CHMIN  CHMAX  PRP  ERP\n",
       "0    adviser          32/60   125   256   6000   256     16    128  198  199\n",
       "1     amdahl         470v/7    29  8000  32000    32      8     32  269  253\n",
       "2     amdahl        470v/7a    29  8000  32000    32      8     32  220  253\n",
       "3     amdahl        470v/7b    29  8000  32000    32      8     32  172  253\n",
       "4     amdahl        470v/7c    29  8000  16000    32      8     16  132  132\n",
       "..       ...            ...   ...   ...    ...   ...    ...    ...  ...  ...\n",
       "204   sperry           80/8   124  1000   8000     0      1      8   42   37\n",
       "205   sperry  90/80-model-3    98  1000   8000    32      2      8   46   50\n",
       "206   sratus             32   125  2000   8000     0      2     14   52   41\n",
       "207     wang         vs-100   480   512   8000    32      0      0   67   47\n",
       "208     wang          vs-90   480  1000   4000     0      0      0   45   25\n",
       "\n",
       "[209 rows x 10 columns]"
      ]
     },
     "execution_count": 83,
     "metadata": {},
     "output_type": "execute_result"
    }
   ],
   "source": [
    "df = pd.read_csv('machine.data', header=None)\n",
    "df.columns = ['Vendor', 'Model Name', 'MYCT', 'MMIN', ' MMAX', 'CACH', 'CHMIN', 'CHMAX', 'PRP', 'ERP']\n",
    "df"
   ]
  },
  {
   "cell_type": "code",
   "execution_count": 93,
   "metadata": {
    "ExecuteTime": {
     "end_time": "2021-03-05T02:13:09.296121Z",
     "start_time": "2021-03-05T02:13:09.283720Z"
    }
   },
   "outputs": [
    {
     "data": {
      "text/html": [
       "<div>\n",
       "<style scoped>\n",
       "    .dataframe tbody tr th:only-of-type {\n",
       "        vertical-align: middle;\n",
       "    }\n",
       "\n",
       "    .dataframe tbody tr th {\n",
       "        vertical-align: top;\n",
       "    }\n",
       "\n",
       "    .dataframe thead th {\n",
       "        text-align: right;\n",
       "    }\n",
       "</style>\n",
       "<table border=\"1\" class=\"dataframe\">\n",
       "  <thead>\n",
       "    <tr style=\"text-align: right;\">\n",
       "      <th></th>\n",
       "      <th>MYCT</th>\n",
       "      <th>MMIN</th>\n",
       "      <th>MMAX</th>\n",
       "      <th>CACH</th>\n",
       "    </tr>\n",
       "  </thead>\n",
       "  <tbody>\n",
       "    <tr>\n",
       "      <th>0</th>\n",
       "      <td>125</td>\n",
       "      <td>256</td>\n",
       "      <td>6000</td>\n",
       "      <td>256</td>\n",
       "    </tr>\n",
       "    <tr>\n",
       "      <th>1</th>\n",
       "      <td>29</td>\n",
       "      <td>8000</td>\n",
       "      <td>32000</td>\n",
       "      <td>32</td>\n",
       "    </tr>\n",
       "    <tr>\n",
       "      <th>2</th>\n",
       "      <td>29</td>\n",
       "      <td>8000</td>\n",
       "      <td>32000</td>\n",
       "      <td>32</td>\n",
       "    </tr>\n",
       "    <tr>\n",
       "      <th>3</th>\n",
       "      <td>29</td>\n",
       "      <td>8000</td>\n",
       "      <td>32000</td>\n",
       "      <td>32</td>\n",
       "    </tr>\n",
       "    <tr>\n",
       "      <th>4</th>\n",
       "      <td>29</td>\n",
       "      <td>8000</td>\n",
       "      <td>16000</td>\n",
       "      <td>32</td>\n",
       "    </tr>\n",
       "  </tbody>\n",
       "</table>\n",
       "</div>"
      ],
      "text/plain": [
       "   MYCT  MMIN   MMAX  CACH\n",
       "0   125   256   6000   256\n",
       "1    29  8000  32000    32\n",
       "2    29  8000  32000    32\n",
       "3    29  8000  32000    32\n",
       "4    29  8000  16000    32"
      ]
     },
     "execution_count": 93,
     "metadata": {},
     "output_type": "execute_result"
    }
   ],
   "source": [
    "df1 = df.drop(columns = ['ERP','Model Name','Vendor','PRP','CHMAX','CHMIN'])\n",
    "df1.head()"
   ]
  },
  {
   "cell_type": "code",
   "execution_count": null,
   "metadata": {},
   "outputs": [],
   "source": [
    "X = df1.iloc[:,0:4]\n",
    "y = df1[:,6:7]\n",
    "X = pd.get_dummies(X, drop_first = True)\n",
    "X = X.values"
   ]
  },
  {
   "cell_type": "code",
   "execution_count": 97,
   "metadata": {
    "ExecuteTime": {
     "end_time": "2021-03-05T02:14:08.822440Z",
     "start_time": "2021-03-05T02:14:08.803096Z"
    }
   },
   "outputs": [],
   "source": [
    "X = df1.iloc[:,0:3]\n",
    "y = df1['CACH']\n",
    "X = pd.get_dummies(X, drop_first = True)\n",
    "X = X.values"
   ]
  },
  {
   "cell_type": "code",
   "execution_count": 98,
   "metadata": {
    "ExecuteTime": {
     "end_time": "2021-03-05T02:14:16.551022Z",
     "start_time": "2021-03-05T02:14:16.543083Z"
    }
   },
   "outputs": [],
   "source": [
    "from sklearn.model_selection import train_test_split\n",
    "\n",
    "X_train, X_test, y_train, y_test = train_test_split(X, y, test_size=0.3, random_state=0)"
   ]
  },
  {
   "cell_type": "code",
   "execution_count": 99,
   "metadata": {
    "ExecuteTime": {
     "end_time": "2021-03-05T02:15:40.869302Z",
     "start_time": "2021-03-05T02:15:40.862358Z"
    }
   },
   "outputs": [],
   "source": [
    "# Agregar lementos cuadraticos a la matriz x\n",
    "# ===========================================================\n",
    "from sklearn.preprocessing import PolynomialFeatures\n",
    "from sklearn.linear_model import LinearRegression\n",
    "lr = LinearRegression()\n",
    "pr = LinearRegression()\n",
    "cr = LinearRegression()\n",
    "cubic = PolynomialFeatures(degree=3)\n",
    "quadratic = PolynomialFeatures(degree=2)\n",
    "X_quad = quadratic.fit_transform(X_train)\n",
    "X_cube = cubic.fit_transform(X_train)"
   ]
  },
  {
   "cell_type": "code",
   "execution_count": 104,
   "metadata": {
    "ExecuteTime": {
     "end_time": "2021-03-05T02:18:18.373063Z",
     "start_time": "2021-03-05T02:18:18.345782Z"
    }
   },
   "outputs": [
    {
     "data": {
      "text/plain": [
       "LinearRegression()"
      ]
     },
     "execution_count": 104,
     "metadata": {},
     "output_type": "execute_result"
    }
   ],
   "source": [
    "X_cube = cubic.fit_transform(X_train)\n",
    "cr.fit(X_cube, y_train)"
   ]
  },
  {
   "cell_type": "code",
   "execution_count": 106,
   "metadata": {
    "ExecuteTime": {
     "end_time": "2021-03-05T02:18:40.937481Z",
     "start_time": "2021-03-05T02:18:40.930537Z"
    }
   },
   "outputs": [
    {
     "name": "stdout",
     "output_type": "stream",
     "text": [
      "MSE entrenamiento Cubico: 1106.781057027916\n",
      "R^2 entrenamiento Cubico: 0.3588252101027062\n"
     ]
    }
   ],
   "source": [
    "y_cubo_pred_train = cr.predict(X_cube)\n",
    "\n",
    "print(f'MSE entrenamiento Cubico: {mean_squared_error(y_train, y_cubo_pred_train)}')\n",
    "print(f'R^2 entrenamiento Cubico: {r2_score(y_train, y_cubo_pred_train)}')"
   ]
  },
  {
   "cell_type": "code",
   "execution_count": 110,
   "metadata": {
    "ExecuteTime": {
     "end_time": "2021-03-05T02:19:34.526177Z",
     "start_time": "2021-03-05T02:19:34.517246Z"
    }
   },
   "outputs": [
    {
     "name": "stdout",
     "output_type": "stream",
     "text": [
      "MSE prueba Cubico: 1557.3165804680139\n",
      "R^2 prueba Cubico: -0.075087072960905\n"
     ]
    }
   ],
   "source": [
    "X_cube_test = cubic.fit_transform(X_test)\n",
    "y_cubo_pred_test = cr.predict(X_cube_test)\n",
    "\n",
    "print(f'MSE prueba Cubico: {mean_squared_error(y_test, y_cubo_pred_test)}')\n",
    "print(f'R^2 prueba Cubico: {r2_score(y_test, y_cubo_pred_test)}')"
   ]
  }
 ],
 "metadata": {
  "kernelspec": {
   "display_name": "Python 3",
   "language": "python",
   "name": "python3"
  },
  "language_info": {
   "codemirror_mode": {
    "name": "ipython",
    "version": 3
   },
   "file_extension": ".py",
   "mimetype": "text/x-python",
   "name": "python",
   "nbconvert_exporter": "python",
   "pygments_lexer": "ipython3",
   "version": "3.8.3"
  },
  "toc": {
   "base_numbering": 1,
   "nav_menu": {},
   "number_sections": true,
   "sideBar": true,
   "skip_h1_title": false,
   "title_cell": "Table of Contents",
   "title_sidebar": "Contents",
   "toc_cell": false,
   "toc_position": {},
   "toc_section_display": true,
   "toc_window_display": false
  },
  "varInspector": {
   "cols": {
    "lenName": 16,
    "lenType": 16,
    "lenVar": 40
   },
   "kernels_config": {
    "python": {
     "delete_cmd_postfix": "",
     "delete_cmd_prefix": "del ",
     "library": "var_list.py",
     "varRefreshCmd": "print(var_dic_list())"
    },
    "r": {
     "delete_cmd_postfix": ") ",
     "delete_cmd_prefix": "rm(",
     "library": "var_list.r",
     "varRefreshCmd": "cat(var_dic_list()) "
    }
   },
   "types_to_exclude": [
    "module",
    "function",
    "builtin_function_or_method",
    "instance",
    "_Feature"
   ],
   "window_display": false
  }
 },
 "nbformat": 4,
 "nbformat_minor": 4
}
