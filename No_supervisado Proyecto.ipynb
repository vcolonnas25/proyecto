{
 "cells": [
  {
   "cell_type": "markdown",
   "metadata": {},
   "source": [
    "# Analisis de grupos (Clustering analysis)\n",
    "\n",
    "Esta seccion se corresponde con el aprendizje no supervisado, en el cual, las etiquetas de clase no se conocen, y unicamente se trabaja con las matrices de caracteristicas; el objetivo del analisis de datos como los mencionados es la de descubrir estructuras ocultas en los datos. Siempre tengamos en cuenta que no tenemos etiquetas de clase por defecto, por lo tanto no podremos anticipar si los datos pertenecen o no a una cierta categoria, y nuestra alternativas mas plausible sera explorar los datos para *tratar* de encontrar grupos o estructuras subyacentes."
   ]
  },
  {
   "cell_type": "markdown",
   "metadata": {},
   "source": [
    "## Agrupar objetos por semejanza con K-means\n",
    "\n",
    "Este algoritmo utiliza la semejanza de los datos para crear grupos de caracteristicas; es uno de los algoritmos mas populares en la industria y sobre el cual se basan sistemas de amplio uso como los son los sistemas de recomendacion.\n",
    "\n",
    "### Agrupamiento k-means con sklearn\n",
    "\n",
    "Es un algoritmo facil y muy eficaz, lo cual explica su popularidad; pertenece a una categoria llamada **agrupamiento basado en prototipos**. Existen otras categorias llamdas **agrupamiento jerarquico** y **agrupamiento basado en densidad**, que veremos mas adelante.\n",
    "\n",
    "El ***agriupamiento basado en prototipos*** es llamado asi debido a que los grupos o *clusters* son representados por una cantidad prototipo representativa, que puede ser el **centroide** (promedio) de caracteristicas similares continuas, o **medoide** (punto mas frecuente) para caracteristicas categoricas.\n",
    "\n",
    "Una de las dificultades que presenta este algoritmo, a pesar de su eficacia, es que tenemos que especificar el numero de veciones *k* desde el principio.\n",
    "\n",
    "Si se elige mal el valor de *k*, tendremos un rendimiento bajo de agrupamiento, aunque la buena noticia es que existen metodos para optimizar este proceso a partir de mediciones de calidad del agrupamiento; mas adelante trataremos esas tecnicas, aunque adelante sus nombres: ***metodo elbow*** y ***graficos de silueta***."
   ]
  },
  {
   "cell_type": "code",
   "execution_count": 74,
   "metadata": {
    "ExecuteTime": {
     "end_time": "2021-03-02T01:19:40.459302Z",
     "start_time": "2021-03-02T01:19:40.440139Z"
    },
    "scrolled": true
   },
   "outputs": [
    {
     "data": {
      "text/plain": [
       "array([[ 2.60509732,  1.22529553],\n",
       "       [ 0.5323772 ,  3.31338909],\n",
       "       [ 0.802314  ,  4.38196181],\n",
       "       [ 0.5285368 ,  4.49723858],\n",
       "       [ 2.61858548,  0.35769791],\n",
       "       [ 1.59141542,  4.90497725],\n",
       "       [ 1.74265969,  5.03846671],\n",
       "       [ 2.37533328,  0.08918564],\n",
       "       [-2.12133364,  2.66447408],\n",
       "       [ 1.72039618,  5.25173192],\n",
       "       [ 3.1368855 ,  1.56592763],\n",
       "       [-0.37494566,  2.38787435],\n",
       "       [-1.84562253,  2.71924635],\n",
       "       [ 0.72144399,  4.08475018],\n",
       "       [ 0.16117091,  4.53517846],\n",
       "       [-1.99912714,  2.71285741],\n",
       "       [-1.47804153,  3.2093591 ],\n",
       "       [ 1.8706766 ,  0.77797407],\n",
       "       [-1.5933443 ,  2.76898682],\n",
       "       [ 2.03562611,  0.31361691],\n",
       "       [ 0.64003985,  4.12401075],\n",
       "       [ 2.4411628 ,  1.30941574],\n",
       "       [ 1.13280393,  3.87673946],\n",
       "       [ 1.04829186,  5.03092408],\n",
       "       [-1.26637157,  2.62998828],\n",
       "       [ 2.31690585,  0.81189049],\n",
       "       [ 2.36230721,  1.358767  ],\n",
       "       [ 1.2091013 ,  3.53566548],\n",
       "       [-2.54224625,  3.95012869],\n",
       "       [ 1.4815332 ,  0.67875364],\n",
       "       [-1.59487886,  3.48632794],\n",
       "       [-1.82556205,  2.7989214 ],\n",
       "       [-1.13374003,  2.68467271],\n",
       "       [-1.758702  ,  3.158623  ],\n",
       "       [ 0.3498724 ,  4.69253251],\n",
       "       [ 1.68548602,  1.66917096],\n",
       "       [ 2.989047  ,  1.35068599],\n",
       "       [ 1.73734448,  1.23588031],\n",
       "       [ 0.65910903,  4.12241674],\n",
       "       [ 1.15445328,  4.65707391],\n",
       "       [-1.32738084,  1.53158588],\n",
       "       [-1.6814105 ,  2.07988036],\n",
       "       [ 0.34102758,  4.78848568],\n",
       "       [ 1.87827057,  0.21018801],\n",
       "       [ 2.13860427,  1.21517938],\n",
       "       [ 2.48368283,  0.57215086],\n",
       "       [-1.18113464,  3.26525683],\n",
       "       [ 2.11114739,  3.57660449],\n",
       "       [-1.19371247,  2.68752237],\n",
       "       [ 1.45131429,  4.22810872],\n",
       "       [ 1.83769075,  1.82229552],\n",
       "       [ 0.44089377,  4.83101319],\n",
       "       [ 1.08040757,  4.79210685],\n",
       "       [ 1.84845803,  0.52393625],\n",
       "       [ 2.3914149 ,  1.10139458],\n",
       "       [-1.44865074,  3.03397278],\n",
       "       [ 0.72086751,  3.71347124],\n",
       "       [ 3.01673853,  1.63792106],\n",
       "       [-1.18199493,  3.56880538],\n",
       "       [ 1.34081536,  4.36827878],\n",
       "       [-2.31837321,  3.22307195],\n",
       "       [-0.54894786,  3.11292892],\n",
       "       [-1.6823471 ,  2.96658234],\n",
       "       [-1.53541422,  3.10745813],\n",
       "       [ 1.06498315,  4.10289686],\n",
       "       [-0.39724954,  2.89675369],\n",
       "       [ 1.03972612,  4.50478201],\n",
       "       [ 1.62465468,  1.85269614],\n",
       "       [-0.30022483,  4.63059663],\n",
       "       [ 0.12313498,  5.27917503],\n",
       "       [ 1.54597042,  3.68637442],\n",
       "       [ 1.44254976,  1.31984515],\n",
       "       [ 2.52889351,  0.82015861],\n",
       "       [ 0.38970838,  5.27559792],\n",
       "       [ 1.5381461 ,  1.23846092],\n",
       "       [ 0.82049381,  4.33187   ],\n",
       "       [ 1.56565986,  4.21382491],\n",
       "       [-1.93358614,  2.1846701 ],\n",
       "       [-1.38373217,  3.22230418],\n",
       "       [ 0.96217896,  4.51795326],\n",
       "       [ 1.71810119,  0.91357894],\n",
       "       [ 1.65356269,  0.55288877],\n",
       "       [ 0.4519936 ,  3.59377836],\n",
       "       [ 1.19820169,  4.47062449],\n",
       "       [ 2.20438661,  1.56085661],\n",
       "       [ 3.24683991,  1.3699034 ],\n",
       "       [ 2.51569693,  1.05702749],\n",
       "       [-1.79833475,  3.12590728],\n",
       "       [-2.0495307 ,  3.52345491],\n",
       "       [ 2.36788325,  0.09663483],\n",
       "       [ 2.24348029,  0.34796326],\n",
       "       [ 0.99914934,  4.2101954 ],\n",
       "       [ 1.30963873,  1.11735951],\n",
       "       [ 0.77468161,  4.91500986],\n",
       "       [ 1.70798359,  0.82284639],\n",
       "       [ 1.91784543,  3.6299078 ],\n",
       "       [-2.00487651,  2.74489137],\n",
       "       [-2.10499523,  3.30848131],\n",
       "       [ 1.39731382,  0.66687136],\n",
       "       [ 2.02114672,  1.75433502],\n",
       "       [ 1.67030948,  1.16728826],\n",
       "       [ 2.52997792,  0.94143928],\n",
       "       [-2.18016744,  3.7469476 ],\n",
       "       [ 2.00604126,  0.56592452],\n",
       "       [ 1.50307585,  0.9237462 ],\n",
       "       [ 1.05374379,  4.49286859],\n",
       "       [-1.72662853,  3.10291021],\n",
       "       [ 1.72330962,  4.2012082 ],\n",
       "       [ 0.92466065,  4.50908658],\n",
       "       [ 0.39369516,  4.75420057],\n",
       "       [-1.31377465,  3.25633628],\n",
       "       [ 0.78260667,  4.15263595],\n",
       "       [ 1.82750127,  0.90640324],\n",
       "       [-1.2649585 ,  2.9620933 ],\n",
       "       [ 0.98152009,  5.19672257],\n",
       "       [-2.49504392,  3.01227156],\n",
       "       [ 1.00952869,  4.45502328],\n",
       "       [ 1.40848818,  3.93270482],\n",
       "       [-1.28003312,  2.85983029],\n",
       "       [-1.82506103,  2.89159861],\n",
       "       [ 0.5408715 ,  4.0143625 ],\n",
       "       [ 2.64928242,  1.05613497],\n",
       "       [ 0.5226209 ,  4.32976003],\n",
       "       [ 0.16932115,  4.19741719],\n",
       "       [ 1.8062513 ,  1.86242969],\n",
       "       [ 1.92126584,  1.29889186],\n",
       "       [-1.53906708,  2.54886681],\n",
       "       [ 1.68289011,  0.48444439],\n",
       "       [-2.29730252,  2.94951326],\n",
       "       [-1.45592743,  2.75821805],\n",
       "       [-1.38694171,  2.86880707],\n",
       "       [-1.07181456,  3.07649137],\n",
       "       [ 1.40883907,  1.03118909],\n",
       "       [-1.58598604,  2.57779316],\n",
       "       [-1.58217434,  3.42796862],\n",
       "       [-0.77966174,  1.88288975],\n",
       "       [ 0.56969694,  3.44064603],\n",
       "       [-1.8531083 ,  2.72240557],\n",
       "       [ 1.59885641,  1.4561718 ],\n",
       "       [-1.84094779,  2.6773687 ],\n",
       "       [ 1.35678894,  4.36462484],\n",
       "       [ 1.1774409 ,  3.96138228],\n",
       "       [ 1.73345832, -0.21403792],\n",
       "       [ 2.34356293,  0.79351428],\n",
       "       [-0.95073823,  3.45769156],\n",
       "       [-2.23893447,  2.67122232],\n",
       "       [-1.87292894,  3.68607079],\n",
       "       [-1.8897027 ,  2.22620028],\n",
       "       [ 2.25327088,  0.35113291],\n",
       "       [ 1.55515985,  0.12527811]])"
      ]
     },
     "execution_count": 74,
     "metadata": {},
     "output_type": "execute_result"
    }
   ],
   "source": [
    "# Creacion del conjunto de datos\n",
    "from sklearn.datasets import make_blobs\n",
    "\n",
    "X, y = make_blobs(n_samples=150, n_features=2, centers=3, cluster_std=0.5, shuffle=True, random_state=0)\n",
    "X"
   ]
  },
  {
   "cell_type": "code",
   "execution_count": 11,
   "metadata": {
    "ExecuteTime": {
     "end_time": "2021-03-02T00:13:09.739237Z",
     "start_time": "2021-03-02T00:13:09.733285Z"
    }
   },
   "outputs": [
    {
     "data": {
      "text/plain": [
       "<function sklearn.datasets._samples_generator.make_blobs(n_samples=100, n_features=2, *, centers=None, cluster_std=1.0, center_box=(-10.0, 10.0), shuffle=True, random_state=None, return_centers=False)>"
      ]
     },
     "execution_count": 11,
     "metadata": {},
     "output_type": "execute_result"
    }
   ],
   "source": [
    "make_blobs"
   ]
  },
  {
   "cell_type": "code",
   "execution_count": 75,
   "metadata": {
    "ExecuteTime": {
     "end_time": "2021-03-02T01:19:45.191100Z",
     "start_time": "2021-03-02T01:19:45.006092Z"
    }
   },
   "outputs": [
    {
     "data": {
      "image/png": "[encoded data removed]",
      "text/plain": [
       "<Figure size 432x288 with 1 Axes>"
      ]
     },
     "metadata": {
      "needs_background": "light"
     },
     "output_type": "display_data"
    }
   ],
   "source": [
    "# Graficacion del conjunto de datos\n",
    "import matplotlib.pyplot as plt\n",
    "\n",
    "fig, ax = plt.subplots()\n",
    "ax.scatter(X[:, 0], X[:, 1], c='white', marker='o', edgecolor='black', s=50)\n",
    "ax.grid();"
   ]
  },
  {
   "cell_type": "markdown",
   "metadata": {},
   "source": [
    "Dado que no tenemos ninguna informacion de las caracteristicas, debemos agrupar por semejanzas, lo cual se hace en los siguientes 4 pasos:\n",
    "\n",
    "1. Selecciona aleatoriamente *k* centroides a partir de los puntos de muestra como centros de grupo iniciales.\n",
    "2. Asigna cada muestra al centroide mas cercano $u_j$, $j \\in {1, 2, \\dots , k}$.\n",
    "3. Desplaza los centroides al centro de las muestras asignadas para ello.\n",
    "4. Repita los pasos 2 y 3 hasta que las asignaciones de grupos no cambien o hasta conseguir una tolerancia definida por el usuario o el numero maximo de iteraciones.\n",
    "\n",
    "La forma de determinar la semejanza ente objetos es a partir de la distancia euclidiana, de tal manera que entre mas alejados esten dos objetos, menos semejantes son, es decir, la semjanza sera lo opuesto a la distancia; recordemos que la distancia euclidiana se define como:\n",
    "\n",
    "$$d(\\vec{x}, \\vec{y})=\\sum_{j=1}^m(x_j-y_j)^2=||\\vec{x}-\\vec{y}||^2_2$$\n",
    "\n",
    "En la ecuaion anterior *j* se refieres a la *j*-esima dimension(columna) de las muestras $\\vec{x}$ y $\\vec{y}$. \n",
    "\n",
    "El algoritmo tratara de minimizar la Suma de Errores Cuadraticos SSE dentro del grupo:\n",
    "\n",
    "$$SSE=\\sum_{i=1}^n\\sum_{j=k}^{centroides} w^{(i,j)}||\\vec{x}^{(i)}-\\vec{\\mu}^{(j)}||^2_2$$\n",
    "\n",
    "$\\vec{\\mu}^{(j)}$ es el centroide para el grupo *j*, y $w^{(i,j)} = 1$ si la muestra $\\vec{x}^{(i)}$ esta en el grupo *j*, sino $w^{(i,j)} = 0$.\n",
    "\n",
    "Dado que el algoritmo utiliza la distancia euclidiana para medir las distancias, es recomendable escalar las caracteristicas cuando se trabaje con medidas reales."
   ]
  },
  {
   "cell_type": "code",
   "execution_count": 76,
   "metadata": {
    "ExecuteTime": {
     "end_time": "2021-03-02T01:19:48.260155Z",
     "start_time": "2021-03-02T01:19:48.225930Z"
    }
   },
   "outputs": [
    {
     "data": {
      "text/plain": [
       "array([2, 1, 1, 1, 2, 1, 1, 2, 0, 1, 2, 0, 0, 1, 1, 0, 0, 2, 0, 2, 1, 2,\n",
       "       1, 1, 0, 2, 2, 1, 0, 2, 0, 0, 0, 0, 1, 2, 2, 2, 1, 1, 0, 0, 1, 2,\n",
       "       2, 2, 0, 1, 0, 1, 2, 1, 1, 2, 2, 0, 1, 2, 0, 1, 0, 0, 0, 0, 1, 0,\n",
       "       1, 2, 1, 1, 1, 2, 2, 1, 2, 1, 1, 0, 0, 1, 2, 2, 1, 1, 2, 2, 2, 0,\n",
       "       0, 2, 2, 1, 2, 1, 2, 1, 0, 0, 2, 2, 2, 2, 0, 2, 2, 1, 0, 1, 1, 1,\n",
       "       0, 1, 2, 0, 1, 0, 1, 1, 0, 0, 1, 2, 1, 1, 2, 2, 0, 2, 0, 0, 0, 0,\n",
       "       2, 0, 0, 0, 1, 0, 2, 0, 1, 1, 2, 2, 0, 0, 0, 0, 2, 2])"
      ]
     },
     "execution_count": 76,
     "metadata": {},
     "output_type": "execute_result"
    }
   ],
   "source": [
    "from sklearn.cluster import KMeans\n",
    "\n",
    "km = KMeans(n_clusters=3, init='random', n_init=10, max_iter=300, tol=1e-04, random_state=0)\n",
    "# n_init realizara el algoritmo 10 veces con diferentes centroides. Se eligira el que tenga SSE mas bajo\n",
    "y_km = km.fit_predict(X)\n",
    "y_km"
   ]
  },
  {
   "cell_type": "code",
   "execution_count": 77,
   "metadata": {
    "ExecuteTime": {
     "end_time": "2021-03-02T01:19:50.225451Z",
     "start_time": "2021-03-02T01:19:49.984395Z"
    }
   },
   "outputs": [
    {
     "data": {
      "image/png": "[encoded data removed]",
      "text/plain": [
       "<Figure size 576x432 with 1 Axes>"
      ]
     },
     "metadata": {
      "needs_background": "light"
     },
     "output_type": "display_data"
    }
   ],
   "source": [
    "fig, ax =plt.subplots(figsize = (8, 6))\n",
    "ax.scatter(X[y_km == 0, 0], X[y_km == 0, 1], s=50, c='lightgreen', marker='s', edgecolor='black', label='cluster 1')\n",
    "ax.scatter(X[y_km == 1, 0], X[y_km == 1, 1], s=50, c='orange', marker='o', edgecolor='black', label='cluster 2')\n",
    "ax.scatter(X[y_km == 2, 0], X[y_km == 2, 1], s=50, c='lightblue', marker='v', edgecolor='black', label='cluster 3')\n",
    "ax.scatter(km.cluster_centers_[:, 0], km.cluster_centers_[:, 1], s=250, marker='*', c='red', edgecolor='black', \n",
    "            label='centroids')\n",
    "ax.legend(scatterpoints=1)\n",
    "ax.grid()"
   ]
  },
  {
   "cell_type": "markdown",
   "metadata": {},
   "source": [
    "Como se puede observar, los datos fueron asignados a una clase diferente segun sus semejanzas en terminos de las 2 caracteristicas, y que cada una de las categorias estan representadas por los promedios (centroides) de las ubicaciones de los datos (estrellas rojas). Es muy importante recordar que los centroides no iniciaron en esa posicion sino que fueron ubicados alli despues de cierto numero de iteraciones; su posicion inicial es, hasta cierto punto, desconocida, pues se inicializa con el parametro `init='random'`, lo cual puede llegar a ser un inconveniente en terminos computacionales, ya que podrian inicializarse en alguna ubicacion que llevara a mayores tiempos de ejecucion y a algunas dificultades en los calculos. Para esto existe una solucion, la cual es inicializar los centroides de una manera mas inteligente con la herramienta `k-means++`."
   ]
  },
  {
   "cell_type": "markdown",
   "metadata": {},
   "source": [
    "<div class=\"burk\">\n",
    "EJERCICIO</div><i class=\"fa fa-lightbulb-o \"></i>\n",
    "\n",
    "Utilizando el archivo `Mall_Customers.csv` realice un proceso de `clustering`; para fines de visualizacion solo utilice las dos ultimas columnas. Utilice 5 *clusters* y grafique sus resultados. Evalue la conveniencia de escalar."
   ]
  },
  {
   "cell_type": "code",
   "execution_count": 20,
   "metadata": {
    "ExecuteTime": {
     "end_time": "2021-03-02T00:18:53.865271Z",
     "start_time": "2021-03-02T00:18:53.842922Z"
    }
   },
   "outputs": [
    {
     "data": {
      "text/plain": [
       "array([[ 15,  39],\n",
       "       [ 15,  81],\n",
       "       [ 16,   6],\n",
       "       [ 16,  77],\n",
       "       [ 17,  40],\n",
       "       [ 17,  76],\n",
       "       [ 18,   6],\n",
       "       [ 18,  94],\n",
       "       [ 19,   3],\n",
       "       [ 19,  72],\n",
       "       [ 19,  14],\n",
       "       [ 19,  99],\n",
       "       [ 20,  15],\n",
       "       [ 20,  77],\n",
       "       [ 20,  13],\n",
       "       [ 20,  79],\n",
       "       [ 21,  35],\n",
       "       [ 21,  66],\n",
       "       [ 23,  29],\n",
       "       [ 23,  98],\n",
       "       [ 24,  35],\n",
       "       [ 24,  73],\n",
       "       [ 25,   5],\n",
       "       [ 25,  73],\n",
       "       [ 28,  14],\n",
       "       [ 28,  82],\n",
       "       [ 28,  32],\n",
       "       [ 28,  61],\n",
       "       [ 29,  31],\n",
       "       [ 29,  87],\n",
       "       [ 30,   4],\n",
       "       [ 30,  73],\n",
       "       [ 33,   4],\n",
       "       [ 33,  92],\n",
       "       [ 33,  14],\n",
       "       [ 33,  81],\n",
       "       [ 34,  17],\n",
       "       [ 34,  73],\n",
       "       [ 37,  26],\n",
       "       [ 37,  75],\n",
       "       [ 38,  35],\n",
       "       [ 38,  92],\n",
       "       [ 39,  36],\n",
       "       [ 39,  61],\n",
       "       [ 39,  28],\n",
       "       [ 39,  65],\n",
       "       [ 40,  55],\n",
       "       [ 40,  47],\n",
       "       [ 40,  42],\n",
       "       [ 40,  42],\n",
       "       [ 42,  52],\n",
       "       [ 42,  60],\n",
       "       [ 43,  54],\n",
       "       [ 43,  60],\n",
       "       [ 43,  45],\n",
       "       [ 43,  41],\n",
       "       [ 44,  50],\n",
       "       [ 44,  46],\n",
       "       [ 46,  51],\n",
       "       [ 46,  46],\n",
       "       [ 46,  56],\n",
       "       [ 46,  55],\n",
       "       [ 47,  52],\n",
       "       [ 47,  59],\n",
       "       [ 48,  51],\n",
       "       [ 48,  59],\n",
       "       [ 48,  50],\n",
       "       [ 48,  48],\n",
       "       [ 48,  59],\n",
       "       [ 48,  47],\n",
       "       [ 49,  55],\n",
       "       [ 49,  42],\n",
       "       [ 50,  49],\n",
       "       [ 50,  56],\n",
       "       [ 54,  47],\n",
       "       [ 54,  54],\n",
       "       [ 54,  53],\n",
       "       [ 54,  48],\n",
       "       [ 54,  52],\n",
       "       [ 54,  42],\n",
       "       [ 54,  51],\n",
       "       [ 54,  55],\n",
       "       [ 54,  41],\n",
       "       [ 54,  44],\n",
       "       [ 54,  57],\n",
       "       [ 54,  46],\n",
       "       [ 57,  58],\n",
       "       [ 57,  55],\n",
       "       [ 58,  60],\n",
       "       [ 58,  46],\n",
       "       [ 59,  55],\n",
       "       [ 59,  41],\n",
       "       [ 60,  49],\n",
       "       [ 60,  40],\n",
       "       [ 60,  42],\n",
       "       [ 60,  52],\n",
       "       [ 60,  47],\n",
       "       [ 60,  50],\n",
       "       [ 61,  42],\n",
       "       [ 61,  49],\n",
       "       [ 62,  41],\n",
       "       [ 62,  48],\n",
       "       [ 62,  59],\n",
       "       [ 62,  55],\n",
       "       [ 62,  56],\n",
       "       [ 62,  42],\n",
       "       [ 63,  50],\n",
       "       [ 63,  46],\n",
       "       [ 63,  43],\n",
       "       [ 63,  48],\n",
       "       [ 63,  52],\n",
       "       [ 63,  54],\n",
       "       [ 64,  42],\n",
       "       [ 64,  46],\n",
       "       [ 65,  48],\n",
       "       [ 65,  50],\n",
       "       [ 65,  43],\n",
       "       [ 65,  59],\n",
       "       [ 67,  43],\n",
       "       [ 67,  57],\n",
       "       [ 67,  56],\n",
       "       [ 67,  40],\n",
       "       [ 69,  58],\n",
       "       [ 69,  91],\n",
       "       [ 70,  29],\n",
       "       [ 70,  77],\n",
       "       [ 71,  35],\n",
       "       [ 71,  95],\n",
       "       [ 71,  11],\n",
       "       [ 71,  75],\n",
       "       [ 71,   9],\n",
       "       [ 71,  75],\n",
       "       [ 72,  34],\n",
       "       [ 72,  71],\n",
       "       [ 73,   5],\n",
       "       [ 73,  88],\n",
       "       [ 73,   7],\n",
       "       [ 73,  73],\n",
       "       [ 74,  10],\n",
       "       [ 74,  72],\n",
       "       [ 75,   5],\n",
       "       [ 75,  93],\n",
       "       [ 76,  40],\n",
       "       [ 76,  87],\n",
       "       [ 77,  12],\n",
       "       [ 77,  97],\n",
       "       [ 77,  36],\n",
       "       [ 77,  74],\n",
       "       [ 78,  22],\n",
       "       [ 78,  90],\n",
       "       [ 78,  17],\n",
       "       [ 78,  88],\n",
       "       [ 78,  20],\n",
       "       [ 78,  76],\n",
       "       [ 78,  16],\n",
       "       [ 78,  89],\n",
       "       [ 78,   1],\n",
       "       [ 78,  78],\n",
       "       [ 78,   1],\n",
       "       [ 78,  73],\n",
       "       [ 79,  35],\n",
       "       [ 79,  83],\n",
       "       [ 81,   5],\n",
       "       [ 81,  93],\n",
       "       [ 85,  26],\n",
       "       [ 85,  75],\n",
       "       [ 86,  20],\n",
       "       [ 86,  95],\n",
       "       [ 87,  27],\n",
       "       [ 87,  63],\n",
       "       [ 87,  13],\n",
       "       [ 87,  75],\n",
       "       [ 87,  10],\n",
       "       [ 87,  92],\n",
       "       [ 88,  13],\n",
       "       [ 88,  86],\n",
       "       [ 88,  15],\n",
       "       [ 88,  69],\n",
       "       [ 93,  14],\n",
       "       [ 93,  90],\n",
       "       [ 97,  32],\n",
       "       [ 97,  86],\n",
       "       [ 98,  15],\n",
       "       [ 98,  88],\n",
       "       [ 99,  39],\n",
       "       [ 99,  97],\n",
       "       [101,  24],\n",
       "       [101,  68],\n",
       "       [103,  17],\n",
       "       [103,  85],\n",
       "       [103,  23],\n",
       "       [103,  69],\n",
       "       [113,   8],\n",
       "       [113,  91],\n",
       "       [120,  16],\n",
       "       [120,  79],\n",
       "       [126,  28],\n",
       "       [126,  74],\n",
       "       [137,  18],\n",
       "       [137,  83]], dtype=int64)"
      ]
     },
     "execution_count": 20,
     "metadata": {},
     "output_type": "execute_result"
    }
   ],
   "source": [
    "import pandas as pd\n",
    "\n",
    "df = pd.read_csv('Mall_Customers.csv')\n",
    "X=df.drop(columns=['CustomerID', 'Genre','Age'])\n",
    "X=X.values\n",
    "X"
   ]
  },
  {
   "cell_type": "code",
   "execution_count": 21,
   "metadata": {
    "ExecuteTime": {
     "end_time": "2021-03-02T00:18:59.169450Z",
     "start_time": "2021-03-02T00:18:59.125306Z"
    }
   },
   "outputs": [
    {
     "data": {
      "text/plain": [
       "array([2, 4, 2, 4, 2, 4, 2, 4, 2, 4, 2, 4, 2, 4, 2, 4, 2, 4, 2, 4, 2, 4,\n",
       "       2, 4, 2, 4, 2, 4, 2, 4, 2, 4, 2, 4, 2, 4, 2, 4, 2, 4, 2, 4, 2, 0,\n",
       "       2, 4, 0, 0, 0, 0, 0, 0, 0, 0, 0, 0, 0, 0, 0, 0, 0, 0, 0, 0, 0, 0,\n",
       "       0, 0, 0, 0, 0, 0, 0, 0, 0, 0, 0, 0, 0, 0, 0, 0, 0, 0, 0, 0, 0, 0,\n",
       "       0, 0, 0, 0, 0, 0, 0, 0, 0, 0, 0, 0, 0, 0, 0, 0, 0, 0, 0, 0, 0, 0,\n",
       "       0, 0, 0, 0, 0, 0, 0, 0, 0, 0, 0, 0, 0, 3, 1, 3, 0, 3, 1, 3, 1, 3,\n",
       "       0, 3, 1, 3, 1, 3, 1, 3, 1, 3, 0, 3, 1, 3, 1, 3, 1, 3, 1, 3, 1, 3,\n",
       "       1, 3, 1, 3, 1, 3, 1, 3, 1, 3, 1, 3, 1, 3, 1, 3, 1, 3, 1, 3, 1, 3,\n",
       "       1, 3, 1, 3, 1, 3, 1, 3, 1, 3, 1, 3, 1, 3, 1, 3, 1, 3, 1, 3, 1, 3,\n",
       "       1, 3])"
      ]
     },
     "execution_count": 21,
     "metadata": {},
     "output_type": "execute_result"
    }
   ],
   "source": [
    "from sklearn.cluster import KMeans\n",
    "\n",
    "km = KMeans(n_clusters=5, init='random', n_init=10, max_iter=300, tol=1e-04, random_state=0)\n",
    "# n_init realizara el algoritmo 10 veces con diferentes centroides. Se eligira el que tenga SSE mas bajo\n",
    "y_km = km.fit_predict(X)\n",
    "y_km"
   ]
  },
  {
   "cell_type": "code",
   "execution_count": 24,
   "metadata": {
    "ExecuteTime": {
     "end_time": "2021-03-02T00:22:55.499853Z",
     "start_time": "2021-03-02T00:22:55.206715Z"
    }
   },
   "outputs": [
    {
     "data": {
      "image/png": "[encoded data removed]",
      "text/plain": [
       "<Figure size 576x432 with 1 Axes>"
      ]
     },
     "metadata": {
      "needs_background": "light"
     },
     "output_type": "display_data"
    }
   ],
   "source": [
    "fig, ax =plt.subplots(figsize = (8, 6))\n",
    "ax.scatter(X[y_km == 0, 0], X[y_km == 0, 1], s=50, c='lightgreen', marker='s', edgecolor='black', label='cluster 1')\n",
    "ax.scatter(X[y_km == 1, 0], X[y_km == 1, 1], s=50, c='orange', marker='o', edgecolor='black', label='cluster 2')\n",
    "ax.scatter(X[y_km == 2, 0], X[y_km == 2, 1], s=50, c='lightblue', marker='v', edgecolor='black', label='cluster 3')\n",
    "ax.scatter(X[y_km == 3, 0], X[y_km == 3, 1], s=50, c='lightblue', marker='v', edgecolor='black', label='cluster 4')\n",
    "ax.scatter(X[y_km == 4, 0], X[y_km == 4, 1], s=50, c='lightblue', marker='v', edgecolor='black', label='cluster 5')\n",
    "ax.scatter(km.cluster_centers_[:, 0], km.cluster_centers_[:, 1], s=250, marker='*', c='red', edgecolor='black', \n",
    "            label='centroids')\n",
    "ax.legend(scatterpoints=1)\n",
    "ax.grid()"
   ]
  },
  {
   "cell_type": "markdown",
   "metadata": {
    "ExecuteTime": {
     "end_time": "2021-03-01T01:01:25.573413Z",
     "start_time": "2021-03-01T01:01:25.560474Z"
    }
   },
   "source": [
    "## Una manera mas inteligente de colocar los centroides con k-means++\n",
    "\n",
    "La idea central de este algoritmo es muy simple: inicializar los centroides de tal manera que queden lejos unos de otros. Su algoritmo se puede tomar de la siguiente manera:\n",
    "\n",
    "1. Inicializa un conjunto vacio **M** para almacenar los centroides *k* que han sido seleccionados.\n",
    "2. Aleatoriamente elige el primer centroide **$\\mu^{(i)}$** de las muestras de entrada y las asigna a **M**.\n",
    "3. Para cada muestra **$x^{(i)}$** que no esta en **M**, encuentra la distancia minima cuadratica $d(\\textbf{x}^{(i)}, \\textbf{M})^2$ hasta cada uno de los centroides en **M**.\n",
    "4. Para seleccionar aleatoriamente el siguiente centroide **$\\mu^{(p)}$**, utiliza una distribucion de probabilidad ponderada igual a $\\frac{d(\\textbf{x}^{(p)}, \\textbf{M})^2}{\\sum_i d(\\textbf{x}^{(i)}, \\textbf{M})^2}$.\n",
    "5. Repite los pasos 2 y 3 hasta elegir los *k* centroides.\n",
    "6. Sigue adelante con el algoritmo k-means clasico. "
   ]
  },
  {
   "cell_type": "code",
   "execution_count": 78,
   "metadata": {
    "ExecuteTime": {
     "end_time": "2021-03-02T01:19:58.439356Z",
     "start_time": "2021-03-02T01:19:58.398040Z"
    }
   },
   "outputs": [],
   "source": [
    "from sklearn.cluster import KMeans\n",
    "\n",
    "km = KMeans(n_clusters=3, init='k-means++', n_init=10, max_iter=300, tol=1e-04, random_state=0)\n",
    "# n_init realizara el algoritmo 10 veces con diferentes centroides. Se eligira el que tenga SSE mas bajo\n",
    "y_km = km.fit_predict(X)"
   ]
  },
  {
   "cell_type": "code",
   "execution_count": 79,
   "metadata": {
    "ExecuteTime": {
     "end_time": "2021-03-02T01:20:00.271729Z",
     "start_time": "2021-03-02T01:20:00.045687Z"
    }
   },
   "outputs": [
    {
     "data": {
      "image/png": "[encoded data removed]",
      "text/plain": [
       "<Figure size 576x432 with 1 Axes>"
      ]
     },
     "metadata": {
      "needs_background": "light"
     },
     "output_type": "display_data"
    }
   ],
   "source": [
    "fig, ax =plt.subplots(figsize = (8, 6))\n",
    "ax.scatter(X[y_km == 0, 0], X[y_km == 0, 1], s=50, c='lightgreen', marker='s', edgecolor='black', label='cluster 1')\n",
    "ax.scatter(X[y_km == 1, 0], X[y_km == 1, 1], s=50, c='orange', marker='o', edgecolor='black', label='cluster 2')\n",
    "ax.scatter(X[y_km == 2, 0], X[y_km == 2, 1], s=50, c='lightblue', marker='v', edgecolor='black', label='cluster 3')\n",
    "ax.scatter(km.cluster_centers_[:, 0], km.cluster_centers_[:, 1], s=250, marker='*', c='red', edgecolor='black', \n",
    "            label='centroids')\n",
    "ax.legend(scatterpoints=1)\n",
    "ax.grid()"
   ]
  },
  {
   "attachments": {
    "image.png": {
     "image/png": "[encoded data removed]"
    }
   },
   "cell_type": "markdown",
   "metadata": {
    "ExecuteTime": {
     "end_time": "2021-03-01T01:28:11.980478Z",
     "start_time": "2021-03-01T01:28:11.972499Z"
    }
   },
   "source": [
    "## Agrupamiento pesado frente a no pesado\n",
    "\n",
    "El agrupamiento pesado (***Hard Clustering***) se refiere a una familia de algoritmos en la cual cada muestra se asigna exactamente a un grupo, como lo hicimos con k-means antes. Por el contrario, los algortimos de agrupamiento no pesado (***Soft Clustering***), asignan una muestra a uno o mas grupos. Un ejemplo popular de este tipo de algortimos es el conocido como **fuzzy C-means (FCM): $J_m$**.\n",
    "\n",
    "Su funcionamiento es muy similar al algoritmo k-means, pero en vez de asignar punto a categorias, sustituimos con probabilidades de que cada punto pertenezca a cierta categoria. Por ejemplo, en k-means podriamos expresar el miembro del grupo de una muestra *x* con un vector disperso de valores binarios:\n",
    "\n",
    "![image.png](attachment:image.png)"
   ]
  },
  {
   "attachments": {
    "image.png": {
     "image/png": "[encoded data removed]"
    }
   },
   "cell_type": "markdown",
   "metadata": {},
   "source": [
    "La posicion del indice con el valor 1 indica el centroide del grupo **$\\mu^{(i)}$** al que se asigna la muestra (suponiendo que $k=3$, $j \\in \\{1,2,3\\}$. Por el contrario, un vector perteneciente al FCM podria ser representado con valores porbabilisticos en vez de valores absolutos:\n",
    "\n",
    "![image.png](attachment:image.png)"
   ]
  },
  {
   "attachments": {
    "image.png": {
     "image/png": "[encoded data removed]"
    }
   },
   "cell_type": "markdown",
   "metadata": {},
   "source": [
    "En este caso, cada valor cae en el rango $[0,1]$  y representa la probabilidad de pertenencia al grupo del respectivo centroide. La suma, por supuesto, es igual a 1 pues no existen mas grupos.\n",
    "\n",
    "El algoritmo se puede resumir en los siguientes pasos:\n",
    "1. Especificar el numero de centroides y, aleatoriamente, asignar los miembros del grupo para cada punto.\n",
    "2. Calcular los centroides del grupo $\\mu^{(j)}$, $j\\in \\{1, \\dots ,k\\}$\n",
    "3. Actualizar los miembros del grupo para cada punto. \n",
    "4. Repetir los pasos 2 y 3 hasta que los coeficientes de los iembros no cambien o hasta alcanzar la tolerancia definida por el ususario o el numero maximo de iteraciones.\n",
    "\n",
    "La funcion objetivo del FCM es la siguiente:\n",
    "\n",
    "![image.png](attachment:image.png)"
   ]
  },
  {
   "attachments": {
    "image.png": {
     "image/png": "[encoded data removed]"
    }
   },
   "cell_type": "markdown",
   "metadata": {},
   "source": [
    "sin embargo, cabe recordar que $w^{(i,j)}$ no pertenece a la clase binaria $(0,1)$, sino que representa valores probabilisticos pertenenecientes al intervalo $[0,1]$. Em valor de $m$ se conoce como coeficiente de difusion, y entre mas grande sea, menor probabilidad habra de pertenecer al grupo $w^{(i,j)}$.\n",
    "\n",
    "La probabilidad de pertenencia al grupo se calcula del siguiente modo:\n",
    "\n",
    "![image.png](attachment:image.png)"
   ]
  },
  {
   "attachments": {
    "image.png": {
     "image/png": "[encoded data removed]"
    }
   },
   "cell_type": "markdown",
   "metadata": {},
   "source": [
    "El centro $\\mu^{(j)}$ se calcula como sigue:\n",
    "\n",
    "![image.png](attachment:image.png)\n",
    "\n",
    "Despues de todo lo dicho, cabe mencionar que sklearn no implementa el algoritmo FCM; afortunadamente los resultados de FCM son muy similares a los del algoritmo k-means con k-means++."
   ]
  },
  {
   "cell_type": "markdown",
   "metadata": {},
   "source": [
    "<div class=\"burk\">\n",
    "EJERCICIO</div><i class=\"fa fa-lightbulb-o \"></i>\n",
    "\n",
    "Utilice al dataset del anterior ejercicio para realizar un agrupamiento de caracteristicas, pero esta vez utilice las tres ultimas columnas; para poder visualizar, realice previamente una extraccion de caracteristicas usando PCA para 2 componentes. Dado que es bastante util el escalamiento, aproveche para reducir sus lineas creando un pipeline con las tres operaciones: escalamiento, PCA, modelo k-means.\n",
    "\n",
    "Grafique sus resultados."
   ]
  },
  {
   "cell_type": "code",
   "execution_count": 43,
   "metadata": {
    "ExecuteTime": {
     "end_time": "2021-03-02T00:41:03.289451Z",
     "start_time": "2021-03-02T00:41:03.266139Z"
    }
   },
   "outputs": [
    {
     "data": {
      "text/plain": [
       "array([[ 19,  15,  39],\n",
       "       [ 21,  15,  81],\n",
       "       [ 20,  16,   6],\n",
       "       [ 23,  16,  77],\n",
       "       [ 31,  17,  40],\n",
       "       [ 22,  17,  76],\n",
       "       [ 35,  18,   6],\n",
       "       [ 23,  18,  94],\n",
       "       [ 64,  19,   3],\n",
       "       [ 30,  19,  72],\n",
       "       [ 67,  19,  14],\n",
       "       [ 35,  19,  99],\n",
       "       [ 58,  20,  15],\n",
       "       [ 24,  20,  77],\n",
       "       [ 37,  20,  13],\n",
       "       [ 22,  20,  79],\n",
       "       [ 35,  21,  35],\n",
       "       [ 20,  21,  66],\n",
       "       [ 52,  23,  29],\n",
       "       [ 35,  23,  98],\n",
       "       [ 35,  24,  35],\n",
       "       [ 25,  24,  73],\n",
       "       [ 46,  25,   5],\n",
       "       [ 31,  25,  73],\n",
       "       [ 54,  28,  14],\n",
       "       [ 29,  28,  82],\n",
       "       [ 45,  28,  32],\n",
       "       [ 35,  28,  61],\n",
       "       [ 40,  29,  31],\n",
       "       [ 23,  29,  87],\n",
       "       [ 60,  30,   4],\n",
       "       [ 21,  30,  73],\n",
       "       [ 53,  33,   4],\n",
       "       [ 18,  33,  92],\n",
       "       [ 49,  33,  14],\n",
       "       [ 21,  33,  81],\n",
       "       [ 42,  34,  17],\n",
       "       [ 30,  34,  73],\n",
       "       [ 36,  37,  26],\n",
       "       [ 20,  37,  75],\n",
       "       [ 65,  38,  35],\n",
       "       [ 24,  38,  92],\n",
       "       [ 48,  39,  36],\n",
       "       [ 31,  39,  61],\n",
       "       [ 49,  39,  28],\n",
       "       [ 24,  39,  65],\n",
       "       [ 50,  40,  55],\n",
       "       [ 27,  40,  47],\n",
       "       [ 29,  40,  42],\n",
       "       [ 31,  40,  42],\n",
       "       [ 49,  42,  52],\n",
       "       [ 33,  42,  60],\n",
       "       [ 31,  43,  54],\n",
       "       [ 59,  43,  60],\n",
       "       [ 50,  43,  45],\n",
       "       [ 47,  43,  41],\n",
       "       [ 51,  44,  50],\n",
       "       [ 69,  44,  46],\n",
       "       [ 27,  46,  51],\n",
       "       [ 53,  46,  46],\n",
       "       [ 70,  46,  56],\n",
       "       [ 19,  46,  55],\n",
       "       [ 67,  47,  52],\n",
       "       [ 54,  47,  59],\n",
       "       [ 63,  48,  51],\n",
       "       [ 18,  48,  59],\n",
       "       [ 43,  48,  50],\n",
       "       [ 68,  48,  48],\n",
       "       [ 19,  48,  59],\n",
       "       [ 32,  48,  47],\n",
       "       [ 70,  49,  55],\n",
       "       [ 47,  49,  42],\n",
       "       [ 60,  50,  49],\n",
       "       [ 60,  50,  56],\n",
       "       [ 59,  54,  47],\n",
       "       [ 26,  54,  54],\n",
       "       [ 45,  54,  53],\n",
       "       [ 40,  54,  48],\n",
       "       [ 23,  54,  52],\n",
       "       [ 49,  54,  42],\n",
       "       [ 57,  54,  51],\n",
       "       [ 38,  54,  55],\n",
       "       [ 67,  54,  41],\n",
       "       [ 46,  54,  44],\n",
       "       [ 21,  54,  57],\n",
       "       [ 48,  54,  46],\n",
       "       [ 55,  57,  58],\n",
       "       [ 22,  57,  55],\n",
       "       [ 34,  58,  60],\n",
       "       [ 50,  58,  46],\n",
       "       [ 68,  59,  55],\n",
       "       [ 18,  59,  41],\n",
       "       [ 48,  60,  49],\n",
       "       [ 40,  60,  40],\n",
       "       [ 32,  60,  42],\n",
       "       [ 24,  60,  52],\n",
       "       [ 47,  60,  47],\n",
       "       [ 27,  60,  50],\n",
       "       [ 48,  61,  42],\n",
       "       [ 20,  61,  49],\n",
       "       [ 23,  62,  41],\n",
       "       [ 49,  62,  48],\n",
       "       [ 67,  62,  59],\n",
       "       [ 26,  62,  55],\n",
       "       [ 49,  62,  56],\n",
       "       [ 21,  62,  42],\n",
       "       [ 66,  63,  50],\n",
       "       [ 54,  63,  46],\n",
       "       [ 68,  63,  43],\n",
       "       [ 66,  63,  48],\n",
       "       [ 65,  63,  52],\n",
       "       [ 19,  63,  54],\n",
       "       [ 38,  64,  42],\n",
       "       [ 19,  64,  46],\n",
       "       [ 18,  65,  48],\n",
       "       [ 19,  65,  50],\n",
       "       [ 63,  65,  43],\n",
       "       [ 49,  65,  59],\n",
       "       [ 51,  67,  43],\n",
       "       [ 50,  67,  57],\n",
       "       [ 27,  67,  56],\n",
       "       [ 38,  67,  40],\n",
       "       [ 40,  69,  58],\n",
       "       [ 39,  69,  91],\n",
       "       [ 23,  70,  29],\n",
       "       [ 31,  70,  77],\n",
       "       [ 43,  71,  35],\n",
       "       [ 40,  71,  95],\n",
       "       [ 59,  71,  11],\n",
       "       [ 38,  71,  75],\n",
       "       [ 47,  71,   9],\n",
       "       [ 39,  71,  75],\n",
       "       [ 25,  72,  34],\n",
       "       [ 31,  72,  71],\n",
       "       [ 20,  73,   5],\n",
       "       [ 29,  73,  88],\n",
       "       [ 44,  73,   7],\n",
       "       [ 32,  73,  73],\n",
       "       [ 19,  74,  10],\n",
       "       [ 35,  74,  72],\n",
       "       [ 57,  75,   5],\n",
       "       [ 32,  75,  93],\n",
       "       [ 28,  76,  40],\n",
       "       [ 32,  76,  87],\n",
       "       [ 25,  77,  12],\n",
       "       [ 28,  77,  97],\n",
       "       [ 48,  77,  36],\n",
       "       [ 32,  77,  74],\n",
       "       [ 34,  78,  22],\n",
       "       [ 34,  78,  90],\n",
       "       [ 43,  78,  17],\n",
       "       [ 39,  78,  88],\n",
       "       [ 44,  78,  20],\n",
       "       [ 38,  78,  76],\n",
       "       [ 47,  78,  16],\n",
       "       [ 27,  78,  89],\n",
       "       [ 37,  78,   1],\n",
       "       [ 30,  78,  78],\n",
       "       [ 34,  78,   1],\n",
       "       [ 30,  78,  73],\n",
       "       [ 56,  79,  35],\n",
       "       [ 29,  79,  83],\n",
       "       [ 19,  81,   5],\n",
       "       [ 31,  81,  93],\n",
       "       [ 50,  85,  26],\n",
       "       [ 36,  85,  75],\n",
       "       [ 42,  86,  20],\n",
       "       [ 33,  86,  95],\n",
       "       [ 36,  87,  27],\n",
       "       [ 32,  87,  63],\n",
       "       [ 40,  87,  13],\n",
       "       [ 28,  87,  75],\n",
       "       [ 36,  87,  10],\n",
       "       [ 36,  87,  92],\n",
       "       [ 52,  88,  13],\n",
       "       [ 30,  88,  86],\n",
       "       [ 58,  88,  15],\n",
       "       [ 27,  88,  69],\n",
       "       [ 59,  93,  14],\n",
       "       [ 35,  93,  90],\n",
       "       [ 37,  97,  32],\n",
       "       [ 32,  97,  86],\n",
       "       [ 46,  98,  15],\n",
       "       [ 29,  98,  88],\n",
       "       [ 41,  99,  39],\n",
       "       [ 30,  99,  97],\n",
       "       [ 54, 101,  24],\n",
       "       [ 28, 101,  68],\n",
       "       [ 41, 103,  17],\n",
       "       [ 36, 103,  85],\n",
       "       [ 34, 103,  23],\n",
       "       [ 32, 103,  69],\n",
       "       [ 33, 113,   8],\n",
       "       [ 38, 113,  91],\n",
       "       [ 47, 120,  16],\n",
       "       [ 35, 120,  79],\n",
       "       [ 45, 126,  28],\n",
       "       [ 32, 126,  74],\n",
       "       [ 32, 137,  18],\n",
       "       [ 30, 137,  83]], dtype=int64)"
      ]
     },
     "execution_count": 43,
     "metadata": {},
     "output_type": "execute_result"
    }
   ],
   "source": [
    "df = pd.read_csv('Mall_Customers.csv')\n",
    "df\n",
    "X=df.iloc[:,[2,3,4]].values\n",
    "X"
   ]
  },
  {
   "cell_type": "code",
   "execution_count": 66,
   "metadata": {
    "ExecuteTime": {
     "end_time": "2021-03-02T01:17:46.565919Z",
     "start_time": "2021-03-02T01:17:46.495488Z"
    }
   },
   "outputs": [],
   "source": [
    "from sklearn.preprocessing import StandardScaler\n",
    "from sklearn.pipeline import make_pipeline\n",
    "from sklearn.svm import SVC\n",
    "from sklearn.decomposition import PCA\n",
    "pipe_rfc = make_pipeline(StandardScaler(), PCA(n_components = 2),KMeans(n_clusters=3, init='k-means++', n_init=10, max_iter=300, tol=1e-04, random_state=0))\n",
    "y_km =pipe_rfc.fit_predict(X)\n",
    "y_km\n",
    "X_m=pipe_rfc.transform(X)"
   ]
  },
  {
   "cell_type": "code",
   "execution_count": 67,
   "metadata": {
    "ExecuteTime": {
     "end_time": "2021-03-02T01:17:48.525280Z",
     "start_time": "2021-03-02T01:17:48.246525Z"
    }
   },
   "outputs": [
    {
     "data": {
      "image/png": "[encoded data removed]",
      "text/plain": [
       "<Figure size 576x432 with 1 Axes>"
      ]
     },
     "metadata": {
      "needs_background": "light"
     },
     "output_type": "display_data"
    }
   ],
   "source": [
    "fig, ax =plt.subplots(figsize = (8, 6))\n",
    "ax.scatter(X_m[y_km == 0, 0], X_m[y_km == 0, 1], s=50, c='lightgreen', marker='s', edgecolor='black', label='cluster 1')\n",
    "ax.scatter(X_m[y_km == 1, 0], X_m[y_km == 1, 1], s=50, c='orange', marker='o', edgecolor='black', label='cluster 2')\n",
    "ax.scatter(X_m[y_km == 2, 0], X_m[y_km == 2, 1], s=50, c='lightblue', marker='v', edgecolor='black', label='cluster 3')\n",
    "ax.scatter(X_m[y_km == 3, 0], X_m[y_km == 3, 1], s=50, c='red', marker='v', edgecolor='black', label='cluster 4')\n",
    "ax.scatter(X_m[y_km == 4, 0], X_m[y_km == 4, 1], s=50, c='black', marker='p', edgecolor='black', label='cluster 5')\n",
    "#ax.scatter(pipe_rfc.cluster_centers_[:, 0], pipe_rfc.cluster_centers_[:, 1], s=250, marker='*', c='red', edgecolor='black', \n",
    "            #label='centroids')\n",
    "ax.legend(scatterpoints=1)\n",
    "ax.grid()"
   ]
  },
  {
   "cell_type": "markdown",
   "metadata": {},
   "source": [
    "## Encontrar el numero optimo de grupos: metodo Elbow\n",
    "\n",
    "Una de las dificultades del aprendizaje no supervisado, es el evaluar el rendimiento del algoritmo ya que no poseemos etiquetas de referencia para comparar, y no sabemos que tan bien lo esta haciendo el modelo. Una de las posibilidades que tenemos para abarcar este problema es la medida *SSE* que hemos venido utilizando, el cual puede ser obtenido desde el mismo algoritmo con el parametro `inertia_`:"
   ]
  },
  {
   "cell_type": "code",
   "execution_count": 80,
   "metadata": {
    "ExecuteTime": {
     "end_time": "2021-03-02T01:20:08.402212Z",
     "start_time": "2021-03-02T01:20:08.397240Z"
    }
   },
   "outputs": [
    {
     "name": "stdout",
     "output_type": "stream",
     "text": [
      "Distorsion: 72.47601670996696\n"
     ]
    }
   ],
   "source": [
    "print(f'Distorsion: {km.inertia_}')"
   ]
  },
  {
   "cell_type": "markdown",
   "metadata": {},
   "source": [
    "Basando en el valor *SSE*, podemos evaluar el numero optimo de grupos, considerando el siguiente hecho: Mientras mas grupos haya, menor sera el SSE. Si calculamos el *SSE* para diferentes valores de *k*, podemos graficar *SSE* vs *k* y asi saber cual es la mejor opcion."
   ]
  },
  {
   "cell_type": "code",
   "execution_count": 81,
   "metadata": {
    "ExecuteTime": {
     "end_time": "2021-03-02T01:20:11.301295Z",
     "start_time": "2021-03-02T01:20:10.374650Z"
    }
   },
   "outputs": [
    {
     "data": {
      "image/png": "[encoded data removed]",
      "text/plain": [
       "<Figure size 432x288 with 1 Axes>"
      ]
     },
     "metadata": {
      "needs_background": "light"
     },
     "output_type": "display_data"
    }
   ],
   "source": [
    "distortions = []\n",
    "for i in range(1, 11):\n",
    "    km = KMeans(n_clusters=i, init='k-means++', n_init=10, max_iter=300)\n",
    "    km.fit(X)\n",
    "    distortions.append(km.inertia_)\n",
    "\n",
    "fig, ax = plt.subplots()    \n",
    "ax.plot(range(1,11), distortions, marker='o')\n",
    "ax.set_xlabel('Numero de clusters')\n",
    "ax.set_ylabel('Distorsion')\n",
    "ax.set_xticks(range(1, 11));"
   ]
  },
  {
   "cell_type": "markdown",
   "metadata": {},
   "source": [
    "El truco esta en tomar el valor de *k* para el cual la distorsion empieza a cambiar rapidamente; de nuestro resultado, se puede observar que *k=3* es una buena eleccion de grupos."
   ]
  },
  {
   "attachments": {
    "image.png": {
     "image/png": "[encoded data removed]"
    }
   },
   "cell_type": "markdown",
   "metadata": {},
   "source": [
    "## Cuantificar la calidad de la agrupacion mediante los graficos de silueta\n",
    "\n",
    "Esta tecnica funciona con diversos algoritmos de agrupamiento; para calcular el ***coeficiente de silueta*** de una muestra unica, podemos seguir los siguientes pasos:\n",
    "1. Calcular la **cohesion del grupo** $a^{(i)}$ como la distancia media entre una muestra **$x^{(i)}$ y el resto de puntos en el mismo grupo.\n",
    "2. Calcular la **separacion de grupo** $b^{(i)}$ a partir del grupo mas cercano como la distancia media entre la muestra **$x^{(i)}$** y todas las muestras en el grupo mas cercano.\n",
    "3. Calcular la silueta $s^{(i)}$ con la diferencia entre la cohesion y la separacion del grupo dividida por el mas grande de los dos:\n",
    "![image.png](attachment:image.png)\n",
    "\n",
    "El valor del coeficiente de silueta esta entre -1 y 1. "
   ]
  },
  {
   "cell_type": "code",
   "execution_count": 82,
   "metadata": {
    "ExecuteTime": {
     "end_time": "2021-03-02T01:20:14.852207Z",
     "start_time": "2021-03-02T01:20:14.810545Z"
    }
   },
   "outputs": [],
   "source": [
    "import numpy as np\n",
    "from matplotlib import cm\n",
    "from sklearn.metrics import silhouette_samples\n",
    "\n",
    "km = KMeans(n_clusters=3, init='k-means++', n_init=10, max_iter=300, tol=1e-04)\n",
    "y_km = km.fit_predict(X)\n",
    "\n",
    "cluster_labels = np.unique(y_km)\n",
    "# Etiquetas dadas a los clusters por k-means\n",
    "\n",
    "n_clusters = cluster_labels.shape[0]\n",
    "# Cantidad de clusters\n",
    "\n",
    "silhouette_vals = silhouette_samples(X, y_km, metric='euclidean')\n",
    "# se obtendra un valor por cad muestra, es decir, la misma cantidad de elementos que filas en X\n",
    "\n",
    "#silhouette_vals"
   ]
  },
  {
   "cell_type": "code",
   "execution_count": 83,
   "metadata": {
    "ExecuteTime": {
     "end_time": "2021-03-02T01:20:17.655418Z",
     "start_time": "2021-03-02T01:20:17.213979Z"
    }
   },
   "outputs": [
    {
     "data": {
      "image/png": "[encoded data removed]",
      "text/plain": [
       "<Figure size 432x288 with 1 Axes>"
      ]
     },
     "metadata": {
      "needs_background": "light"
     },
     "output_type": "display_data"
    }
   ],
   "source": [
    "y_ax_lower, y_ax_upper = 0, 0\n",
    "yticks = []\n",
    "\n",
    "for i, c in enumerate(cluster_labels):\n",
    "    c_silhouette_vals = silhouette_vals[y_km == c]\n",
    "    c_silhouette_vals.sort()\n",
    "    \n",
    "    y_ax_upper += len(c_silhouette_vals)\n",
    "    color = ['turquoise', 'slateblue', 'coral']\n",
    "    \n",
    "    plt.barh(range(y_ax_lower, y_ax_upper), c_silhouette_vals, height=1.0, edgecolor='none', color=color[i])\n",
    "\n",
    "    yticks.append((y_ax_lower + y_ax_upper) / 2.)\n",
    "    y_ax_lower += len(c_silhouette_vals)\n",
    "    \n",
    "silhouette_avg = np.mean(silhouette_vals)\n",
    "plt.axvline(silhouette_avg, color=\"red\", linestyle=\"--\") \n",
    "\n",
    "plt.yticks(yticks, cluster_labels + 1)\n",
    "plt.ylabel('Cluster')\n",
    "plt.xlabel('Silhouette coefficient')\n",
    "\n",
    "plt.tight_layout()\n",
    "plt.show()\n",
    "\n"
   ]
  },
  {
   "cell_type": "markdown",
   "metadata": {
    "ExecuteTime": {
     "end_time": "2021-03-01T21:58:36.769973Z",
     "start_time": "2021-03-01T21:58:36.764982Z"
    }
   },
   "source": [
    "Para que se entienda el resultado, debemos tener encuenta que el valor maximo es de 1; entre mas cercano estemos de 1, para un color en particular, podemos decir que la muestra correspondiente esta bien emparejada cono los elementos de su grupo, y mal emparejada con los miembros de otros grupos. Si la mayoría de los objetos tienen un valor alto, entonces la configuración del grupo es apropiada. Si muchos puntos tienen un valor bajo o negativo, entonces la configuración de grupo puede tener demasiados o muy pocos grupos. "
   ]
  },
  {
   "cell_type": "code",
   "execution_count": 84,
   "metadata": {
    "ExecuteTime": {
     "end_time": "2021-03-02T01:20:20.066349Z",
     "start_time": "2021-03-02T01:20:19.790078Z"
    }
   },
   "outputs": [
    {
     "data": {
      "image/png": "[encoded data removed]",
      "text/plain": [
       "<Figure size 432x288 with 1 Axes>"
      ]
     },
     "metadata": {
      "needs_background": "light"
     },
     "output_type": "display_data"
    }
   ],
   "source": [
    "# Un grupo mal clasificado\n",
    "km = KMeans(n_clusters=2, init='k-means++', n_init=10, max_iter=300, tol=1e-04)\n",
    "y_km = km.fit_predict(X)\n",
    "\n",
    "plt.scatter(X[y_km == 0, 0], X[y_km == 0, 1], s=50, c='lightgreen', edgecolor='black', marker='s', label='cluster 1')\n",
    "plt.scatter(X[y_km == 1, 0], X[y_km == 1, 1], s=50, c='orange', edgecolor='black', marker='o', label='cluster 2')\n",
    "\n",
    "plt.scatter(km.cluster_centers_[:, 0], km.cluster_centers_[:, 1], s=250, marker='*', c='red', label='centroids')\n",
    "plt.legend()\n",
    "plt.grid()\n",
    "plt.tight_layout()\n",
    "plt.show()"
   ]
  },
  {
   "cell_type": "code",
   "execution_count": 86,
   "metadata": {
    "ExecuteTime": {
     "end_time": "2021-03-02T01:20:23.203392Z",
     "start_time": "2021-03-02T01:20:22.631998Z"
    },
    "run_control": {
     "marked": true
    }
   },
   "outputs": [
    {
     "data": {
      "image/png": "[encoded data removed]",
      "text/plain": [
       "<Figure size 432x288 with 1 Axes>"
      ]
     },
     "metadata": {
      "needs_background": "light"
     },
     "output_type": "display_data"
    }
   ],
   "source": [
    "cluster_labels = np.unique(y_km)\n",
    "n_clusters = cluster_labels.shape[0]\n",
    "silhouette_vals = silhouette_samples(X, y_km, metric='euclidean')\n",
    "y_ax_lower, y_ax_upper = 0, 0\n",
    "yticks = []\n",
    "for i, c in enumerate(cluster_labels):\n",
    "    c_silhouette_vals = silhouette_vals[y_km == c]\n",
    "    c_silhouette_vals.sort()\n",
    "    y_ax_upper += len(c_silhouette_vals)\n",
    "    \n",
    "    plt.barh(range(y_ax_lower, y_ax_upper), c_silhouette_vals, height=1.0, edgecolor='none', color=color[i])\n",
    "    color = ['turquoise', 'slateblue']\n",
    "    yticks.append((y_ax_lower + y_ax_upper) / 2.)\n",
    "    y_ax_lower += len(c_silhouette_vals)\n",
    "    \n",
    "silhouette_avg = np.mean(silhouette_vals)\n",
    "plt.axvline(silhouette_avg, color=\"red\", linestyle=\"--\") \n",
    "\n",
    "plt.yticks(yticks, cluster_labels + 1)\n",
    "plt.ylabel('Cluster')\n",
    "plt.xlabel('Silhouette coefficient')\n",
    "\n",
    "plt.tight_layout()\n",
    "plt.show()"
   ]
  },
  {
   "cell_type": "markdown",
   "metadata": {},
   "source": [
    "<div class=\"burk\">\n",
    "EJERCICIO\n",
    "</div><i class=\"fa fa-lightbulb-o \"></i>\n",
    "\n",
    " Con el conjunto de datos del ejercicio anterior, construya un diagrama *Elbow* para estimar cual es el valor *k* mas adecuado. Cree un modelo con ese valor de  *k* y grafique un diagrama de siluetas para verificar la bondad de su agrupamiento. "
   ]
  },
  {
   "cell_type": "code",
   "execution_count": 95,
   "metadata": {
    "ExecuteTime": {
     "end_time": "2021-03-02T01:28:46.564003Z",
     "start_time": "2021-03-02T01:28:46.546646Z"
    },
    "run_control": {
     "marked": true
    }
   },
   "outputs": [
    {
     "data": {
      "text/plain": [
       "array([[ 19,  15,  39],\n",
       "       [ 21,  15,  81],\n",
       "       [ 20,  16,   6],\n",
       "       [ 23,  16,  77],\n",
       "       [ 31,  17,  40],\n",
       "       [ 22,  17,  76],\n",
       "       [ 35,  18,   6],\n",
       "       [ 23,  18,  94],\n",
       "       [ 64,  19,   3],\n",
       "       [ 30,  19,  72],\n",
       "       [ 67,  19,  14],\n",
       "       [ 35,  19,  99],\n",
       "       [ 58,  20,  15],\n",
       "       [ 24,  20,  77],\n",
       "       [ 37,  20,  13],\n",
       "       [ 22,  20,  79],\n",
       "       [ 35,  21,  35],\n",
       "       [ 20,  21,  66],\n",
       "       [ 52,  23,  29],\n",
       "       [ 35,  23,  98],\n",
       "       [ 35,  24,  35],\n",
       "       [ 25,  24,  73],\n",
       "       [ 46,  25,   5],\n",
       "       [ 31,  25,  73],\n",
       "       [ 54,  28,  14],\n",
       "       [ 29,  28,  82],\n",
       "       [ 45,  28,  32],\n",
       "       [ 35,  28,  61],\n",
       "       [ 40,  29,  31],\n",
       "       [ 23,  29,  87],\n",
       "       [ 60,  30,   4],\n",
       "       [ 21,  30,  73],\n",
       "       [ 53,  33,   4],\n",
       "       [ 18,  33,  92],\n",
       "       [ 49,  33,  14],\n",
       "       [ 21,  33,  81],\n",
       "       [ 42,  34,  17],\n",
       "       [ 30,  34,  73],\n",
       "       [ 36,  37,  26],\n",
       "       [ 20,  37,  75],\n",
       "       [ 65,  38,  35],\n",
       "       [ 24,  38,  92],\n",
       "       [ 48,  39,  36],\n",
       "       [ 31,  39,  61],\n",
       "       [ 49,  39,  28],\n",
       "       [ 24,  39,  65],\n",
       "       [ 50,  40,  55],\n",
       "       [ 27,  40,  47],\n",
       "       [ 29,  40,  42],\n",
       "       [ 31,  40,  42],\n",
       "       [ 49,  42,  52],\n",
       "       [ 33,  42,  60],\n",
       "       [ 31,  43,  54],\n",
       "       [ 59,  43,  60],\n",
       "       [ 50,  43,  45],\n",
       "       [ 47,  43,  41],\n",
       "       [ 51,  44,  50],\n",
       "       [ 69,  44,  46],\n",
       "       [ 27,  46,  51],\n",
       "       [ 53,  46,  46],\n",
       "       [ 70,  46,  56],\n",
       "       [ 19,  46,  55],\n",
       "       [ 67,  47,  52],\n",
       "       [ 54,  47,  59],\n",
       "       [ 63,  48,  51],\n",
       "       [ 18,  48,  59],\n",
       "       [ 43,  48,  50],\n",
       "       [ 68,  48,  48],\n",
       "       [ 19,  48,  59],\n",
       "       [ 32,  48,  47],\n",
       "       [ 70,  49,  55],\n",
       "       [ 47,  49,  42],\n",
       "       [ 60,  50,  49],\n",
       "       [ 60,  50,  56],\n",
       "       [ 59,  54,  47],\n",
       "       [ 26,  54,  54],\n",
       "       [ 45,  54,  53],\n",
       "       [ 40,  54,  48],\n",
       "       [ 23,  54,  52],\n",
       "       [ 49,  54,  42],\n",
       "       [ 57,  54,  51],\n",
       "       [ 38,  54,  55],\n",
       "       [ 67,  54,  41],\n",
       "       [ 46,  54,  44],\n",
       "       [ 21,  54,  57],\n",
       "       [ 48,  54,  46],\n",
       "       [ 55,  57,  58],\n",
       "       [ 22,  57,  55],\n",
       "       [ 34,  58,  60],\n",
       "       [ 50,  58,  46],\n",
       "       [ 68,  59,  55],\n",
       "       [ 18,  59,  41],\n",
       "       [ 48,  60,  49],\n",
       "       [ 40,  60,  40],\n",
       "       [ 32,  60,  42],\n",
       "       [ 24,  60,  52],\n",
       "       [ 47,  60,  47],\n",
       "       [ 27,  60,  50],\n",
       "       [ 48,  61,  42],\n",
       "       [ 20,  61,  49],\n",
       "       [ 23,  62,  41],\n",
       "       [ 49,  62,  48],\n",
       "       [ 67,  62,  59],\n",
       "       [ 26,  62,  55],\n",
       "       [ 49,  62,  56],\n",
       "       [ 21,  62,  42],\n",
       "       [ 66,  63,  50],\n",
       "       [ 54,  63,  46],\n",
       "       [ 68,  63,  43],\n",
       "       [ 66,  63,  48],\n",
       "       [ 65,  63,  52],\n",
       "       [ 19,  63,  54],\n",
       "       [ 38,  64,  42],\n",
       "       [ 19,  64,  46],\n",
       "       [ 18,  65,  48],\n",
       "       [ 19,  65,  50],\n",
       "       [ 63,  65,  43],\n",
       "       [ 49,  65,  59],\n",
       "       [ 51,  67,  43],\n",
       "       [ 50,  67,  57],\n",
       "       [ 27,  67,  56],\n",
       "       [ 38,  67,  40],\n",
       "       [ 40,  69,  58],\n",
       "       [ 39,  69,  91],\n",
       "       [ 23,  70,  29],\n",
       "       [ 31,  70,  77],\n",
       "       [ 43,  71,  35],\n",
       "       [ 40,  71,  95],\n",
       "       [ 59,  71,  11],\n",
       "       [ 38,  71,  75],\n",
       "       [ 47,  71,   9],\n",
       "       [ 39,  71,  75],\n",
       "       [ 25,  72,  34],\n",
       "       [ 31,  72,  71],\n",
       "       [ 20,  73,   5],\n",
       "       [ 29,  73,  88],\n",
       "       [ 44,  73,   7],\n",
       "       [ 32,  73,  73],\n",
       "       [ 19,  74,  10],\n",
       "       [ 35,  74,  72],\n",
       "       [ 57,  75,   5],\n",
       "       [ 32,  75,  93],\n",
       "       [ 28,  76,  40],\n",
       "       [ 32,  76,  87],\n",
       "       [ 25,  77,  12],\n",
       "       [ 28,  77,  97],\n",
       "       [ 48,  77,  36],\n",
       "       [ 32,  77,  74],\n",
       "       [ 34,  78,  22],\n",
       "       [ 34,  78,  90],\n",
       "       [ 43,  78,  17],\n",
       "       [ 39,  78,  88],\n",
       "       [ 44,  78,  20],\n",
       "       [ 38,  78,  76],\n",
       "       [ 47,  78,  16],\n",
       "       [ 27,  78,  89],\n",
       "       [ 37,  78,   1],\n",
       "       [ 30,  78,  78],\n",
       "       [ 34,  78,   1],\n",
       "       [ 30,  78,  73],\n",
       "       [ 56,  79,  35],\n",
       "       [ 29,  79,  83],\n",
       "       [ 19,  81,   5],\n",
       "       [ 31,  81,  93],\n",
       "       [ 50,  85,  26],\n",
       "       [ 36,  85,  75],\n",
       "       [ 42,  86,  20],\n",
       "       [ 33,  86,  95],\n",
       "       [ 36,  87,  27],\n",
       "       [ 32,  87,  63],\n",
       "       [ 40,  87,  13],\n",
       "       [ 28,  87,  75],\n",
       "       [ 36,  87,  10],\n",
       "       [ 36,  87,  92],\n",
       "       [ 52,  88,  13],\n",
       "       [ 30,  88,  86],\n",
       "       [ 58,  88,  15],\n",
       "       [ 27,  88,  69],\n",
       "       [ 59,  93,  14],\n",
       "       [ 35,  93,  90],\n",
       "       [ 37,  97,  32],\n",
       "       [ 32,  97,  86],\n",
       "       [ 46,  98,  15],\n",
       "       [ 29,  98,  88],\n",
       "       [ 41,  99,  39],\n",
       "       [ 30,  99,  97],\n",
       "       [ 54, 101,  24],\n",
       "       [ 28, 101,  68],\n",
       "       [ 41, 103,  17],\n",
       "       [ 36, 103,  85],\n",
       "       [ 34, 103,  23],\n",
       "       [ 32, 103,  69],\n",
       "       [ 33, 113,   8],\n",
       "       [ 38, 113,  91],\n",
       "       [ 47, 120,  16],\n",
       "       [ 35, 120,  79],\n",
       "       [ 45, 126,  28],\n",
       "       [ 32, 126,  74],\n",
       "       [ 32, 137,  18],\n",
       "       [ 30, 137,  83]], dtype=int64)"
      ]
     },
     "execution_count": 95,
     "metadata": {},
     "output_type": "execute_result"
    }
   ],
   "source": [
    "import pandas as pd\n",
    "\n",
    "df = pd.read_csv('Mall_Customers.csv')\n",
    "X=df.iloc[:,[2,3,4]].values\n",
    "X"
   ]
  },
  {
   "cell_type": "code",
   "execution_count": 98,
   "metadata": {
    "ExecuteTime": {
     "end_time": "2021-03-02T01:29:18.431351Z",
     "start_time": "2021-03-02T01:29:18.381781Z"
    }
   },
   "outputs": [
    {
     "data": {
      "text/plain": [
       "array([0, 3, 0, 3, 0, 3, 0, 3, 0, 3, 0, 3, 0, 3, 0, 3, 0, 3, 0, 3, 0, 3,\n",
       "       0, 3, 0, 3, 0, 3, 0, 3, 0, 3, 0, 3, 0, 3, 0, 3, 0, 3, 0, 3, 0, 4,\n",
       "       0, 3, 4, 4, 4, 4, 4, 4, 4, 4, 4, 4, 4, 4, 4, 4, 4, 4, 4, 4, 4, 4,\n",
       "       4, 4, 4, 4, 4, 4, 4, 4, 4, 4, 4, 4, 4, 4, 4, 4, 4, 4, 4, 4, 4, 4,\n",
       "       4, 4, 4, 4, 4, 4, 4, 4, 4, 4, 4, 4, 4, 4, 4, 4, 4, 4, 4, 4, 4, 4,\n",
       "       4, 4, 4, 4, 4, 4, 4, 4, 4, 4, 4, 4, 4, 2, 1, 2, 4, 2, 1, 2, 1, 2,\n",
       "       1, 2, 1, 2, 1, 2, 1, 2, 1, 2, 1, 2, 1, 2, 1, 2, 1, 2, 1, 2, 1, 2,\n",
       "       1, 2, 1, 2, 1, 2, 1, 2, 1, 2, 1, 2, 1, 2, 1, 2, 1, 2, 1, 2, 1, 2,\n",
       "       1, 2, 1, 2, 1, 2, 1, 2, 1, 2, 1, 2, 1, 2, 1, 2, 1, 2, 1, 2, 1, 2,\n",
       "       1, 2])"
      ]
     },
     "execution_count": 98,
     "metadata": {},
     "output_type": "execute_result"
    }
   ],
   "source": [
    "from sklearn.cluster import KMeans\n",
    "\n",
    "km = KMeans(n_clusters=5, init='random', max_iter=300, tol=1e-04, random_state=0)\n",
    "# n_init realizara el algoritmo 10 veces con diferentes centroides. Se eligira el que tenga SSE mas bajo\n",
    "y_km = km.fit_predict(X)\n",
    "y_km"
   ]
  },
  {
   "cell_type": "code",
   "execution_count": 99,
   "metadata": {
    "ExecuteTime": {
     "end_time": "2021-03-02T01:29:20.856108Z",
     "start_time": "2021-03-02T01:29:20.850652Z"
    }
   },
   "outputs": [
    {
     "name": "stdout",
     "output_type": "stream",
     "text": [
      "Distorsion: 75378.76464074482\n"
     ]
    }
   ],
   "source": [
    "print(f'Distorsion: {km.inertia_}')"
   ]
  },
  {
   "cell_type": "code",
   "execution_count": 100,
   "metadata": {
    "ExecuteTime": {
     "end_time": "2021-03-02T01:29:52.490429Z",
     "start_time": "2021-03-02T01:29:51.371948Z"
    }
   },
   "outputs": [
    {
     "data": {
      "image/png": "[encoded data removed]",
      "text/plain": [
       "<Figure size 432x288 with 1 Axes>"
      ]
     },
     "metadata": {
      "needs_background": "light"
     },
     "output_type": "display_data"
    }
   ],
   "source": [
    "distortions = []\n",
    "for i in range(1, 11):\n",
    "    km = KMeans(n_clusters=i, init='k-means++', n_init=10, max_iter=300)\n",
    "    km.fit(X)\n",
    "    distortions.append(km.inertia_)\n",
    "\n",
    "fig, ax = plt.subplots()    \n",
    "ax.plot(range(1,11), distortions, marker='o')\n",
    "ax.set_xlabel('Numero de clusters')\n",
    "ax.set_ylabel('Distorsion')\n",
    "ax.set_xticks(range(1, 11));"
   ]
  },
  {
   "cell_type": "code",
   "execution_count": 105,
   "metadata": {
    "ExecuteTime": {
     "end_time": "2021-03-02T01:31:42.471885Z",
     "start_time": "2021-03-02T01:31:42.380126Z"
    }
   },
   "outputs": [],
   "source": [
    "import numpy as np\n",
    "from matplotlib import cm\n",
    "from sklearn.metrics import silhouette_samples\n",
    "\n",
    "km = KMeans(n_clusters=6, init='k-means++', max_iter=300, tol=1e-04)\n",
    "y_km = km.fit_predict(X)\n",
    "\n",
    "cluster_labels = np.unique(y_km)\n",
    "# Etiquetas dadas a los clusters por k-means\n",
    "\n",
    "n_clusters = cluster_labels.shape[0]\n",
    "# Cantidad de clusters\n",
    "\n",
    "silhouette_vals = silhouette_samples(X, y_km, metric='euclidean')\n",
    "# se obtendra un valor por cad muestra, es decir, la misma cantidad de elementos que filas en X\n",
    "\n",
    "#silhouette_vals"
   ]
  },
  {
   "cell_type": "code",
   "execution_count": 113,
   "metadata": {
    "ExecuteTime": {
     "end_time": "2021-03-02T01:40:03.082802Z",
     "start_time": "2021-03-02T01:40:02.523229Z"
    }
   },
   "outputs": [
    {
     "data": {
      "image/png": "[encoded data removed]",
      "text/plain": [
       "<Figure size 432x288 with 1 Axes>"
      ]
     },
     "metadata": {
      "needs_background": "light"
     },
     "output_type": "display_data"
    }
   ],
   "source": [
    "cluster_labels = np.unique(y_km)\n",
    "n_clusters = cluster_labels.shape[0]\n",
    "silhouette_vals = silhouette_samples(X, y_km, metric='euclidean')\n",
    "y_ax_lower, y_ax_upper = 0, 0\n",
    "yticks = []\n",
    "for i, c in enumerate(cluster_labels):\n",
    "    c_silhouette_vals = silhouette_vals[y_km == c]\n",
    "    c_silhouette_vals.sort()\n",
    "    y_ax_upper += len(c_silhouette_vals)\n",
    "    \n",
    "    plt.barh(range(y_ax_lower, y_ax_upper), c_silhouette_vals, height=1.0, edgecolor='none', color=color[i])\n",
    "    color = ['turquoise', 'slateblue','yellow','red','green','orange']\n",
    "    yticks.append((y_ax_lower + y_ax_upper) / 2.)\n",
    "    y_ax_lower += len(c_silhouette_vals)\n",
    "    \n",
    "silhouette_avg = np.mean(silhouette_vals)\n",
    "plt.axvline(silhouette_avg, color=\"red\", linestyle=\"--\") \n",
    "\n",
    "plt.yticks(yticks, cluster_labels + 1)\n",
    "plt.ylabel('Cluster')\n",
    "plt.xlabel('Silhouette coefficient')\n",
    "\n",
    "plt.tight_layout()\n",
    "plt.show()"
   ]
  },
  {
   "cell_type": "code",
   "execution_count": 115,
   "metadata": {
    "ExecuteTime": {
     "end_time": "2021-03-02T01:41:34.441007Z",
     "start_time": "2021-03-02T01:41:34.094270Z"
    }
   },
   "outputs": [
    {
     "data": {
      "image/png": "[encoded data removed]",
      "text/plain": [
       "<Figure size 432x288 with 1 Axes>"
      ]
     },
     "metadata": {
      "needs_background": "light"
     },
     "output_type": "display_data"
    }
   ],
   "source": [
    "km = KMeans(n_clusters=6, init='k-means++', n_init=10, max_iter=300, tol=1e-04)\n",
    "y_km = km.fit_predict(X)\n",
    "\n",
    "plt.scatter(X[y_km == 0, 0], X[y_km == 0, 1], s=50, c='turquoise', edgecolor='black', marker='s', label='cluster 1')\n",
    "plt.scatter(X[y_km == 1, 0], X[y_km == 1, 1], s=50, c='slateblue', edgecolor='black', marker='o', label='cluster 2')\n",
    "plt.scatter(X[y_km == 2, 0], X[y_km == 2, 1], s=50, c='yellow', edgecolor='black', marker='s', label='cluster 3')\n",
    "plt.scatter(X[y_km == 3, 0], X[y_km == 3, 1], s=50, c='red', edgecolor='black', marker='o', label='cluster 4')\n",
    "plt.scatter(X[y_km == 4, 0], X[y_km == 4, 1], s=50, c='green', edgecolor='black', marker='s', label='cluster 1')\n",
    "plt.scatter(X[y_km == 5, 0], X[y_km == 5, 1], s=50, c='orange', edgecolor='black', marker='o', label='cluster 2')\n",
    "\n",
    "plt.scatter(km.cluster_centers_[:, 0], km.cluster_centers_[:, 1], s=250, marker='*', c='red', label='centroids')\n",
    "plt.legend()\n",
    "plt.grid()\n",
    "plt.tight_layout()\n",
    "plt.show()"
   ]
  }
 ],
 "metadata": {
  "kernelspec": {
   "display_name": "Python 3",
   "language": "python",
   "name": "python3"
  },
  "language_info": {
   "codemirror_mode": {
    "name": "ipython",
    "version": 3
   },
   "file_extension": ".py",
   "mimetype": "text/x-python",
   "name": "python",
   "nbconvert_exporter": "python",
   "pygments_lexer": "ipython3",
   "version": "3.8.3"
  },
  "toc": {
   "base_numbering": 1,
   "nav_menu": {},
   "number_sections": true,
   "sideBar": true,
   "skip_h1_title": false,
   "title_cell": "Table of Contents",
   "title_sidebar": "Contents",
   "toc_cell": false,
   "toc_position": {},
   "toc_section_display": true,
   "toc_window_display": false
  },
  "varInspector": {
   "cols": {
    "lenName": 16,
    "lenType": 16,
    "lenVar": 40
   },
   "kernels_config": {
    "python": {
     "delete_cmd_postfix": "",
     "delete_cmd_prefix": "del ",
     "library": "var_list.py",
     "varRefreshCmd": "print(var_dic_list())"
    },
    "r": {
     "delete_cmd_postfix": ") ",
     "delete_cmd_prefix": "rm(",
     "library": "var_list.r",
     "varRefreshCmd": "cat(var_dic_list()) "
    }
   },
   "types_to_exclude": [
    "module",
    "function",
    "builtin_function_or_method",
    "instance",
    "_Feature"
   ],
   "window_display": false
  }
 },
 "nbformat": 4,
 "nbformat_minor": 4
}
